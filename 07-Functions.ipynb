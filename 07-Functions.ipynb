{
 "cells": [
  {
   "cell_type": "markdown",
   "id": "2d83b208",
   "metadata": {},
   "source": [
    "# 7 Συναρτήσεις"
   ]
  },
  {
   "cell_type": "markdown",
   "id": "4a07ad67",
   "metadata": {},
   "source": [
    "<div class=\"alert alert-block alert-info\" style=\"margin-top: 20px\">\n",
    "    \n",
    "<b>ΣΥΝΟΠΤΙΚΑ</b>\n",
    "    \n",
    "Σε αυτό το σημειωματάριο θα εξοικειωθείτε με την δημιουργία των δικών σας συναρτήσεων. Θα δούμε:\n",
    "    \n",
    "- την έννοια και την χρησιμότητά τους\n",
    "    \n",
    "- τις ιδιότητές τους\n",
    "    \n",
    "- πως τις καλούμε\n",
    "    \n",
    "- τι επιστρέφουν\n",
    "    \n",
    "- τις ανώνυμες συναρτήσεις (λ-συναρτήσεις).     \n",
    "\n",
    "</div>"
   ]
  },
  {
   "cell_type": "markdown",
   "id": "b92b6c5b",
   "metadata": {},
   "source": [
    "## 7.1 H έννοια και η χρησιμότητα των συναρτήσεων"
   ]
  },
  {
   "cell_type": "markdown",
   "id": "d6877395",
   "metadata": {},
   "source": [
    "Οι συναρτήσεις χρησιμεύουν στο να ελαχιστοποιήσουμε την επανάληψη κώδικα με το να μας επιτρέπουν να ομαδοποιούμε και να επαναχρησιμοποιούμε κώδικα που επιτελεί μια συγκεκριμένη λειτουργία. Αυτός είναι και ο λόγος ύπαρξης των βιβλιοθηκών που περιέχουν ένα σύνολο από χρήσιμες συναρτήσεις.\n",
    "\n",
    "Το βασικό συντακτικό μιας συνάρτησης είναι το ακόλουθο:\n",
    "```python\n",
    "def func(arguments):\n",
    "    \"\"\" The docstring appears in help messages\"\"\"\n",
    "    \n",
    "    # execute function commands\n",
    "\n",
    "    return value(s)\n",
    "\n",
    "```\n",
    "\n",
    "- Η συνάρτηση ξεκινάει με τη λέξη-κλειδί ``def``, ακολουθούμενη από το όνομά της, παρενθέσεις και τον τελεστή ``:``. Ανάμεσα στις παρενθέσεις μπορούν να οριστούν τυχόν παράμετροι εισόδου χωρίς αυτό να είναι απαραίτητο.\n",
    "\n",
    "\n",
    "- Μια συνάρτηση δύναται να δέχεται έναν αυθαίρετα μεγάλο αριθμό παραμέτρων, προκαθορισμένης ή μη-προκαθορισμένης τιμής (positional arguments vs keyword arguments).\n",
    "\n",
    "\n",
    "- Οι παράμετροι μιας συνάρτησης, ως μεταβλητές, δεν έχουν προκαθορισμένο τύπο.\n",
    "\n",
    "\n",
    "- Ο κώδικας που εμπεριέχει η συνάρτηση πρέπει να είναι εμφωλευμένος!\n",
    "\n",
    "\n",
    "- Μια συνάρτηση μπορεί να επιστρέφει έναν αυθαίρετα μεγάλο αριθμό τιμών.\n",
    "\n",
    "\n",
    "- Η δήλωση επιστροφής ``return`` είναι προαιρετική. Χρησιμοποιείται για να επιστρέψει τιμές στον καλούντα.\n",
    "\n",
    "\n",
    "- Μια συνάρτηση που δεν επιστρέφει καμία τιμή, στη πραγματικότητα επιστρέφει \"σιωπηλά\" την ειδική τιμή ``None``.\n",
    "\n",
    "\n",
    "- Αναπτύξτε από νωρίς τη συνήθεια να τεκμηριώνετε τις συναρτήσεις σας χρησιμοποιώντας κάποιο docstring, δηλαδή μια σύντομη περιγραφή του τι κάνει η συνάρτηση και ποιες είναι οι παράμετροί της. \n",
    "\n",
    "\n",
    "- Όλοι οι παράμετροι και οι μεταβλητές που ορίζονται μέσα σε μια συνάρτηση είναι **τοπικές** στη συγκεκριμένη συνάρτηση, που σημαίνει ότι δεν μπορούν να χρησιμοποιηθούν από κώδικα εκτός της συνάρτησης. Αυτό είναι σε αντίθεση με τις **καθολικές** (global) μεταβλητές που γενικά, όμως, η χρήση τους πρέπει να αποφεύγεται όσο γίνεται. Με άλλα λόγια, το πεδίο ορισμού (scope) των παραμέτρων/μεταβλητών μέσα σε μια συνάρτηση είναι από τη στιγμή της δημιουργίας τους μέσα στη συνάρτηση μέχρι το τέλος αυτής.\n",
    "\n",
    "\n",
    "- Για την κλήση της συνάρτησης, η οποία μπορεί να γίνει είτε από το κύριο πρόγραμμα είτε από κάποια άλλη συνάρτηση, χρησιμοποιείται το όνομα της συνάρτησης μαζί με τις παρενθέσεις. "
   ]
  },
  {
   "cell_type": "markdown",
   "id": "c6e8e234",
   "metadata": {},
   "source": [
    "### 7.1.1 Κλήση συνάρτησης"
   ]
  },
  {
   "cell_type": "code",
   "execution_count": null,
   "id": "f0395e43",
   "metadata": {},
   "outputs": [],
   "source": [
    "def spam():\n",
    "    return 2"
   ]
  },
  {
   "cell_type": "code",
   "execution_count": null,
   "id": "6a700244",
   "metadata": {},
   "outputs": [],
   "source": [
    "# This only shows the location in memory where spam function is stored\n",
    "print(spam)\n",
    "\n",
    "# To actually call the function we need the parentheses\n",
    "print(spam())"
   ]
  },
  {
   "cell_type": "markdown",
   "id": "6f350309",
   "metadata": {},
   "source": [
    "### 7.1.2 Εμβέλεια μεταβλητών και Χώροι Ονομάτων (Variable scope  and Namespaces)\n",
    "\n",
    "Η εμβέλεια (scope) των μεταβλητών καθώς και οι χώροι ονομάτων είναι συναφείς έννοιες στην Python αλλά έχουν διαφορετική σημασία και εξυπηρετούν διαφορετικούς σκοπούς.\n",
    "\n",
    "\n",
    "Α. Εμβέλεια μεταβλητής (Variable Scope) ορίζει **πως γίνεται η πρόσβαση μιας μεταβλητής**.\n",
    "\n",
    "Η εμβέλεια μεταβλητής αναφέρεται στην περιοχή του κώδικα όπου μια συγκεκριμένη μεταβλητή είναι προσβάσιμη και μπορεί να χρησιμοποιηθεί. Στην Python, υπάρχουν τέσσερις τύπου εμβέλειας μεταβλητής\n",
    "\n",
    "1. **Τοπική Εμβέλεια (Local)**: Οι μεταβλητές που καθορίζονται μέσα σε μια συνάρτηση. Είναι προσβάσιμες μόνο μέσα σε αυτή τη συνάρτηση και δεν \"ζουν\" εκτός αυτής.\n",
    "    \n",
    "2. **Περικλειόμενη/Εξωτερική Εμβέλεια (Enclosing)**: Οι μεταβλητές που καθορίζονται σε εξωτερικές συναρτήσεις και χρησιμοποιούνται από εσωτερικές (εμφωλευμένες).\n",
    "\n",
    "3. **Καθολική Εμβέλεια (Global)**: Οι μεταβλητές που ορίζονται εκτός συναρτήσεων θεωρούνται ότι βρίσκονται σε καθολική εμβέλεια (στο ανώτερο επίπεδο ενός scrip ή βιβλιοθήκης/module). Είναι προσβάσιμες από οπουδήποτε στον κώδικα, συμπεριλαμβανομένων των συναρτήσεων.</br>\n",
    "    \n",
    "4. **Ενσωματομένη Εμβέλεια (Built-in)**: Οι μεταβλητές που ορίζονται αυτόματα από την Python, που περιλαμβάνει όλες τις ενσωματωμένες συναρτήσεις (`print()`, `len()`, κτλ.)\n",
    "\n",
    "η Python ψάχνει να βρει ένα όνομα μιας μεταβλητής ακολουθώντας τον κανόνα **LEGB**:\n",
    "\n",
    "**L**ocal --> **E**nclosing --> **G**lobal --> **B**uilt-in\n",
    "\n",
    "Αν δεν βρει καμία μεταβλητή στις εμβέλειες που ψάχνει, εγείρει ένα ``NameError`` που υποδεικνύει ότι το όνομα αυτής της μεταβλητής δεν έχει οριστεί.\n",
    "   "
   ]
  },
  {
   "cell_type": "markdown",
   "id": "448f2300",
   "metadata": {},
   "source": [
    "Β. Χώρος Ονομάτων (Namespace) ορίζει **τον χώρο που διατηρούνται οι μεταβλητές/αντικείμενα**.\n",
    "\n",
    "Ένας χώρος ονομάτων είναι ένα \"δοχείο\" (container) που περιέχει ένα σύνολο αναγνωριστικών (ονόματα μεταβλητών, ονόματα συναρτήσεων, ονόματα κλάσεων κλπ.) και τα αντίστοιχα αντικείμενά τους. Η Python χρησιμοποιεί ονοματοχώρους για να αποθηκεύει, διαχειρίζεται και να οργανώνει τα ονόματα/αντικείμενα που χρησιμοποιούνται στον κώδικά μας. Υπάρχουν αντίστοιχα τρεις βασικοί τύποι ονοματοχώρων στην Python:\n",
    "\n",
    "1. **Ενσωματωμένος Ονοματοχώρος (Built-in)**: Αυτός ο ονοματοχώρος περιλαμβάνει ονόματα για ενσωματωμένες συναρτήσεις και αντικείμενα που παρέχονται από την Python (``print()``, ``len()``, ``str()``, κτλ.).\n",
    "\n",
    "2. **Καθολικός Ονοματοχώρος (Global)**: Αυτός ο ονοματοχώρος περιλαμβάνει όλα τα ονόματα που καθορίζονται στο κυρίως πρόγραμμα ή σε μια βιβιοθήκη (module). Αυτές οι μεταβλητές είναι προσβάσιμες σε όλο τον κώδικα.\n",
    "\n",
    "3. **Τοπικός Ονοματοχώρος (Local)**: Κάθε κλήση συνάρτησης δημιουργεί τον δικό της τοπικό ονοματοχώρο, ο οποίος περιλαμβάνει τις παραμέτρους της συνάρτησης και τυχόν μεταβλητές που έχουν καθοριστεί μέσα στη συνάρτηση.\n",
    "    \n",
    "\n",
    "\n",
    "Ο διερμηνευτής της Python διατηρεί αυτούς τους ονοματοχώρους για να καθορίσει την εμβέλεια και την ορατότητα των ονομάτων στον κώδικά σας."
   ]
  },
  {
   "cell_type": "code",
   "execution_count": null,
   "id": "d5ad85e4",
   "metadata": {},
   "outputs": [],
   "source": [
    "# A variable created inside a function belongs \n",
    "# to the local scope of that function, \n",
    "# and can only be used inside that function.\n",
    "\n",
    "def spam():\n",
    "    \n",
    "    # local scope variable\n",
    "    eggs = \"I am the local variable 'eggs'\"\n",
    "    print(eggs)\n",
    "\n",
    "# Call the function\n",
    "spam()\n",
    "\n",
    "# The next line will raise a NameError since \n",
    "# variable name \"eggs\" is not defined outside \n",
    "# the scope of the function\n",
    "\n",
    "print(eggs)"
   ]
  },
  {
   "cell_type": "code",
   "execution_count": null,
   "id": "9719afaa",
   "metadata": {},
   "outputs": [],
   "source": [
    "# A variable created in the main body of the Python code \n",
    "# is a global variable and belongs to the global scope.\n",
    "\n",
    "# Global variables are available from within any scope, \n",
    "# global and local.\n",
    "\n",
    "# global scope variable\n",
    "eggs = \"I am the global variable 'eggs'\"\n",
    "\n",
    "def spam():\n",
    "    print(eggs)\n",
    "\n",
    "# Call the function\n",
    "spam()\n",
    "\n",
    "print(eggs)"
   ]
  },
  {
   "cell_type": "code",
   "execution_count": null,
   "id": "031b86fe",
   "metadata": {},
   "outputs": [],
   "source": [
    "# If you operate with the same variable name inside \n",
    "# and outside of a function, \n",
    "# Python will treat them as two separate variables, \n",
    "# one available in the global scope (outside the function) \n",
    "# and one available in the local scope (inside the function)\n",
    "\n",
    "# global scope variable\n",
    "eggs = \"I am the global variable 'eggs'\"\n",
    "\n",
    "def spam():\n",
    "    \n",
    "    # local scope variable with the same name \n",
    "    eggs = \"I am the local variable 'eggs'\"\n",
    "    print(eggs)\n",
    "\n",
    "# Call the function\n",
    "spam()\n",
    "\n",
    "print(eggs)"
   ]
  },
  {
   "cell_type": "markdown",
   "id": "9dda02e5",
   "metadata": {},
   "source": [
    "<div class=\"alert alert-block alert-warning\" style=\"margin-top: 20px\">\n",
    "    <b>Άσκηση 7.1</b>\n",
    "    \n",
    "Χωρίς να εκτελέσετε τον κώδικα σκεφτείτε και απαντήστε πρώτα τα εξής:\n",
    "    \n",
    "1. Πόσα μηνύματα θα τυπώσει;\n",
    "\n",
    "2. Ποιά μεταβλητή var θα τυπώσει σε κάθε περίπτωση;\n",
    "    \n",
    "3. Η εντολή `return None` τι θα επιστρέψει;\n",
    "    \n",
    "4. Χρειάζεται η εντολή `return` ;    \n",
    "    \n",
    "```python\n",
    "var = \"I am the global variable var\"\n",
    "\n",
    "def outer():\n",
    "    var = \"I am the enclosing variable var (local to outer function)\"\n",
    "    print(var)\n",
    "    \n",
    "    def inner():\n",
    "        var = \"I am the local variable var (local to inner function)\"\n",
    "        print(var) \n",
    "        return None\n",
    "    \n",
    "    inner()\n",
    "    return None\n",
    "\n",
    "\n",
    "print(var)\n",
    "outer()\n",
    "```    \n",
    "    \n",
    "</div>"
   ]
  },
  {
   "cell_type": "code",
   "execution_count": null,
   "id": "12455450",
   "metadata": {},
   "outputs": [],
   "source": [
    "# You can try it here\n",
    "# If you are struggling you can click on details below for the solution"
   ]
  },
  {
   "cell_type": "markdown",
   "id": "6df3a057",
   "metadata": {},
   "source": [
    "<div class=\"alert alert-danger alertdanger\" style=\"margin-top: 20px\">\n",
    "<details>\n",
    "\n",
    "<b><summary>Απαντήσεις</summary></b>\n",
    "\n",
    "1. Έχουμε ένα ξεκάθαρο print πριν την κλήση της συνάρτησης outer(), καθώς και δύο εντολές print μέσα στην ίδια την συνάρτηση - άρα 3 στο σύνολο.\n",
    "    \n",
    "2. global, enclosing, local\n",
    "Το πρώτο print αφορά στην καθολική (global) μεταβλητή, ενώ όταν καλείται η συνάρτηση outer τυπώνεται η περικλειόμενη (enclosing) μεταβλητή, και τέλος όταν καλείται η συνάρητη inner τυπώνεται η τοπική (local) μεταβλητή.\n",
    "    \n",
    "3. Το None\n",
    "    \n",
    "4. Εφόσον η κύρια δουλειά της συνάρτησης είναι να τυπώνει ένα μήνυμα στην συγκεκριμένη περίπτωση δεν είναι αναγκαία η χρήση του return.    \n",
    "    \n",
    "</details>"
   ]
  },
  {
   "cell_type": "markdown",
   "id": "74178380",
   "metadata": {},
   "source": [
    "<div class=\"alert alert-block alert-info\" style=\"margin-top: 20px\">\n",
    "    \n",
    "&#9755; **TIP:** Αν έχουν γίνει κατανοητά τα παραπάνω τότε μπορούν νε εφαρμοστούν σωστά. Αν υπάρχει αμφιβολία μια σίγουρη λύση είναι να έχετε απλά διαφορετικά ονόματα σε κάθε περίπτωση. \n",
    "    \n",
    "> Τα ονόματα μεταβλητών στην Python είναι case-sensitive οπότε το `var` δεν είναι το ίδιο με το `Var` ( ή το `vAr`), κάτι που μπορείτε να εκμεταλλευτείτε. \n",
    "    \n",
    "</div>"
   ]
  },
  {
   "cell_type": "markdown",
   "id": "5f5eb7cc",
   "metadata": {},
   "source": [
    "**The ``global`` keyword**"
   ]
  },
  {
   "cell_type": "code",
   "execution_count": null,
   "id": "93c0ae46",
   "metadata": {},
   "outputs": [],
   "source": [
    "# You can access/create/modify a global variable from \n",
    "# within a function using the \"global\" keyword\n",
    "\n",
    "eggs = \"I am the global variable 'eggs'\"\n",
    "\n",
    "def spam():\n",
    "    \n",
    "    global eggs\n",
    "    \n",
    "    eggs = \"asdf\"\n",
    "    print(eggs)\n",
    "\n",
    "# Call the function\n",
    "spam()\n",
    "\n",
    "print(eggs)"
   ]
  },
  {
   "cell_type": "markdown",
   "id": "3ad929a9",
   "metadata": {},
   "source": [
    "**ΠΡΟΣΟΧΗ**:\n",
    "\n",
    "Προσέξτε πως στο τελευταίο παράδειγμα χρησιμοποιήσαμε τη δεσμευμένη λέξη ``global`` για να έχουμε πρόσβαση στην καθολική μεταβλητή ``eggs``  και να τροποποιήσουμε την τιμή της μέσα από τη συνάρτηση ``spam``.\n",
    "\n",
    "Αντιλαμβάνεστε ότι κάτι τέτοιο μπορεί να οδηγήσει σε ακούσιες αλλαγές μεταβλητών και σε λογικά σφάλματα που είναι πολύ δύκολο να εντοπιστούν. Γι' αυτό το λόγο, η χρήση καθολικών μεταβλητών θα πρέπει να **αποφεύγεται** όσο δυνατόν περισσότερο."
   ]
  },
  {
   "cell_type": "markdown",
   "id": "94612e76",
   "metadata": {},
   "source": [
    "## 7.2 Μερικά παραδείγματα"
   ]
  },
  {
   "cell_type": "markdown",
   "id": "5c5c910d",
   "metadata": {},
   "source": [
    "- Συνδυασμός κειμένων και υπολογισμού. (Μερικά καλά παραδείγματα docstrings!)"
   ]
  },
  {
   "cell_type": "code",
   "execution_count": null,
   "id": "0fc95c83",
   "metadata": {},
   "outputs": [],
   "source": [
    "import math as m\n",
    "\n",
    "# a function with two input and two output values\n",
    "def xy_to_polar(x, y):\n",
    "    \"\"\"\n",
    "    Convert Cartesian coordinates (x, y) to polar coordinates (r, θ).\n",
    "    \n",
    "    Parameters:\n",
    "        x (float): The x-coordinate in the Cartesian plane.\n",
    "        y (float): The y-coordinate in the Cartesian plane.\n",
    "    \n",
    "    Returns:\n",
    "        tuple: A tuple containing:\n",
    "            - r (float): The radial distance from the origin.\n",
    "            - theta (float): The angle in radians from the positive x-axis.\n",
    "    \n",
    "    Example:\n",
    "        >>> xy_to_polar(1, 1)\n",
    "        (1.4142135623730951, 0.7853981633974483)\n",
    "    \"\"\"    \n",
    "    r = m.sqrt(x**2 + y**2)\n",
    "    theta = m.atan2(y, x)    \n",
    "    \n",
    "    # These can be considered as the elements of a tuple\n",
    "    # that will be unpacked\n",
    "    return r, theta\n",
    "\n",
    "# A function with no arguments\n",
    "def greetings():\n",
    "    \"\"\"\n",
    "    Print a simple welcome message.\n",
    "\n",
    "    This function displays a welcome message to the user.\n",
    "    It does not take any arguments and returns None.\n",
    "\n",
    "    Example:\n",
    "        >>> greetings()\n",
    "        Welcome to this Python crash course!\n",
    "    \"\"\"\n",
    "\n",
    "    print(\"Welcome to this Python crash course!\")\n",
    "    \n",
    "    # Not necessary to explicitly return None\n",
    "    # can be ommitted \n",
    "    # (but is a good practice to return something in any case)\n",
    "    return None\n",
    "\n",
    "\n",
    "# A function with one keyword argument\n",
    "def goodbye(msg=\"Goodbye!\"):\n",
    "    \"\"\"\n",
    "    Print a goodbye message.\n",
    "\n",
    "    This function prints a farewell message. By default, it prints \"Goodbye!\", \n",
    "    but a custom message can be provided as an argument.\n",
    "\n",
    "    Parameters:\n",
    "        msg (str, optional): The goodbye message to display. Defaults to \"Goodbye!\".\n",
    "\n",
    "    Example:\n",
    "        >>> goodbye()\n",
    "        Goodbye!\n",
    "        >>> goodbye(\"See you soon!\")\n",
    "        See you soon!\n",
    "    \"\"\"\n",
    "    \n",
    "    print(msg)"
   ]
  },
  {
   "cell_type": "code",
   "execution_count": null,
   "id": "9af93b87",
   "metadata": {},
   "outputs": [],
   "source": [
    "# call the greetings function\n",
    "greetings()\n",
    "\n",
    "# call xy_to_polar function\n",
    "# note that the angle is given in radians!\n",
    "\n",
    "# remember tuple unpacking\n",
    "t = xy_to_polar(1.0, 1.0)\n",
    "print(f'Tuple version: {t}')\n",
    "\n",
    "# or assignment of two values\n",
    "# returned by the function\n",
    "# to the two variables\n",
    "radius, angle = xy_to_polar(1.0, 1.0)\n",
    "print(f'Variables returned: {radius}, {angle}')\n",
    "\n",
    "# Call goodbye function without providing input\n",
    "goodbye()"
   ]
  },
  {
   "cell_type": "markdown",
   "id": "c57e0c5d",
   "metadata": {},
   "source": [
    "- Ορίζοντας τη συνάρτηση Gauss:\n",
    "\n",
    "<center>$f(x) = \\frac{1}{\\sigma \\sqrt{2\\pi}} \\exp\\left[-\\frac{1}{2}\\left(\\frac{x - \\mu}{\\sigma}\\right)^2\\right]$<center>\n",
    "    \n"
   ]
  },
  {
   "cell_type": "markdown",
   "id": "f4c6c40a",
   "metadata": {},
   "source": [
    "προχωράμε στον υπολογισμός της για διάφορες περιπτώσεις."
   ]
  },
  {
   "cell_type": "code",
   "execution_count": null,
   "id": "03f5a757",
   "metadata": {},
   "outputs": [],
   "source": [
    "import math as m\n",
    "\n",
    "# a classical mathematical function\n",
    "def gauss(x):\n",
    "    \"\"\"\n",
    "    Calculates the value of a Gauss function with \n",
    "    mu = 0 and sigma = 1.0\n",
    "    \n",
    "    input: A number number x (float or int) at which \n",
    "            to evaluate the function\n",
    "    return: The calculated gauss value at x \n",
    "    \"\"\"\n",
    "    return (1.0 / m.sqrt(2.0 * m.pi)) * m.exp(-x**2 / 2.0)\n",
    "\n",
    "x = 1.0\n",
    "print(gauss(x))"
   ]
  },
  {
   "cell_type": "markdown",
   "id": "22eebf74",
   "metadata": {},
   "source": [
    "Στο ακόλουθο παράδειγμα κάποια ορίσματα της συνάρτησης δίνονται με συγκεκριμένες τιμές. Αυτές είναι οι **προκαθορισμένες (default)** τιμές και θα χρησιμοποιηθούν σε περίπτωση που δεν δοθούν από τον χρήστη."
   ]
  },
  {
   "cell_type": "code",
   "execution_count": null,
   "id": "c521c6e0",
   "metadata": {},
   "outputs": [],
   "source": [
    "import math as m\n",
    "\n",
    "# a fucntion with default (or keyword) arguments:\n",
    "def gauss_mu_sigma(x, mu=0.0, sigma=1.0):\n",
    "    \"\"\" Calculates the value of a Gauss at an input\n",
    "        value x\n",
    "        \n",
    "        input(s):\n",
    "        - The value at which to evaluate the Gauss\n",
    "          (required argument)\n",
    "        - Tne mean mu of the distribution\n",
    "          (optional argument)\n",
    "        - The width sigma of the distribution\n",
    "          (optional argument)\n",
    "          \n",
    "        return:\n",
    "        - The calculated gauss function value\n",
    "    \"\"\"\n",
    "    factor = (1.0 / m.sqrt(2.0 * sigma**2 * m.pi))\n",
    "    expon = m.exp(-(x - mu)**2 / (2.0 * sigma**2))\n",
    "    \n",
    "    return factor * expon"
   ]
  },
  {
   "cell_type": "code",
   "execution_count": null,
   "id": "b5a28e2a",
   "metadata": {},
   "outputs": [],
   "source": [
    "x_test = 1.0\n",
    "\n",
    "# implicit mu = 0.0, sigma = 1.0\n",
    "print(gauss_mu_sigma(x_test))"
   ]
  },
  {
   "cell_type": "code",
   "execution_count": null,
   "id": "baf5f6be",
   "metadata": {},
   "outputs": [],
   "source": [
    "# explicit mu and sigma\n",
    "print(gauss_mu_sigma(x_test, mu = 1.0, sigma = 2.0))"
   ]
  },
  {
   "cell_type": "code",
   "execution_count": null,
   "id": "44d94678",
   "metadata": {},
   "outputs": [],
   "source": [
    "# implicit sigma = 1.0\n",
    "print(gauss_mu_sigma(x_test, mu = 1.0))"
   ]
  },
  {
   "cell_type": "code",
   "execution_count": null,
   "id": "0c3edcbb",
   "metadata": {},
   "outputs": [],
   "source": [
    "# implicit mu = 0.0\n",
    "print(gauss_mu_sigma(x_test, sigma = 2.0))"
   ]
  },
  {
   "cell_type": "code",
   "execution_count": null,
   "id": "2f859c2b",
   "metadata": {},
   "outputs": [],
   "source": [
    "# Trying to access a local variable to the function\n",
    "print(factor)"
   ]
  },
  {
   "cell_type": "code",
   "execution_count": null,
   "id": "856ec71e",
   "metadata": {},
   "outputs": [],
   "source": [
    "help(gauss_mu_sigma)"
   ]
  },
  {
   "cell_type": "markdown",
   "id": "fd32e1b3",
   "metadata": {},
   "source": [
    "<div class=\"alert alert-block alert-warning\" style=\"margin-top: 20px\">\n",
    "    <b>Άσκηση 7.2</b>\n",
    "    \n",
    "Γράψτε μία συνάρτηση που υλοποιεί την παρακάτω εξίσωση: $$F = G \\frac{M_1 M_2}{r^2}$$\n",
    "όπου $G = 6.674 \\times 10^{-11}\\,\\mathrm{N}\\,\\mathrm{m^2}/\\mathrm{kg^2}$ και $1\\,\\mathrm{Ν} = 1\\,\\mathrm{kg}\\,\\mathrm{m}/\\mathrm{s^2}$\n",
    "    \n",
    "Στη συνέχεια εφαρμόστε τη συνάρτηση αυτή για να υπολογίσετε την δύναμη της βαρύτητας μεταξύ της Γης και της Σελήνης, αν γνωρίζετε ότι\n",
    "    \n",
    "- Η μάζα της Γης είναι ίση με $5.9742 \\times 10^{24}\\,\\mathrm{kg}$\n",
    "\n",
    "- Η μάζα της Σελήνης είναι ίση με $7.36 \\times 10^{22}\\,\\mathrm{kg}$\n",
    "\n",
    "- Η μέση απόσταση Γης-Σελήνης είναι $384402\\,\\mathrm{km}$"
   ]
  },
  {
   "cell_type": "code",
   "execution_count": null,
   "id": "b634fb0a",
   "metadata": {},
   "outputs": [],
   "source": [
    "# You can try it here\n",
    "# If you are struggling you can click on details below for the solution"
   ]
  },
  {
   "cell_type": "markdown",
   "id": "d3fca83e",
   "metadata": {},
   "source": [
    "<div class=\"alert alert-danger alertdanger\" style=\"margin-top: 20px\">\n",
    "<details>\n",
    "\n",
    "<b><summary>Λύση</summary></b>\n",
    "    \n",
    "```python \n",
    "def newton_grav(m1, m2, r, G=6.674e-11):\n",
    "    \"\"\"\n",
    "    Arguments\n",
    "    ---------\n",
    "        m1   : Mass of object 1\n",
    "        m2   : Mass of object 2\n",
    "        r    : Distance between centers of the masses\n",
    "        G    : Gravitational constant. Default value is 6.674e-11 \n",
    "               which corresponds to SI units.\n",
    "               \n",
    "    Returns\n",
    "    -------\n",
    "        The gravitational force between two objects with masses m1 and m2 that are\n",
    "        separated a distance r.\n",
    "    \"\"\"\n",
    "    \n",
    "    return (G * m1 * m2) / (r**2)\n",
    "    \n",
    "\n",
    "print(f\"The gravitational force between Earth and Moon is {newton_grav(5.9742e22, 7.36e22, 384402*1e3)} N.\")\n",
    "```\n",
    "    \n",
    "</details>"
   ]
  },
  {
   "cell_type": "markdown",
   "id": "64b065f5",
   "metadata": {},
   "source": [
    "**ΠΡΟΣΟΧΗ**: στην **σειρά των μεταβλητών που δίνονται σε μια συνάρτηση**. Π.χ. στην προηγούμενη άσκηση, θα είναι λάθος να βάλουμε την απόσταση στην θέση μια μεταβλητής που σχετίζεται με την μάζα. "
   ]
  },
  {
   "cell_type": "markdown",
   "id": "fb5d9e22",
   "metadata": {},
   "source": [
    "## 7.3 Printing vs Returning "
   ]
  },
  {
   "cell_type": "markdown",
   "id": "2f23d2be",
   "metadata": {},
   "source": [
    "Πολλοί όταν ξεκινούν να μαθαίνουν μία γλώσσα προγραμματισμού αντιμετωπίζουν κάποιες δυσκολίες στο να κατανοήσουν τη διαφορά μεταξύ της \"επιστροφής\" του αποτελέσματος μίας συνάρτηση και της \"εκτύπωσης\" του αποτελέσματος. Η σύγχηση προκύπτει διότι, σε συγκεκριμένες περιπτώσεις, η συμπεριφορά είναι παρόμοια και μη-εύκολα διαχωρίσιμη (π.χ. όταν δουλεύουμε διαδραστικά)."
   ]
  },
  {
   "cell_type": "code",
   "execution_count": null,
   "id": "2c31c5a7",
   "metadata": {},
   "outputs": [],
   "source": [
    "def p(x):    # p(x) prints its result 'and' returns None!\n",
    "    print(2 * x)\n",
    "    \n",
    "def r(x):    # r(x) returns its result!\n",
    "    return 2 * x"
   ]
  },
  {
   "cell_type": "code",
   "execution_count": null,
   "id": "32a5cb64",
   "metadata": {},
   "outputs": [],
   "source": [
    "# When interactively calling the two functions, they both seem to\n",
    "# behave the same way:\n",
    "p(10) \n",
    "r(10)"
   ]
  },
  {
   "cell_type": "code",
   "execution_count": null,
   "id": "a15c171d",
   "metadata": {},
   "outputs": [],
   "source": [
    "# The results are however different, when 'assiging' the functions\n",
    "# results to variables:\n",
    "p_result = p(10)\n",
    "r_result = r(10)\n",
    "\n",
    "print(p_result, r_result)\n",
    "\n",
    "# Note that you need to 'return' the result of a function if you\n",
    "# want to use it later (assign it to a variable)! If in doubt, then\n",
    "# return the result!"
   ]
  },
  {
   "cell_type": "markdown",
   "id": "e6c47c0c",
   "metadata": {},
   "source": [
    "<div class=\"alert alert-block alert-warning\" style=\"margin-top: 20px\">\n",
    "    <b>Άσκηση 7.3</b>\n",
    "\n",
    "Σκεφτείτε τι θα γίνει στις παρακάτω περιπτώσεις όπου χρησιμοποιούνται συναρτήσεις σαν ορίσματα σε άλλες συναρτήσεις, _πριν_ εκτελέσετε τον κώδικα:\n",
    "\n",
    "1. `p(r(10))`\n",
    "    \n",
    "2. `p(x=r(10))`\n",
    "  \n",
    "3. `p(x=r)`\n",
    "   \n",
    "4. `r(χ=p(10))`\n",
    "    \n",
    ">**Hint:** Σιγουρευτείτε αν η συνάρτηση ``print`` επιστρέφει κάποια τιμή ή όχι."
   ]
  },
  {
   "cell_type": "code",
   "execution_count": null,
   "id": "00d923c5",
   "metadata": {},
   "outputs": [],
   "source": [
    "# You can try it here\n",
    "# If you are struggling you can click on details below for the solution"
   ]
  },
  {
   "cell_type": "markdown",
   "id": "f6990de6",
   "metadata": {},
   "source": [
    "<div class=\"alert alert-danger alertdanger\" style=\"margin-top: 20px\">\n",
    "<details>\n",
    "\n",
    "<b><summary>Απαντήσεις</summary></b>\n",
    "    </br>\n",
    "1.Μπορούμε να δώσουμε σαν όρισμα μια συνάρτησης το *αποτέλεσμα* μιας άλλης. \n",
    "    \n",
    "2. Το ίδιο με το προηγούμενο απλά αναφέρεται η ανάθεση πιο ξεκάθαρα.\n",
    "    \n",
    "3. Δεν μπορούμε να αναθέσουμε απλά μια συνάρτηση, αλλά την τιμή που επιστρέφει.\n",
    "    \n",
    "4. Το `print` δεν επιστρέφει κάποια τιμή οπότε η συνάρτηση p() θα  επιστρέψει την τιμή `None`, την οποία δεν μπορεί διαχειριστεί ο τελεστής '+' και έχουμε σφάλμα.\n",
    "    \n",
    "</details>"
   ]
  },
  {
   "cell_type": "markdown",
   "id": "7f6a8040",
   "metadata": {},
   "source": [
    "<div class=\"alert alert-block alert-warning\" style=\"margin-top: 20px\">\n",
    "    <b>Άσκηση 7.4</b>\n",
    "    \n",
    "- Ποιό είναι το αποτέλεσμα της εκτύπωσης σε κάθε περίπτωση από τις παρακάτω; (Δοκιμάστε να σκεφτείτε _πριν_ εκτελέσετε τον κώδικα.)\n",
    "\n",
    "1. \n",
    "```python\n",
    "def triple(x):\n",
    "  x = x * 3\n",
    "  print(x)        \n",
    "\n",
    "x = 5\n",
    "print(triple(x))\n",
    "```\n",
    "\n",
    "2. \n",
    "```python\n",
    "def increase_a(a):\n",
    "    a = a + 1\n",
    "    return(a)\n",
    "\n",
    "a = 5\n",
    "print(a, increase_a(a), a)\n",
    "```\n",
    "\n",
    "\n",
    "\n",
    "3.\n",
    "```python\n",
    "def f(x):\n",
    "    return x + 2, x * 2\n",
    "\n",
    "x, y = f(5)\n",
    "print(x + y)\n",
    "```"
   ]
  },
  {
   "cell_type": "code",
   "execution_count": null,
   "id": "a9d87322",
   "metadata": {},
   "outputs": [],
   "source": [
    "# You can try it here\n",
    "# If you are struggling you can click on details below for the solution"
   ]
  },
  {
   "cell_type": "markdown",
   "id": "8896f772",
   "metadata": {},
   "source": [
    "<div class=\"alert alert-danger alertdanger\" style=\"margin-top: 20px\">\n",
    "<details>\n",
    "\n",
    "<b><summary>Απαντήσεις</summary></b>\n",
    "\n",
    "1. Θα εκτυπώσει ότι τυπώνει η συνάρτηση και ταυτόχρονα να τυπώσει την τιμή που επιστρέφει η συνάρτηση triple που από την στιγμή που δεν έχει return είναι None.  \n",
    "    \n",
    "2. Τυπώνεται η τιμή της μεταβλητής a καθώς και η τιμή που επιστρέφει η συνάρτηση. Η μεταβλητή δεν αλλάζει.\n",
    "    \n",
    "3. Η συνάρτηση f επιστρέφει μια πλειάδα με δύο τιμές. Αυτές ξεπακετάρονται αυτόματα στις μεταβλητές x, y και στην συνέχεια εκτελείται η πρόσθεσή τους.\n",
    "    \n",
    "</details>"
   ]
  },
  {
   "cell_type": "markdown",
   "id": "865715a7",
   "metadata": {},
   "source": [
    "## 7.4 Η σημασία των ``*args`` και  ``**kwargs``"
   ]
  },
  {
   "cell_type": "markdown",
   "id": "2eb2d3a3",
   "metadata": {},
   "source": [
    "### 7.4.1 Positional arguments vs. keywords\n",
    "\n",
    "Οι παράμτεροι μιας συνάρτησης μπορούν να δοθούν ως:\n",
    "\n",
    "- _positional arguments_: Η θέση τους στο κάλεμα καθορίζει ποια παράμετρο παραλαμβάνουν.\n",
    "\n",
    "- _keywords_: ορίζονται από το όνομα της παραμέτρους και μπορούν να δοθούν σε οποιαδήποτε σειρά.\n"
   ]
  },
  {
   "cell_type": "code",
   "execution_count": null,
   "id": "f7ed126f",
   "metadata": {},
   "outputs": [],
   "source": [
    "def greet(name, age):\n",
    "    print(f\"Hello, my name is {name} and I am {age} years old.\")\n",
    "\n",
    "greet(\"Alice\", 25)  # Correct\n",
    "greet(25, \"Alice\")  # Incorrect (wrong order)\n"
   ]
  },
  {
   "cell_type": "markdown",
   "id": "32ff8442",
   "metadata": {},
   "source": [
    "### 7.4.2 Πολλαπλές μεταβλητές\n"
   ]
  },
  {
   "cell_type": "markdown",
   "id": "c5ebad6d",
   "metadata": {},
   "source": [
    "Πολλές φορές, όταν αναζητάτε την τεκμηρίωση κάποιας συνάρτησης από κάποια πηγή, θα συναντήσετε τους όρους ``*args`` και ``**kwargs``.\n",
    "\n",
    "Οι δύο αυτές παράμετροι σημαίνουν έναν αυθαίρετα μεγάλο αριθμό παραμέτρων (``*args``) και έναν αυθαίρετα μεγάλο αριθμό keyword-παραμέτρων (``**kwargs``).\n",
    "\n",
    "Παίζουν σημαντικό ρόλο στο ξε-πακετάρισμα παραμέτρων από πλειάδες."
   ]
  },
  {
   "cell_type": "code",
   "execution_count": null,
   "id": "03880c3e",
   "metadata": {},
   "outputs": [],
   "source": [
    "def dummy(*args, **kwargs):\n",
    "    # The arguments are given to the function as\n",
    "    # tuples and dictionaries (container types)\n",
    "    print(args)\n",
    "    print(kwargs)\n",
    "    \n",
    "    return None\n",
    "\n",
    "# Note *args return a tuple containing all positional arguments\n",
    "# Note **kwargs return a dictionary containing all keyword-parameter--value pairs\n",
    "dummy(1.0, \"Python\", mu=1.0, name=\"Jane\")\n",
    "dummy(1, profession=\"physicist\")"
   ]
  },
  {
   "cell_type": "markdown",
   "id": "6e5e375d",
   "metadata": {},
   "source": [
    "Μπορούμε να ξε-πακετάρουμε λίστες ή πλειάδες σε πολλαπλές παραμέτρους."
   ]
  },
  {
   "cell_type": "code",
   "execution_count": null,
   "id": "35ac527c",
   "metadata": {},
   "outputs": [],
   "source": [
    "# normal 'unpacking'\n",
    "tupled_args = (1, 2)\n",
    "x, y = tupled_args\n",
    "\n",
    "def my_add(x, y):\n",
    "    return x + y\n",
    "\n",
    "print(x, y)\n",
    "\n",
    "# unpacking a list into function arguments happens\n",
    "# with an asterisk:\n",
    "print(my_add(*tupled_args))\n",
    "print(my_add(x, y))"
   ]
  },
  {
   "cell_type": "code",
   "execution_count": null,
   "id": "307d72f0",
   "metadata": {},
   "outputs": [],
   "source": [
    "def line(x, a, b):\n",
    "    return a * x + b\n",
    "\n",
    "# often functions return multiple arguments (or tuples)\n",
    "# as result. These tuples can directly been given to\n",
    "# functions as arguments\n",
    "\n",
    "result = (2, 3)  # fictive result of a line-slope and a line intercept\n",
    "\n",
    "print(line(1, *result)) # the same as print(line(1, 2, 3))"
   ]
  },
  {
   "cell_type": "markdown",
   "id": "ef464b65",
   "metadata": {},
   "source": [
    "<div class=\"alert alert-block alert-warning\" style=\"margin-top: 20px\">\n",
    "    <b>Άσκηση 7.5</b>\n",
    "\n",
    "Γράψτε μία συνάρτηση που δέχεται πραγματικούς αριθμούς και επιστρέφει τον μέσο όρο τους. Η συνάρτηση θα πρέπει να δουλεύει με έναν αυθαίρετα μεγάλο αριθμό παραμέτρων.\n",
    "    \n",
    "> **Hint:** μπορείτε να χρησιμοποιήσετε και την build-in συνάρτηση `sum`.     "
   ]
  },
  {
   "cell_type": "code",
   "execution_count": null,
   "id": "8100e25f",
   "metadata": {},
   "outputs": [],
   "source": [
    "# You can try it here\n",
    "# If you are struggling you can click on details below for the solution"
   ]
  },
  {
   "cell_type": "markdown",
   "id": "fc2867d4",
   "metadata": {},
   "source": [
    "<div class=\"alert alert-danger alertdanger\" style=\"margin-top: 20px\">\n",
    "<details>\n",
    "\n",
    "<b><summary>(Μια) Λύση</summary></b>\n",
    "    \n",
    "```python \n",
    "# Average value of numbers\n",
    "def average(*args):\n",
    "    avg = sum(args) / len(args)\n",
    "    return avg\n",
    "\n",
    "# Testing\n",
    "print(average(4)) # one parameter\n",
    "print(average(2, 3)) # two parameters\n",
    "print(average(12, 24, 32, 63)) # four parameters\n",
    "print(average(3, 5, 2, 9, 4, 1)) # six parameters\n",
    "```\n",
    "    \n",
    "</details>"
   ]
  },
  {
   "cell_type": "markdown",
   "id": "c49440ee",
   "metadata": {},
   "source": [
    "## 7.5 Ανώνυμες συναρτήσεις ($\\lambda$-functions)"
   ]
  },
  {
   "cell_type": "markdown",
   "id": "52a1307d",
   "metadata": {},
   "source": [
    "Η Python υποστηρίζει τη χρήση ανώνυμων συναρτήσεων (aka λ-functions). Αυτές είναι **σύντομες** συναρτήσεις που δέχονται έναν αυθαίρετα μεγάλο αριθμό παραμέτρων και εκτελούν μόνο **μία** λειτουργία επιστρέφοντας το αποτέλεσμα. \n",
    "\n",
    "Αντί της λέξης-κλειδί ``def`` χρησιμοποιείται η λέξη-κλειδί ``lambda``. Στις ανώνυμες συναρτήσεις, το όνομα της συνάρτησης και οι παρενθέσεις από τα ορίσματα παραλείπονται ενώ επιστρέφει τη ζητούμενη τιμή χωρίς κάποια δήλωση επιστροφής ``return``.\n",
    "\n",
    "Το βασικό συντακτικό μιας ανώνυμης συνάρτησης είναι το ακόλουθο:\n",
    "\n",
    "```python\n",
    "lambda arg1, arg2, ... : expression\n",
    "```"
   ]
  },
  {
   "cell_type": "code",
   "execution_count": null,
   "id": "d4708f76",
   "metadata": {},
   "outputs": [],
   "source": [
    "# define functions f and g with lambda expressions:\n",
    "f = lambda x: x**2  # quadratic function\n",
    "g = lambda x, a, b: a * x + b\n",
    "\n",
    "# f_func is completely equivalent to f above:\n",
    "def f_func(x):\n",
    "    return x**2\n",
    "\n",
    "print(f(5), f_func(5))\n",
    "print(g(10, 1, 2))"
   ]
  },
  {
   "cell_type": "markdown",
   "id": "8ae074c7",
   "metadata": {},
   "source": [
    "Οι ανώνυμες συναρτήσεις είναι εξαιρετικά χρήσιμες όταν θέλουμε να περάσουμε μία συνάρτηση ως όρισμα σε κάποια άλλη συνάρτηση."
   ]
  },
  {
   "cell_type": "code",
   "execution_count": null,
   "id": "f47c89ee",
   "metadata": {},
   "outputs": [],
   "source": [
    "# funtion to add input numbers\n",
    "# and using λ to create squares\n",
    "\n",
    "def total(*args):\n",
    "    return sum(*args)\n",
    "\n",
    "numbers = [i for i in range(10)]\n",
    "\n",
    "print(numbers)\n",
    "print(total(numbers))\n",
    "\n",
    "print( total( [(lambda x: x**2)(n) for n in numbers] ))"
   ]
  },
  {
   "cell_type": "code",
   "execution_count": null,
   "id": "8073323c",
   "metadata": {},
   "outputs": [],
   "source": [
    "# sorting words by length using function\n",
    "\n",
    "words = [\"Optics\", \"Quantum\", \"Astrophysics\", \"Mechanics\"]\n",
    "\n",
    "print(sorted(words))\n",
    "print(sorted(words, key=lambda x: len(x)))"
   ]
  },
  {
   "cell_type": "markdown",
   "id": "5d001d2e",
   "metadata": {},
   "source": [
    "Σημείωση: Η εντολή `sorted` (καθώς και η list.sort(), που είδαμε στις λίστες) εμπεριέχει μια παράμετρο `key` η οποία μπορεί να δεχτεί μια συνάρτηση που θα εφαρμοστεί σε κάθε στοιχείο της λίστα πριν γίνει η οποιαδήποτε σύγκριση."
   ]
  },
  {
   "cell_type": "markdown",
   "id": "06678459",
   "metadata": {},
   "source": [
    "## 7.6 Έξτρα ασκήσεις"
   ]
  },
  {
   "cell_type": "markdown",
   "id": "966fb985",
   "metadata": {},
   "source": [
    "### 7.6.1 Νόμος του Wien\n",
    "\n",
    "Γράψτε μια συνάρτηση που θα υπολογίζει, με βάση το νόμο του Wien\n",
    "\n",
    "$$ \\lambda_{max} = \\frac{b}{T}, $$\n",
    "\n",
    "το μήκος κύματος στο οποίο εκπέμπεται το μέγιστο της ακτινοβολίας ενός σώματος σε μια θερμοκρασία (σε Κ).  \n",
    "\n",
    "> Σταθερά του Wien, b ~ 2.897×10−3 mK.\n",
    "\n",
    "Υπολογίστε το μήκος κύματος για ένα αυθαίρετο αριθμό θερμοκρασιών. "
   ]
  },
  {
   "cell_type": "code",
   "execution_count": null,
   "id": "b04a82ce",
   "metadata": {},
   "outputs": [],
   "source": [
    "# You can try it here\n",
    "# If you are struggling you can click on details below for the solution"
   ]
  },
  {
   "cell_type": "markdown",
   "id": "f548e0dc",
   "metadata": {},
   "source": [
    "<div class=\"alert alert-danger alertdanger\" style=\"margin-top: 20px\">\n",
    "<details>\n",
    "\n",
    "<b><summary>(Μια) Λύση</summary></b>\n",
    "    \n",
    "```python \n",
    "def peak_wav(*temps):\n",
    "    \"\"\"\n",
    "    Calculate the peak wavelength using Wien's law.\n",
    "\n",
    "    Peak wavelength (in meters)\n",
    "    \"\"\"\n",
    "    wien_constant = 2.897 * 10**-3  \n",
    "    return [wien_constant/t for t in temps]\n",
    "\n",
    "print(peak_wav(5000, 7000, 10000))\n",
    "```\n",
    "    \n",
    "</details>"
   ]
  },
  {
   "cell_type": "markdown",
   "id": "03e70e87",
   "metadata": {},
   "source": [
    "### 7.6.2 Ταξινόμηση λίστας πλειάδων\n",
    "\n",
    "Δεδομένης μια λίστας (αριθμών) που έχει για κάθε στοιχείο μια πλειάδα (με τουλάχιστον δύο ακεραίους), χρησιμοποιείστε μια λ-συνάρτηση για να ταξινομήσετε την λίστα με βάση το δεύτερο στοιχείο σε κάθε πλειάδα.\n",
    "\n",
    "> **Hint:** εκμεταλευτείτε την ιδιότητα του κλειδιού (key) στην μέθοδο sorted."
   ]
  },
  {
   "cell_type": "code",
   "execution_count": null,
   "id": "af52e189",
   "metadata": {},
   "outputs": [],
   "source": [
    "# You can try it here\n",
    "# If you are struggling you can click on details below for the solution"
   ]
  },
  {
   "cell_type": "markdown",
   "id": "6ea98682",
   "metadata": {},
   "source": [
    "<div class=\"alert alert-danger alertdanger\" style=\"margin-top: 20px\">\n",
    "<details>\n",
    "\n",
    "<b><summary>Λύση</summary></b>\n",
    "    \n",
    "```python \n",
    "data = [(1, 5), (3, 2), (2, 8), (4, 1)]\n",
    "\n",
    "sorted_data = sorted(data, key=lambda x: x[1])\n",
    "    \n",
    "```\n",
    "    \n",
    "</details>"
   ]
  },
  {
   "cell_type": "markdown",
   "id": "a78df630",
   "metadata": {},
   "source": [
    "### 7.6.3 Συνάρτηση για στατιστικές μετρήσεις\n",
    "\n",
    "Γράψτε μια συνάρτηση που θα παίρνει σαν όρισμα μια λίστα (όσο αυθαίρετα μεγάλη θέλουμε) και θα επιστρέφει τον μέσο όρο και την τυπική απόκλιση. \n",
    "\n",
    "> **Hint:** μπορείτε να χρησιμοποιήσετε τις βιβλιοθήκες random και math για να αξιοποιήσετε συναρτήσεις που έχουν ήδη. \n"
   ]
  },
  {
   "cell_type": "code",
   "execution_count": null,
   "id": "201c5724",
   "metadata": {},
   "outputs": [],
   "source": [
    "# You can try it here\n",
    "# If you are struggling you can click on details below for the solution"
   ]
  },
  {
   "cell_type": "markdown",
   "id": "0d2bfdbd",
   "metadata": {},
   "source": [
    "<div class=\"alert alert-danger alertdanger\" style=\"margin-top: 20px\">\n",
    "<details>\n",
    "\n",
    "<b><summary>Λύση</summary></b>\n",
    "    \n",
    "```python \n",
    "import random, math\n",
    "    \n",
    "def stat(numlist):\n",
    "    '''\n",
    "    Calculate the mean and the standard deviation \n",
    "    of a list of numbers\n",
    "    \n",
    "    numlist: a list of numbers as input\n",
    "    return: mean (mn), standard deviation (sd)\n",
    "    '''\n",
    "    mn = sum(numlist)/len(numlist)\n",
    "    sm = 0\n",
    "    for k in numlist:\n",
    "        sm += pow((k-mn), 2)\n",
    "    sd = math.sqrt(sm/(len(numlist)-1))\n",
    "    return mn, sd\n",
    "\n",
    "mylist = [random.randint(1,100) for i in range(100)]\n",
    "mean, std = stat(mylist)\n",
    "print(f'Mean: {mean:.2f}, Standard deviation: {std:.2f}')    \n",
    "```\n",
    "    \n",
    "</details>"
   ]
  },
  {
   "cell_type": "code",
   "execution_count": null,
   "id": "08639379",
   "metadata": {},
   "outputs": [],
   "source": [
    "# EOF"
   ]
  }
 ],
 "metadata": {
  "kernelspec": {
   "display_name": "Python 3",
   "language": "python",
   "name": "python3"
  },
  "language_info": {
   "codemirror_mode": {
    "name": "ipython",
    "version": 3
   },
   "file_extension": ".py",
   "mimetype": "text/x-python",
   "name": "python",
   "nbconvert_exporter": "python",
   "pygments_lexer": "ipython3",
   "version": "3.11.2"
  },
  "toc": {
   "base_numbering": 1,
   "nav_menu": {},
   "number_sections": true,
   "sideBar": true,
   "skip_h1_title": false,
   "title_cell": "Table of Contents",
   "title_sidebar": "Contents",
   "toc_cell": false,
   "toc_position": {},
   "toc_section_display": true,
   "toc_window_display": false
  }
 },
 "nbformat": 4,
 "nbformat_minor": 5
}
