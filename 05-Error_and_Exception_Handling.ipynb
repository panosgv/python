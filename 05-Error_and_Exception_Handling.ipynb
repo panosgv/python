{
 "cells": [
  {
   "cell_type": "markdown",
   "id": "f5f8d678",
   "metadata": {},
   "source": [
    "# 5 Σφάλματα και Εξαιρέσεις"
   ]
  },
  {
   "cell_type": "markdown",
   "id": "687b01f8",
   "metadata": {},
   "source": [
    "<div class=\"alert alert-block alert-info\" style=\"margin-top: 20px\">\n",
    "    \n",
    "<b>ΣΥΝΟΠΤΙΚΑ</b>\n",
    "    \n",
    "Σε αυτό το σημειωματάριο θα εξοικειωθείτε με σφάλματα και τις εξαιρέσεις στην Python. Συγκεκριμένα θα δούμε τι είναι:\n",
    "    \n",
    "- τα συντακτικά σφάλματα.\n",
    "    \n",
    "- οι εξαιρέσεις     \n",
    "   \n",
    "- και η διαχείρισή τους.    \n",
    "   \n",
    "Με αυτό τον τρόπο θα έχετε καλύτερο έλεγχο του προγραμματισμού σας.     \n",
    "</div>"
   ]
  },
  {
   "cell_type": "markdown",
   "id": "339cc907",
   "metadata": {},
   "source": [
    "## 5.1 Εισαγωγή"
   ]
  },
  {
   "cell_type": "markdown",
   "id": "9f8322e0",
   "metadata": {},
   "source": [
    "Η Python διαχωρίζει μεταξύ δύο ειδών σφαλμάτων: τα _συντακτικά_ (syntax errors) και τις _εξαιρέσεις_ (exceptions).\n",
    "\n",
    "1. Τα συντακτικά σφάλματα είναι λάθη στην \"γραμματική\" της γλώσσας, δηλαδή στο πως έχει γραφτεί το πρόγραμμα. Αυτά ελέγχονται **πριν** εκτελεστεί το πρόγραμμα.\n",
    "\n",
    "\n",
    "2. Οι εξαιρέσεις είναι σφάλματα κατά την διάρκεια εκτέλεσης του προγράμματος (runtime errors). Δηλαδή σφάλματα από συνθήκες που προκύπτουν από την προσπάθεια του προγράμματος να εκτελέσει μια διαδικασία που δεν μπορεί να γίνει. \n",
    "\n",
    "Η κύρια διαφορά μεταξύ των δύο είναι ότι τα συντακτικά σφάλματα είναι απόλυτα κρίσιμα και 'σκοτώνουν' το πρόγραμμα πριν καν τρέξει. Και αυτό γιατί δεν μπορεί ο διερμηνέας (compiler) της Python να κάνει κάτι για σας αν ο προγραμματισμός σας δεν συμμορφώνεται με την γλώσσα. Αντίθετα οι εξαιρέσεις είναι συνθήκες που προκύπτουν κατά την εκτέλεση του προγράμματος (όπως η διαίρεση με το 0) και υπάρχει μηχανισμός που μπορεί να τις \"πιάσει\" και να τις διαχειριστεί χωρίς να σταματήσει (απαραίτητα) την εκτέλεση του προγράμματος."
   ]
  },
  {
   "cell_type": "markdown",
   "id": "82aa1f82",
   "metadata": {},
   "source": [
    "## 5.2 Συντακτικά σφάλματα\n",
    "\n",
    "Ακολουθούν μερικά παραδείγματα:"
   ]
  },
  {
   "cell_type": "code",
   "execution_count": null,
   "id": "c43eff86",
   "metadata": {},
   "outputs": [],
   "source": [
    "# reserved words\n",
    "for lambda in range(0,10):\n",
    "    print(int)"
   ]
  },
  {
   "cell_type": "markdown",
   "id": "84b2e17b",
   "metadata": {},
   "source": [
    "Η λέξη `lambda` είναι λέξη κλειδί για την Python (σχετίζεται με την ανώνυμες συναρτήσεις που θα το δούμε στη συνέχεια).\n",
    "\n",
    "**ΠΡΟΣΟΧΗ:**\n",
    "Σε περίπτωση που επιχειρήσετε να βάλετε κάποια άλλη λέξη-κλειδί (πχ `int`, `list`, `float`, κλπ), η for-loop θα τρέξει αλλά τότε η λέξη-κλειδί θα χάσει το νόημά της! (Και δεν θέλουμε να αλλάζουμε την συμπεριφορά αυτών των λέξεων...)."
   ]
  },
  {
   "cell_type": "markdown",
   "id": "bec28b8d",
   "metadata": {},
   "source": [
    "<div class=\"alert alert-block alert-info\" style=\"margin-top: 20px\">\n",
    "    \n",
    "&#9755; **TIP:** Επίσης τα ονόματα μεταβλητών στην Python μπορούν να περιέχουν μικρά και κεφαλαία γράμματα (τα οποία τα χειρίζεται διαφορετικά - case sensitive), νούμερα, καθώς και το '_' (underscore). \n",
    "\n",
    "**Δεν** μπορούν να ξεκινάνε με αριθμούς όμως (π.χ. '2data' όχι αλλά 'data2' ναι)! \n",
    "\n",
    "Συνήθως χρησιμοποιούμε μικρά γράμματα και μια όσο καλύτερη περιγραφή, π.χ. 'mass_distribution', 'contents_of_sandwich'.\n",
    "    \n",
    "</div>"
   ]
  },
  {
   "cell_type": "code",
   "execution_count": null,
   "id": "38706c7c",
   "metadata": {},
   "outputs": [],
   "source": [
    "# check proper use of parentheses \n",
    "a = [1, 2, 3, 4\n",
    "b = 5     "
   ]
  },
  {
   "cell_type": "code",
   "execution_count": null,
   "id": "6d99c2ef",
   "metadata": {},
   "outputs": [],
   "source": [
    "# check that always you are not missing ':'\n",
    "for i in range(10)\n",
    "    print(i)"
   ]
  },
  {
   "cell_type": "markdown",
   "id": "6c1aecba",
   "metadata": {},
   "source": [
    "Προσοχή να μην ξεχνάτε να κλείνετε παρενθέσεις, καθώς και απαραίτητους χαρακτήρες (όπως πχ το ':')  "
   ]
  },
  {
   "cell_type": "code",
   "execution_count": null,
   "id": "c01b3396",
   "metadata": {},
   "outputs": [],
   "source": [
    "# check that you are using the proper operators\n",
    "a = 5\n",
    "if a = 10:\n",
    "    print('Error')"
   ]
  },
  {
   "cell_type": "markdown",
   "id": "de4840fb",
   "metadata": {},
   "source": [
    "To `IndentationError` είναι ένα κλασσικό σφάλμα όταν κανείς προωτοξεκινάει. Η Python απαιτεί να στοιχίζονται οι εντολές αναλογα με το επίπεδο στο οποίο βρίσκονται."
   ]
  },
  {
   "cell_type": "code",
   "execution_count": null,
   "id": "9ab476a6",
   "metadata": {},
   "outputs": [],
   "source": [
    "# indentation error\n",
    "\n",
    "for i in range(10):\n",
    "print(i)\n",
    "    if i > 5:\n",
    "        print(i)\n",
    "        print('that is a big number!')"
   ]
  },
  {
   "cell_type": "raw",
   "id": "77e57fc0",
   "metadata": {},
   "source": [
    "**ΠΡΟΣΟΧΗ** στην εμφώλευση (indentation): "
   ]
  },
  {
   "cell_type": "code",
   "execution_count": null,
   "id": "1b3e4788",
   "metadata": {},
   "outputs": [],
   "source": [
    "# indentation error\n",
    "\n",
    "for i in range(10):\n",
    "    print(i)\n",
    "    if i > 5:\n",
    "        print(i)\n",
    "        print('that is a big number!')\n",
    "        \n",
    "print('='*20)\n",
    "\n",
    "for i in range(10):\n",
    "    print(i)\n",
    "    if i > 5:\n",
    "        print(i)\n",
    "    print('that is a big number!')"
   ]
  },
  {
   "cell_type": "markdown",
   "id": "df3e27f3",
   "metadata": {},
   "source": [
    "Αυτό δεν είναι λάθος για την Python! Είναι ένα προγραμματιστικό \"λάθος\" ανάλογα με το τι θέλουμε κα πετύχουμε.\n",
    "\n",
    "Πχ αν το `print('that is a big number!')` το στοιχίσουμε ακριβώς κάτω από το (δεύτερο) `print(i)` τότε θα τυπώνει το συγκεκριμένο μήνυμα όταν ο αριθμός είναι μεγαλύτερος του 5 (κάτι το οποίο ενδεχόμενα θέλουμε). Αν το στοιχίσουμε κάτω από το `if` τότε η εντολή αυτή βγαίνει από το `if` και γίνεται μέρος του `for` και άρα θα τυπώνεται *κάθε φορα* για κάθε i (κάτι που μάλλον δεν θέλουμε...). Και αν το στοιχίσουμε κάτω από το `for` τότε θα τυπωθεί *μία και μόνο* φορά. \n",
    "\n",
    "\n",
    "Συνήθως χρησιμοποιούμε 4 κενά. Η χρήση του `Tab` επιτρέπεται αν μετατρέπει αυτόματα τον χαρακτήρα σε κενά. Διαφορετικά η μίξη κενών χαρακτήρων και tabs θα δημιουργήσει πρόβλημα. "
   ]
  },
  {
   "cell_type": "markdown",
   "id": "af3045e3",
   "metadata": {},
   "source": [
    "<div class=\"alert alert-block alert-info\" style=\"margin-top: 20px\">\n",
    "    \n",
    "&#9755; **TIP:** Να ελέγχετε πάντα προσεχτικά το τι σας τυπώνει η Python σαν σφάλμα. Προσπαθεί να κάνει ότι καλύτερο μπορεί για να σας βοηθήσει να βρείτε και να διορθώσετε το πρόβλημα!\n",
    "    \n",
    "</div>"
   ]
  },
  {
   "cell_type": "markdown",
   "id": "2cb89824",
   "metadata": {},
   "source": [
    "## 5.3 Eξαιρέσεις"
   ]
  },
  {
   "cell_type": "markdown",
   "id": "c2b74a25",
   "metadata": {},
   "source": [
    "### 5.3.1 Τι είναι οι εξαιρέσεις και ποιά είναι η χρησιμότητά τους;"
   ]
  },
  {
   "cell_type": "markdown",
   "id": "06dd6d3b",
   "metadata": {},
   "source": [
    "Η Python έχει πολλές built-in εξαιρέσεις οι οποίες εγείρονται όταν το πρόγραμμα συναντήσει κάποιο σφάλμα στην προσπάθεια εκτέλεσής του. Αν δεν διαχειριστεί μία τέτοια εξαίρεση τότε ο διερμηνέας θα σταματήσει την εκτέλεση και θα εκτυπώσει ένα μήνυμα που θα εξηγεί (ελπίζουμε) το τι πήγε στραβά. "
   ]
  },
  {
   "cell_type": "code",
   "execution_count": null,
   "id": "cded9640",
   "metadata": {},
   "outputs": [],
   "source": [
    "# Try to perform numerics between integer and string\n",
    "a = 5\n",
    "b = '3'\n",
    "\n",
    "sum_of_numbers = a+b\n",
    "print('The sum is:', sum_of_numbers)"
   ]
  },
  {
   "cell_type": "markdown",
   "id": "03c82cda",
   "metadata": {},
   "source": [
    "Στη Python, οι εξαιρέσεις μπορούν να διαχειριστούν  χρησιμοποιώντας τη δομή ``try/except``.\n",
    "\n",
    "    \n",
    "    Το βασικό συντακτικό της δομής try/except είναι το ακόλουθο:\n",
    "```python\n",
    "try:\n",
    "    # some commands\n",
    "except Exception:\n",
    "    # then do something\n",
    "```\n",
    "\n",
    "\n",
    "Το κομμάτι του κώδικα το οποίο μπορεί να εγείρει κάποια εξαίρεση τοποθετείται μέσα σε ένα try μπλοκ. Οι εντολές που διαχειρίζονται την εξαίρεση βρίσκονται μέσα σε ένα except μπλοκ.\n",
    "\n",
    "\n",
    "\n",
    "Αν δεν υπάρξει κάποια εξαίρεση που πρέπει να διαχειριστούμε, τότε το except μπλοκ προσπερνάται και συνεχίζεται η κανονική ροή του προγράμματος. Αν όμως υπάρξει κάποια εξαίρεση τότε αυτή διαχειρίζεται από το αντίστοιχο μπλοκ."
   ]
  },
  {
   "cell_type": "code",
   "execution_count": null,
   "id": "2a1b42e4",
   "metadata": {},
   "outputs": [],
   "source": [
    "# Now try to catch the exception\n",
    "try:\n",
    "    sum_of_numbers = a+b\n",
    "    print('The sum is:', sum_of_numbers)\n",
    "\n",
    "except Exception as e:\n",
    "    print('Something went wrong!')\n",
    "    print(e)"
   ]
  },
  {
   "cell_type": "markdown",
   "id": "c5bc6f98",
   "metadata": {},
   "source": [
    "## 5.3.2 Διαχείριση συγκεκριμένων εξαιρέσεων"
   ]
  },
  {
   "cell_type": "markdown",
   "id": "a5afe378",
   "metadata": {},
   "source": [
    "- Μερικές από τις εξαιρέσεις που περιέχει η Python είναι: ``TypeError``, ``ValueError``, ``IndexError``, ``ZeroDivisionError``, ``IOError`` (από μια πληθώρα), και η κάθε μία σχετίζεται με συγκεκριμένου είδους σφάλματα.\n",
    "\n",
    "\n",
    "- Στο προηγούμενο παράδειγμα προσπαθήσαμε να διαχειριστούμε ένα σφάλμα χωρίς όμως να προσδιορίσουμε ποιό είναι αυτό. Αυτό _δεν είναι καλή πρακτική_ καθώς το ίδιο μπλοκ θα διαχειριστεί οποιαδήποτε εξαίρεση με τον ίδιο τρόπο. Καλό είναι να προσπαθούμε _να διαχειριζόμαστε ξεχωριστά_ κάθε δυνατή εξαίρεση στην οποία μπορεί να υποπέσει ο κώδικας μας.\n",
    "\n",
    "\n",
    "- Μία δομή try/except μπορεί να περιέχει όσα except μπλοκ θέλουμε, αλλά θα εκτελεστεί μόνο ένα από αυτά (το πρώτο που αντιστοιχεί στην εξαίρεση που θα εγερθεί).\n",
    "\n",
    "\n",
    "- Αν μια ομάδα εξαιρέσεων θέλουμε να τη διαχειριστούμε με τον ίδιο τρόπο, μπορούμε να χρησιμοποιήσουμε πλειάδες."
   ]
  },
  {
   "cell_type": "code",
   "execution_count": null,
   "id": "0c036c3f",
   "metadata": {},
   "outputs": [],
   "source": [
    "# This code of block does nothing\n",
    "# It is here for demonstration purposes\n",
    "\n",
    "try:\n",
    "   # do something\n",
    "   pass\n",
    "\n",
    "except ValueError:\n",
    "   # handle ValueError exception in some way\n",
    "   pass\n",
    "\n",
    "except (TypeError, ZeroDivisionError):\n",
    "   # handle multiple exceptions in some other way\n",
    "    pass\n",
    "\n",
    "except:\n",
    "   # handle all other exceptions\n",
    "   pass\n",
    "\n",
    "finally:\n",
    "    # The finally block of code is optional and will always be run\n",
    "    # regardless if there was an exception in the try code block\n",
    "    pass"
   ]
  },
  {
   "cell_type": "markdown",
   "id": "de9e62c1",
   "metadata": {},
   "source": [
    "<div class=\"alert alert-block alert-warning\" style=\"margin-top: 20px\">\n",
    "    <b>Άσκηση 5.1</b>\n",
    "    \n",
    "Τρέξτε τον παρακάτω κώδικα και δείτε το σφάλμα που προκύπτει. Ποιά είναι η αιτία;\n",
    "    \n",
    "</div>"
   ]
  },
  {
   "cell_type": "code",
   "execution_count": null,
   "id": "0fe0b306",
   "metadata": {},
   "outputs": [],
   "source": [
    "x = 2\n",
    "y = 6\n",
    "\n",
    "result = x+y\n",
    "print(f'The end result of {x}+{y} is {results}')"
   ]
  },
  {
   "cell_type": "markdown",
   "id": "2fe39f18",
   "metadata": {},
   "source": [
    "<div class=\"alert alert-danger alertdanger\" style=\"margin-top: 20px\">\n",
    "<details>\n",
    "\n",
    "<b><summary>Λύση</summary></b>\n",
    "\n",
    "To `NameError` προκύπτει όταν η Python δεν βρίσκει την μεταβλητή στην οποία αντιστοιχεί το όνομα. Προσοχή λοιπόν στο τι γράφετε!\n",
    "    \n",
    "</details>"
   ]
  },
  {
   "cell_type": "markdown",
   "id": "5898e08e",
   "metadata": {},
   "source": [
    "<div class=\"alert alert-block alert-warning\" style=\"margin-top: 20px\">\n",
    "    <b>Άσκηση 5.2</b>\n",
    "    \n",
    "Διαχειριστείτε την εξαίρεση (όσο πιο απλά και με βάση τα προηγούμενα παραδείγματα) που εγείρεται όταν εκτελούμε τον παρακάτω κώδικα χρησιμοποιώντας ένα ``try-except`` μπλοκ.\n",
    "    \n",
    "</div>"
   ]
  },
  {
   "cell_type": "code",
   "execution_count": null,
   "id": "244ae31f",
   "metadata": {},
   "outputs": [],
   "source": [
    "for i in ['a','b','c']:\n",
    "    print(i**2)"
   ]
  },
  {
   "cell_type": "markdown",
   "id": "68fbad4e",
   "metadata": {},
   "source": [
    "<div class=\"alert alert-danger alertdanger\" style=\"margin-top: 20px\">\n",
    "<details>\n",
    "\n",
    "<b><summary>Λύση</summary></b>\n",
    "    \n",
    "```python\n",
    "try:\n",
    "    for i in ['a','b','c']:\n",
    "        print(i**2)\n",
    "except TypeError as e:\n",
    "    print(\"An error occured!\")\n",
    "    print(e)\n",
    "```\n",
    "    \n",
    "</details>"
   ]
  },
  {
   "cell_type": "markdown",
   "id": "b57cae9a",
   "metadata": {},
   "source": [
    "<div class=\"alert alert-block alert-warning\" style=\"margin-top: 20px\">\n",
    "    <b>Άσκηση 5.3</b>\n",
    "    \n",
    "Διαχειριστείτε την εξαίρεση που εγείρεται όταν εκτελούμε τον παρακάτω κώδικα χρησιμοποιώντας ένα ``try-except`` μπλοκ. Στη συνέχεια τυπώστε έξω από το try/except μπλοκ ένα μήνυμα (πχ \"All Done!\")\n",
    "    \n",
    "</div>"
   ]
  },
  {
   "cell_type": "code",
   "execution_count": null,
   "id": "84f4d9de",
   "metadata": {},
   "outputs": [],
   "source": [
    "x = 5\n",
    "y = 0\n",
    "\n",
    "z = x/y\n"
   ]
  },
  {
   "cell_type": "markdown",
   "id": "5cf31940",
   "metadata": {},
   "source": [
    "<div class=\"alert alert-danger alertdanger\" style=\"margin-top: 20px\">\n",
    "<details>\n",
    "\n",
    "<b><summary>Λύση</summary></b>\n",
    "    \n",
    "```python\n",
    "x = 5\n",
    "y = 0\n",
    "\n",
    "try:\n",
    "    z = x/y\n",
    "except ZeroDivisionError:\n",
    "    print(\"It is not nice to divide by zero!\")\n",
    "\n",
    "print(\"All Done!\")\n",
    "```\n",
    "\n",
    "Μπορούμε να χρησιμοποιήσουμε επίσης το `finally` για να έχουμε το ίδιο αποτέλεσμα, δηλαδή; \n",
    "    \n",
    "```python\n",
    "x = 5\n",
    "y = 0\n",
    "\n",
    "try:\n",
    "    z = x/y\n",
    "except ZeroDivisionError:\n",
    "    print(\"It is not nice to divide by zero!\")\n",
    "finally:\n",
    "    print(\"All Done!\")    \n",
    "```    \n",
    "</details>"
   ]
  },
  {
   "cell_type": "markdown",
   "id": "b3383816",
   "metadata": {},
   "source": [
    "<div class=\"alert alert-block alert-info\" style=\"margin-top: 20px\">\n",
    "    \n",
    "&#9755; **TIP:** Το παραπάνω παράδειγμα μας δείχνει ότι αν δεν κάνουμε διαχείριση εξαιρέσεων τότε το πρόγραμμα θα **σταματήσει** (με το αντίστοιχο σφάλμα). Αν όμως κάνουμε την διαχείριση τότε το πρόγραμμα **συνεχίζει** κανονικά. \n",
    "    \n",
    "</div>"
   ]
  },
  {
   "cell_type": "markdown",
   "id": "1dd368b9",
   "metadata": {},
   "source": [
    "<div class=\"alert alert-block alert-warning\" style=\"margin-top: 20px\">\n",
    "    <b>Άσκηση 5.4</b>\n",
    "    \n",
    "Ζητήστε από τον χρήση να εισάγει δύο νούμερα και κάντε οποιαδήποτε πράξη θέλετε. Θα πρέπει να διασφαλίσετε ότι ο χρήστης δίνει πάντα τον σωστό τύπο μεταβλητών που θέλετε. Οπότε και θα πρέπει να διαχειριστείτε τα αντίστοιχα σφάλματα.     \n",
    "\n",
    "> **TIP:** Δεν χρειάζεται το πρόγραμμα να γίνει πολύπλοκο. Απλά τυπώστε το σφάλμα και πείτε στον χρήση να το ξανατρέξει. \n",
    "    \n",
    "</div>"
   ]
  },
  {
   "cell_type": "code",
   "execution_count": null,
   "id": "2c5ed770",
   "metadata": {},
   "outputs": [],
   "source": [
    "# You can try it here\n",
    "# If you are struggling you can click on details below for the solution"
   ]
  },
  {
   "cell_type": "markdown",
   "id": "019e4e7e",
   "metadata": {},
   "source": [
    "<div class=\"alert alert-danger alertdanger\" style=\"margin-top: 20px\">\n",
    "<details>\n",
    "\n",
    "<b><summary>Λύση</summary></b>\n",
    "    \n",
    "```python\n",
    "x = input('Provide a number: ')\n",
    "y = input('Provide another number: ')\n",
    "\n",
    "\n",
    "try:\n",
    "    z = float(x)/float(y)\n",
    "    print(f'End result of {x}/{y} is {z}')\n",
    "except ZeroDivisionError as e:\n",
    "    print(\"It is not nice to divide by zero!\")\n",
    "except ValueError:\n",
    "    print('There is a problem with the numbers.')\n",
    "    print('Please try again')\n",
    "    \n",
    "```\n",
    "\n",
    "</details>"
   ]
  },
  {
   "cell_type": "markdown",
   "id": "d2bdf418",
   "metadata": {},
   "source": [
    "<div class=\"alert alert-block alert-warning\" style=\"margin-top: 20px\">\n",
    "    <b>Άσκηση 5.5</b>\n",
    "    \n",
    "Χρησιμοποιώντας την ακόλουθη λίστα ζητήστε από τον χρήστη να επιλέξει ένα στοιχείο και ελέγξτε αν αυτό υπάρχει και πιο είναι. Σε περίπτωση σφάλματος τυπώστε το αντίστοιχο μήνυμα. \n",
    "   \n",
    "</div>"
   ]
  },
  {
   "cell_type": "code",
   "execution_count": null,
   "id": "c213d283",
   "metadata": {},
   "outputs": [],
   "source": [
    "# You can try it here\n",
    "# If you are struggling you can click on details below for the solution\n",
    "alist = [12, 34, 55, 32, 10]"
   ]
  },
  {
   "cell_type": "markdown",
   "id": "68874c6f",
   "metadata": {},
   "source": [
    "<div class=\"alert alert-danger alertdanger\" style=\"margin-top: 20px\">\n",
    "<details>\n",
    "\n",
    "<b><summary>Λύση</summary></b>\n",
    "    \n",
    "```python\n",
    "\n",
    "alist = [12, 34, 55, 32, 10]\n",
    "    \n",
    "\n",
    "check_index = int(input('Provide the index number to show: '))\n",
    "\n",
    "try:\n",
    "    result = alist[check_index]\n",
    "    print(f'The number corresponding to the index selected {check_index} is {result}')\n",
    "except IndexError:\n",
    "    print(f'There is no number at index position {check_index}')    \n",
    "    \n",
    "```\n",
    "\n",
    "</details>"
   ]
  },
  {
   "cell_type": "markdown",
   "id": "3edb044e",
   "metadata": {},
   "source": [
    "## 5.4 Έγερση εξαιρέσεων"
   ]
  },
  {
   "cell_type": "markdown",
   "id": "800e7f6e",
   "metadata": {},
   "source": [
    "Η διαχείριση εξαιρέσεων είναι απαραίτητη όταν εκχωρούμε το δικαιώμα σε τρίτους να επέμβουν στον κώδικά μας (π.χ. αλληλεπίδραση με χρήστη)."
   ]
  },
  {
   "cell_type": "code",
   "execution_count": null,
   "id": "83f0a6fe",
   "metadata": {},
   "outputs": [],
   "source": [
    "# catching the division by zero \n",
    "\n",
    "try:\n",
    "    a = int(input(\"Enter first positive integer: \")) \n",
    "    b = int(input(\"Enter second positive integer: \"))\n",
    "   \n",
    "    # This is all about\n",
    "    print('The ratio is:', a/b)\n",
    "    \n",
    "except ZeroDivisionError as e:\n",
    "    print(\"Second number must not be zero!\")\n",
    "    print(e)"
   ]
  },
  {
   "cell_type": "markdown",
   "id": "8deb3c2b",
   "metadata": {},
   "source": [
    "Στο παράδειγμα αυτό δεχόμαστε δύο τιμές από τον χρήση και επιστρέφουμε το πηλικό τους. Τι θα συμβεί όμως αν ο χρήστης μας δώσει μία συμβολοσειρά που δεν μπορεί να μετατραπεί σε ακέραιο;\n",
    "\n",
    "\n",
    "Τότε η Python θα εγείρει ένα ``ValueError``.\n",
    "\n",
    "\n",
    "Θα πρέπει να σκεφτούμε αυτή την περίπτωση (και άλλες που μπορεί να υπάρξουν στο δεδομένο πρόβλημα) και να τη διαχειριστούμε ανάλογα.\n",
    "\n",
    "Π.χ. μπορεί να θέλουμε οι αριθμοί που εισάγει ο χρήστης να είναι μόνο θετικοί. Τότε μπορούμε να διαχειριστούμε τις υπόλοιπες τιμές σαν ``ValueError``. \n"
   ]
  },
  {
   "cell_type": "code",
   "execution_count": null,
   "id": "76f8234b",
   "metadata": {},
   "outputs": [],
   "source": [
    "# example for checking the numbers.\n",
    "try:\n",
    "    a = int(input(\"Enter first positive integer: \")) \n",
    "    b = int(input(\"Enter second positive integer: \"))\n",
    "    \n",
    "    # Although a negative number is not technically wrong\n",
    "    # we will consider it as a ValueError and treat it like that\n",
    "    if a <= 0 or b < 0:\n",
    "        raise ValueError        \n",
    "    \n",
    "    # This is all about\n",
    "    print('The ratio is:', a/b)\n",
    "    \n",
    "except ValueError as v:\n",
    "    print('Both numbers must be positive integers!')\n",
    "    print(v)\n",
    "    \n",
    "except ZeroDivisionError as z:\n",
    "    print(\"Second number must not be zero!\")\n",
    "    print(z)"
   ]
  },
  {
   "cell_type": "code",
   "execution_count": null,
   "id": "76d409ef",
   "metadata": {},
   "outputs": [],
   "source": [
    "# EOF"
   ]
  }
 ],
 "metadata": {
  "kernelspec": {
   "display_name": "Python 3",
   "language": "python",
   "name": "python3"
  },
  "language_info": {
   "codemirror_mode": {
    "name": "ipython",
    "version": 3
   },
   "file_extension": ".py",
   "mimetype": "text/x-python",
   "name": "python",
   "nbconvert_exporter": "python",
   "pygments_lexer": "ipython3",
   "version": "3.11.2"
  },
  "toc": {
   "base_numbering": 1,
   "nav_menu": {},
   "number_sections": true,
   "sideBar": true,
   "skip_h1_title": false,
   "title_cell": "Table of Contents",
   "title_sidebar": "Contents",
   "toc_cell": false,
   "toc_position": {},
   "toc_section_display": true,
   "toc_window_display": false
  }
 },
 "nbformat": 4,
 "nbformat_minor": 5
}
