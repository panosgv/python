{
 "cells": [
  {
   "cell_type": "markdown",
   "id": "590d152b",
   "metadata": {},
   "source": [
    "# 13 Διάβασμα και εγγραφή αρχείων"
   ]
  },
  {
   "cell_type": "markdown",
   "id": "91b62bec",
   "metadata": {},
   "source": [
    "<div class=\"alert alert-block alert-info\" style=\"margin-top: 20px\">\n",
    "\n",
    "\n",
    "<b>ΣΥΝΟΠΤΙΚΑ</b>\n",
    "\n",
    "Σε αυτό το μάθημα θα μάθετε πως να διαβάζετε δεδομένα από αρχεία, και πως να αποθηκεύετε τα αποτελέσματά σας. Θα δείτε πως μπορείτε να χρησιμοποιήσετε τις μεθόδους που έχει η ίδια η βασική βιβλιοθήκη της Python καθώς και οι δυνατότητες μέσω της `NumPy` (`np.loadtxt` , `np.genfromtxt`).    \n",
    "</div>"
   ]
  },
  {
   "cell_type": "markdown",
   "id": "a30d8331",
   "metadata": {},
   "source": [
    "---"
   ]
  },
  {
   "cell_type": "markdown",
   "id": "4fdc2cad",
   "metadata": {},
   "source": [
    "## 13.1 Εισαγωγή "
   ]
  },
  {
   "cell_type": "markdown",
   "id": "7d254156",
   "metadata": {},
   "source": [
    "Ότι είδαμε μέχρι στιγμής περιελάμβανε δεδομένα που ήταν πάντα μέρος του σημειωματαρίου μας. Στην πραγματικότητα όμως είναι πολύ συνηθισμένο μετρήσεις και δεδομένα να έρχοναι με ξεχωριστά αρχεία και με διαφορετικά formats. Οπότε είναι σημαντικό να είσαστε σε θέση να μπορείτε να ανοίγετε τα αρχεία, να παίρνετε τα δεδομένα, να τα επεξεργάζεστε και να τα οπτικοποιείτε, και τέλος να σώζετε σε κάποιο αρχείο όποια αποτελέσματα χρειάζονται. Για όλα αυτά η Python προσφέρει όλα τα απαραίτητα εργαλεία είτε μέσα από τις βασικές (build-in) της βιβλιοθήκες είτε άλλες (π.χ. `NumPy`, `pandas`)."
   ]
  },
  {
   "cell_type": "markdown",
   "id": "8b1ff74a",
   "metadata": {},
   "source": [
    "### 13.1.1 Διαφορετικοί τρόποι διαχείρισης αρχείων\n",
    "\n",
    "Υπάρχουν δύο τρόποι με τους οποίους μπορούμε να διαβάσουμε (αλλά και να σώσουμε) τα περιεχόμενα ενός αρχείου.  "
   ]
  },
  {
   "cell_type": "code",
   "execution_count": null,
   "id": "aca25cb4",
   "metadata": {},
   "outputs": [],
   "source": [
    "# remember that you can run unix commands by preceding each command with !\n",
    "!cat data_files/basic.csv"
   ]
  },
  {
   "cell_type": "markdown",
   "id": "28f281ae",
   "metadata": {},
   "source": [
    "Για να το διαβάσουμε με την Python:"
   ]
  },
  {
   "cell_type": "code",
   "execution_count": null,
   "id": "0b8651d2",
   "metadata": {},
   "outputs": [],
   "source": [
    "# open file in 'r'ead mode \n",
    "f = open('data_files/basic.csv', 'r')\n",
    "\n",
    "# readline reads the very first line of the file\n",
    "print(f.readline())\n",
    "\n",
    "f.close()"
   ]
  },
  {
   "cell_type": "markdown",
   "id": "24b1341b",
   "metadata": {},
   "source": [
    "_Σημείωση:_ Το πρώτο όρισμα είναι το όνομα του αρχείου (μαζί με το φάκελο) ενώ το δεύτερο εξαρτάται από τι θέλουμε να κάνουμε με το αρχείο. Όταν παραλείπεται εννοείτε το `r` (read mode) που σημαίνει ότι μόνο διαβάζουμε το αρχείο. Αν χρησιμοποιηθεί το `w` (write mode) τότε γράφουμε στο αρχείο (αν υπάρχει ήδη ένα αρχείο με το ίδιο όνομα τότε το νέο αρχείο γράφεται πάνω από αυτό). Με το `a` (append mode) ανοίγει το αρχείο και οποιαδήποτε εγγραφή προστιθεται στο τέλος. Υπάρχει και η επιλογή `r+` που σημαίνει ότι το αρχείο ανοίγει τόσο για διάβασμα όσο και για εγγραφή.\n",
    "\n",
    "<div class=\"alert alert-block alert-info\" style=\"margin-top: 20px\">\n",
    "    \n",
    "&#9755; **ΠΡΟΣΟΧΗ:**  Με αυτή την μέθοδο θα πρέπει πάντα _ΕΣΕΙΣ_ να είστε αυτοί/αυτές που θα κλείσετε το αρχείο. Αν δεν το κάνετε το αρχείο θα κλείσει κάποια στιγμή αλλά χωρίς - απαραίτητα - το αναμενόμενο αποτέλεσμα. Οπότε θα πρέπει _πάντα_ να κλείνει το αρχείο ([περισσότερα](https://realpython.com/why-close-file-python/)).\n",
    "     \n",
    "</div>"
   ]
  },
  {
   "cell_type": "markdown",
   "id": "a501c8b5",
   "metadata": {},
   "source": [
    "_**Πως μπορούμε να το αποφύγουμε;**_\n",
    "\n",
    "Χρησιμοποιώντας την εντολή `with` η οποία εξασφαλίζει την έξοδο από οποιαδήποτε δήλωση/μέθοδο το συνοδεύει. Δηλαδή φροντίζει αυτόματα να κλείσει το αρχείο, καθώς ο κώδικας εμπεριέχεται μέσα σε αυτή."
   ]
  },
  {
   "cell_type": "code",
   "execution_count": null,
   "id": "4eebae91",
   "metadata": {},
   "outputs": [],
   "source": [
    "with open('data_files/basic.csv', 'r') as infile: \n",
    "    # readline reads the very first line of the file\n",
    "    print(infile.readline())\n"
   ]
  },
  {
   "cell_type": "markdown",
   "id": "8fa7816d",
   "metadata": {},
   "source": [
    "**Εγγραφή σε αρχείο**\n",
    "\n",
    "Αν θέλουμε να γράψουμε δεδομένα / αποτελέσματα σε ένα αρχείο χρησιμοποιούμε την ίδια εντολή αλλά με διαφορετικό τρόπο λειτουργίας."
   ]
  },
  {
   "cell_type": "code",
   "execution_count": null,
   "id": "43779924",
   "metadata": {},
   "outputs": [],
   "source": [
    "with open('data_files/new_file.csv', 'w') as outfile: \n",
    "    # this is the header of the file\n",
    "    outfile.write('# X data, Y data\\n')\n",
    "    # create some data\n",
    "    xvalues = list(range(0,10,1))\n",
    "    yvalues = list(range(100,200,10))\n",
    "    for m,n in zip( xvalues, yvalues ):\n",
    "        # print the line before writing to the file\n",
    "        print(m,n)\n",
    "        # we parse a string to the file\n",
    "        # note the '\\n' character to add a new line\n",
    "        outfile.write(f'{m},{n}\\n')"
   ]
  },
  {
   "cell_type": "markdown",
   "id": "a31d4ec2",
   "metadata": {},
   "source": [
    "Προσέξτε ότι για να γράψουμε κάτι στο αρχείο πρέπει να είναι **τύπου συμβολοσειράς**. Επίσης θα πρέπει πάντα να προσθέτουμε στο τέλος τον χαρακτήρα `\\n` έτσι ώστε να αλλάζει σειρά και να τυπώνονται όλα σε γραμμές. \n",
    "\n",
    "Ας δούμε το καινούργιο μας αρχείο:"
   ]
  },
  {
   "cell_type": "code",
   "execution_count": null,
   "id": "aa919bad",
   "metadata": {},
   "outputs": [],
   "source": [
    "!cat 'data_files/new_file.csv'"
   ]
  },
  {
   "cell_type": "markdown",
   "id": "0a03db15",
   "metadata": {},
   "source": [
    "## 13.2 Χρησιμοποιώντας μόνο Python\n",
    "\n",
    "Η πρώτη προσέγγιση χρησιμοποιεί μόνο βασικές εντολές για να ανοίξουμε και να διαβάσουμε ένα αρχείο. Η διαδικασία περιλαμβάνει την διαχείριση των συμβολοσειρών που προκύπτουν από το περιεχόμενο του αρχείου. Η Python μπορεί να διαβάζει κάθε γραμμή του αρχείου αλλά εμείς καλούμαστε να επιλέξουμε πως πρέπει να την \"τεμαχίσουμε\" για να πάρουμε αυτό που θέλουμε. Αυτό γίνεται πολύ αποτελεσματικά συνδυάζοντας και την μέθοδο [`split()`](https://docs.python.org/3/library/stdtypes.html#str.split) της κλάσσης str. "
   ]
  },
  {
   "cell_type": "code",
   "execution_count": null,
   "id": "0a373ca4",
   "metadata": {
    "scrolled": false
   },
   "outputs": [],
   "source": [
    "# Initialize two empty lists that will populate with the contents of each column in the data set\n",
    "x_data, y_data = [], []\n",
    "\n",
    "# Read the file line by line\n",
    "with open(\"data_files/basic.csv\", \"r\") as f:\n",
    "    \n",
    "    # Skip the first row that contains the header\n",
    "    next(f)\n",
    "    \n",
    "    # Each line is read as a string. We handle this to extract the data.\n",
    "    for line in f:\n",
    "        # lets see how does each line look like\n",
    "        print(line)\n",
    "        # split into columns\n",
    "        cols = line.split(',')\n",
    "        # print the columns\n",
    "        print(cols)\n",
    "        # handle the x and y\n",
    "        x = float(cols[0])\n",
    "        y = float(cols[1]) \n",
    "        print(x,y)\n",
    "        # append to lists to create the dataset\n",
    "        x_data.append(x)\n",
    "        y_data.append(y) \n",
    "        \n",
    "        print('----')\n",
    "        \n",
    "print(\"x data:\", x_data)\n",
    "print(\"y data:\", y_data)        \n",
    "       "
   ]
  },
  {
   "cell_type": "markdown",
   "id": "196f1784",
   "metadata": {},
   "source": [
    "Με μια πιο \"pythonic\" προσέγγιση (δηλαδή συμπιέζοντας τον κώδικα όσο γίνετα, εκμεταλλευόμενοι τις δυνατότητες της γλώσσας):"
   ]
  },
  {
   "cell_type": "code",
   "execution_count": null,
   "id": "5f3dd952",
   "metadata": {},
   "outputs": [],
   "source": [
    "# Initialize two empty lists that will populate with the contents of each column in the data set\n",
    "x_data, y_data = [], []\n",
    "\n",
    "# Read the file line by line\n",
    "with open(\"data_files/basic.csv\", \"r\") as f:\n",
    "    \n",
    "    # Skip the first row that contains the header\n",
    "    next(f)\n",
    "    \n",
    "    # Each line is read as a string. We handle this to extract the data.\n",
    "    for line in f:       \n",
    "        print(line)\n",
    "        # a more \"pythonic\" way to do it:\n",
    "        x_data.append( float(line.split(\",\")[0]))\n",
    "        y_data.append( float(line.split(\",\")[1]))        \n",
    "        print('----')\n",
    "        \n",
    "print(\"x data:\", x_data)\n",
    "print(\"y data:\", y_data)             "
   ]
  },
  {
   "cell_type": "markdown",
   "id": "874d6141",
   "metadata": {},
   "source": [
    "Έχοντας διαβάσει τα δεδομένα από το αρχείο μας μπορούμε να τα επεξεργαστούμε και να τα οπτικοποιήσουμε περαιτέρω και ανάλογα με τις ανάγκες μας."
   ]
  },
  {
   "cell_type": "code",
   "execution_count": null,
   "id": "6168ee53",
   "metadata": {},
   "outputs": [],
   "source": [
    "import matplotlib.pyplot as plt\n",
    "plt.rc('font', size=20) \n",
    "\n",
    "plt.plot(x_data,y_data, 'r*')\n",
    "\n",
    "plt.title('A simple plot')\n",
    "plt.xlabel('x values')\n",
    "plt.ylabel('y values')"
   ]
  },
  {
   "cell_type": "markdown",
   "id": "a58ba84e",
   "metadata": {},
   "source": [
    "Και ένα λίγο πιο πολύπλοκο παράδειγμα. Σε αυτή την περίπτωση οι στήλες χωρίζονται με κενά ' ' και όχι με ',' όπως προηγούμενως (csv: comma separated values). Αλλά από τη στιγμή που διβάζουμε το αρχείο σαν συμβολοσειρές δεν μας επηρεάζει, αλλά πρεπει να προσαρμοστούμε στο αρχείο."
   ]
  },
  {
   "cell_type": "code",
   "execution_count": null,
   "id": "04f189ec",
   "metadata": {},
   "outputs": [],
   "source": [
    "!cat data_files/basic22.txt"
   ]
  },
  {
   "cell_type": "code",
   "execution_count": null,
   "id": "16211bfc",
   "metadata": {
    "scrolled": false
   },
   "outputs": [],
   "source": [
    "# Initialize five empty lists that will populate with the contents of each column in the data set\n",
    "ids, x_data, y_data, classes, directions = [], [], [], [], [] \n",
    "\n",
    "# Read the file line by line\n",
    "with open(\"data_files/basic22.txt\", \"r\") as f:\n",
    "    \n",
    "    # Skip the first row that contains the header\n",
    "    next(f)\n",
    "    \n",
    "    # Each line is read as a string. We handle this to extract the data.\n",
    "    for line in f:\n",
    "        # lets see how does each line look like\n",
    "        print(line)\n",
    "        # split into columns, now with empty spaces\n",
    "        cols = line.split(' ')\n",
    "        # print the columns\n",
    "        print(cols)\n",
    "        # handle the x and y\n",
    "        i = cols[0]\n",
    "        x = float(cols[1])\n",
    "        y = float(cols[2])\n",
    "        c = cols[3].strip()\n",
    "        d = cols[4].strip()\n",
    "        print(i, x, y, c, d)\n",
    "#         # append to lists to create the dataset\n",
    "        ids.append(i)\n",
    "        x_data.append(x)\n",
    "        y_data.append(y)\n",
    "        classes.append(c)\n",
    "        directions.append(d)\n",
    "\n",
    "print('-----\\n')        \n",
    "print(\"IDs:\", ids)\n",
    "print(\"x data:\", x_data)\n",
    "print(\"y data:\", y_data)        \n",
    "print(\"Number of class A items:\", len([i for i in classes if i=='A']) )\n",
    "print(\"Number of left directions:\", len([d for d in directions if d=='left']) )\n",
    "\n",
    "\n",
    "plt.plot(x_data,y_data, 'r*')\n",
    "\n",
    "for p, x, y in zip(ids, x_data, y_data):\n",
    "    plt.text(x,y, \" \"+p)\n",
    "\n",
    "plt.title('A simple plot')\n",
    "plt.xlabel('x values')\n",
    "plt.ylabel('y values') \n",
    "plt.xlim(0,11)\n",
    "plt.ylim(-5, 110)\n",
    "    \n",
    "plt.show()\n"
   ]
  },
  {
   "cell_type": "markdown",
   "id": "c8c32e98",
   "metadata": {},
   "source": [
    "_Σημείωση:_ To `plt.text` είνα μια [μέθοδος](https://matplotlib.org/stable/api/_as_gen/matplotlib.pyplot.text.html) με την οποία μπορούμε να βάλουμε κείμενο πάνω στο διάγραμμά μας. Στη συγκεκριμένη εφαρμομογή το χρησιμοποιήσαμε σαν μια ταυτοποίηση των σημείων αλλά υπάρχει και καλύτερη προσέγγιση (δείτε σχετικά για τα [annotations](https://matplotlib.org/stable/users/explain/quick_start.html#annotations))."
   ]
  },
  {
   "cell_type": "markdown",
   "id": "07ea7577",
   "metadata": {},
   "source": [
    "_Σημείωση:_ Υπάρχει η [build-in βιβλιοθήκη](https://docs.python.org/3/library/csv.html) `csv` (που πρέπει όμως να εισαχθεί όπως οι υπόλοιπες, δηλαδή θα πρέπει να βάλουμε `import csv`) η οποία παρέχει τα απαραίτητα εργαλεία (`csv.reader` και `csv.writer`) για το άνοιγμα και εγγραφή αρχείων αυτού του τύπου. Ωστόσο, δεδομένης της ύπαρξης και της μεγαλύτερης ευελιξίας που προσφέρουν οι άλλες βιβλιοθήκες (ιδιαίτερα η `pandas`) δεν θα ασχοληθούμε περαιτέρω εδώ."
   ]
  },
  {
   "cell_type": "markdown",
   "id": "aa8ad1de",
   "metadata": {},
   "source": [
    "## 13.3 Χρησιμοποιώντας `NumPy`\n",
    "\n",
    "Μια άλλη προσέγγιση είναι να χρησιμοποιήσουμε μεθόδους που προσφέρει η `NumPy`. Το πλεονέκτημα εδώ είναι ότι όταν πρόκειται για νούμερα η προσέγγιση μέσω της `NumPy` έχει περισσότερα πλεονεκτήματα στην περαιτέρω διαχείριση και επεξεργασία, ιδιαίτερα όταν μεγαλώνει σημαντικά ο όγκος των δεδομένων. "
   ]
  },
  {
   "cell_type": "markdown",
   "id": "48b74d81",
   "metadata": {},
   "source": [
    "### 13.3.1 Διάβασμα αρχείων"
   ]
  },
  {
   "cell_type": "markdown",
   "id": "055e905c",
   "metadata": {},
   "source": [
    "#### `numpy.loadtxt`\n",
    "\n",
    "Η συνάρτηση `numpy.loadtxt` αποτελεί τον πιο απλό τρόπο για να διαβαστεί ένα αρχείο ([περισσότερα](https://numpy.org/doc/stable/reference/generated/numpy.loadtxt.html)). Ουσιαστικά επιστρέφει ένα `ndarray`αντικείμενο το οποίο ξέρουμε πως να διαχειριστούμε.   "
   ]
  },
  {
   "cell_type": "code",
   "execution_count": null,
   "id": "6831d584",
   "metadata": {},
   "outputs": [],
   "source": [
    "import numpy as np\n",
    "\n",
    "# we explicitly set the delimiter, and avoid the header\n",
    "data = np.loadtxt(\"data_files/basic.csv\", \n",
    "                  delimiter=',', \n",
    "                  skiprows=1)\n",
    "\n",
    "print(data)\n",
    "print(type(data))\n",
    "print()\n",
    "\n",
    "xdata = data[:,0]\n",
    "ydata = data[:,1]\n",
    "\n",
    "print(xdata)\n",
    "print(ydata)\n"
   ]
  },
  {
   "cell_type": "markdown",
   "id": "9e37ca2e",
   "metadata": {},
   "source": [
    "Μπορούμε να ξεπακετάρουμε και απευθείας τα δεδομένα μας, χρησιμοποιώντας την παράμετρο `unpack=True`:"
   ]
  },
  {
   "cell_type": "code",
   "execution_count": null,
   "id": "f4006bcd",
   "metadata": {},
   "outputs": [],
   "source": [
    "xdata, ydata = np.loadtxt(\"data_files/basic.csv\", \n",
    "                          delimiter=',', \n",
    "                          skiprows=1, \n",
    "                          unpack=True)\n",
    "\n",
    "print(xdata)\n",
    "print(ydata)"
   ]
  },
  {
   "cell_type": "markdown",
   "id": "1f3aa61d",
   "metadata": {},
   "source": [
    "Ας δοκιμάσουμε και το άλλο αρχείο (basic22.txt), όπου ο διαχωρισμός των στηλών γίνεται με το κενό (' '). "
   ]
  },
  {
   "cell_type": "code",
   "execution_count": null,
   "id": "b06beb07",
   "metadata": {},
   "outputs": [],
   "source": [
    "# we explicitly set the delimiter, and avoid the header\n",
    "data22 = np.loadtxt(\"data_files/basic22.txt\", \n",
    "                    delimiter=' ', \n",
    "                    skiprows=1)\n",
    "\n",
    "print(data)\n"
   ]
  },
  {
   "cell_type": "markdown",
   "id": "5824fd13",
   "metadata": {},
   "source": [
    "Εδώ η μέθοδος αποτυγχάνει γιατί προσπαθεί να μετατρέψει αυτόματα όλες τις στήλες σε πραγματικούς αριθμούς. Για να το λύσουμε αυτό θα πρέπει να δώσουμε το τύπο της κάθε στήλης χρησιμοποιώντας το `dtype`. "
   ]
  },
  {
   "cell_type": "code",
   "execution_count": null,
   "id": "d4e9d9a3",
   "metadata": {},
   "outputs": [],
   "source": [
    "# we explicitly define the type of each column\n",
    "data22 = np.loadtxt(\"data_files/basic22.txt\", \n",
    "                    delimiter=' ', \n",
    "                    skiprows=1,\n",
    "        dtype=[('ID', int), ('Xval', float), \n",
    "               ('Yval', float), ('Class', 'U1'), \n",
    "               ('Dir', 'U6')] )\n",
    "\n",
    "print(data22)\n",
    "print()\n",
    "print(data22.shape)"
   ]
  },
  {
   "cell_type": "markdown",
   "id": "df19ed9e",
   "metadata": {},
   "source": [
    "Αυτός ο πίνακας τώρα έχει ένα σχήμα με 10 γραμμές και μια στήλη! Ενώ εμείς \"βλέπουμε\" 10 γραμμές και 5 στήλες, γιατί;\n",
    "\n",
    "Ο τρόπος που διαβάσαμε το αρχείο και ιδιαίτερα η χρήση του `dtype` όπου δώσαμε και ονόματα σε κάθε στήλη μας οδήγησε στην δημιουργία ενός  **stuctured array** (δομημένου πίνακα, [περισσότερα](https://numpy.org/doc/stable/user/basics.rec.html)). Έχοντας τα ονόματα ανά στήλη μπορούμε να καλέσουμε κάθε μία από αυτές πιο εύκολα με την χρήση του ονόματός της. Έχοντας αυτό και τις δυνατότητες της `NumPy` μπορούμε να κάνουμε πιο ευέλικτα και αποτελεσματικά την επεξεργασία των δεδομένων μας.  "
   ]
  },
  {
   "cell_type": "code",
   "execution_count": null,
   "id": "4476d4d7",
   "metadata": {},
   "outputs": [],
   "source": [
    "# printing each column based on its name\n",
    "print('- IDs :', data22['ID'])\n",
    "print('- Class :', data22['Class'])\n",
    "\n",
    "#  can assign columns to separate variables for easiness\n",
    "xvals22, yvals22 = data22['Xval'], data22['Yval']\n",
    "ids22 = data22['ID']\n",
    "cls22 = data22['Class']\n",
    "dir22 = data22['Dir']\n",
    "\n",
    "print('- Sum of A class:', np.sum( (cls22=='A')) )\n",
    "print('- Sum of left directions:', np.sum( (dir22=='left')) )"
   ]
  },
  {
   "cell_type": "code",
   "execution_count": null,
   "id": "eb9a1635",
   "metadata": {},
   "outputs": [],
   "source": [
    "plt.plot(xvals22, yvals22, 'r*')\n",
    "\n",
    "for p, x, y in zip(ids22, xvals22, yvals22):\n",
    "    plt.text(x,y, \" \"+str(p))\n",
    "\n",
    "plt.title('A simple plot')\n",
    "plt.xlabel('x values')\n",
    "plt.ylabel('y values') \n",
    "plt.xlim(0,11)\n",
    "plt.ylim(-5, 110)\n",
    "    "
   ]
  },
  {
   "cell_type": "markdown",
   "id": "a7f81ba1",
   "metadata": {},
   "source": [
    "#### `numpy.genfromtxt`\n",
    "\n",
    "Η συνάρτηση `numpy.genfromtxt` αποτελεί μια πιο εξελιγμένη μέθοδο για το διάβασμα αρχείων ([περισσότερα](https://numpy.org/doc/stable/reference/generated/numpy.genfromtxt.html#numpy-genfromtxt)), που προσφέρει πολύ περισσότερη ευελιξία σε σχέση με την `numpy.loadtxt`. \n",
    "\n",
    "Σημαντικές πλεονεκτήματα είναι ότι επιστρέφει ένα πίνακα που είναι πιο κοντά σε αυτό που περιμένουμε (σαν άνθρωποι), μπορεί να διαχειριστεί τιμές που λείπουν (`missing_values`) ή/και να τις συμπληρώσει (`filling_values`). "
   ]
  },
  {
   "cell_type": "code",
   "execution_count": null,
   "id": "757b582b",
   "metadata": {},
   "outputs": [],
   "source": [
    "data333 = np.genfromtxt(\"data_files/basic333.txt\", \n",
    "                        delimiter=',', \n",
    "                        skip_header=1)\n",
    "\n",
    "print(data333)\n",
    "print()\n",
    "print(data333.shape)"
   ]
  },
  {
   "cell_type": "markdown",
   "id": "4a8d9a5d",
   "metadata": {},
   "source": [
    "Εδώ το τελικό αποτέλεσμα του πίνακα είναι αυτό που θα περιμέναμε. Βέβαια, χωρίς να δοθούν λεπτομέρειες σχετικά με τον τύπο της κάθε στήλης η μέθοδος `np.genfromtxt` υποθέτει για όλες ότι ο τύπος τους είναι `float` (όπως και το `np.loadtxt`) και για όσες δεν μπορεί να γίνει αυτό μετατρεπει τις τιμές τους σε `NaN` (Not a Number). Επίσης, αυτό έχει κάνει και για τις τιμές που λείπουν. "
   ]
  },
  {
   "cell_type": "code",
   "execution_count": null,
   "id": "a25fec64",
   "metadata": {},
   "outputs": [],
   "source": [
    "xvals333 = data333[:,1]\n",
    "yvals333 = data333[:,2]\n",
    "\n",
    "print(xvals333)\n",
    "print(yvals333)"
   ]
  },
  {
   "cell_type": "markdown",
   "id": "f1a5500a",
   "metadata": {},
   "source": [
    "H `NumPy` διαχειρίζεται αυτόματα τις `nan` τιμές. Οπότε μπορούμε να προχωρήσουμε στο διάγραμμα κανονικά όπως και πριν και απλά δεν εμφανίζονται τα σημεία των οποίων οι τιμές αντιστοιχούν σε `nan`."
   ]
  },
  {
   "cell_type": "code",
   "execution_count": null,
   "id": "969fe7e0",
   "metadata": {},
   "outputs": [],
   "source": [
    "# final plot\n",
    "plt.plot(xvals333, yvals333, 'r*')\n",
    "\n",
    "plt.title('A simple plot')\n",
    "plt.xlabel('x values')\n",
    "plt.ylabel('y values')"
   ]
  },
  {
   "cell_type": "markdown",
   "id": "02760c23",
   "metadata": {},
   "source": [
    "Ένας τρόπος για να αυτοματοποιήσουμε τον καθορισμό του τύπου των στηλών είναι να χρησιμοποιήσουμε `dtype=None`. Αυτό θα επιστρέψει ένα structured array όπως το `np.loadtxt` "
   ]
  },
  {
   "cell_type": "code",
   "execution_count": null,
   "id": "218dc125",
   "metadata": {},
   "outputs": [],
   "source": [
    "data333a = np.genfromtxt(\"data_files/basic333.txt\", \n",
    "                         delimiter=',', \n",
    "                         skip_header=1, \n",
    "                         dtype=None)\n",
    "\n",
    "print(data333a)\n",
    "print()\n",
    "print(data333a.shape)"
   ]
  },
  {
   "cell_type": "markdown",
   "id": "67cf6ebe",
   "metadata": {},
   "source": [
    "Μια (κάποια) λύση είναι να διαβάσουμε όλο το αρχείο σαν συμβολοσειρά χρησιμοποιώντας το `dtype='unicode'`. Με αυτό τον τρόπο πετυχαίνουμε τόσο το να διαβαστούν και οι στήλες που δεν περιέχουν νούμερα, αλλά και να κρατήσουμε το σχήμα του πίνακα που περιμένουμε. Σε αυτή την περίπτωση θα πρέπει να αλλάξουμε τον τύπο στις στήλες που μας ενδιαφέρουν σαν νούμερα. "
   ]
  },
  {
   "cell_type": "code",
   "execution_count": null,
   "id": "4b16d78a",
   "metadata": {},
   "outputs": [],
   "source": [
    "data333b = np.genfromtxt(\"data_files/basic333.txt\", \n",
    "                         delimiter=',', \n",
    "                         skip_header=1, \n",
    "                         dtype='unicode')\n",
    "\n",
    "print(data333b)\n",
    "print()\n",
    "print(data333b.shape)"
   ]
  },
  {
   "cell_type": "markdown",
   "id": "d0705f2b",
   "metadata": {},
   "source": [
    "Οπότε σε αυτή την περίπτωση αρκεί να αλλάξουμε τον τύπο δεδομένων για τους πίνακες που περιέχουν τις τιμές x , y. Εφόσον όμως δεν υπάρχουν τιμές για κάποια σημεία το `array.dtype(float)` θα αποτύχει. Σε αυτή την περίπτωση θα πρέπει να ελέγξουμε και να αφαιρέσουμε τα προβληματικά σημεία."
   ]
  },
  {
   "cell_type": "code",
   "execution_count": null,
   "id": "0e2c08b4",
   "metadata": {},
   "outputs": [],
   "source": [
    "xvals333b = data333b[:,1]\n",
    "yvals333b = data333b[:,2]\n",
    "print('Original arrays:')\n",
    "print(xvals333b)\n",
    "print(yvals333b)\n",
    "print()\n",
    "\n",
    "# handling again for missing values, \n",
    "# but this time we are looking for empty values ('')\n",
    "xind333b = np.where(xvals333b=='')[0]\n",
    "yind333b = np.where(yvals333b=='')[0]\n",
    "\n",
    "# # combining indexes of missing values from both axes\n",
    "ind2remove333b = np.concatenate((xind333b, yind333b))\n",
    "print('Index of missing values:')\n",
    "print(ind2remove333b)\n",
    "print()\n",
    "\n",
    "# deleting elements (pairs) and converting to float\n",
    "xvals333b = np.delete(xvals333b, ind2remove333b).astype(float)\n",
    "yvals333b = np.delete(yvals333b, ind2remove333b).astype(float)\n",
    "\n",
    "# new arrays\n",
    "print('Final arrays:')\n",
    "print(xvals333b)\n",
    "print(yvals333b)\n"
   ]
  },
  {
   "cell_type": "markdown",
   "id": "b9df025f",
   "metadata": {},
   "source": [
    "<div class=\"alert alert-block alert-info\" style=\"margin-top: 20px\">\n",
    "    \n",
    "&#9755; **Συμπέρασμα:** Από τα παραπάνω φαίνεται ότι ο πιο ευέλικτος τρόπος ανοίγματος αρχείων και διαχείρισης δεδομένων είναι μέσω της `np.genfromtxt`. Θα δούμε όμως ότι υπάρχει ακόμα μια πιο δυνατή και ευέλικτη βιβλιοθήκη (`pandas`) σε απόμενο μάθημα. \n",
    "     \n",
    "</div>"
   ]
  },
  {
   "cell_type": "markdown",
   "id": "b7d4ee3d",
   "metadata": {},
   "source": [
    "### 13.3.2 Εγγραφή σε αρχεία - `numpy.savetxt`"
   ]
  },
  {
   "cell_type": "markdown",
   "id": "38859712",
   "metadata": {},
   "source": [
    "Αφού ολοκληρώσουμε την όποια επεξεργασία έχουμε κάνει για να γράψουμε τα αποτελέσματά μας, συνήθως σε μορρφή ενός πίνακα, σε ένα αρχείο χρησιμοποιούμε την εντολή `np.savetxt()` ([περισσότερα](https://numpy.org/doc/stable/reference/generated/numpy.savetxt.html)). Θα πρέπει να δηλώσουμε το όνομα και φυσικά τον πίνακα που θέλουμε να γράψουμε.  "
   ]
  },
  {
   "cell_type": "code",
   "execution_count": null,
   "id": "eff8fee3",
   "metadata": {},
   "outputs": [],
   "source": [
    "x = y = z = np.arange(0.0,5.0,1.0)\n",
    "print(x)\n",
    "print(x.shape)\n",
    "\n",
    "# writting a 1d array to a file, with a specific format\n",
    "np.savetxt('data_files/write-1d.out', \n",
    "           x, \n",
    "           fmt=\"%0.2f\")  "
   ]
  },
  {
   "cell_type": "code",
   "execution_count": null,
   "id": "d7de8ba3",
   "metadata": {},
   "outputs": [],
   "source": [
    "!cat data_files/write-1d.out"
   ]
  },
  {
   "cell_type": "code",
   "execution_count": null,
   "id": "5b7eba7a",
   "metadata": {},
   "outputs": [],
   "source": [
    "# writting a 3d array to a file, with a specific format, delimiter, and header\n",
    "np.savetxt('data_files/write-3d.out', (x,y,z), \n",
    "           delimiter=',', \n",
    "           fmt=\"%0.2f\", \n",
    "           header=\"x,y,z\") "
   ]
  },
  {
   "cell_type": "code",
   "execution_count": null,
   "id": "e08996f0",
   "metadata": {},
   "outputs": [],
   "source": [
    "!cat data_files/write-3d.out"
   ]
  },
  {
   "cell_type": "markdown",
   "id": "d8804d7a",
   "metadata": {},
   "source": [
    "Αν παρατηρήσουμε προσεχτικά το παραπάνω αρχείο θα δούμε ότι ο κάθε πίνακας έχει εγγραφεί σαν μια γραμμή.  Αυτό μπορεί να μην είναι το επιθυμητό αποτέλεσμα καθώς (συνήθως) θέλουμε να γράφουμε τον κάθε πίνακα σε μια στήλη για να έχουμε πρόσβαση σε όλα τις στήλες (π.χ. ιδιότητες) ανα γραμμή (π.χ. αντικείμενο). Οπότε θα πρέπει να συνδυάσουμε τους πίνακες σε ένα 2d τελικό πίνακα που θα δοθεί σαν όρισμα στον `np.savetxt`. \n",
    "\n",
    "Για αυτό πρέπει πρώτα να μετατρέψουμε τον κάθε πίνακα σε ένα πίνακα με μια στήλη και γραμμές όσα τα στοιχεία του (`.reshape(-1,1)` και μετά να τους συνδυάσουμε με βάση τις στήλες (`np.hstack( (arr1,arr2,...) )`). "
   ]
  },
  {
   "cell_type": "code",
   "execution_count": null,
   "id": "fbd16d09",
   "metadata": {},
   "outputs": [],
   "source": [
    "# reshape arrays (taking advantage that they are the same)\n",
    "x = x.reshape(-1,1)\n",
    "y = x\n",
    "z = x\n",
    "\n",
    "print(x)\n",
    "print(x.shape)"
   ]
  },
  {
   "cell_type": "code",
   "execution_count": null,
   "id": "c0804cd5",
   "metadata": {},
   "outputs": [],
   "source": [
    "# combine them all into one single 2d array\n",
    "print(np.hstack((x,y,z)))"
   ]
  },
  {
   "cell_type": "code",
   "execution_count": null,
   "id": "a4c84512",
   "metadata": {},
   "outputs": [],
   "source": [
    "# writting the 2d array to a file\n",
    "np.savetxt('data_files/write-3d_22.out', \n",
    "           np.hstack((x,y,z)), \n",
    "           delimiter=',', \n",
    "           fmt=\"%0.2f\", \n",
    "           header=\"x,y,z\") "
   ]
  },
  {
   "cell_type": "code",
   "execution_count": null,
   "id": "f6496afa",
   "metadata": {},
   "outputs": [],
   "source": [
    "!cat data_files/write-3d_22.out"
   ]
  },
  {
   "cell_type": "markdown",
   "id": "cd114b00",
   "metadata": {},
   "source": [
    "## 13.4 Ασκήσεις"
   ]
  },
  {
   "cell_type": "markdown",
   "id": "72269254",
   "metadata": {},
   "source": [
    "<div class=\"alert alert-block alert-warning\" style=\"margin-top: 20px\">\n",
    "    <b>Άσκηση 13.1</b>\n",
    "\n",
    "Στο αρχείο \"data_files/superconductivity/train.csv\"\\* θα βρείτε βασικές ιδιότητες για έναν αριθμό υπεραγωγών. Σκοπός σας είναι να διαβάσετε όλο το αρχείο και να κάνετε ένα ιστόγραμμα των κρίσιμων θερμοκρασιών τους, που είναι η τελευταία στήλη. \n",
    "    \n",
    "_\\*Τα δεδομένα αυτά προέρχονται από [UC Irvine Machine Learning Repository](https://archive.ics.uci.edu/dataset/464/superconductivty+data)_.\n"
   ]
  },
  {
   "cell_type": "code",
   "execution_count": null,
   "id": "93ea1f9d",
   "metadata": {},
   "outputs": [],
   "source": [
    "# You can try it here\n",
    "# If you are struggling you can click on details below for the solution"
   ]
  },
  {
   "cell_type": "markdown",
   "id": "3ea92db2",
   "metadata": {},
   "source": [
    "<div class=\"alert alert-danger alertdanger\" style=\"margin-top: 20px\">\n",
    "<details>\n",
    "\n",
    "<b><summary>Μια λύση</summary></b>\n",
    "    \n",
    "    \n",
    "```python \n",
    "import numpy as np\n",
    "import matplotlib.pyplot as plt\n",
    "\n",
    "data = np.loadtxt(\"data_files/superconductivty/train.csv\", delimiter=',', skiprows=1)\n",
    "\n",
    "print(data)\n",
    "\n",
    "# histogram of the 'critical temperature' which is the last column\n",
    "plt.hist(data[:,-1], histtype='step')\n",
    "\n",
    "plt.xlabel('Critical temperature')\n",
    "plt.ylabel('Number')\n",
    "plt.grid()\n",
    "plt.show()\n",
    "```\n",
    "\n",
    "   \n",
    "</details>"
   ]
  },
  {
   "cell_type": "markdown",
   "id": "fbeed99f",
   "metadata": {},
   "source": [
    "<div class=\"alert alert-block alert-warning\" style=\"margin-top: 20px\">\n",
    "    <b>Άσκηση 13.2</b>\n",
    "\n",
    "Το αρχείο \"data_files/transmittance.csv\"\\* την διαπερατότητα τεσσάρων υλικών (ITO - Indium Tin Oxygen,, CdS - Cadmium Sulfide, Si, GaAs - Gallium Arsenide)  που χρησιμοποιούνται σε διάφορες εφαρμογές μικροηλεκτρονικής. Σκοπός σας να διαβάσετε όλες τις στήλες και να κάνετε ένα διάγραμμα της διαπερατότητας για όλα τα στοιχεία. Μπορείτε να επιλέξετε όποιον από τους παραπάνω τρόπους θέλετε. \n",
    "    \n",
    "Μετά το διάγραμμα σώστε τους πίνακες για το μήκος κύματος και την διαπερατότητα για το GaAs μόνο σε ένα ξεχωριστό αρχείο. \n",
    "    \n",
    "_\\*Τα δεδομένα αυτά προέρχονται από το εισαγωγικό μάθημα της [Lucy Whalley - Python Novice](https://lucydot.github.io/python_novice/)_.\n",
    "    \n",
    "> **TIP:** Σχετικά με την εγγραφή στο αρχείο προσέξτε τι θα δώσετε σαν array για να γράψει. Θυμηθείτε την αλλαγή διασστάσεων και τον συνδυασμό πινάκων."
   ]
  },
  {
   "cell_type": "code",
   "execution_count": null,
   "id": "dbd470f2",
   "metadata": {},
   "outputs": [],
   "source": [
    "# You can try it here\n",
    "# If you are struggling you can click on details below for the solution"
   ]
  },
  {
   "cell_type": "markdown",
   "id": "18b7c6f5",
   "metadata": {},
   "source": [
    "<div class=\"alert alert-danger alertdanger\" style=\"margin-top: 20px\">\n",
    "<details>\n",
    "\n",
    "<b><summary>Κάποιες λύσεις</summary></b>\n",
    "    \n",
    "    \n",
    "```python \n",
    "# OPTION 1 - loadtxt\n",
    "import numpy as np\n",
    "import matplotlib.pyplot as plt\n",
    "\n",
    "data = np.loadtxt(\"data_files/transmittance.csv\", delimiter=',', skiprows=1)\n",
    "print(data)\n",
    "\n",
    "# a way to automate how to get column names\n",
    "with open(\"data_files/transmittance.csv\") as inf:\n",
    "    header = inf.readline().split(',')\n",
    "print(header)\n",
    "\n",
    "# cycle of colors (adding one to have consistent lenght with data)\n",
    "colors = ['blue', 'tab:blue', 'tab:orange', 'tab:red', 'tab:green']\n",
    "\n",
    "plt.figure(figsize=(14,8))\n",
    "\n",
    "for i in range(1, len(header)):\n",
    "    plt.plot(data[:, 0], data[:, i], '-', c=colors[i], label=header[i].split(' ')[1])\n",
    "\n",
    "plt.xlabel(header[0].replace('_',' '))\n",
    "plt.ylabel('Transmittancce (%)')\n",
    "plt.legend()\n",
    "plt.show()\n",
    "    \n",
    "# saving to a file    \n",
    "# all data are 1d arrays, meaning 1 row and x numbser of columns\n",
    "# we reshape each array to an x rows and 1 column array\n",
    "wav = data[:,0].reshape(-1,1)     # -1 means take all and put them in 1 column\n",
    "gaas = data[:,4].reshape(-1,1)\n",
    "\n",
    "# form a 2d array to parse to savetxt\n",
    "table_2d = np.hstack( (wav,gaas) )\n",
    "print(wav, gaas)\n",
    "print(table_2d)\n",
    "\n",
    "np.savetxt('data_files/gaas_transmittance.txt', \n",
    "           table_2d, \n",
    "           delimiter=',', \n",
    "           header='wavelength (nm), transmittance (%)')    \n",
    "```\n",
    "\n",
    "```\n",
    "# OPTION 2 - genfromtxt\n",
    "import numpy as np\n",
    "import matplotlib.pyplot as plt\n",
    "\n",
    "data = np.genfromtxt(\"data_files/transmittance.csv\", delimiter=',', \n",
    "                        names=True            # include the name of the columns \n",
    "                    )\n",
    "\n",
    "# header names\n",
    "header =  data.dtype.names\n",
    "print(header)\n",
    "\n",
    "# cycle of colors (adding one to have consistent lenght with data)\n",
    "colors = ['blue', 'tab:blue', 'tab:orange', 'tab:red', 'tab:green']\n",
    "\n",
    "plt.figure(figsize=(14,8))\n",
    "\n",
    "for i in range(1, len(header)):\n",
    "    plt.plot(data[header[0]], data[header[i]], '-', c=colors[i], label=header[i].split('_')[1])\n",
    "\n",
    "plt.xlabel(header[0].replace('_',' '))\n",
    "plt.ylabel('Transmittancce (%)')\n",
    "plt.legend()\n",
    "plt.show() \n",
    "    \n",
    "# saving to a file\n",
    "# all data are 1d arrays, meaning 1 row and x numbser of columns\n",
    "# we reshape each array to an x rows and 1 column array\n",
    "wav = data[header[0]].reshape(-1,1)     # -1 means take all and put them in 1 column\n",
    "gaas = data[header[4]].reshape(-1,1)\n",
    "\n",
    "# form a 2d array to parse to savetxt\n",
    "table_2d = np.hstack( (wav,gaas) )\n",
    "print(wav, gaas)\n",
    "print(table_2d)\n",
    "\n",
    "np.savetxt('data_files/gaas_transmittance.txt', \n",
    "           table_2d, \n",
    "           delimiter=',', \n",
    "           header='wavelength (nm), transmittance (%)')      \n",
    "    \n",
    "```\n",
    "\n",
    "   \n",
    "</details>"
   ]
  },
  {
   "cell_type": "code",
   "execution_count": null,
   "id": "0e14809f",
   "metadata": {},
   "outputs": [],
   "source": [
    "# EOF"
   ]
  }
 ],
 "metadata": {
  "kernelspec": {
   "display_name": "Python 3.7",
   "language": "python",
   "name": "python3.7"
  },
  "language_info": {
   "codemirror_mode": {
    "name": "ipython",
    "version": 3
   },
   "file_extension": ".py",
   "mimetype": "text/x-python",
   "name": "python",
   "nbconvert_exporter": "python",
   "pygments_lexer": "ipython3",
   "version": "3.7.17"
  },
  "toc": {
   "base_numbering": 1,
   "nav_menu": {},
   "number_sections": true,
   "sideBar": true,
   "skip_h1_title": false,
   "title_cell": "Table of Contents",
   "title_sidebar": "Contents",
   "toc_cell": false,
   "toc_position": {},
   "toc_section_display": true,
   "toc_window_display": false
  }
 },
 "nbformat": 4,
 "nbformat_minor": 5
}
