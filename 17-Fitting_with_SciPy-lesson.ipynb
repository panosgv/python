{
 "cells": [
  {
   "cell_type": "markdown",
   "id": "6b7b2cd9",
   "metadata": {},
   "source": [
    "# 17 Προσαρμογή καμπύλης με την SciPy"
   ]
  },
  {
   "cell_type": "markdown",
   "id": "dbf7fba9",
   "metadata": {},
   "source": [
    "<div class=\"alert alert-block alert-info\" style=\"margin-top: 20px\">\n",
    "\n",
    "\n",
    "<b>ΣΥΝΟΠΤΙΚΑ</b>\n",
    "\n",
    "Σε αυτό το μάθημα θα γίνει μια εισαγωγή στην βιβλιοθήκης `SciPy` που έχει να κάνει με την επιστημονική χρήση της Python. Παρέχει δηλαδή μια σειρά από χρήσιμα εργαλεία για την αντιμετώπιση μιας ευρείας γκάμας προβλημάτων. Πιο συγκεκριμένα θα δούμε εφαρμογές προσαρμογής (fitting) σε δεδομένα:\n",
    "    \n",
    "- με γραμμική προσέγγιση\n",
    "    \n",
    "- με μη γραμμική προσέγγιση\n",
    "    \n",
    "- μέσω της μεθόδου `curve_fit`.    \n",
    "    \n",
    "Δίνονται ασκήσεις που θα βοηθήσουν περαιτέρω στην κατανόηση της προσαρμογής, ενώ ταυτόχρονα μπορούν να λειτουργήσουν σαν αναφορά για τα δικά σας προβήματα.      \n",
    "    \n",
    "</div>"
   ]
  },
  {
   "cell_type": "markdown",
   "id": "230f021a",
   "metadata": {},
   "source": [
    "- - - "
   ]
  },
  {
   "cell_type": "markdown",
   "id": "90661c68",
   "metadata": {},
   "source": [
    "## 17.1 Εισαγωγή "
   ]
  },
  {
   "cell_type": "markdown",
   "id": "3b093e87",
   "metadata": {},
   "source": [
    "Η βιβλιοθήκη ``SciPy`` είναι χτισμένη πάνω στο πλαίσιο της βιβλιοθήκης ``NumPy`` για πολυδιάστατους πίνακες και παρέχει έναν πολύ μεγάλο αριθμό επιστημονικών αλγορίθμων υψηλού επιπέδου. Μερικά από τα θέματα και τις τεχνικές που καλύπτει η βιβλιοθήκη ``SciPy`` είναι τα ακόλουθα:\n",
    "\n",
    "- Special functions ([scipy.special](http://docs.scipy.org/doc/scipy/reference/special.html))\n",
    "\n",
    "\n",
    "- Integration ([scipy.integrate](http://docs.scipy.org/doc/scipy/reference/integrate.html))\n",
    "\n",
    "\n",
    "- Optimization ([scipy.optimize](http://docs.scipy.org/doc/scipy/reference/optimize.html))\n",
    "\n",
    "\n",
    "- Interpolation ([scipy.interpolate](http://docs.scipy.org/doc/scipy/reference/interpolate.html))\n",
    "\n",
    "\n",
    "- Fourier Transforms ([scipy.fftpack](http://docs.scipy.org/doc/scipy/reference/fftpack.html))\n",
    "\n",
    "\n",
    "- Signal Processing ([scipy.signal](http://docs.scipy.org/doc/scipy/reference/signal.html))\n",
    "\n",
    "\n",
    "- Linear Algebra ([scipy.linalg](http://docs.scipy.org/doc/scipy/reference/linalg.html))\n",
    "\n",
    "\n",
    "- Sparse Eigenvalue Problems ([scipy.sparse](http://docs.scipy.org/doc/scipy/reference/sparse.html))\n",
    "\n",
    "\n",
    "- Statistics ([scipy.stats](http://docs.scipy.org/doc/scipy/reference/stats.html))\n",
    "\n",
    "\n",
    "- Multi-dimensional image processing ([scipy.ndimage](http://docs.scipy.org/doc/scipy/reference/ndimage.html))\n",
    "\n",
    "\n",
    "- File IO ([scipy.io](http://docs.scipy.org/doc/scipy/reference/io.html))\n",
    "\n",
    "\n",
    "Κάθε μα από αυτές τις υποενότητες παρέχει έναν αριθμό συναρτήσεων και κλάσεων που μπορούν να χρησιμοποιηθούν για την επίλυση προβλημάτων στα αντίστοιχα θέματα. Στο παρόν μάθημα θα επικεντρωθούμε σε ορισμένες μόνο περιπτώσεις. \n",
    "\n",
    "Όπως και τις υπόλοιπες βιβλιοθήκες πρέπει να την εισάγουμε αντίστοιχα, δηλαδή:\n",
    "\n",
    "```python\n",
    "import scipy \n",
    "\n",
    "import scipy as sp\n",
    "\n",
    "from scipy.<package> import <function>\n",
    "```\n",
    "\n",
    "Η τελευταία εκδοχή εισάγει μόνο μια συγκεκριμένη συνάρτηση από ένα από υποπακέτα που έχει η βιβλιοθήκη."
   ]
  },
  {
   "cell_type": "markdown",
   "id": "76e1e8a8",
   "metadata": {},
   "source": [
    "## 17.2 Προσαρμογή καμπύλης στα δεδομένα  - γραμμική προσέγγιση"
   ]
  },
  {
   "cell_type": "markdown",
   "id": "b68d587e",
   "metadata": {},
   "source": [
    "Η προσαρμογή κάποιας καμπύλης στα πειραματικά δεδομένα είναι από τις πιο σημαντικές δεξιότητες που μπορείτε να αποκτήσετε. Με αυτόν τον τρόπο μπορείτε να βρείτε ποιό θεωρητικό μοντέλο περιγράφει καλύτερα τα δεδομένα σας και βάσει αυτού μπορείτε να κάνετε προβλέψεις για κάποιο άλλο σύνολο δεδομένων.\n",
    "\n",
    "### 17.2.1  Σκοπός της προσαρμογής συνάρτησης\n",
    "\n",
    "Όταν δίνονται κάποια $x_{\\rm data} = [\\dots]$, $y_{\\rm data} = [\\dots]$ και ένα θεωρητικό μοντέλο που περιγράφεται από τη συνάρτηση $f$ η οποία εξαρτάται από κάποιες άγνωστες παραμέτρους $\\beta$, ο σκοπός είναι να βρούμε τον καλύτερο δυνατό συνδυασμό των παραμέτρων $\\beta$ ώστε η συνάρτηση $y = f(x, \\beta)$ να έχει παρόμοια συμπεριφορά με τα δεδομένα μας (δηλαδή να τα περιγράφει με καλή ακρίβεια).\n",
    "\n",
    "Ένας τρόπος να το επιτύχουμε αυτό είναι να ελαχιστοποιήσουμε την ποσότητα $\\sum_i \\left(y_i - f(x_i, \\beta)\\right)^2$ με το να προσαρμόζουμε τις παραμέτρους $\\beta$. Εδώ, τα $x_i$ και $y_i$ είναι το $i$-οστό σημείο στα δεδομένα μας. Αυτή τη τεχνική ονομάζεται ***μέθοδος των ελαχίστων τετραγώνων***."
   ]
  },
  {
   "cell_type": "markdown",
   "id": "03dd3527",
   "metadata": {},
   "source": [
    "### 17.2.2 Εύρεση βέλτιστων παραμέτρων \n",
    "\n",
    "Έστω ότι μας δίνεται ένα σύνολο δεδομένων, $\\{x_i, y_i\\}$ με $i=1,\\dots,n$, όπου $n$ το σύνολο των σημείων που περιέχει και το οποίο παρουσιάζει μία γραμμική συμπεριφορά (π.χ. δες σχήμα παραπάνω). Ο σκοπός μας είναι να φτιάξουμε ένα μοντέλο απλής γραμμικής παλινδρόμησης \n",
    "\n",
    "$$f(x, \\beta) \\equiv f(x, m, b) = y = mx + b,\\quad\\beta = (m, b)$$ \n",
    "\n",
    "το οποίο θα περιγράφει τα εν λόγω δεδομένα σχετίζοντας τα σημεία $x_i$ με τα σημεία $y_i$.\n",
    "\n",
    "Για να βρούμε την ευθεία που \"ταιριάζει\" καλύτερα για το πλήθος των σημείων $\\{x_i, y_i\\}$ σημαίνει ότι πρέπει να βρούμε ποιές είναι οι βέλτιστες τιμές των παραμέτρων $\\beta$, δηλαδή της κλίσης $m$ και του σταθερού όρου $b$, για το συγκεκριμένο σύνολο δεδομένων.\n",
    "\n",
    "Προκειμένου να το επιτύχουμε αυτό, μπορούμε να ορίσουμε μία συνάρτηση σφάλματος (a.k.a. cost function):\n",
    "\n",
    "$$S(\\beta) = \\sum_{i=1}^n r_i^2 =  \\sum_{i=1}^{n} (y_i - m x_i - b)^2,\\quad\\beta = (m, b)$$\n",
    "\n",
    "και να βρούμε για ποιές τιμές των παραμέτρων $\\beta$ αυτή η συνάρτηση ελαχιστοποιείται, όπου $r$ είναι το σφάλμα ή κατάλοιπο (residual). H τεχνική ονομάζεται μέθοδος των ελαχίστων τετραγώνων, καθώς προσπαθούμε να ελαχιστοποιήσουμε το τετράγωνο της διαφοράς $r = y - f(x,\\beta)$, όπου $y$ είναι οι παρατηρήσεις μας και $f(x, \\beta)$ η πρόβλεψη του μοντέλου μας που αντιστοιχεί σε αυτή την παρατήρηση.\n",
    "\n",
    "Μπορεί να δειχθεί αναλυτικά ότι οι τιμές $m$ και $b$ που ελαχιστοποιούν την συνάρτηση σφάλματος $S(\\beta)$ δίνονται από τις σχέσεις:\n",
    "\n",
    "$$ m = \\frac{\\sum_{i=1}^n (x_i - \\bar{x}) (y_i - \\bar{y}) }{\\sum_{i=1}^n (x_i-\\bar{x})^2} $$\n",
    "\n",
    "$$ b = \\bar{y} - m \\bar{x} $$\n",
    "\n",
    "όπου $ \\bar{x}=\\frac{1}{n}\\sum_{i=1}^n x_i, \\bar{y}=\\frac{1}{n}\\sum_{i=1}^n y_i$ οι μέσες τιμές. \n",
    "\n",
    "Ακολουθεί ένα απλό παράδειγμα όπου:\n",
    "\n",
    "1. παράγουμε κάποια τυχαία δεδομένα με θόρυβο που παρουσιάζουν μια γραμμική συμπεριφορά\n",
    "\n",
    "2. κατασκευάζουμε μια συνάρτηση που υπολογίζει τις βέλτιστες τιμές των παραμέτρων $m$ και $b$ για ένα απλό γραμμικό μοντέλο (γραμμικής παλινδρόμισης - linear regression)."
   ]
  },
  {
   "cell_type": "code",
   "execution_count": null,
   "id": "b901811c",
   "metadata": {},
   "outputs": [],
   "source": [
    "# Suppress any annoying warning messages \n",
    "# Not necessary for what we are doing here - try to avoid it\n",
    "# import warnings\n",
    "# warnings.filterwarnings(\"ignore\")\n",
    "\n",
    "import numpy as np\n",
    "import matplotlib.pyplot as plt\n",
    "\n",
    "# Change the default settings\n",
    "plt.rcParams.update({'font.size': 18})   # font size for all text elements\n",
    "plt.rcParams['figure.figsize'] = [8, 6]  # figure size"
   ]
  },
  {
   "cell_type": "code",
   "execution_count": null,
   "id": "eae92b58",
   "metadata": {},
   "outputs": [],
   "source": [
    "# Generate some data and and some noise that follows a Gaussian distribution\n",
    "np.random.seed(42)\n",
    "\n",
    "x = np.linspace(0, 10, 20)\n",
    "y = 2 * x + 1 + np.random.normal(0, 1, len(x))"
   ]
  },
  {
   "cell_type": "code",
   "execution_count": null,
   "id": "c1a09646",
   "metadata": {},
   "outputs": [],
   "source": [
    "# Visualize the data set\n",
    "plt.scatter(x, y, label='Original Data')\n",
    "\n",
    "plt.legend()\n",
    "plt.xlabel('x')\n",
    "plt.ylabel('y')\n"
   ]
  },
  {
   "cell_type": "code",
   "execution_count": null,
   "id": "dea42d47",
   "metadata": {},
   "outputs": [],
   "source": [
    "def linear_regression_model(x, slope, intercept):\n",
    "    \"\"\"\n",
    "    Calculate the predicted values of a linear regression model.\n",
    "\n",
    "    Parameters:\n",
    "    ===========\n",
    "        - x (numpy.ndarray) : The independent variable values.\n",
    "        - slope (float)     : The slope (coefficients) of the linear model.\n",
    "        - intercept (float) : The intercept (bias) of the linear model.\n",
    "\n",
    "    Returns:\n",
    "    ========\n",
    "        numpy.ndarray: An array of predicted values based on the linear regression model.\n",
    "\n",
    "    Example:\n",
    "    ========\n",
    "        >>> x = np.array([1, 2, 3, 4, 5])\n",
    "        >>> slope = 2.0\n",
    "        >>> intercept = 1.0\n",
    "        >>> linear_model(x, slope, intercept)\n",
    "        array([ 3.,  5.,  7.,  9., 11.])\n",
    "\n",
    "    Note:\n",
    "    =====\n",
    "        The linear regression model is represented as y = mx + b, where:\n",
    "            - y is the dependent variable (predicted values),\n",
    "            - m is the slope (coefficients),\n",
    "            - x is the independent variable,\n",
    "            - b is the intercept (bias).\n",
    "    \"\"\"\n",
    "    return slope * x + intercept\n",
    "\n",
    "\n",
    "\n",
    "def linear_regression_fit(x, y):\n",
    "    \"\"\"\n",
    "    Calculate the parameters (slope and intercept) for a linear regression model \n",
    "    using the least squares method.\n",
    "\n",
    "    Parameters:\n",
    "    ===========\n",
    "        - x (numpy.ndarray) : The independent variable values.\n",
    "        - y (numpy.ndarray) : The dependent variable values.\n",
    "\n",
    "    Returns:\n",
    "    ========\n",
    "        tuple : A tuple containing the calculated parameters (slope, intercept) for the \n",
    "        linear regression model.\n",
    "\n",
    "    Example:\n",
    "    ========\n",
    "        >>> x = np.array([1, 2, 3, 4, 5])\n",
    "        >>> y = np.array([2, 4, 5, 4, 5])\n",
    "        >>> linear_regression_fit(x, y)\n",
    "        (0.4, 2.2)\n",
    "\n",
    "    Note:\n",
    "    =====\n",
    "        The linear regression model is represented as y = mx + b, where:\n",
    "            - m is the slope (calculated parameter),\n",
    "            - b is the intercept (calculated parameter).\n",
    "\n",
    "        The function uses closed-form solutions derived from the least squares method to \n",
    "        find the optimal parameters.\n",
    "    \"\"\"\n",
    "    \n",
    "    N = len(x)\n",
    "    sum_x = np.sum(x)\n",
    "    sum_y = np.sum(y)\n",
    "    sum_xy = np.sum(x * y)\n",
    "    sum_x_squared = np.sum(x**2)\n",
    "\n",
    "    m = (N * sum_xy - sum_x * sum_y) / (N * sum_x_squared - sum_x**2)\n",
    "    b = (sum_y - m * sum_x) / N\n",
    "\n",
    "    return m, b"
   ]
  },
  {
   "cell_type": "code",
   "execution_count": null,
   "id": "5ad5f74c",
   "metadata": {},
   "outputs": [],
   "source": [
    "# Calculate linear regression parameters for our dataset\n",
    "m_fit, b_fit = linear_regression_fit(x, y)\n",
    "\n",
    "print(f'Fitted Line: y = {m_fit:.2f}x + {b_fit:.2f}')"
   ]
  },
  {
   "cell_type": "code",
   "execution_count": null,
   "id": "1d1edf88",
   "metadata": {},
   "outputs": [],
   "source": [
    "# Generate points for the fitted line\n",
    "x_fitted = np.linspace(0, 10, 100)\n",
    "y_fitted = linear_regression_model(x_fitted, m_fit, b_fit)\n",
    "\n",
    "# Plot the original data and the fitted line\n",
    "plt.scatter(x, y, label='Original Data')\n",
    "plt.plot(x_fitted, \n",
    "         y_fitted, \n",
    "         color='red', \n",
    "         label=f'Fitted Line: y = {m_fit:.2f}x + {b_fit:.2f}'\n",
    "        )\n",
    "\n",
    "plt.legend()\n",
    "plt.xlabel('x')\n",
    "plt.ylabel('y')\n",
    "plt.title('Linear Regression')\n"
   ]
  },
  {
   "attachments": {
    "ols-1.png": {
     "image/png": "[encoded data removed]"
    }
   },
   "cell_type": "markdown",
   "id": "1f452ac9",
   "metadata": {},
   "source": [
    "### 17.2.3 Χρησιμοποιώντας την `SciPy`\n",
    "\n",
    "Μπορούμε να αξιοποιήσουμε τις διαθέσιμες συναρτήσεις από την `SciPy`που περιέχει τρόπους λύσης των ελαχίστων τετραγώνων. H πιο απλή εκδοχή είναι να χρησιμοποιηθεί η αντίστοιχη συνάρτηση `scipy.linalg.lstsq` που ελαχιστοποιεί το άθροισμα των τετραγώνων ([περισσότερα](https://docs.scipy.org/doc/scipy/reference/generated/scipy.linalg.lstsq.html#scipy.linalg.lstsq)). Η διαφορά εδώ είναι ότι αυτή η συνάρτηση αυτή είναι πιο γενική και δουλεύει με πίνακες, και άρα όλη η διαδικασία μετατρέπεται σε πράξεις μεταξύ πινάκων. \n",
    "\n",
    "H γενίκευση αφορά τόσο στις διαστάσεις/αριθμό παραμέτρων $p$ όσο και στον αριθμό των δειγμάτων $n$ οπότε για κάθε δείγμα ($Χ_i$) έχουμε: \n",
    "\n",
    "$$ Χ_i = [x_{i,0}, x_{i,1}, x_{i,2}, ..., x_{i,p}] $$\n",
    "\n",
    "Οπότε συνολικά έχουμε ένα πίνακα: \n",
    "\n",
    "![ols-1.png](attachment:ols-1.png)"
   ]
  },
  {
   "cell_type": "markdown",
   "id": "6e9dd368",
   "metadata": {},
   "source": [
    "Με δεδομένο ένα μονοδιάστατο γραμμικό μοντέλο \n",
    "\n",
    "$$ y = \\alpha{}x + \\beta$$\n",
    "\n",
    "η επέκταση σε περισσότερες διαστάσεις ($p$) θα είναι της μορφής: \n",
    "\n",
    "$$ y = \\beta_1{}x_{1} + \\beta_2{}x_{2} + ... + \\beta_p{}x_{p} + const$$\n",
    "\n",
    "όπου το \"_const_\" είναι ισοδύνατο του $\\beta$ στην μονοδιάστατη περίπτωση. (Οι παράμετροι $\\beta_1$, $\\beta_2$, $\\beta_3$, κλπ χρησιμοποιούνται για την γενίκευση.)\n",
    "\n",
    "Αντί να έχουμε την σταθερά ξεχωριστά μπορούμε να την συμπεριλάβουμε στον πίνακα $x$ θέτοντας για κάθε $x_{i,0} = 1$ και εισάγωντας την σταθερά για κάθε $i$ ξεχωριστά σαν $\\beta_{0}$ (δείτε σχετικά [wikipedia OLS](https://en.wikipedia.org/wiki/Ordinary_least_squares)). Έτσι φτάνουμε στο γενικευμένο πολυδιάστατο γραμμικό μοντέλο, το οποίο πρέπει να ισχύει για κάθε δείγμα $i$:\n",
    "\n",
    "$$ y_i = \\beta_0 1 + \\beta_1 x_{i, 1} + \\beta_1 x_{i, 1} + \\beta_2 x_{i, 2} + ... + \\beta_p x_{i, p} $$\n",
    "\n",
    "οπότε και σε διανυσματική αναπαράσταση:\n",
    "\n",
    "$$ y_i = \\pmb{x_{i}}^T \\pmb{\\beta}$$\n",
    "\n",
    "για κάθε σημείο $i$. Στην αναπαράσταση πινάκων η εξίσωση μετατρέπεται σε:\n",
    "\n",
    "$$ \\pmb{y} = \\pmb{X} \\pmb{\\beta}$$\n",
    "\n"
   ]
  },
  {
   "cell_type": "markdown",
   "id": "3aebb7b9",
   "metadata": {},
   "source": [
    "οπου \n",
    "$$\n",
    "\\mathbf{y} =\n",
    "\\begin{bmatrix}\n",
    "y_1 \\\\\n",
    "y_2 \\\\\n",
    "\\vdots \\\\\n",
    "y_n\n",
    "\\end{bmatrix},\n",
    "\\quad\n",
    "\\mathbf{X} =\n",
    "\\begin{bmatrix}\n",
    "1 & x_{11} & x_{12} & \\cdots & x_{1p} \\\\\n",
    "1 & x_{21} & x_{22} & \\cdots & x_{2p} \\\\\n",
    "\\vdots & \\vdots & \\vdots & \\ddots & \\vdots \\\\\n",
    "1 & x_{n1} & x_{n2} & \\cdots & x_{np}\n",
    "\\end{bmatrix},\n",
    "\\quad\n",
    "\\boldsymbol{\\beta} =\n",
    "\\begin{bmatrix}\n",
    "\\beta_0 \\\\\n",
    "\\beta_1 \\\\\n",
    "\\vdots \\\\\n",
    "\\beta_p\n",
    "\\end{bmatrix}.\n",
    "$$\n"
   ]
  },
  {
   "cell_type": "markdown",
   "id": "f3e82d39",
   "metadata": {},
   "source": [
    "Θεωρούμε και πάλι ότι η συνάρτηση που θέλουμε να ελαχιστοποιήσουμε είναι η διαφορά τετραγώνων, αλλά εκφρασμένη τώρα σε μορφή πινάκων:\n",
    "\n",
    "$$ S(\\pmb{\\beta}) = || \\pmb{y} - \\pmb{X} \\pmb{\\beta} ||^2$$\n",
    "\n",
    "Για να βρούμε το ελάχιστό της αρκεί να βρούμε τα σημεία για τα οποία\n",
    "\n",
    "$$ 0 = \\frac{\\partial S(\\pmb{\\beta})}{\\partial \\pmb{\\beta}} $$\n",
    "\n",
    "Ωστόσο, αυτό θέλουμε να πραγματοποιηθεί **ως προς το $\\pmb{\\beta}$** και όχι το $\\pmb{X}$ !\n",
    "\n",
    "Μετά από πράξεις (δείτε σχετικά στο [wikipedia Least squares](https://en.wikipedia.org/wiki/Least_squares))  καταλήγουμε στην μορφή\n",
    "\n",
    "$$ \\pmb{X}^T\\pmb{y} =  \\pmb{X}^T\\pmb{X}\\pmb{\\beta} $$\n",
    "\n",
    "$$ \\pmb{\\hat{\\beta}} = (\\pmb{X}^T\\pmb{X})^{-1}\\pmb{X}^T\\pmb{y} $$\n",
    "\n",
    "Οπότε το πρόβλημά μας εστιάζεται στην διαχείριση των πινάκων και στην εύρεση του $(\\pmb{X}^T\\pmb{X})^{-1}$ -- που δεν είναι απαραίτητα εύκολη υπόθεση (ιδιαίτερα με μεγάλους πίνακες).\n"
   ]
  },
  {
   "cell_type": "code",
   "execution_count": null,
   "id": "779e65aa",
   "metadata": {},
   "outputs": [],
   "source": [
    "from scipy.linalg import lstsq\n",
    "\n",
    "def linear_model(x, slope, intercept):\n",
    "    return  slope * x + intercept\n",
    "\n",
    "# the trick to absorb the const into the beta array\n",
    "x_tr = np.vstack([x, np.ones(len(x))]).T\n",
    "\n",
    "# solving and getting the parameters/betas only\n",
    "params = lstsq(x_tr, y)[0]\n",
    "\n",
    "print(params)\n",
    "\n",
    "y_fitted = linear_model(x_fitted, *params)\n",
    "\n",
    "# Plot the original data and the fitted line\n",
    "plt.scatter(x, y, label='Original Data')\n",
    "plt.plot(x_fitted, \n",
    "         y_fitted, \n",
    "         color='red', \n",
    "         label=f'Fitted Line: y = {params[0]:.2f}x + {params[1]:.2f}'\n",
    "        )\n",
    "\n",
    "plt.legend()\n",
    "plt.xlabel('x')\n",
    "plt.ylabel('y')\n",
    "plt.title('SciPy solution')"
   ]
  },
  {
   "cell_type": "markdown",
   "id": "a839bd61",
   "metadata": {},
   "source": [
    "## 17.3 Προσαρμογή καμπύλης στα δεδομένα - μη γραμμική προσέγγιση"
   ]
  },
  {
   "cell_type": "markdown",
   "id": "802152c7",
   "metadata": {},
   "source": [
    "### 17.3.1 Μη γραμμική βελτιστοποίηση"
   ]
  },
  {
   "cell_type": "markdown",
   "id": "9a29477b",
   "metadata": {},
   "source": [
    "Για απλά μοντέλα όπως η γραμμική παλινδρόμηση, οι λύσεις κλειστής-μορφής παρέχουν μια αναλυτική έκφραση για τις βέλτιστες παραμέτρους και μπορούν να είναι υπολογιστικά αποδοτικές καθώς υπολογίζουν απευθείας τη λύση με βάση αυτούς τους μαθηματικούς τύπους.\n",
    " \n",
    "&#9755; Σημειώστε ότι η γραμμικότητα έχει να κάνει με τον βαθμό των **παραμέτρων** $\\beta$ και όχι με τον βαθμό των $x$.\n",
    "\n",
    "\n",
    "Όμως οι λύσεις αυτές  μπορεί να καταστούν μη-πρακτικές (π.χ. για πάρα πολύ μεγάλα μεγέθη δειγμάτων και παραμέτρων) ή ακόμα και ανύπαρκτες για πιο πολύπλοκα μοντέλα, όπως αυτά που περιλαμβάνουν μη-γραμμικότητες ή αλληλεπιδράσεις μεταξύ μεταβλητών (π.χ. $ y = \\beta_1e^{\\beta_2 x}, y = sin(\\beta_1 x)$).  \n",
    "\n",
    "Σε αυτές τις περιπτώσεις, μια επαναληπτική μέθοδος βελτιστοποίησης όπως ο αλγόριθμος [Levenberg-Marquardt](https://en.wikipedia.org/wiki/Levenberg%E2%80%93Marquardt_algorithm) αποδεικνύονται εξαιρετικά χρήσιμες ή ακόμα και αναγκαίες. Αυτές οι μέθοδοι είναι πιο γενικές και μπορούν να χειριστούν ένα ευρύτερο φάσμα προβλημάτων βελτιστοποίησης καθώς λειτουργούν περιορίζοντας επαναληπτικά τις εκτιμήσεις των παραμέτρων προσαρμόζοντάς τις προς την κατεύθυνση που ελαχιστοποιεί την συνάρτηση σφάλματος."
   ]
  },
  {
   "cell_type": "markdown",
   "id": "90528b78",
   "metadata": {},
   "source": [
    "### 17.3.2 Ο αλγόριθμος Levenberg-Marquardt"
   ]
  },
  {
   "cell_type": "markdown",
   "id": "b62ecfc7",
   "metadata": {},
   "source": [
    "Ο στόχος και πάλι είναι η ελαχιστοποίηση της συνάρτησης τετραγώνων (συνάρτηση κόστους). Για να επιτευχθεί αυτό επαναληπτικά τα βήματα που ακολουθούνται από τον αλγόρθμο είναι τα εξής: \n",
    "\n",
    "1. Ξεκινάει από ένα αρχικό σημείο (τυχαίο, επιφώτηση, από κάποιον άλλον, ...) στον χώρο των παραμέτρων.\n",
    "\n",
    "2. Yπολογίζει την διαφορά των προβλέψεων του μοντέλου από τα δεδομένα (residuals).\n",
    "\n",
    "3. Κοιτώντας γύρω από την περιοχή αυτού του σημείου βλέπει προς τα που η κλίση μειώνεται (και άρα ελαχιστοποιείται η διαφορά των προβλέψεων από τα δεδομένα - η συνάρτησή κόστους). \n",
    "\n",
    "4. Επιλέγει ένα βήμα, ανάλογα με το πόσο κοντά ή μακριά δείχνει να είναι από την λύση.\n",
    "\n",
    "    α. Μικρό και προσεχτικό όταν είναι μακριά από την βέλτιση λύση\n",
    "    \n",
    "    β. Μεγάλλο και γρήγορο όταν είναι κοντά.\n",
    "\n",
    "5. Δοκιμάζεε το βήμα και ελέγχει: \n",
    "\n",
    "    α. σν το αποτέλεσμα είναι καλύτερο τότε συνεχίζουμε προς αυτή την κατεύθυνση\n",
    "    \n",
    "    β. σν όχι τότε επιστρέφει και επιλέγει ένα πιο μικρό και προσεχτικό βήμα.\n",
    "    \n",
    "4. Επαναλαμβάνει τα παραπάνω βήματα (2--5) μέχρι το σημείο που οποιαδήποτε άλλη αλλαγή δεν βελτιώνει σημαντικά τις διαφορές (residuals).\n",
    "\n",
    "Αφαιρώντας τις μαθηματικές λεπτομέρειες η τελική εξίσωση που λύνεται στο βήμα 3 είναι: \n",
    "\n",
    "$$\n",
    "\\begin{equation}\n",
    " \\big(\\pmb{J}^T\\pmb{J} + \\lambda \\pmb{I}\\big)\\pmb{\\delta} = \\pmb{J}^T[\\pmb{y} - \\pmb{f(\\bar{\\beta})}] \n",
    "\\end{equation}\n",
    "$$\n",
    "\n",
    "όπου $\\pmb{J}$ είναι ο ιακωβιανός πίνακας (δηλαδή ο πίνακας με τις μερικές παραμέτρους ως προς το ${\\beta}$ και πάλι), $\\pmb{\\delta}$ είναι το βήμα που επιλέγεται, και $\\lambda$ είναι ένα παράγοντας απόσβεσης που ρυθμίζει το πόσο γρήγορα \"κινείται\" ο αλγόριθμός στον χώρο. Αυτός βοηθάει στην γρηγορότερη σύγκλιση και στην μεγαλύτερη ακρίβεια εντοπισμού του ελαχίστου (και ήταν η κύρια συμβολή του Levemberg - [περισσότερα](https://en.wikipedia.org/wiki/Levenberg%E2%80%93Marquardt_algorithm)). \n",
    "\n",
    "&#9755; Μια επίδειξη πως λειτουργεί ο αλγόριθμος και ποιο είναι το αποτέλεσμα με την επανάληψη δείτε σχετικά στη σελίδα [github/abnerbog (Abner Bogan)](https://github.com/abnerbog/levenberg-marquardt-method)."
   ]
  },
  {
   "cell_type": "markdown",
   "id": "ac1cc682",
   "metadata": {},
   "source": [
    "### 17.2.3 Η συνάρτηση βελτιστοποίησης `curve_fit`\n",
    "\n",
    "Η βιβλιοθήκη ``Scipy`` προσφέρει την συνάρτηση ``curve_fit`` ([περισσότερα](https://docs.scipy.org/doc/scipy/reference/generated/scipy.optimize.curve_fit.html#scipy.optimize.curve_fit)) η οποία χρησιμοποιεί την μέθοδο των μη-γραμμικών ελαχίστων τετραγώνων και τον αλγόριθμο Levenberg-Marquardt, για την εύρεση των βέλτιστων τιμών των παραμέτρων προσαρμογής. \n",
    "\n",
    "Ας δούμε πως δουλεύει στην πράξη με ένα παράδειγμα."
   ]
  },
  {
   "cell_type": "code",
   "execution_count": null,
   "id": "bf2e4c72",
   "metadata": {},
   "outputs": [],
   "source": [
    "import scipy.optimize as so\n",
    "\n",
    "# Let's look at some sample data\n",
    "x_data = np.array([0., 0.15789474, 0.31578947, 0.47368421, 0.63157895,\n",
    "       0.78947368, 0.94736842, 1.10526316, 1.26315789, 1.42105263,\n",
    "       1.57894737, 1.73684211, 1.89473684, 2.05263158, 2.21052632,\n",
    "       2.36842105, 2.52631579, 2.68421053, 2.84210526, 3.])\n",
    "\n",
    "y_data = np.array([2.95258285,   2.49719803,  -2.1984975 ,  -4.88744346,\n",
    "        -7.41326345,  -8.44574157, -10.01878504, -13.83743553,\n",
    "       -12.91548145, -15.41149046, -14.93516299, -13.42514157,\n",
    "       -14.12110495, -17.6412464 , -16.1275509 , -16.11533771,\n",
    "       -15.66076021, -13.48938865, -11.33918701, -11.70467566])\n",
    "\n",
    "plt.xlabel('x')\n",
    "plt.ylabel('y')\n",
    "plt.scatter(x_data,y_data)"
   ]
  },
  {
   "cell_type": "markdown",
   "id": "202eac8a",
   "metadata": {},
   "source": [
    "Η μορφή της κατανομής των δεδομένων μας θυμίζει αρκετά ένα πολυώνυμο δευτέρου βαθμού. Είναι λογικό, λοιπόν, να θεωρήσουμε ότι ένα πολυώνυμο της μορφής\n",
    "\n",
    "$$f(x, \\beta) = f(x,a,b,c) = a(x-b)^2 + c$$\n",
    "\n",
    "όπου $\\beta = (a,b,c)$, αποτελεί ένα ικανοποιητικό θεωρητικό μοντέλο που μπορεί να περιγράψει την κατανομή των δεδομένων μας. Αυτό που πρέπει να προσδιορίσουμε τώρα είναι για **ποιές τιμές των $a$, $b$ και $c$** το παραπάνω θεωρητικό μοντέλο έχει την καλύτερη δυνατή συμπεριφορά που ταιριάζει στα δεδομένα μας.\n",
    "\n",
    "Αυτό προϋποθέτει δύο βήματα:\n",
    "\n",
    "1. Να ορίσουμε τη συνάρτηση του θεωρητικού μοντέλου.\n",
    "\n",
    "2. Να χρησιμοποιήσουμε τη συνάρτηση ``curve_fit`` που παρέχεται από τη βιβλιοθήκη ``scipy.optimize``. Αυτή η συνάρτηση απαιτεί να δώσουμε κάποιες αρχικές τιμές για τις παραμέτρους $\\beta$, κάτι που πρέπει να γίνει με προσοχή όταν έχουμε πολύπλοκα μοντέλα, αλλιώς η συνάρτηση μπορεί να μην δώσει αξιόπιστα αποτελέσματα.\n",
    "\n",
    "\n",
    "<!-- <div style=\"background-color:rgba(239, 45, 45, 0.2)\"> -->\n",
    "<div class=\"alert alert-danger alertdanger\" style=\"margin-top: 20px\">\n",
    "<br>\n",
    "    <b>ΠΡΟΣΟΧΗ</b>: Μην χρησιμοποιείτε την μέθοδο <mark>curve_fit</mark> όταν έχετε σφάλματα και στις δύο μεταβλητές! Σε αυτή την περίπτωση θα πρέπει να καταφύγετε στην χρήση άλλων μεθόδων (π.χ. <a href=\"https://docs.scipy.org/doc/scipy/reference/odr.html\">Orthogonal distance regression</a>).\n",
    "<br><br>\n",
    "</div>"
   ]
  },
  {
   "cell_type": "code",
   "execution_count": null,
   "id": "f6659238",
   "metadata": {},
   "outputs": [],
   "source": [
    "# Define the function that describes the \n",
    "# theoretical model\n",
    "def polynomial_model(x, a, b, c):\n",
    "    \"\"\"A second order polynomial function\"\"\"\n",
    "    return a*(x-b)**2 + c"
   ]
  },
  {
   "cell_type": "code",
   "execution_count": null,
   "id": "a281be01",
   "metadata": {},
   "outputs": [],
   "source": [
    "# Fit the theoretical curve on our data\n",
    "popt, pcov = so.curve_fit(polynomial_model, x_data, y_data)"
   ]
  },
  {
   "cell_type": "markdown",
   "id": "ea43db4e",
   "metadata": {},
   "source": [
    "Η συνάρτηση ``curve_fit`` επιστρέφει δύο πίνακες:\n",
    "\n",
    "1. τον πίνακα ``popt``, που περιέχει τις βέλτιστες τιμές για τις παραμέτρους $\\beta$ του μοντέλου ``polynomial_model``, για τα συγκεκριμένα σύνολα δεδομένων ``x_data`` και ``y_data``."
   ]
  },
  {
   "cell_type": "code",
   "execution_count": null,
   "id": "e263495f",
   "metadata": {},
   "outputs": [],
   "source": [
    "popt"
   ]
  },
  {
   "cell_type": "code",
   "execution_count": null,
   "id": "65e336ce",
   "metadata": {},
   "outputs": [],
   "source": [
    "print(\"a = %f\" % (popt[0]))\n",
    "print(\"b = %f\" % (popt[1]))\n",
    "print(\"c = %f\" % (popt[2]))"
   ]
  },
  {
   "cell_type": "code",
   "execution_count": null,
   "id": "e9cf50ba",
   "metadata": {},
   "outputs": [],
   "source": [
    "print(\"a = {} \\nb = {} \\nc = {}\".format(*popt))"
   ]
  },
  {
   "cell_type": "markdown",
   "id": "f363a011",
   "metadata": {},
   "source": [
    "2. τον πίνακα ``pcov``. Αυτός ο πίνακας ονομάζεται **πίνακας συνδιακύμανσης** (covariance matrix) και μας δίνει μια εκτίμηση για το σφάλμα των παραμέτρων που περιέχει ο πίνακας ``popt`` (δηλαδή των παραμέτρων $\\beta = (a,b,c)$ και πόσο καλή είναι η προσαρμογή της θεωρητικής καμπύλης στα δεδομένα μας). Το \"σφάλμα\" σε κάθε μια από τις παραμέτρους του μοντέλου μας συνδέεται με το πόσο ευαίσθητο είναι το μοντέλο μας σε αλλαγές αυτής της παραμέτρου. Επίσης, μας δίνει πληροφορίες σχετικά με τον ποιό τρόπο εξαρτώνται οι παράμετροι της προσαρμογής $\\beta$ μεταξύ τους."
   ]
  },
  {
   "cell_type": "code",
   "execution_count": null,
   "id": "0e807341",
   "metadata": {},
   "outputs": [],
   "source": [
    "pcov"
   ]
  },
  {
   "cell_type": "markdown",
   "id": "e51a96e6",
   "metadata": {},
   "source": [
    "Παρατηρήστε ότι ο πίνακας συνδιακύμανσης είναι δισδιάστατος: **τα διαγώνια στοιχεία του πίνακα αφορούν το σφάλμα (διακύμανση-variance) για κάθε μια από τις παραμέτρους προσαρμογής** και τα μη-διαγώνια στοιχεία αφορούν τη σχέση μεταξύ των παραμέτρων. \n",
    "\n",
    "Η τετραγωνική ρίζα της διακύμανσης θα μας δώσει τα αντίστοιχα $1\\sigma$-σφάλματα."
   ]
  },
  {
   "cell_type": "code",
   "execution_count": null,
   "id": "df64e646",
   "metadata": {},
   "outputs": [],
   "source": [
    "p_sigma = np.sqrt(np.diag(pcov))\n",
    "p_sigma"
   ]
  },
  {
   "cell_type": "code",
   "execution_count": null,
   "id": "0d2f7d04",
   "metadata": {},
   "outputs": [],
   "source": [
    "print(\"a = %f +/- %f\" % (popt[0], p_sigma[0]))\n",
    "print(\"b = %f +/- %f\" % (popt[1], p_sigma[1]))\n",
    "print(\"c = %f +/- %f\" % (popt[2], p_sigma[2]))"
   ]
  },
  {
   "cell_type": "markdown",
   "id": "3a8d6729",
   "metadata": {},
   "source": [
    "Έχοντας αποκτήσει τις βέλτιστες τιμές για τις παραμέτρους προσαρμογής, μπορούμε να φτιάξουμε ένα διάγραμμα όπου θα φαίνονται τα πειραματικά μας δεδομένα και η καμπύλη προσαρμογής. Αυτό θα μας βοηθήσει να δούμε το πόσο καλά το θεωρητικό μοντέλο που επιλέξαμε περιγράφει τα δεδομένα που έχουμε.\n",
    "\n",
    "Για να κατασκευάσουμε την καμπύλη προσαρμογής, πρέπει να φτιάξουμε ένα διάστημα τιμών για τον $x$-άξονα. Εφόσον θέλουμε να έχουμε τοσο την καμπύλη προσαρμογής όσο και τα δεδομένα στο ίδιο γράφημα, πρέπει αυτό το διάστημα τιμών να έχει το ίδιο εύρος με αυτό των δεδομένων."
   ]
  },
  {
   "cell_type": "code",
   "execution_count": null,
   "id": "6b11c576",
   "metadata": {},
   "outputs": [],
   "source": [
    "# Unpack the fitting parameters\n",
    "a_opt, b_opt, c_opt = popt\n",
    "\n",
    "# Create the x-axis intervals\n",
    "x_model = np.linspace(min(x_data), max(x_data), 100)\n",
    "\n",
    "# and the y-values from the theoretical model\n",
    "# that correspond to this interval\n",
    "y_model = polynomial_model(x_model, a_opt, b_opt, c_opt)"
   ]
  },
  {
   "cell_type": "code",
   "execution_count": null,
   "id": "acdf024c",
   "metadata": {},
   "outputs": [],
   "source": [
    "plt.xlabel('x')\n",
    "plt.ylabel('y')\n",
    "\n",
    "# Plot the dataset\n",
    "plt.scatter(x_data, y_data, label='Data')\n",
    "\n",
    "# Overplot the fit function\n",
    "plt.plot(x_model, y_model, color='r', label=r'$f(x) = a(x^2 - b) + c$; fit function')\n",
    "\n",
    "plt.legend(loc='upper right')"
   ]
  },
  {
   "cell_type": "markdown",
   "id": "824b07f9",
   "metadata": {},
   "source": [
    "Έχοντας το θεωρητικό μοντέλο που περιγράφει τα δεδομένα μας καθώς και το $1\\sigma$-σφάλμα αυτών των παραμέτρων, μπορούμε να συμπεριλάβουμε και το **διάστημα εμπιστοσύνης** (confidence levels) της καμπύλης προσαρμογής. Ας υποθέσουμε ότι θέλουμε να κατασκευάσουμε το διάστημα εμπιστοσύνσης που αντιστοιχεί σε δύο τυπικές αποκλίσεις από τη μέση τιμή ($2\\sigma$ confidence levels).\n",
    "\n",
    "Σε αυτή την περίπτωση το άνω/κάτω όριο θα απέχει από τη μέση τιμή δύο φορές την τυπική απόκλιση που πήραμε από τον πίνακα συνδιακύμανσης. Έχοντας τα πάνω και κάτω όρια, μπορούμε απλά να γραμμοσκιάσουμε την περιοχή μεταξύ αυτών των τιμών."
   ]
  },
  {
   "cell_type": "code",
   "execution_count": null,
   "id": "cc800f0d",
   "metadata": {},
   "outputs": [],
   "source": [
    "nstd = 2. # number of standard deviations\n",
    "\n",
    "popt_up = popt + nstd * p_sigma # the upper limit (+2sigma)\n",
    "popt_low = popt - nstd * p_sigma # the lower limit (-2sigma)\n",
    "\n",
    "# The x-y values for the 2-sigma upper/lower curves\n",
    "# check the \"packed\" way the parameters are inserted in the function\n",
    "y_fit_up = polynomial_model(x_model, *popt_up)\n",
    "y_fit_low = polynomial_model(x_model, *popt_low)"
   ]
  },
  {
   "cell_type": "code",
   "execution_count": null,
   "id": "78113e52",
   "metadata": {},
   "outputs": [],
   "source": [
    "plt.xlabel('x')\n",
    "plt.ylabel('y')\n",
    "\n",
    "# Plot the dataset\n",
    "plt.scatter(x_data, y_data, label='Data')\n",
    "\n",
    "# Overplot the fit function\n",
    "plt.plot(x_model, y_model, color='r', label=r'$f(x) = a(x^2 - b) + c$; fit function')\n",
    "\n",
    "# Overplot the confidence levels\n",
    "plt.fill_between(x_model, y_fit_up, y_fit_low, \n",
    "                 alpha=0.2, color='r', \n",
    "                 label=r'2$\\sigma$ confidence levels')\n",
    "\n",
    "plt.legend(loc='upper right')\n",
    "plt.show()"
   ]
  },
  {
   "cell_type": "markdown",
   "id": "374a029b",
   "metadata": {},
   "source": [
    "Έτσι, καταλήγουμε στο συμπέρασμα ότι η αναλυτική σχέση (θεωρητικό μοντέλο) που περιγράφει το σύνολο των δεδομένων μας είναι η:\n",
    "\n",
    "$$f(x) = 4.92 \\pm 0.35 \\left(x - 2.00 \\pm 0.04 \\right)^2 - 16.04 \\pm 0.36$$\n",
    "\n",
    "Χρησιμοποιώντας αυτό το θεωρητικό μοντέλο, μπορούμε τώρα να κάνουμε προβλέψεις για τιμές που δεν ανήκουν στο αρχικό σύνολο δεδομένων. Για παράδειγμα, για $x=0.2$ (τιμή που δεν αποτελεί μέρος των μετρήσεών μας) περιμένουμε σύμφωνα με το μοντέλο μας ότι $y= - 0.099$."
   ]
  },
  {
   "cell_type": "markdown",
   "id": "e160d5db",
   "metadata": {},
   "source": [
    "## 17.4 Ασκήσεις"
   ]
  },
  {
   "cell_type": "markdown",
   "id": "461eb3c9",
   "metadata": {},
   "source": [
    "<div class=\"alert alert-block alert-warning\" style=\"margin-top: 20px\">\n",
    "    <b>Άσκηση 17.1</b>\n",
    "\n",
    "Η άσκηση αποτελεί μια απλή εφαρμογή της προσαρμογής καμπύλης αλλά συμπεριλαμβάνοντας και τα σφάλματα κατά την διάρκεια της εφαρμογής της. Χρησιμοποιείστε τα παρακάτω (κατασκευασμένα) δεδομένα, και ακολουθήστε τα παρακάτω βήματα.\n",
    "    \n",
    "1. Κάντε ένα διάγραμμα με σφάλματα και αποφασίστε ποιό είναι το κατάλληλο μοντέλο που περιγράφει τα δεδομένα. \n",
    "    \n",
    "2. Γράψτε μια συνάρτηση που θα εκπροσωπεί το μοντέλο και εισάγετέ την στην μέθοδο `curve_fit`.\n",
    "    \n",
    "3. Έχοντας τις παραμέτρους του μοντέλου δημιουργήστε μια σειρά δεδομένων x_fit στα οποία θα υπολογιστεί το μοντέλο σας (y_fit).\n",
    "    \n",
    "4. Κάντε ένα διάγραμμα που θα περιέχει και τα δεδομένα (με τα σφάλματά τους), καθώς και τα σημεία που προκύπτουν από το μοντέλο.\n",
    "    \n",
    "5. Χρησιμοποιώντας το προηγούμενο παράδειγμα προσθέστε στο διάγραμμα το διάστημα εμπιστοσύνης (στα 3σ).        \n",
    "    "
   ]
  },
  {
   "cell_type": "code",
   "execution_count": null,
   "id": "2b518bd6",
   "metadata": {},
   "outputs": [],
   "source": [
    "# create some mock data\n",
    "numpoints = 10 # the number of points we want to simulate\n",
    "\n",
    "x = np.random.uniform(0., 100., numpoints)\n",
    "\n",
    "# The error on each point comes from a \n",
    "# normal distribution with sigma = 10\n",
    "y_err = np.random.normal(0., 10., numpoints)\n",
    "y = 2. * x + 2.6 + y_err"
   ]
  },
  {
   "cell_type": "code",
   "execution_count": null,
   "id": "8097a601",
   "metadata": {},
   "outputs": [],
   "source": [
    "# You can try it here."
   ]
  },
  {
   "cell_type": "markdown",
   "id": "6051042c",
   "metadata": {},
   "source": [
    "<div class=\"alert alert-block alert-warning\" style=\"margin-top: 20px\">\n",
    "    <b>Άσκηση 17.2</b>\n",
    "\n",
    "##### Διαμοριακές αλληλεπιδράσεις\n",
    "\n",
    "Το δυναμικό Lennard-Jones είναι ένα δυναμικό που περιγράφει τις αλληλεπιδράσεις μεταξύ ενός ζεύγους μοριών [περισσότερα](https://en.wikipedia.org/wiki/Lennard-Jones_potential)).\n",
    "\n",
    "Το συγκεκριμένο δυναμικό δίνεται από τη σχέση:\n",
    "\n",
    "$$V(r) = 4\\epsilon \\left[ \\left(\\frac{\\sigma}{r}\\right)^{12} - \\left(\\frac{\\sigma}{r}\\right)^6 \\right]$$\n",
    "\n",
    "Το ζητούμενο είναι να βρούμε τις βέλτιστες τιμές για τα $\\sigma$ και $\\epsilon$ ώστε το δυναμικό να περιγράφει το καλύτερο δυνατόν τα δεδομένα μας.\n",
    "    \n",
    "Για να το πετύχετε αυτό ακολουθήστε τα παρακάτω βήματα:\n",
    "    \n",
    "1. Το αρχείο βρίσκεται στο 'data_files/LJ_potential.txt'. Η πρώτη στήλη αφορά την ακτίνα $r$ και η δεύτερη το δυναμικό $V$. Διαβάστε το αρχείο και κάντε αρχικά ένα διάγραμμα για να δείτε τα δεδομένα σας. Χρησιμοποιείστε όποια μέθοδο θέλετε. \n",
    "    \n",
    "2. Δεδομένου ότι το διάγραμμα περιέχει άξονες που περιγράφουν μεγάλους αριθμούς θα ήταν καλή ιδέα να επαναπροσδιοριστεί η κλίμακα. \n",
    "    \n",
    "    - Πολλαπλασιάστε τις τιμές στον $x$-άξονα με ``1e9``. Έτσι, η διάσταση μετατρέπεται από μέτρα σε νανόμετρα.\n",
    "    \n",
    "    - Διαιρέστε τις τιμές στον $y$-άξονα με τη σταθερά του Boltzmann: $k_B = 1.3806452 \\times 10^{-23}\\;\\;\\text{J/K}$. Έτσι η διάσταση του άξονα μετατρέπεται από Joules σε Kelvin.\n",
    "    \n",
    "    - Προσέξτε πως θα κάνετε τις μετατροπές και αν εγγράφετε συνεχώς στις μεταβλητές σας!\n",
    "    \n",
    "    - Ξανακάντε το διάγραμμα.\n",
    "    \n",
    "3. Γράψτε την συνάρτηση Lennard-Jones. \n",
    "    \n",
    "    \n",
    "4. Δοκιμάστε την προσαρμογή καμπύλης με `curve_fit`. Τι επιστρέφει η συνάρτηση; \n",
    "    \n",
    "    Η προσαρμογή (μάλλον) δεν μπορεί να γίνει γιατί η συνάρτηση `curve_fit` λειτουργεί επαναληπτικά και δεν ξέρει προς τα που πρέπει να κινηθεί ώστε να ελαχιστοποιήσει τις παραγώγους για τις παραμέτρους. Έτσι θα πρέπει να δώσουμε κάποιες αρχικές τιμές. \n",
    "    \n",
    "    Από τη [Wikipedia](https://en.wikipedia.org/wiki/Lennard-Jones_potential) βρίσκουμε ότι:\n",
    "\n",
    "    - Το ελάχιστο του δυναμικού είναι για $r\\equiv r_{\\rm min}=2^{1/6}\\sigma$\n",
    "\n",
    "    - Στο ελάχιστο, η τιμή του δυναμικού είναι: $V(r_{\\rm min}) = -\\epsilon$\n",
    "    \n",
    "    - Από το διάγραμμα μπορείτε να εντοπίσετε τις τιμές της απόστασης και την τιμή του δυναμικού που αντιστοιχούν στο ελάχιστο του. \n",
    "    \n",
    "    - Ορίστε τις αρχικές παραμέτρους με βάση τα παραπάνω. \n",
    "    \n",
    "5. Εφαρμόστε την `curve_fit`, και τυπώστε τις βέλτιστες τιμές μαζί με τα σφάλματά τους.\n",
    "    \n",
    "6. Κάντε ένα διάγραμμα με τα δεδομένα και την καμπύλη προσαρμογής σε αυτά."
   ]
  },
  {
   "cell_type": "code",
   "execution_count": null,
   "id": "6c947885",
   "metadata": {},
   "outputs": [],
   "source": [
    "# You can try it here."
   ]
  },
  {
   "attachments": {
    "exercise-16.2-gamma_spectroscopy.png": {
     "image/png": "[encoded data removed]"
    }
   },
   "cell_type": "markdown",
   "id": "626459f3",
   "metadata": {},
   "source": [
    "<div class=\"alert alert-block alert-warning\" style=\"margin-top: 20px\">\n",
    "    <b>Άσκηση 17.3</b>\n",
    "\n",
    "##### Φασματοσκοπία-γ και προσαρμογή Γκαουσιανής κατανομής\n",
    "\n",
    "Σκοπός μας στην φασματοσκοπία-γ είναι η καταμέτρηση της έντασης της ακτινοβολίας που εκπέμπεται από μία πηγή ακτίνων γάμμα σαν συνάρτηση της ενέργειας των φωτονίων.\n",
    "\n",
    "Σε αυτή την άσκηση θα δουλέψουμε με ένα σύνολο δεδομένων που περιέχει το φάσμα ακτίνων-γ μίας μονοενεργειακής πηγής ακτίνων-γ που λήφθηκε με κάποιον ανιχνευτή, συγκεκριμένα του ραδιοϊσοτόπου Καίσιο-137 (Cesium-137; Cs-137). \n",
    "\n",
    "![exercise-16.2-gamma_spectroscopy.png](attachment:exercise-16.2-gamma_spectroscopy.png)\n",
    "    \n",
    "    \n",
    "    \n",
    "Το αρχείο βρίσκεται στο data_files/cs137_spectrum.txt'). Η πρώτη στήλη περιέχει τον αριθμό των καναλιών. Κάθε κανάλι αντιστοιχεί σε κάποιο συχνοτικό εύρος, άρα αυτή η στήλη ουσιαστικά εκφράζει την ενέργεια των φωτονίων.\n",
    "\n",
    "Η δεύτερη στήλη περιέχει τον αριθμό των γεγονότων που κατέγραψε ο ανιχνευτής για κάθε ένα από αυτά τα κανάλια. Τις άλλες στήλες μπορείτε να τις αγνοήσετε.\n",
    "    \n",
    "Η μεγαλύτερη κορυφή που εμφανίζεται στο φάσμα αντιστοιχεί σε ολική απορρόφηση της ενέργειας των αρχικών ακτίνων-γ και ονομάζεται **φωτοκορυφή**. Χωρίς να μπούμε σε λεπτομέρειες που περιγράφουν την πυρηνική φυσική και τις αλληλεπιδράσεις των σωματιδίων με τον ανιχνευτή, θα αρκεστούμε στο να αναφέρουμε ότι:\n",
    "\n",
    "- Η **μέση τιμή** της κορυφής μας δίνει πληροφορίες για την ενέργεια των φωτονίων που εκπέμφθηκαν.\n",
    "\n",
    "- Το **πλάτος (width) της κορυφής** μας δίνει πληροφορίες για την ανάλυση (resolution) του ανιχνευτή.\n",
    "\n",
    "Συνήθως, κορυφές αυτής της μορφής προσπαθούμε να τις προσεγγίσουμε με μία Γκαουσιανή κατανομή \n",
    "\n",
    "$$f(x, A, \\mu,  \\sigma) = A e^{-(x-\\mu)^2/\\sigma^2}$$\n",
    "\n",
    "και να χρησιμοποιήσουμε τις παραμέτρους προσαρμογής $\\mu$ και $\\sigma$ για να αντλήσουμε πληροφορίες για τις ποσότητες που αναφέραμε πιο πάνω.\n",
    "    \n",
    "Σκοπός λοιπόν της άσκησης είναι να βρείτε τις καλύτερες παραμέτρους της Γκαουσιανής κατανομής που μπορεί να περιγράψει την ωτοκορυφή. Για να φτάσετε εκεί ακολουθήστε τα παρακάτω βήματα: \n",
    "    \n",
    "    \n",
    "1. Διαβάστε το αρχείο και κάντε αρχικά ένα διάγραμμα σαν και αυτό της εικόνας (όχι αναπαραγωγή! Απλά να μπορείτε να δείτε και να επιβεβαιώσετε ότι διαβάζετε σωστά τα δεδομένα σας!). Χρησιμοποιείστε όποια μέθοδο θέλετε. \n",
    "    \n",
    "2. Κάντε ένα διάγραμμα που να επικεντρώνεται μόνο στην φωτοκορυφή (~700-900). \n",
    "    \n",
    "3. Γράψτε την συνάρτηση Γκαους που θα εκπροσωπεί το μοντέλο σας για την φωτοκορυφή.\n",
    "    \n",
    "4. Εχοντας την συνάρτηση και τα δεδομένα ('channels' = x, 'counts' = y), δοκιμάστε την προσαρμογή καμπύλης με `curve_fit`. Τι παρατηρείτε; \n",
    "    \n",
    "5. Για να βρούμε κάποιες αρχικές τιμές κοιτάμε το προηγούμενο διάγραμμα (που φαίνεται μόνο η φωτοκορυφή). Από κει μπορούμε να βρούμε τις τιμές που αντιπροσωπεύουν τις παραμέτρους που θέλουμε να εκτιμήσουμε, δηλαδή το ύψος της καμπύλης $A$, την μέση τιμή της ενέργειας που αντιστοιχεί σε αυτό το εύρος $\\mu$ και το πλάτος $\\sigma$.\n",
    "\n",
    "6. Τυπώστε και τις βέλτιστες παραμέτρους με τα σφάλματά τους.\n",
    "    \n",
    "7. Επαναλάβετε το διάγραμμα για την φωτοκορυφή αλλά προσθέστε τώρα και το μοντέλο από την Γκαουσιανή κατανομή.\n",
    "       \n",
    "8. Αν προσθέταμε σφάλματα στις μετρήσεις στο αριθμό των γεγονότων (που δίνονται από την σχέση $\\delta_{y_i} = \\sqrt{y_i}$, για κάθε σημείο $y_i$), Θα άλλαζαν οι παράμετροι και πως;"
   ]
  },
  {
   "cell_type": "code",
   "execution_count": null,
   "id": "2892b8e9",
   "metadata": {},
   "outputs": [],
   "source": [
    "# You can try it here."
   ]
  },
  {
   "cell_type": "code",
   "execution_count": null,
   "id": "f5ca26a6",
   "metadata": {},
   "outputs": [],
   "source": [
    "# EOF"
   ]
  }
 ],
 "metadata": {
  "kernelspec": {
   "display_name": "Python 3.7",
   "language": "python",
   "name": "python3.7"
  },
  "language_info": {
   "codemirror_mode": {
    "name": "ipython",
    "version": 3
   },
   "file_extension": ".py",
   "mimetype": "text/x-python",
   "name": "python",
   "nbconvert_exporter": "python",
   "pygments_lexer": "ipython3",
   "version": "3.7.17"
  },
  "toc": {
   "base_numbering": 1,
   "nav_menu": {},
   "number_sections": true,
   "sideBar": true,
   "skip_h1_title": false,
   "title_cell": "Table of Contents",
   "title_sidebar": "Contents",
   "toc_cell": false,
   "toc_position": {},
   "toc_section_display": true,
   "toc_window_display": false
  }
 },
 "nbformat": 4,
 "nbformat_minor": 5
}
