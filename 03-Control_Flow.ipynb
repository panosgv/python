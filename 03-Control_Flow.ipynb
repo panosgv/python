{
 "cells": [
  {
   "cell_type": "markdown",
   "id": "a2b119cb",
   "metadata": {},
   "source": [
    "# 3 Έλεγχος ροής προγράμματος"
   ]
  },
  {
   "cell_type": "markdown",
   "id": "a7679d3a",
   "metadata": {},
   "source": [
    "<div class=\"alert alert-block alert-info\" style=\"margin-top: 20px\">\n",
    "    \n",
    "<b>ΣΥΝΟΠΤΙΚΑ</b>\n",
    "    \n",
    "Σε αυτό το σημειωματάριο θα εξοικειωθείτε μα βασικές δομές απόφασης και επανάληψης. Συγκεκριμμένα θα δούμε τις δομές:\n",
    "    \n",
    "- ``if``\n",
    "- ``for-else``\n",
    "- ``while``\n",
    "    \n",
    "</div>"
   ]
  },
  {
   "cell_type": "markdown",
   "id": "25567f45",
   "metadata": {},
   "source": [
    "## 3.1 Εισαγωγή"
   ]
  },
  {
   "cell_type": "markdown",
   "id": "625a8350",
   "metadata": {},
   "source": [
    "Μια σειριακή δομή ακολουθίας όπου ένα σύνολο εντολών εκτελούνται η μία μετά την άλλη, επιτρέπει την επίλυση μόνο πολύ απλών προβλημάτων.\n",
    "\n",
    "Για πιο σύνθετα προβλήματα απαιτείται η συγγραφή κώδικα όπου εκτελούνται διαφορετικά σύνολα εντολών ανάλογα με τις δεδομένες συνθήκες που έχουμε καθορίσει. Γενικά, θα θέλαμε να έχουμε έλεγχο τόσο για το ποιές εντολές θα εκτελούνται κάθε φορά όσο και για το πόσες φορές θα πρέπει να επαναληφθεί ένα κομμάτι κώδικα.\n",
    "\n",
    "Αυτό το επιτυγχάνουμε με τις δομές αποφάσεων και επανάληψης αντίστοιχα."
   ]
  },
  {
   "cell_type": "markdown",
   "id": "a4dbff8f",
   "metadata": {},
   "source": [
    "## 3.2 Η δομή απόφασης `if`"
   ]
  },
  {
   "cell_type": "markdown",
   "id": "fe35ac91",
   "metadata": {},
   "source": [
    "#### Python vs Άλλες γλώσσες προγραμματισμού\n",
    "\n",
    "*C*:                       \n",
    "```C\n",
    "if (a > b){\n",
    "    a = 2;\n",
    "    b = 4;\n",
    "}\n",
    "```\n",
    "*Fortran*:\n",
    "```fortran\n",
    "if (a > b) then\n",
    "    a = 2\n",
    "    b = 4\n",
    "end if\n",
    "```\n",
    "\n",
    "*Python*:\n",
    "```python\n",
    "if a > b:\n",
    "    a = 2\n",
    "    b = 4\n",
    "```"
   ]
  },
  {
   "cell_type": "markdown",
   "id": "5e50a1d8",
   "metadata": {},
   "source": [
    "- Η δομή απόφασης if, χρησιμοποιείται όταν θέλουμε να επιλέξουμε τι εντολές να εκτελεστούν. Η επιλογή γίνεται βάσει κάποιας έκφρασης (συνθήκη) η οποία θα πρέπει να παίρνει τιμές ``True`` ή ``False``.\n",
    "\n",
    "\n",
    "- Για να κατασκευάσουμε μια τέτοια συνθήκη χρησιμοποιούμε:\n",
    "    >\n",
    "    > **Τελεστές σύγκρισης**: ``==``, ``!=``, ``>``, ``<``, ``>=``, ``<=``.\n",
    "    >\n",
    "    >\n",
    "    > **Λογικοί τελεστές**: ``and``, ``or``, ``not``.\n",
    "    >\n",
    "    >\n",
    "    > **Τελεστές \"ανήκει\" σε κάποια δομή**: ``in``, ``not in``\n",
    "\n",
    "\n",
    "    Το βασικό συντακτικό μίας δομής απόφασης είναι το ακόλουθο:\n",
    "```python\n",
    "if condition1:\n",
    "    # execute some commands\n",
    "elif condition2:\n",
    "    # execute some commands\n",
    "elif condition3:\n",
    "    # execute some commands\n",
    "else:\n",
    "    # execute some commands\n",
    "```\n",
    "\n",
    "- Προσέξτε τον τελεστή ``:`` στο τέλος της λογικής συνθήκης!\n",
    "\n",
    "\n",
    "- Η Python δεν έχει κάποιον ειδικό χαρακτήρα που να δηλώνει την αρχή και το τέλος κάποιας δομής. Τα μπλοκ της δομής φαίνονται από την εσοχή και το πόσο εμφωλευμένες είναι! **Αυτό ισχύει για όλες τις δομές ελέγχου στην Python!** Όλες οι γραμμές εντολών που ανήκουν σε κάποιο μπλοκ πρέπει πάντα να έχουν **τον ίδιο βαθμό εμφώλευσης**. Συνήθως 1 tab = 4 spaces.\n",
    "\n",
    "\n",
    "- Μόνο ένα μπλοκ εντολών θα εκτελεστεί σε μία τέτοια δομή επιλογής.\n",
    "\n",
    "\n",
    "- Το πρόγραμμα θα ελέγξει τη συνθήκη 1 και αν είναι αληθής θα εκτελέσει το μπλοκ των εντολών που περιέχονται. Στη συνέχεια θα προσπεράσει **χωρίς να εξετάσει** τις υπόλοιπες συνθήκες.\n",
    "\n",
    "\n",
    "- Εάν η συνθήκη 1 είναι ψευδής, δεν θα εκτελέσει το μπλοκ των εντολών που αντιστοιχούν σε αυτή τη συνθήκη και θα συνεχίσει εξετάζοντας τη συνθήκη 2. Εάν η συνθήκη 2 είναι αληθής, θα εκτελέσει το αντίστοιχο μπλοκ εντολών και θα προσπεράσει τις υπόλοιπες συνθήκες χωρίς να τις εξετάσει. Στη περίπτωση που η συνθήκη 2 είναι ψευδής, θα προσπεράσει το μπλοκ εντολών και θα εξετάσει τη συνθήκη 3 κτλ.\n",
    "\n",
    "\n",
    "- Εάν παραπάνω από μία συνθήκες είναι αληθείς, τότε θα εκτελεστεί **μόνο** το μπλοκ εντολών που αντιστοιχούν στη **πρώτη** αληθή συνθήκη που συνάντησε ο κώδικας. Όλες οι υπόλοιπες θα προσπεραστούν χωρίς να εξεταστούν εφόσον ολοκληρώθηκε το μπλοκ εντολών που αντιστοιχεί στην αληθή συνθήκη.\n",
    "\n",
    "\n",
    "- Εάν καμία από τις συνθήκες δεν είναι αληθής, τότε θα εκτελεστεί μόνο το μπλοκ εντολών της συνθήκης ``else``. Αυτό δεν είναι απαραίτητο στοιχείο της δομής. Θα μπορούσαμε να έχουμε έναν απλό έλεγχο μιας συνθήκης χωρίς να συμπεριλάβουμε απαραίτητα την περίπτωση ``else``."
   ]
  },
  {
   "cell_type": "code",
   "execution_count": null,
   "id": "b09765dd",
   "metadata": {},
   "outputs": [],
   "source": [
    "x = int(input('Provide an integer number: '))\n",
    "sel = int(input('Select power (1) or root (2) mode: '))\n",
    "\n",
    "# check number's position\n",
    "if (x > 10) and (x < 20):\n",
    "    print(\"x is between 10 and 20!\")\n",
    "\n",
    "# check number's power and square root\n",
    "if sel == 1:\n",
    "    print(x**2)\n",
    "elif sel == 2:\n",
    "    print(x**(1/2))\n",
    "else:\n",
    "    print('Wrong mode. Please retry.')\n"
   ]
  },
  {
   "cell_type": "markdown",
   "id": "7d151fa5",
   "metadata": {},
   "source": [
    " <div class=\"alert alert-block alert-info\" style=\"margin-top: 20px\">\n",
    "    \n",
    "&#9755; **TIP:** Η συνάρτηση `input()` χρησιμοποιείτε για να πάρετε τιμές από τον χρήστη. Το όρισμά της είναι πάντα ένα `str` οπότε πρέπει να ελέγχετε τον τύπο και το πως θα το χρησιμοποιήσετε. \n",
    "    \n",
    "</div>"
   ]
  },
  {
   "cell_type": "markdown",
   "id": "1bf39299",
   "metadata": {},
   "source": [
    "<div class=\"alert alert-block alert-warning\" style=\"margin-top: 20px\">\n",
    "    <b>Άσκηση 3.1</b>\n",
    "\n",
    "Να γράψετε κώδικα που να παίρνει αριθμητικές τιμές από τον χρήστη και θα ελέγχει για το πρόσημό του και το αν είναι περιττός ή άρτιος. \n",
    "                                    \n",
    "Το πρόγραμμα θα πρέπει να τυπώνει το κατάλληλο μήνυμα ανάλογα με την περίπτωση."
   ]
  },
  {
   "cell_type": "code",
   "execution_count": null,
   "id": "ace7f9ba",
   "metadata": {},
   "outputs": [],
   "source": [
    "# You can try it here\n",
    "# If you are struggling you can click on details below for the solution\n"
   ]
  },
  {
   "cell_type": "markdown",
   "id": "7eba8fd3",
   "metadata": {},
   "source": [
    "<div class=\"alert alert-danger alertdanger\" style=\"margin-top: 20px\">\n",
    "<details>\n",
    "\n",
    "<b><summary>Λύση</summary></b>\n",
    "    \n",
    "```python \n",
    "\n",
    "number = int(input(\"Enter a number: \"))\n",
    "\n",
    "# Check the sign of a number\n",
    "\n",
    "if number > 0:\n",
    "    print(\"The number is positive.\")\n",
    "elif number < 0:\n",
    "    print(\"The number is negative.\")\n",
    "else:\n",
    "    print(\"The number is zero.\")         \n",
    "         \n",
    "         \n",
    "# Check if a number is even or odd\n",
    "\n",
    "number = int(input(\"Enter a number: \"))\n",
    "\n",
    "if number % 2 == 0:\n",
    "    print(\"The number is even.\")\n",
    "else:\n",
    "    print(\"The number is odd.\")\n",
    "         \n",
    "```"
   ]
  },
  {
   "cell_type": "markdown",
   "id": "dc3c2455",
   "metadata": {},
   "source": [
    "<div class=\"alert alert-block alert-warning\" style=\"margin-top: 20px\">\n",
    "    <b>Άσκηση 3.2</b>\n",
    "   \n",
    "Να γράψετε κώδικα που να ελέγχει το όνομα χρήστη και τον κωδικό του χρήστη.\n",
    "    \n",
    "Το πρόγραμμα θα πρέπει να τυπώνει το κατάλληλο μήνυμα ανάλογα με την περίπτωση."
   ]
  },
  {
   "cell_type": "code",
   "execution_count": null,
   "id": "0e635712",
   "metadata": {},
   "outputs": [],
   "source": [
    "# You can try it here\n",
    "# If you are struggling you can click on details below for the solution"
   ]
  },
  {
   "cell_type": "markdown",
   "id": "2acbbede",
   "metadata": {},
   "source": [
    "<div class=\"alert alert-danger alertdanger\" style=\"margin-top: 20px\">\n",
    "<details>\n",
    "\n",
    "<b><summary>Λύση</summary></b>\n",
    "\n",
    "    \n",
    "```python \n",
    "# Check username and password\n",
    "\n",
    "correct_username = \"user123\"\n",
    "correct_password = \"pass123\"\n",
    "\n",
    "entered_username = input(\"Enter your username: \")\n",
    "entered_password = input(\"Enter your password: \")\n",
    "\n",
    "if entered_username == correct_username and entered_password == correct_password:\n",
    "    print(\"Login successful!\")\n",
    "elif entered_username == correct_username:\n",
    "    print(\"Incorrect password. Please try again.\")\n",
    "elif entered_password == correct_password:\n",
    "    print(\"Incorrect username. Please try again.\")\n",
    "else:\n",
    "    print(\"Incorrect username and password combination.\")\n",
    "\n",
    "```"
   ]
  },
  {
   "cell_type": "code",
   "execution_count": null,
   "id": "1dab043e",
   "metadata": {},
   "outputs": [],
   "source": []
  },
  {
   "cell_type": "markdown",
   "id": "78cf6498",
   "metadata": {},
   "source": [
    "## 3.3 Η δομή επανάληψης `for-else`\n",
    "\n",
    "### 3.3.1 Βασική δομή"
   ]
  },
  {
   "cell_type": "markdown",
   "id": "ad10fdab",
   "metadata": {},
   "source": [
    "- Η δομή επανάληψης for, χρησιμοποιείται όταν θέλουμε να εκτελέσουμε επαναληπτικά (πολλές φορές) ένα σύνολο εντολών για προκαθορισμένο αριθμό επαναλήψεων.\n",
    "\n",
    "    Το βασικό συντακτικό μιας δομής επανάληψης for είναι το ακόλουθο:\n",
    "    \n",
    "    ```python\n",
    "    for item in some_iterable_object:\n",
    "        # execute some commands\n",
    "    ```\n",
    "    \n",
    "- Η ακολουθία ``some_iterable_object`` συνήθως είναι γενικά κάποια δομή που να υποστηρίζει επαναληψιμότητα (πχ συμβολοσειρά, λίστα, πλειάδα, λεξικό).\n",
    "\n",
    "\n",
    "- Προσοχή στο τύπο της μεταβλητής ``item``! Ανάλογα με το αντικείμενο στο οποίο εφαρμόζουμε το βρόγχο επανάληψης, μπορεί να είναι αριθμητικό, αλφαριθμητικό κτλ.\n",
    "\n",
    "\n",
    "- Η συνάρτηση ``range`` χρησιμοποιείται εξαιρετικά συχνά για να δημιουργήσουμε ένα εύρος τιμών στο οποίο θέλουμε να εφαρμόσουμε το συγκεκριμένο βρόγχο επανάληψης. Δείτε τη τεκμηρίωσή της!\n",
    "\n",
    "\n",
    "- Προσπαθείστε να αποφεύγετε (όσο γίνεται) τη χρήση εμφωλευμένων βρόγχων επανάληψης for. Ανάλογα με τον όγκο των δεδομένων σας μπορεί να κάνει το πρόγραμμά σας απροσπέλαστο."
   ]
  },
  {
   "cell_type": "code",
   "execution_count": null,
   "id": "41aa5949",
   "metadata": {},
   "outputs": [],
   "source": [
    "# the variable item in this case is numeric\n",
    "for item in range(10):                        # range(2, 10, 2)\n",
    "    print(item)\n",
    "\n",
    "print()\n",
    "print(\"The loop has finished\")\n",
    "print('='*22)\n",
    "\n",
    "# the variable item in this case is alphanumeric\n",
    "print()\n",
    "for item in 'Python':\n",
    "    print(item)"
   ]
  },
  {
   "cell_type": "markdown",
   "id": "efcb1a85",
   "metadata": {},
   "source": [
    " <div class=\"alert alert-block alert-info\" style=\"margin-top: 20px\">\n",
    "    \n",
    "&#9755; **TIP:** Όταν τυπώνεται μια γραμμή τότε ο τελευταίος χαρακτήρας είναι ο χαρακτήρας νέας γραμμής '\\n'. Αν θέλουμε να το αλλάξουμε αυτό τότε μπορούμε να ορίσουμε έναν άλλο χαρακτήρα, πχ το κενό, συμπληρώνοντας μέσα στο `print(item, end=' ')`.\n",
    "    \n",
    "</div>"
   ]
  },
  {
   "cell_type": "code",
   "execution_count": null,
   "id": "7c92ec28",
   "metadata": {},
   "outputs": [],
   "source": [
    "# the variable item in this case is numeric\n",
    "for item in range(10):                        # range(2, 10, 2)\n",
    "    print(item, end=\",\")\n",
    "\n",
    "print()\n",
    "print(\"The loop has finished\")\n",
    "print('='*22)\n",
    "\n",
    "# the variable item in this case is alphanumeric\n",
    "print()\n",
    "for item in 'Python':\n",
    "    print(item, end=\" \")"
   ]
  },
  {
   "cell_type": "markdown",
   "id": "07664158",
   "metadata": {},
   "source": [
    "<div class=\"alert alert-block alert-warning\" style=\"margin-top: 20px\">\n",
    "    <b>Άσκηση 3.3</b>\n",
    "   \n",
    "Να γράψετε κώδικα που να δέχεται σαν μεταβλητή μια συμβολοσειρά από τον χρήστη και μετά να επιστρέφει όλους τους χαρακτήρες της με ένα for-loop."
   ]
  },
  {
   "cell_type": "code",
   "execution_count": null,
   "id": "b3147e20",
   "metadata": {},
   "outputs": [],
   "source": [
    "# You can try it here\n",
    "# If you are struggling you can click on details below for the solution"
   ]
  },
  {
   "cell_type": "markdown",
   "id": "1cd2af1b",
   "metadata": {},
   "source": [
    "<div class=\"alert alert-danger alertdanger\" style=\"margin-top: 20px\">\n",
    "<details>\n",
    "\n",
    "<b><summary>Λύση</summary></b>\n",
    "\n",
    "    \n",
    "```python \n",
    "\n",
    "user_string = input(\"Enter a string: \")\n",
    "\n",
    "print()\n",
    "print(\"Great! You entered these characters :\")\n",
    "# One way to do that is to use indexing\n",
    "for i in range(0, len(user_string)):\n",
    "    print(user_string[i], end=',')\n",
    "    \n",
    "# Just print a newline    \n",
    "print()\n",
    "    \n",
    "\n",
    "# The pythonic way\n",
    "for char in user_string:\n",
    "    print(char, end=',')\n",
    "\n",
    "```"
   ]
  },
  {
   "cell_type": "markdown",
   "id": "f2cc6423",
   "metadata": {},
   "source": [
    "### 3.3.2 Συνδυάζοντας μεταβλητές "
   ]
  },
  {
   "cell_type": "markdown",
   "id": "4df0c9fc",
   "metadata": {},
   "source": [
    "Σε πολλές περιπτώσεις μπορεί να είναι χρήσιμο να εφαρμόσουμε την δομή for παράλληλα πάνω σε περισσότερες δομές που υποστηρίζουν επαναληψιμότητα. Για αυτό μπορούμε να χρησιμοποιήσουμε την συνάρτηση zip()."
   ]
  },
  {
   "cell_type": "code",
   "execution_count": null,
   "id": "5e9f8614",
   "metadata": {},
   "outputs": [],
   "source": [
    "phrase = \"This is a Python course\"\n",
    "indexs = range(len(phrase))\n",
    "\n",
    "print(indexs)\n",
    "\n",
    "for i,k in zip( indexs, phrase):\n",
    "    print(i, k )\n",
    "    "
   ]
  },
  {
   "cell_type": "markdown",
   "id": "88ce5cd9",
   "metadata": {},
   "source": [
    "### 3.3.3 Η εντολή `break`"
   ]
  },
  {
   "cell_type": "markdown",
   "id": "fd8fbed5",
   "metadata": {},
   "source": [
    "- Η εντολή ``break`` χρησιμοποιείται όταν θέλουμε να βγούμε από ένα βρόγχο επανάληψης όταν δεν θέλουμε να συνεχίσει η επανάληψη.\n",
    "\n",
    "\n",
    "- Μόλις εκτελεστεί η εντολή ``break`` τότε καμία άλλη εντολή που ακολουθεί δεν θα εκτελεστεί. \n",
    "\n",
    "\n",
    "- Η χρήση της δεν περιορίζεται μόνο στη περίπτωση του βρόγχου επανάληψης for."
   ]
  },
  {
   "cell_type": "code",
   "execution_count": null,
   "id": "a9e5f3d6",
   "metadata": {},
   "outputs": [],
   "source": [
    "# Exit the loop if number is above 10\n",
    "for number in range(1, 10000):\n",
    "    if number <= 10:\n",
    "        print(number)\n",
    "    else:\n",
    "        print('Bye!')\n",
    "        break\n",
    "        print('This statement will not be executed')\n",
    "        \n",
    "print(\"The loop has finished\")"
   ]
  },
  {
   "cell_type": "markdown",
   "id": "c62e21e7",
   "metadata": {},
   "source": [
    "### 3.3.4 Η εντολή `continue`"
   ]
  },
  {
   "cell_type": "markdown",
   "id": "24c406dc",
   "metadata": {},
   "source": [
    "- Η εντολή ``continue`` χρησιμοποιείται όταν θέλουμε να συνεχίσουμε μεταπηδώντας στον επόμενο κύκλο επανάληψης χωρίς να ολοκληρωθεί ο προηγούμενος.\n",
    "\n",
    "\n",
    "- Μόλις εκτελεστεί η εντολή ``continue`` τότε καμία άλλη εντολή που ακολουθεί δεν θα εκτελεστεί. \n",
    "\n",
    "\n",
    "- Η χρήση της δεν περιορίζεται μόνο στη περίπτωση του βρόγχου επανάληψης for."
   ]
  },
  {
   "cell_type": "code",
   "execution_count": null,
   "id": "74bf067b",
   "metadata": {},
   "outputs": [],
   "source": [
    "# Exit the loop if number is above 10\n",
    "# Continue with next iteration if number is 5\n",
    "for number in range(1, 10000):\n",
    "    \n",
    "    if number <= 10 and number != 5:\n",
    "        print(number)\n",
    "        \n",
    "    elif number == 5:\n",
    "        continue\n",
    "        print('This print call will not be executed')\n",
    "        \n",
    "    else:\n",
    "        print('Bye!')\n",
    "        break\n",
    "        print('This print call will not be executed')\n",
    "        \n",
    "print(\"The loop has finished\")"
   ]
  },
  {
   "cell_type": "markdown",
   "id": "6235510e",
   "metadata": {},
   "source": [
    "<div class=\"alert alert-block alert-warning\" style=\"margin-top: 20px\">\n",
    "    <b>Άσκηση 3.4</b>\n",
    "\n",
    "Γράψτε κώδικα για να υπολογίσετε το άθροισμα $\\sum_{i=1}^{10}i^3$, χρησιμοποιώντας βρόγχο επανάληψης for, και εκτυπώστε το αποτέλεσμα."
   ]
  },
  {
   "cell_type": "code",
   "execution_count": null,
   "id": "5095ca53",
   "metadata": {},
   "outputs": [],
   "source": [
    "# You can try it here\n",
    "# If you are struggling you can click on details below for the solution"
   ]
  },
  {
   "cell_type": "markdown",
   "id": "1971642c",
   "metadata": {},
   "source": [
    "<div class=\"alert alert-danger alertdanger\" style=\"margin-top: 20px\">\n",
    "<details>\n",
    "\n",
    "<b><summary>Λύση</summary></b>\n",
    "\n",
    "    \n",
    "```python \n",
    "# Calculate sum of numbers with for-loop\n",
    "my_sum = 0\n",
    "for i in range(1, 11):\n",
    "    my_sum = my_sum + (i**3)\n",
    "    \n",
    "print(my_sum)\n",
    "```\n",
    "    \n",
    "</details>"
   ]
  },
  {
   "cell_type": "markdown",
   "id": "babff0bf",
   "metadata": {},
   "source": [
    "Ένα από τα λιγότερο γνωστά χαρακτηριστικά του βρόγχου-επανάληψης-for είναι ότι **υποστηρίζει την χρήση της ρήτρας else στο τέλος του**.\n",
    "\n",
    "Η ρήτρα else εκτελείται αφού ο βρόγχος επανάληψης ολοκληρωθεί κανονικά (δηλαδή χωρίς να συναντήσει κάποια εντολή διακοπής break).\n",
    "\n",
    "Ίσως η πιο κοινή χρήση ενός βρόγχου-επανάληψης-for είναι η αναζήτηση ενός στοιχείου. Εάν βρεθεί το στοιχείο, βγαίνουμε από τον βρόγχο χρησιμοποιώντας την εντολή break. Υπάρχουν δύο σενάρια στα οποία μπορεί να τερματίσει ο βρόγχος: το πρώτο είναι όταν βρεθεί το στοιχείο και άρα βγαίνουμε πρόωρα από τον βρόγχο λόγω της εντολής διακοπής break. Το δεύτερο σενάριο είναι ότι ο βρόγχος τερματίζει χωρίς να συναντήσει την εντολή διακοπής.\n",
    "\n",
    "Μπορεί, όμως, να θέλουμε να μάθουμε ποιό από αυτά τα δύο σενάριο είναι ο λόγος για την ολοκλήρωση του βρόγχου. Μια μέθοδος είναι να ορίσουμε μια \"σημαία\" (flag variable) και στη συνέχεια να την ελέγξουμε μόλις τερματίσει ο βρόγχος. Μία εναλλακτική είναι να χρησιμοποιήσουμε τη ρήτρα else όπως στο παρακάτω παράδειγμα."
   ]
  },
  {
   "cell_type": "code",
   "execution_count": null,
   "id": "e5623c11",
   "metadata": {},
   "outputs": [],
   "source": [
    "search_char = input()\n",
    "word = 'Monty_Python'\n",
    "\n",
    "# Iterate through the characters in the word\n",
    "for char in word:\n",
    "    if char == search_char:\n",
    "        print(f\"Found '{search_char}' in the word!\")\n",
    "        break\n",
    "else:\n",
    "    # This block is executed if the loop completes without encountering a 'break'\n",
    "    print(f\"Did not find '{search_char}' in the word.\")\n"
   ]
  },
  {
   "cell_type": "markdown",
   "id": "acf8228b",
   "metadata": {},
   "source": [
    "## 3.4 Η δομή επανάληψης `while`"
   ]
  },
  {
   "cell_type": "markdown",
   "id": "a4651723",
   "metadata": {},
   "source": [
    "- Η δομή επανάληψης while, χρησιμοποιείται όταν θέλουμε να εκτελέσουμε επαναληπτικά (πολλές φορές) ένα σύνολο εντολών για όσο μια συνθήκη παραμένει αληθής.\n",
    "\n",
    "    Το βασικό συντακτικό μιας δομής επανάληψης while είναι το ακόλουθο:\n",
    "    ```python\n",
    "    while condition:\n",
    "        # execute some commands \n",
    "        # until condition evaluates to False\n",
    "    ```\n",
    "    \n",
    "- **Προσοχή:** Η συνθήκη πρέπει κάποια στιγμή να επιστρέφει ``False`` ώστε να τερματιστεί ο βρόγχος επανάληψης.\n",
    "\n",
    "\n",
    "- Αυτό σημαίνει ότι μέσα στο βρόγχο η συνθήκη πρέπει να ανανεώνεται με τη προοπτική ότι κάποια στιγμή θα γίνει ψευδής. \n",
    "\n",
    "\n",
    "- Εναλλακτικά, πρέπει να υπάρχει κάποια εσωτερική συνθήκη όπου όταν γίνει αληθής να βγαίνουμε από το βρόγχο χρησιμοποιώντας την εντολή ``break``. "
   ]
  },
  {
   "cell_type": "code",
   "execution_count": null,
   "id": "82fd7ce5",
   "metadata": {},
   "outputs": [],
   "source": [
    "# print the squares of the numbers 1 to 10\n",
    "i = 1\n",
    "\n",
    "while (i <= 10):\n",
    "    print(i**2)\n",
    "    i = i + 1\n",
    "    \n",
    "print(\"The loop has finished\")\n",
    "\n",
    "\n",
    "# Same result without updating the conditon\n",
    "i = 1\n",
    "while True:\n",
    "    print(i**2)\n",
    "    i += 1\n",
    "    \n",
    "    if i > 10:\n",
    "        break\n",
    "        \n",
    "print(\"The loop has finished\")"
   ]
  },
  {
   "cell_type": "markdown",
   "id": "64162f56",
   "metadata": {},
   "source": [
    "<div class=\"alert alert-block alert-warning\" style=\"margin-top: 20px\">\n",
    "    <b>Άσκηση 3.5</b>\n",
    "\n",
    "Γράψτε κώδικα για να υπολογίσετε το άθροισμα $\\sum_{i=1}^{10}i^3$, χρησιμοποιώντας βρόγχο επανάληψης while, και εκτυπώστε το αποτέλεσμα. Συμφωνεί με το αποτέλεσμα που βγάλατε χρησιμοποιώντας το βρόγχο for;"
   ]
  },
  {
   "cell_type": "code",
   "execution_count": null,
   "id": "b6336cec",
   "metadata": {},
   "outputs": [],
   "source": [
    "# You can try it here\n",
    "# If you are struggling you can click on details below for the solution"
   ]
  },
  {
   "cell_type": "markdown",
   "id": "97a55f4f",
   "metadata": {},
   "source": [
    "<div class=\"alert alert-danger alertdanger\" style=\"margin-top: 20px\">\n",
    "<details>\n",
    "\n",
    "<b><summary>Λύση</summary></b>\n",
    "\n",
    "    \n",
    "```python \n",
    "# Calculate sum of numbers with while-loop\n",
    "my_sum = 0\n",
    "i = 1\n",
    "while (i <= 10):\n",
    "    my_sum = my_sum + i**3\n",
    "    i += 1\n",
    "    \n",
    "print(my_sum)\n",
    "```\n",
    "    \n",
    "</details>"
   ]
  },
  {
   "cell_type": "markdown",
   "id": "b2b6929d",
   "metadata": {},
   "source": [
    "<div class=\"alert alert-block alert-warning\" style=\"margin-top: 20px\">\n",
    "<b>Άσκηση 3.6</b>\n",
    "\n",
    "Προσπαθείστε να εξηγήσετε (σε ένα συμφοιτητή / μια συμφοιτήτριά σας) με απλά λόγια τι κάνει ο κώδικας που ακολουθεί \n",
    "\n",
    "```python\n",
    "i = 1\n",
    "total = 0\n",
    "\n",
    "while i <= 509:\n",
    "    if i % 3 == 0 or i % 5 == 0:\n",
    "        total = total + i\n",
    "    i = i + 1\n",
    "        \n",
    "print(\"The total sum is: \", total) \n",
    "```"
   ]
  },
  {
   "cell_type": "code",
   "execution_count": null,
   "id": "0abac608",
   "metadata": {},
   "outputs": [],
   "source": [
    "# You can try it here\n"
   ]
  },
  {
   "cell_type": "markdown",
   "id": "4b269050",
   "metadata": {},
   "source": [
    "## 3.5 Έξτρα ασκήσεις"
   ]
  },
  {
   "cell_type": "markdown",
   "id": "48f995de",
   "metadata": {},
   "source": [
    "### 3.5.1 Υπολογισμός παραγοντικού αριθμού. \n",
    "\n",
    "Να γράψετε κώδικα που θα δέχεται από τον χρήστη ένα ακέραιο αριθμό και θα επιστρέφει το παραγοντικό του."
   ]
  },
  {
   "cell_type": "code",
   "execution_count": null,
   "id": "1c80dc41",
   "metadata": {},
   "outputs": [],
   "source": [
    "# You can try it here\n",
    "# If you are struggling you can click on details below for the solution"
   ]
  },
  {
   "cell_type": "markdown",
   "id": "0c4b8377",
   "metadata": {},
   "source": [
    "<div class=\"alert alert-danger alertdanger\" style=\"margin-top: 20px\">\n",
    "<details>\n",
    "\n",
    "<b><summary>Λύση</summary></b>\n",
    "\n",
    "```python \n",
    "N = int(input(\"Enter a number: \"))\n",
    "factorial = 1\n",
    "\n",
    "for i in range(1, N + 1):\n",
    "    factorial *= i\n",
    "\n",
    "print(f\"Factorial of {N} is {factorial}\")\n",
    "\n",
    "\n",
    "```\n"
   ]
  },
  {
   "cell_type": "markdown",
   "id": "7fa29a24",
   "metadata": {},
   "source": [
    "### 3.5.2 Λύσεις δευτεροβάθμιας εξίσωσης. \n",
    "\n",
    "Να γράψετε κώδικα που βρίσκει τις λύσεις της δευτεροβάθμιας\tεξίσωσης. Ο χρήστης δίνει 3 αριθμούς a, b, c που είναι οι παράμετροι της γνωστής μας δευτεροβάθμιας εξίσωσης:\n",
    "\n",
    "> $ax^2 + bx + c = 0$\n",
    "                                    \n",
    "Το πρόγραμμα θα πρέπει να τυπώνει τις λύσεις ή κατάλληλο μήνυμα αν η εξίσωση δεν είναι επιλύσιμη."
   ]
  },
  {
   "cell_type": "code",
   "execution_count": null,
   "id": "e3761ef3",
   "metadata": {},
   "outputs": [],
   "source": [
    "# You can try it here\n",
    "# If you are struggling you can click on details below for the solution"
   ]
  },
  {
   "cell_type": "markdown",
   "id": "32e01642",
   "metadata": {},
   "source": [
    "<div class=\"alert alert-danger alertdanger\" style=\"margin-top: 20px\">\n",
    "<details>\n",
    "\n",
    "<b><summary>Λύση</summary></b>\n",
    "\n",
    "```python \n",
    "# Solving the quadratic equation\n",
    "\n",
    "a = int(input())\n",
    "b = int(input())\n",
    "c = int(input())\n",
    "\n",
    "# Calculate the discriminant\n",
    "d = b**2 - (4*a*c)\n",
    "\n",
    "# Check the value of discriminant\n",
    "if d < 0:\n",
    "    print('The equation has no real roots!')\n",
    "elif d == 0 :\n",
    "    print('The equation has one real root:', -b/(2*a))   \n",
    "else:\n",
    "    # Calculate the roots\n",
    "    s1 = (-b + d**(1/2)) / (2*a)\n",
    "    s2 = (-b - d**(1/2)) / (2*a)\n",
    "    \n",
    "    print('The equation has two distinct real roots:', s1, s2)\n",
    "\n",
    "```\n"
   ]
  },
  {
   "cell_type": "markdown",
   "id": "1878cc29",
   "metadata": {},
   "source": [
    "### 3.5.3 Τα φωνήεντα μιας συμβολοσειράς\n",
    "\n",
    "Να γράψετε κώδικα που ρωτάει τον χρήστη να εισάγει μια συμβολοσειρά, και μετά βρίσκει όλα τα φωνήεντα και τυπώνει το σύνολό τους.\n",
    "\n",
    "> TIP: μπορείτε να χρησιμοποιήσετε την μέθοδο `.lower()` πάνω σε οποιδήποτε χαρακτήρα για να τον μετατρέψεται από κεφαλαίο σε μικρό."
   ]
  },
  {
   "cell_type": "code",
   "execution_count": null,
   "id": "6a9db216",
   "metadata": {},
   "outputs": [],
   "source": [
    "# You can try it here\n",
    "# If you are struggling you can click on details below for the solution"
   ]
  },
  {
   "cell_type": "markdown",
   "id": "4f21b30a",
   "metadata": {},
   "source": [
    "<div class=\"alert alert-danger alertdanger\" style=\"margin-top: 20px\">\n",
    "<details>\n",
    "\n",
    "<b><summary>Λύση</summary></b>\n",
    "\n",
    "```python \n",
    "# Counting vowels in a string\n",
    "\n",
    "# Input: Get a string from the user\n",
    "input_string = input(\"Enter a string: \")\n",
    "\n",
    "# Initialize variables to count vowels\n",
    "vowel_count = 0\n",
    "\n",
    "# Iterate through each character in the string using a for loop\n",
    "for char in input_string:\n",
    "    # Check if the lowercase version of the character is a vowel\n",
    "    if char.lower() in \"aeiou\":\n",
    "        vowel_count += 1\n",
    "\n",
    "# Print the result\n",
    "print(f\"The number of vowels in the string is: {vowel_count}\")\n",
    "```\n",
    "\n",
    "Hints:\n",
    "- char.lower(): μετατρέπει κεφαλαίους χαρακτήρες σε μικρούς.\n",
    "- vowel_count += 1 : είναι ένας πιο γρήγορος τρόπος για να γράψουμε vowel_count = vowel_count + 1  "
   ]
  },
  {
   "cell_type": "markdown",
   "id": "b7ff24b6",
   "metadata": {},
   "source": [
    "### 3.5.4 Η μικρότερη δύναμη του 2 δεδομένου ενός αριθμού\n",
    "\n",
    "Να γράψετε κώδικα που βρίσκει την μικρότερη δύναμη στην οποία πρέπει να υψωθεί το 2 και είναι μεγαλύτερη από τον αριθμό που δίνεται από τον χρήστη. (Να τυπώνεται και ένα αντίστοιχο μήνυμα.) "
   ]
  },
  {
   "cell_type": "code",
   "execution_count": null,
   "id": "c58ebe12",
   "metadata": {},
   "outputs": [],
   "source": [
    "# You can try it here\n",
    "# If you are struggling you can click on details below for the solution"
   ]
  },
  {
   "cell_type": "markdown",
   "id": "913fffa2",
   "metadata": {},
   "source": [
    "<div class=\"alert alert-danger alertdanger\" style=\"margin-top: 20px\">\n",
    "<details>\n",
    "\n",
    "<b><summary>Λύση</summary></b>\n",
    "\n",
    "    \n",
    "```python \n",
    "# Input: Get a number from the user\n",
    "target_number = int(input(\"Enter a number: \"))\n",
    "\n",
    "# Initialize variables\n",
    "power_of_2 = 1\n",
    "exponent = 0\n",
    "\n",
    "# Use a while loop to find the smallest power of 2 greater than the target number\n",
    "while power_of_2 <= target_number:\n",
    "    power_of_2 *= 2\n",
    "    exponent += 1\n",
    "\n",
    "# Print the result\n",
    "print(f\"The smallest power of 2 greater than {target_number} is 2^{exponent} = {power_of_2}\")\n",
    "```\n",
    "\n",
    "Hint:\n",
    "- power_of_2 *= 2 : είναι ένας πιο γρήγορος τρόπος για να γράψουμε power_of_2 = power_of_2 *2  "
   ]
  },
  {
   "cell_type": "code",
   "execution_count": null,
   "id": "8b186b5d",
   "metadata": {},
   "outputs": [],
   "source": [
    "# EOF"
   ]
  }
 ],
 "metadata": {
  "kernelspec": {
   "display_name": "Python 3",
   "language": "python",
   "name": "python3"
  },
  "language_info": {
   "codemirror_mode": {
    "name": "ipython",
    "version": 3
   },
   "file_extension": ".py",
   "mimetype": "text/x-python",
   "name": "python",
   "nbconvert_exporter": "python",
   "pygments_lexer": "ipython3",
   "version": "3.11.2"
  },
  "toc": {
   "base_numbering": 1,
   "nav_menu": {},
   "number_sections": true,
   "sideBar": true,
   "skip_h1_title": false,
   "title_cell": "Table of Contents",
   "title_sidebar": "Contents",
   "toc_cell": false,
   "toc_position": {},
   "toc_section_display": true,
   "toc_window_display": false
  }
 },
 "nbformat": 4,
 "nbformat_minor": 5
}
