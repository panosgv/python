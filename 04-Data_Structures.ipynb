{
 "cells": [
  {
   "cell_type": "markdown",
   "id": "a69d6851",
   "metadata": {},
   "source": [
    "# 4 Δομές δεδομένων"
   ]
  },
  {
   "cell_type": "markdown",
   "id": "3b36e3c4",
   "metadata": {},
   "source": [
    "<div class=\"alert alert-block alert-info\" style=\"margin-top: 20px\">\n",
    "    \n",
    "<b>ΣΥΝΟΠΤΙΚΑ</b>\n",
    "    \n",
    "Σε αυτό το σημειωματάριο θα εξοικειωθείτε με τις βασικές δομές δεδομένων.  Συγκεκριμμένα θα δούμε πως δημιουργούμε και διαχειριζόμαστε:\n",
    "    \n",
    "- λίστες \n",
    "- πλειάδες\n",
    "- λεξικά\n",
    "- κάποιες μεθόδους τους.\n",
    "    \n",
    "</div>"
   ]
  },
  {
   "cell_type": "markdown",
   "id": "181ebe91",
   "metadata": {},
   "source": [
    "## 4.1 Εισαγωγή"
   ]
  },
  {
   "cell_type": "markdown",
   "id": "8f61d47b",
   "metadata": {},
   "source": [
    "Μπορούμε να διαχωρίσουμε τις δομές δεδομένων σύμφωνα με τις παρακάτω ιδιότητες:\n",
    "\n",
    "- Τι είδους δεδομένα μπορεί να έχει μία δομή δεδομένων (μόνο συγκεκριμένου τύπου, ομοιογενή δεδομένα);\n",
    "\n",
    "\n",
    "- Είναι η δομή δεδομένων μεταβλητή (μπορεί να αλλάξει μετά τη δημιουργία της);\n",
    "\n",
    "\n",
    "- Υπάρχει κάποια διάταξη των δεδομένων στη συγκεκριμένη δομή;\n",
    "\n",
    "\n",
    "Μέχρι στιγμής, η μοναδική σύνθετη δομή δεδομένων που έχουμε δει είναι η συμβολοσειρά. Αυτού του είδους η δομή είναι μια **διατεταγμένη** ακολουθία **συγκεκριμένου τύπου** δεδομένων (αλφαριθμητικών χαρακτήρων) και είναι **αμετάβλητη**.\n",
    "\n",
    "\n",
    "\n",
    "Στη συνέχεια θα αναφερθούμε σε ακόμα τρεις *πολύ* διαδεδομένες και βασικές δομές δεδομένων: τις **λίστες**, τις **πλειδάδες** και τα **λεξικά**.\n",
    "\n",
    "Προχωρώντας θα συναντήσουμε και θα δουλέψουμε με κάποιες επιπρόσθετες δομές (π.χ. **numpy-arrays**, **pandas dataframes**). \n"
   ]
  },
  {
   "cell_type": "markdown",
   "id": "34abefb4",
   "metadata": {},
   "source": [
    "## 4.2 Λίστες"
   ]
  },
  {
   "cell_type": "markdown",
   "id": "3e7b6b2b",
   "metadata": {},
   "source": [
    "Οι λίστες είναι οι πιο **γενικές, διατεταγένες και ετερογενείς** ακολουθίες που μπορούν να **μεταβληθούν**."
   ]
  },
  {
   "cell_type": "markdown",
   "id": "088d00d3",
   "metadata": {},
   "source": [
    "### 4.2.1 Δημιουργία, περιεχόμενα και προσπέλαση λίστας"
   ]
  },
  {
   "cell_type": "markdown",
   "id": "d6f216c4",
   "metadata": {},
   "source": [
    "- Μία λίστα ορίζεται από το όνομά της ακολουθούμενο από ένα ζευγάρι τετραγωνικών παρενθέσεων έχοντας τη δομή:\n",
    "\n",
    "        l = [element1, element2, element3, ...]\n",
    "\n",
    "\n",
    "- Τα στοιχεία μίας λίστας είναι διατεταγμένα που σημαίνει ότι, όπως και στις συμβολοσειρές, σε κάθε στοιχείο της λίστας αντιστοιχεί ένας δείκτης από το 0 (πρώτο στοιχείο) μέχρι το μήκος της λίστας μειον 1.\n",
    "\n",
    "\n",
    "- Οι τρόποι με τους οποίους μπορούμε να έχουμε πρόσβαση στα στοιχεία μίας λίστας είναι παρόμοιοι με αυτούς που χρησιμοποιούμε για την πρόσβαση των αλφαριθμητικών στοιχείων μιας συμβολοσειράς."
   ]
  },
  {
   "cell_type": "code",
   "execution_count": null,
   "id": "7910e225",
   "metadata": {},
   "outputs": [],
   "source": [
    "# Lists live within square brackets \n",
    "# and the individual elements are separated by commas:\n",
    "# Be careful though: the word 'list' is a keyword \n",
    "# and cannot be used as a variable's name \n",
    "l = [1, 2, 3, 4] \n",
    "\n",
    "print(type(l))\n",
    "print(l)"
   ]
  },
  {
   "cell_type": "code",
   "execution_count": null,
   "id": "a844b60f",
   "metadata": {},
   "outputs": [],
   "source": [
    "print(l[0], l[2])   # Print the first and third element of the list 'l'.\n",
    "                    # Indices of cbontainer elements start with 0 and end with 'n-1\n",
    "                    # (for a container with 'n' elements) as in C)"
   ]
  },
  {
   "cell_type": "code",
   "execution_count": null,
   "id": "004dbac6",
   "metadata": {},
   "outputs": [],
   "source": [
    "print(len(l))       # Length of a list"
   ]
  },
  {
   "cell_type": "code",
   "execution_count": null,
   "id": "bcd68f68",
   "metadata": {},
   "outputs": [],
   "source": [
    "print(l[-1], l[-2]) # Negative indices i access indices n - i if n is\n",
    "                    # the number of elements in the container!"
   ]
  },
  {
   "cell_type": "markdown",
   "id": "c8348796",
   "metadata": {},
   "source": [
    "- Τα στοιχεία μίας λίστας μπορεί να είναι ο,τιδήποτε: ακέραιοι, δεκαδικοί, αλφαριθμητικά, μιγαδικοί αριθμοί, συναρτήσεις, modules κτλ."
   ]
  },
  {
   "cell_type": "code",
   "execution_count": null,
   "id": "2a299708",
   "metadata": {},
   "outputs": [],
   "source": [
    "# The following list contains an int, a float, a string, \n",
    "# another list, a complex number!\n",
    "l = [1, 3.0, \"Maria\", [1, 2], 2+3j]\n",
    "\n",
    "print(l[2], l[3] )\n",
    "print(l[4])"
   ]
  },
  {
   "cell_type": "markdown",
   "id": "8786a370",
   "metadata": {},
   "source": [
    "- Οι λίστες σπάνια δημιουργούνται \"με το χέρι\". Συνήθως είναι το αποτέλεσμα κλήσης κάποιας συνάρτησης ή προσπέλασης κάποιου αρχείου δεδομένων."
   ]
  },
  {
   "cell_type": "code",
   "execution_count": null,
   "id": "27970094",
   "metadata": {},
   "outputs": [],
   "source": [
    "l = [1, 2, 3, 4]  # most simple list creation\n",
    "print(l)\n",
    "\n",
    "n = list(range(10)) # list of running numbers used for for-looping\n",
    "print(n)\n",
    "\n",
    "# looping over list elements is the primary way to work with this container!\n",
    "for num in n:\n",
    "    print(num)"
   ]
  },
  {
   "cell_type": "markdown",
   "id": "074a220c",
   "metadata": {},
   "source": [
    "- Όπως και με τις συμβολοσειρές, μπορούμε να πάρουμε ένα μόνο τμήμα μιας λίστας χρησιμοποιώντας τους ίδιους κανόνες τεμαχισμού.\n",
    "\n",
    "\n",
    "\n",
    "- Σε αντίθεση όμως με τις συμβολοσειρές, οι λίστες μπορούν να μεταβληθούν μετά τη δημιουργία τους."
   ]
  },
  {
   "cell_type": "code",
   "execution_count": null,
   "id": "4c063709",
   "metadata": {},
   "outputs": [],
   "source": [
    "# sublists can be accessed via slicing\n",
    "l = [1, 2, 3, 4, 5, 6, 7, 8, 9, 10]\n",
    "print(l)"
   ]
  },
  {
   "cell_type": "code",
   "execution_count": null,
   "id": "fa4bd6ac",
   "metadata": {},
   "outputs": [],
   "source": [
    "print(l[3])    # access of an individual element"
   ]
  },
  {
   "cell_type": "code",
   "execution_count": null,
   "id": "9bd2609e",
   "metadata": {},
   "outputs": [],
   "source": [
    "print(l[1:3])  # access the sublist from the second (inclusive) to\n",
    "               # the fourth (exclusive) elements"
   ]
  },
  {
   "cell_type": "code",
   "execution_count": null,
   "id": "d976216d",
   "metadata": {},
   "outputs": [],
   "source": [
    "print(l[4:])   # access the sublist from the fifth element up to the end"
   ]
  },
  {
   "cell_type": "code",
   "execution_count": null,
   "id": "c2003ea3",
   "metadata": {},
   "outputs": [],
   "source": [
    "print(l[::2])  # access the sublist with each other element"
   ]
  },
  {
   "cell_type": "code",
   "execution_count": null,
   "id": "5df90769",
   "metadata": {},
   "outputs": [],
   "source": [
    "print(l[1:-1]) # negative indices also work for slices"
   ]
  },
  {
   "cell_type": "code",
   "execution_count": null,
   "id": "f66c631d",
   "metadata": {},
   "outputs": [],
   "source": [
    "l[1:4] = [20, 21, 22]  # note that you can use slicing also on the left\n",
    "                       # side of an assigment! In that case the structure\n",
    "                       # of the right side (size of the container)\n",
    "                       # has to match the sliced container. Note that\n",
    "                       # this operation is only available for mutable\n",
    "                       # containers!\n",
    "                    \n",
    "print(l)  "
   ]
  },
  {
   "attachments": {
    "matrix_list.png": {
     "image/png": "[encoded data removed]"
    }
   },
   "cell_type": "markdown",
   "id": "f7bdcf37",
   "metadata": {},
   "source": [
    "- Όπως είδαμε, μία λίστα μπορεί να περιέχει οποιοδήποτε τύπο δεδομένων. Αυτό σημαίνει ότι τα στοιχεία της μπορεί να είναι άλλες λίστες θυμίζοντας έτσι έναν πίνακα.\n",
    "\n",
    "\n",
    "- Έστω λίστα ``l = [[1,2,3], [4,5,6], [7,8,9]]``. Πως μπορούμε να αναφερθούμε στο στοιχείο 6; \n",
    "\n",
    "\n",
    "![matrix_list.png](attachment:matrix_list.png)\n",
    "\n",
    "- Η απάντηση είναι χρησιμοποιώντας αλυσιδωτή προσπέλαση: ``l[1][2]``"
   ]
  },
  {
   "cell_type": "code",
   "execution_count": null,
   "id": "c77d0ad8",
   "metadata": {},
   "outputs": [],
   "source": [
    "# Nested lists -> similar to matrix\n",
    "l = [[1,2,3], [4,5,6], [7,8,9]]\n",
    "print(l)"
   ]
  },
  {
   "cell_type": "code",
   "execution_count": null,
   "id": "d4982912",
   "metadata": {},
   "outputs": [],
   "source": [
    "# access second element\n",
    "print(l[1])"
   ]
  },
  {
   "cell_type": "code",
   "execution_count": null,
   "id": "530f300d",
   "metadata": {},
   "outputs": [],
   "source": [
    "# chained access\n",
    "print(l[1][2])"
   ]
  },
  {
   "cell_type": "code",
   "execution_count": null,
   "id": "fc0123c0",
   "metadata": {},
   "outputs": [],
   "source": [
    "# this does not exist!\n",
    "print(l[1,2])"
   ]
  },
  {
   "cell_type": "markdown",
   "id": "5172d8db",
   "metadata": {},
   "source": [
    "### 4.2.2 Μέθοδοι της κλάσης \\<list\\>"
   ]
  },
  {
   "cell_type": "markdown",
   "id": "cae0d42b",
   "metadata": {},
   "source": [
    "Δουλεύοντας με μία ετερογενή δομή δεδομένων, δεν μπορούμε να ορίσουμε πολλές πράξεις που να βγάζουν νόημα. Όλες οι μέθοδοι που προσφέρονται για τα αντικείμενα της κλάσης \\<list\\> αφορούν μετατροπές, επεκτάσεις και ταξινομήσεις (εαν γίνεται). Οι δύο γνωστοί τελεστές ``+`` και ``*`` υπάρχουν και σε αυτή τη περίπτωση επιτελούν την ίδια λειτουργία όπως στην περίπτωση των συμβολοσειρών.\n",
    "\n",
    "\n",
    "Μερικές πολύ χρήσιμες μέθοδοι είναι οι ακόλουθες:\n",
    "\n",
    "- ``append()``\n",
    "    \n",
    "- ``extend()``\n",
    "\n",
    "- ``remove()``\n",
    "\n",
    "- ``pop()``, ``del``\n",
    "\n",
    "- ``sort()``\n",
    "\n",
    "\n",
    "Χρησιμοποιήστε τις built-in συναρτήσεις ``dir`` και ``help`` για να δείτε τις διαθέσιμες μεθόδους της κλάσης \\<list\\> και να κατανοήσετε τη λειτουργία τους."
   ]
  },
  {
   "cell_type": "code",
   "execution_count": null,
   "id": "55560b46",
   "metadata": {},
   "outputs": [],
   "source": [
    "print(dir(list))"
   ]
  },
  {
   "cell_type": "code",
   "execution_count": null,
   "id": "cb7d5820",
   "metadata": {},
   "outputs": [],
   "source": [
    "print(help(list))"
   ]
  },
  {
   "cell_type": "markdown",
   "id": "573a5a90",
   "metadata": {},
   "source": [
    "**Προσθήκη και αφαίρεση στοιχείων**"
   ]
  },
  {
   "cell_type": "code",
   "execution_count": null,
   "id": "49aad950",
   "metadata": {},
   "outputs": [],
   "source": [
    "l = [1, 2, 3]\n",
    "\n",
    "# Append number 8 to an existing list\n",
    "l.append(8)\n",
    "print(l)"
   ]
  },
  {
   "cell_type": "markdown",
   "id": "3d9062d3",
   "metadata": {},
   "source": [
    "**Πράξεις με λίστες**"
   ]
  },
  {
   "cell_type": "code",
   "execution_count": null,
   "id": "749b755f",
   "metadata": {},
   "outputs": [],
   "source": [
    "l = [1, 2, 3]\n",
    "m = [4, 5, 6]\n",
    "\n",
    "print(l * 2) # Operator overloading\n",
    "print(l + m) # Operator overloading\n"
   ]
  },
  {
   "cell_type": "markdown",
   "id": "7172d699",
   "metadata": {},
   "source": [
    "**Αφαίρεση στοιχείων**"
   ]
  },
  {
   "cell_type": "code",
   "execution_count": null,
   "id": "3c9a576a",
   "metadata": {},
   "outputs": [],
   "source": [
    "l = [1, 2, 3, 4, 5, 6, 7]"
   ]
  },
  {
   "cell_type": "code",
   "execution_count": null,
   "id": "d15eaf8c",
   "metadata": {},
   "outputs": [],
   "source": [
    "print(l)\n",
    "l.pop()  # removes last element\n",
    "print(l)\n",
    "\n",
    "print('='*21)\n",
    "l.pop(1)  # element at indicated index\n",
    "print(l)\n"
   ]
  },
  {
   "cell_type": "markdown",
   "id": "085c551e",
   "metadata": {},
   "source": [
    "**Προσοχή:** Η προηγούμενη πράξη εκτελείται πάνω στην λίστα, που σημαίνει ότι αν την ξανατρέξετε θα αφαιρέσετε ξανά το τελευταίο στοιχείο!  (τρέξτε το μερικές φορές να δείτε το αποτέλεσμα)"
   ]
  },
  {
   "cell_type": "code",
   "execution_count": null,
   "id": "19b95964",
   "metadata": {},
   "outputs": [],
   "source": [
    "print(l)\n",
    "l.remove(4) # remove the first element with the specific value\n",
    "print(l)\n"
   ]
  },
  {
   "cell_type": "markdown",
   "id": "85fcc028",
   "metadata": {},
   "source": [
    "Τα παραπάνω λειτουργούν γενικά για ότι και αν συμπεριλαμβάνεται στην λίστα."
   ]
  },
  {
   "cell_type": "code",
   "execution_count": null,
   "id": "9e3fed40",
   "metadata": {},
   "outputs": [],
   "source": [
    "names = ['nick', 'maria', 'giannis']\n",
    "names.pop() # remove last element\n",
    "print(names)\n",
    "\n",
    "names.remove('nick') # remove specific element\n",
    "print(names)"
   ]
  },
  {
   "cell_type": "markdown",
   "id": "3ea43c8c",
   "metadata": {},
   "source": [
    "**`sort` και `reverse`** \n",
    "\n",
    "Αν θέλουμε να ταξινομήσουμε τα στοιχεία μιας λίστας. "
   ]
  },
  {
   "cell_type": "markdown",
   "id": "fc0d7586",
   "metadata": {},
   "source": [
    "**Προσοχή:** Ιδιαίτερη προσοχή πρέπει να δίνεται για μεθόδους που τροποποιούν μία υπάρχουσα λίστα (in-place methods) και μεθόδους που διαχειρίζονται ένα νέο αντικείμενο (πιθανόν ένα αντίγραφο της λίστας)."
   ]
  },
  {
   "cell_type": "code",
   "execution_count": null,
   "id": "c318f1eb",
   "metadata": {},
   "outputs": [],
   "source": [
    "l = [\"Physics\", \"Chemistry\", \"Math\"]\n",
    "\n",
    "# l.sort/reverse are 'in place sort/reverse'\n",
    "# Use it if you do not need the old list anymore\n",
    "# (memory efficiency)\n",
    "l.sort()\n",
    "print(l)\n",
    "\n",
    "l.reverse()\n",
    "print(l)"
   ]
  },
  {
   "cell_type": "code",
   "execution_count": null,
   "id": "14f4ac8d",
   "metadata": {},
   "outputs": [],
   "source": [
    "l = [\"Physics\", \"Chemistry\", \"Math\"]\n",
    "\n",
    "# sorted/reversed creates a new object with a sorted version of l\n",
    "# Use it if you still need the original list.\n",
    "m = sorted(l)\n",
    "print(m, l)\n",
    "\n",
    "# reversed is a generator - it needs to be materialized (e.g. by `list`)\n",
    "r = list(reversed(l))  \n",
    "print(r, l)"
   ]
  },
  {
   "cell_type": "markdown",
   "id": "7bb529bb",
   "metadata": {},
   "source": [
    "<div class=\"alert alert-block alert-warning\" style=\"margin-top: 20px\">\n",
    "    <b>Άσκηση 4.1</b>\n",
    "    \n",
    "Γράψτε κώδικα ώστε να απαντήσετε στα παρακάτω ερωτήματα:\n",
    "    \n",
    "1. Κατασκευάστε την λίστα ``[0,0,0]`` με δύο διαφορετικούς τρόπους.\n",
    "    \n",
    "    \n",
    "2. Αλλάξτε την λέξη \"hello\" σε \"goodbye\" στην εμφωλευμένη λίστα ``[1,2,[3,4,'hello']]`` \n",
    "    \n",
    "    \n",
    "3. Ταξινομήστε πρώτα και αντιστρέψτε στη συνέχεια την λίστα ``[5,3,4,6,1]``"
   ]
  },
  {
   "cell_type": "code",
   "execution_count": null,
   "id": "2f57a87d",
   "metadata": {},
   "outputs": [],
   "source": [
    "# You can try it here\n",
    "# If you are struggling you can click on details below for the solution"
   ]
  },
  {
   "cell_type": "markdown",
   "id": "80220a50",
   "metadata": {},
   "source": [
    "<div class=\"alert alert-danger alertdanger\" style=\"margin-top: 20px\">\n",
    "<details>\n",
    "\n",
    "<b><summary>Λύση</summary></b>\n",
    "```python \n",
    "# Method 1\n",
    "l1 = [0,0,0]\n",
    "    \n",
    "# Method 2\n",
    "l2 = [0]*3\n",
    "```\n",
    "    \n",
    "```python \n",
    "l3 = [1,2,[3,4,'hello']]\n",
    "\n",
    "l3[2][2] = \"goodbye\"\n",
    "print(l3)\n",
    "```\n",
    "    \n",
    "```python\n",
    "\n",
    "l4 = [5,3,4,6,1]\n",
    "\n",
    "# Method 1: in-place \n",
    "\n",
    "    l4.sort()\n",
    "print(l4)\n",
    "\n",
    "l4.reverse()\n",
    "print(l4)\n",
    "    \n",
    "# Method 2: copying to new lists\n",
    "\n",
    "sl4 = sorted(l4)\n",
    "rl4 = list(reversed(sl4))\n",
    "\n",
    "print(sl4)\n",
    "print(rl4)\n",
    "\n",
    "```\n",
    "    \n",
    "</details>"
   ]
  },
  {
   "cell_type": "markdown",
   "id": "fc9873ec",
   "metadata": {},
   "source": [
    "<div class=\"alert alert-block alert-warning\" style=\"margin-top: 20px\">\n",
    "    <b>Άσκηση 4.2</b>\n",
    "\n",
    "Προσπαθείστε να απαντήσετε τα επόμενα ερωτήματα πριν εκτελέσετε κάποιον κώδικα. Αν γίνεται, καταφύγετε στην εκτέλεση του κώδικα μόνο προς επιβεβαίωση. Χρησιμοποιήστε τις βοηθητικές συναρτήσεις ``help``, ``dir`` αν δεν είστε σίγουροι/ες για το αποτέλεσμά σας. Για κάθε άσκηση θα πρέπει να είστε σε θέση να εξηγήσετε ΓΙΑΤΙ παίρνετε τα συγκεκριμένα αποτελέσματα! \n",
    "\n",
    "- Ποιό είναι το αποτέλεσμα του παρακάτω κώδικα;\n",
    "\n",
    "````python\n",
    "xlist = []\n",
    "xlist.append(5)\n",
    "xlist.append(10)\n",
    "print(xlist)\n",
    "````\n",
    "\n",
    "- Ποιό είναι το αποτέλεσμα του παρακάτω κώδικα;\n",
    "\n",
    "````python\n",
    "zlist = []\n",
    "zlist.append([5, 10])\n",
    "print(zlist)\n",
    "````\n",
    "\n",
    "- Ποιό είναι το αποτέλεσμα της παρακάτω σύγκρισης (True/False);\n",
    "\n",
    "````python\n",
    "print(zlist == xlist)\n",
    "````    \n",
    "\n",
    "- Ποιό είναι το αποτέλεσμα του παρακάτω κώδικα;\n",
    "\n",
    "````python\n",
    "alist = list(range(-3, 3))\n",
    "print(alist)\n",
    "````\n",
    "\n",
    "- Ποιό είναι το αποτέλεσμα του παρακάτω κώδικα;\n",
    "\n",
    "````python\n",
    "xxlist = [2, 1, 3]\n",
    "yylist = sorted(xxlist)\n",
    "print(xxlist, yylist)\n",
    "````\n",
    "\n",
    "- Ποιό είναι το αποτέλεσμα του παρακάτω κώδικα;\n",
    "\n",
    "````python\n",
    "clist = [2, 1, 3]\n",
    "klist = clist.sort()\n",
    "print(clist, klist)\n",
    "````\n",
    "\n",
    "- Ποιό είναι το αποτέλεσμα του παρακάτω κώδικα;\n",
    "    \n",
    "````python\n",
    "mlist = [3, 2, 1, 0]\n",
    "\n",
    "for i in mlist:\n",
    "    print(i, end=\" \")\n",
    "````\n",
    "\n",
    "- Ποιό είναι το αποτέλεσμα του παρακάτω κώδικα;\n",
    "\n",
    "````python\n",
    "a = 1\n",
    "b = 2\n",
    "nnlist = [a, b, a + b]\n",
    "a = 0\n",
    "b = 0\n",
    "\n",
    "print(nnlist)\n",
    "````\n",
    "\n",
    "- Ποιό είναι το αποτέλεσμα του παρακάτω κώδικα;\n",
    "    \n",
    "````python    \n",
    "mmlist = [[1,2,3], [4,5,6], [7,8,9]] \n",
    "\n",
    "print(mmlist[1])\n",
    "print(mmlist[2][-1])\n",
    "````    "
   ]
  },
  {
   "cell_type": "code",
   "execution_count": null,
   "id": "7c797351",
   "metadata": {},
   "outputs": [],
   "source": [
    "# You can try it here"
   ]
  },
  {
   "cell_type": "markdown",
   "id": "0016ee6d",
   "metadata": {},
   "source": [
    "**`enumerate` και `zip`**\n",
    "\n",
    "Υπάρχουν δύο εξαιρετικά χρήσιμες μέθοδοι που όταν συνδυαστούν με το `for` αρχίζουν να δείχνουν την δύναμη και την ευελιξία της Python. \n",
    "\n",
    "- η μέθοδος `enumerate` αριθμεί τα περιεχόμενα μιας δομής με επανάληψης. \n",
    "\n",
    "- η μέθοδος `zip` μας επιτρέπει την ταυτόχρονη προσπέλαση σε διαφορετικές λίστες"
   ]
  },
  {
   "cell_type": "code",
   "execution_count": null,
   "id": "b4e6cb25",
   "metadata": {},
   "outputs": [],
   "source": [
    "phrase = \"This is a Python course\"\n",
    "slist = list(phrase)\n",
    "print(slist)\n",
    "\n",
    "for position, char in enumerate(slist):\n",
    "    print(f'Character {char} is in position {position}')\n",
    "    \n",
    "# This is an example to showcase the use of enumerate\n",
    "# But in reality enumerate can act on a string directly, eg\n",
    "# for position, char in enumerate(phrase):\n",
    "#     print(f'Character {char} is in position {position}')\n"
   ]
  },
  {
   "cell_type": "code",
   "execution_count": null,
   "id": "5354c111",
   "metadata": {},
   "outputs": [],
   "source": [
    "aa = [1, 2, 3, 4]\n",
    "bb = [1, 4, 9, 16]\n",
    "cc = [1, 8, 27, 64 ]\n",
    "\n",
    "for a, b, c in zip(aa, bb, cc):\n",
    "    print(f'For {a}, its power of 2 is {b} and of 3 is {c}')"
   ]
  },
  {
   "cell_type": "markdown",
   "id": "6d2013fd",
   "metadata": {},
   "source": [
    "**`index`**\n",
    "\n",
    "Όταν θέλουμε να βρούμε τον δείκτη / θέση στην οποία βρίσκεται ένα στοιχείο σε μια λίστα μπορούμε να αξιοποιήσουμε την μέθοδο `index()`. Αυτή εφαρμόζεται πάνω στην λίστα την οποία ψάχνουμε. \n",
    "\n",
    "Η μέθοδος επιστρέφει πάντα την πρώτη περίπτωση."
   ]
  },
  {
   "cell_type": "code",
   "execution_count": null,
   "id": "3f48d92a",
   "metadata": {},
   "outputs": [],
   "source": [
    "num_list = [1, 3, 9, 9]\n",
    "\n",
    "# Find the index where number 9 is found\n",
    "ind = num_list.index(9)\n",
    "\n",
    "# only the first occurence will be returned\n",
    "print(ind)"
   ]
  },
  {
   "cell_type": "code",
   "execution_count": null,
   "id": "5dde6948",
   "metadata": {},
   "outputs": [],
   "source": [
    "str_list = ['Mary', 'Nick', 'Alice']\n",
    "\n",
    "# Find te index where 'Nick' is found\n",
    "ind2 = str_list.index('Nick')\n",
    "\n",
    "print(ind2)"
   ]
  },
  {
   "cell_type": "markdown",
   "id": "8d8b6ba5",
   "metadata": {},
   "source": [
    "<div class=\"alert alert-block alert-warning\" style=\"margin-top: 20px\">\n",
    "    <b>Άσκηση 4.3</b>\n",
    "    \n",
    "Για την παρακάτω συμβολοσειρά ``\"Papa's got a brand new bag\"`` επιστρέψτε όλες τις θέσεις που μπορείτε να βρείτε τον χαρακτήρα 'a'. (Μετατρέψτε πρώτα την συμβολοσειρά σε λίστα.)"
   ]
  },
  {
   "cell_type": "code",
   "execution_count": null,
   "id": "b22c6a9f",
   "metadata": {},
   "outputs": [],
   "source": [
    "# You can try it here\n",
    "# If you are struggling you can click on details below for the solution"
   ]
  },
  {
   "cell_type": "markdown",
   "id": "c89d619b",
   "metadata": {},
   "source": [
    "<div class=\"alert alert-danger alertdanger\" style=\"margin-top: 20px\">\n",
    "<details>\n",
    "\n",
    "<b><summary>Λύση</summary></b>\n",
    "```python \n",
    "jb_sings = list(\"Papa's got a brand new bag\")\n",
    "print(jb_sings)\n",
    "\n",
    "occurences = []\n",
    "for position, char in enumerate(jb_sings):\n",
    "    print(position, char)\n",
    "    if char=='a':\n",
    "        occurences.append(position)\n",
    "\n",
    "print(occurences)\n",
    "```\n",
    "    \n",
    "</details>"
   ]
  },
  {
   "cell_type": "markdown",
   "id": "874772ae",
   "metadata": {},
   "source": [
    "**Συνοπτική λίστα**"
   ]
  },
  {
   "cell_type": "markdown",
   "id": "1c31f829",
   "metadata": {},
   "source": [
    "Οι **συνοπτικές λίστες** (**list comprehension**) είναι μία άλλη μέθοδος για την δημιουργία κάποιας λίστας με τη χρήση δομής επανάληψης for. Οι συνοπτικές λίστες προσφέρουν έναν πιο ευανάγνωστο (με λίγη εξοικείωση), πιο γρήγορο και πιο αποδοτικό τρόπο για τη δημιουργία μιας λίστας.\n",
    "\n",
    "Η γενική μορφή μιας συνοπτικής λίστας είναι:\n",
    "\n",
    "        [έκφραση(x) for x in Obj if συνθήκη]\n",
    "\n",
    "και η οποία παράγει μία λίστα με στοιχεία τις έκφραση(x) για κάθε τιμή του x που ανήκει στο αντικείμενο Obj και που ικανοποιεί τη συνθήκη."
   ]
  },
  {
   "cell_type": "code",
   "execution_count": null,
   "id": "fa66040d",
   "metadata": {},
   "outputs": [],
   "source": [
    "# Regular approach to populate a list in a given range of numbers\n",
    "my_list = []\n",
    "\n",
    "for i in range(5, 16):\n",
    "    my_list.append(i)\n",
    "    \n",
    "print(my_list)\n",
    "\n",
    "# A better (and faster) way to do things\n",
    "my_pythonic_list = [j for j in range(5, 16)]\n",
    "print(my_pythonic_list)\n",
    "\n",
    "my_pythonic_list_dec = [j/10 for j in range(1, 10)]\n",
    "print(my_pythonic_list_dec)"
   ]
  },
  {
   "cell_type": "code",
   "execution_count": null,
   "id": "0106489c",
   "metadata": {},
   "outputs": [],
   "source": [
    "# What if we want to apply a condition?\n",
    "some_list = []\n",
    "\n",
    "for i in range(5, 16):\n",
    "    if i <= 13 and i >= 9:\n",
    "        # We want the string of the floating representation of number i\n",
    "        i = str(float(i))\n",
    "        some_list.append(i)\n",
    "        \n",
    "print(some_list)\n",
    "\n",
    "# You can create a list comprehension equipped with a simple condition\n",
    "some_pythonic_list = [str(float(x)) for x in range(5, 16) \n",
    "                      if (x <= 13) and (x >= 9)]\n",
    "print(some_pythonic_list)"
   ]
  },
  {
   "cell_type": "markdown",
   "id": "11522690",
   "metadata": {},
   "source": [
    "<div class=\"alert alert-block alert-warning\" style=\"margin-top: 20px\">\n",
    "    <b>Άσκηση 4.4</b>\n",
    "    \n",
    "Επαναλάβετε την προηγούμενη άσκηση, χρησιμοποιώντας τώρα μια συνοτική λίστα. (Επιστροφή όλων των θέσεων του \"a\" στην φράση ``\"Papa's got a brand new bag\"``.)"
   ]
  },
  {
   "cell_type": "code",
   "execution_count": null,
   "id": "f246d99e",
   "metadata": {},
   "outputs": [],
   "source": [
    "# You can try it here\n",
    "# If you are struggling you can click on details below for the solution"
   ]
  },
  {
   "cell_type": "markdown",
   "id": "22076826",
   "metadata": {},
   "source": [
    "<div class=\"alert alert-danger alertdanger\" style=\"margin-top: 20px\">\n",
    "<details>\n",
    "\n",
    "<b><summary>Λύση</summary></b>\n",
    "```python \n",
    "occurences = [position for position, char in enumerate(jb_sings) \n",
    "                  if char=='a']\n",
    "\n",
    "print(occurences)```\n",
    "    \n",
    "</details>"
   ]
  },
  {
   "cell_type": "markdown",
   "id": "328c05ff",
   "metadata": {},
   "source": [
    "## 4.3 Πλειάδες"
   ]
  },
  {
   "cell_type": "markdown",
   "id": "cb4a2125",
   "metadata": {},
   "source": [
    "### 4.3.1 Δημιουργία, περιεχόμενα και προσπέλαση πλειάδας"
   ]
  },
  {
   "cell_type": "markdown",
   "id": "e86dc41b",
   "metadata": {},
   "source": [
    "Οι πλειάδες (tuples) είναι μία δομή δεδομένων που είναι πανομοιότυπη με τις λίστες με την εξής διαφορά: είναι **αμετάβλητες**. Αυτό σημαίνει ότι, σε αντίθεση με τις λίστες, οι πλειάδες δεν μπορούν να τροποποιηθούν μετά τη δημιουργία τους.\n",
    "\n",
    "\n",
    "- Μία πλειάδα ορίζεται από το όνομά της ακολουθούμενο από ένα ζευγάρι παρενθέσεων έχοντας τη δομή:\n",
    "\n",
    "        t = (element1, element2, element3, ...)\n",
    "\n",
    "\n",
    "- Η δημιουργία, τα περιεχόμενα και η προσπέλαση είναι παρόμοια με αυτά μιας λίστας."
   ]
  },
  {
   "cell_type": "code",
   "execution_count": null,
   "id": "c09ca4b5",
   "metadata": {},
   "outputs": [],
   "source": [
    "t = (1, 2, 3, 4)  # tuples live in parentheses\n",
    "print(type(t))\n",
    "print(t[1:3])     # slicing and all over other element \n",
    "                  # accesses that do not change the tuple as for lists"
   ]
  },
  {
   "cell_type": "code",
   "execution_count": null,
   "id": "70351630",
   "metadata": {},
   "outputs": [],
   "source": [
    "v = (1,)  # definition of a tuple with one element!\n",
    "print(v)\n",
    "print(type(v))"
   ]
  },
  {
   "cell_type": "code",
   "execution_count": null,
   "id": "9656711d",
   "metadata": {},
   "outputs": [],
   "source": [
    "u = 'a', 2.0, 5   # The parentheses can be ommitted for tuple creation!\n",
    "print(u)\n",
    "print() \n",
    "for elem in u:\n",
    "    print(elem)"
   ]
  },
  {
   "cell_type": "code",
   "execution_count": null,
   "id": "706a6bfa",
   "metadata": {},
   "outputs": [],
   "source": [
    "# This raises an error; tuples are immutable!\n",
    "u[1] = 'b' "
   ]
  },
  {
   "cell_type": "markdown",
   "id": "0ae11556",
   "metadata": {},
   "source": [
    "- Έχουμε ήδη δει ότι η Python υποστηρίζει την ταυτόχρονη εκχώρηση τιμών σε πολλαπλές μεταβλητές. Αυτή η διαδικασία μπορεί να θεωρηθεί ως το ξε-πακετάρισμα των τιμών μιας πλειάδας."
   ]
  },
  {
   "cell_type": "code",
   "execution_count": null,
   "id": "e7d49872",
   "metadata": {},
   "outputs": [],
   "source": [
    "x, y = 1, 2   # simultaneous assigment to two variables\n",
    "print(type(x))"
   ]
  },
  {
   "cell_type": "code",
   "execution_count": null,
   "id": "4429493f",
   "metadata": {},
   "outputs": [],
   "source": [
    "z = 1, 2  # creation of a tuple!\n",
    "print(z)\n",
    "print(type(z))"
   ]
  },
  {
   "cell_type": "code",
   "execution_count": null,
   "id": "74419712",
   "metadata": {},
   "outputs": [],
   "source": [
    "c, d = z  # The tuple in upacked!\n",
    "print(c, d)"
   ]
  },
  {
   "cell_type": "code",
   "execution_count": null,
   "id": "595e5f1b",
   "metadata": {},
   "outputs": [],
   "source": [
    "# This also works with lists:\n",
    "l = ['a', 'b']\n",
    "print(l)\n",
    "\n",
    "s, t = l\n",
    "print(s, t)"
   ]
  },
  {
   "cell_type": "markdown",
   "id": "176e7361",
   "metadata": {},
   "source": [
    "- Αν και οι ίδιες οι πλειάδες δεν τροποποιούνται μπορούμε να τις προσθέσουμε όπως τις λίστες."
   ]
  },
  {
   "cell_type": "code",
   "execution_count": null,
   "id": "6f754b99",
   "metadata": {},
   "outputs": [],
   "source": [
    "weekdays = ('Mon', 'Tue', 'Wed', 'Thu', 'Fri')\n",
    "weekend = ('Sat', 'Sun')\n",
    "\n",
    "week = weekdays+weekend\n",
    "\n",
    "print(week)"
   ]
  },
  {
   "cell_type": "markdown",
   "id": "7c26d110",
   "metadata": {},
   "source": [
    "### 4.3.2 Εναλλαγή δομών\n",
    "\n",
    "Μπορούμε να εναλλάξουμε τις μορφές των δομών, δηλαδή να μετατρέψουμε μια λίστα σε πλειάδα ή το ανάποδο. Το γιατί να το κάνουμε εξαρτάται από τις ανάγκες μας. Πχ μπορεί να θέλουμε να μετατρέψουμε μια λίστα (που δημιουργήθηκε) σε πλειάδα για να μην ξανατροποποιηθεί. "
   ]
  },
  {
   "cell_type": "code",
   "execution_count": null,
   "id": "f5d505d6",
   "metadata": {},
   "outputs": [],
   "source": [
    "l = [1,2,3,4,5]\n",
    "print(l, type(l))\n",
    "\n",
    "t = tuple(l)\n",
    "print(t, type(t))\n",
    "\n",
    "ll = list(t)\n",
    "print(ll, type(ll))\n",
    "print()\n",
    "\n",
    "# similar for strings\n",
    "s = 'words'\n",
    "print(list(s))\n",
    "print(tuple(s))\n"
   ]
  },
  {
   "cell_type": "markdown",
   "id": "d2493a93",
   "metadata": {},
   "source": [
    "## 4.4 Λεξικά"
   ]
  },
  {
   "cell_type": "markdown",
   "id": "6fc261bb",
   "metadata": {},
   "source": [
    "Τα λεξικά είναι **μη-διατεταγμένες και ετερογενείς** δομές δεδομένων που μπορούν να **μεταβληθούν**.\n",
    "\n",
    "- Τα λεξικά στην Python ακολουθούν την ίδια φιλοσοφία με τα γνωστά γλωσσικά λεξικά που χρησιμοποιούμε για τον ορισμό των λέξεων. Σε ένα τέτοιο γλωσσικό λεξικό, έχουμε μία λέξη (κλειδί) στην οποία αντιστοιχεί ένας ορισμός (τιμή). Εμείς ως χρήστες του λεξικού, χρησιμοποιούμε την λέξη ως ευρετήριο για τον ορισμό που ψάχνουμε.\n",
    "\n",
    "- Παρόμοια, τα λεξικά στην Python αποτελούνται από τέτοια ζευγάρια \"κλειδιών-τιμών\". Επειδή τα λεξικά αποτελούν μη-διατεταγμένες ακολουθίες, αυτό σημαίνει ότι δεν υπάρχει κάποια δεικτοδότηση όπως στην περίπτωση των συμβολοσειρών, λιστών ή πλειάδων. Αντίθετα, για την προσπέλαση των στοιχείων ενός λεξικού χρησιμοποιούμε ως ευρετήριο τα κλειδιά για να πάρουμε την τιμή που αντιστοιχεί σε αυτό το κλειδί.\n",
    "\n",
    "- Ένα λεξικό ορίζεται από το όνομά του ακολοθούμενο από ένα ζευγάρι αγκυλωτών παρενθέσεων έχοντας τη δομή:\n",
    "\n",
    "        d = {key1:value1, key2:value2, key3:value3,...}                         \n",
    "                           \n",
    "- Τα κλειδιά, εφόσον χρησιμεύουν ως ευρετήριο, θα πρέπει να είναι μοναδικά. Επίσης, πρέπει να είναι αντικείμενα αμετάβλητου τύπου (π.χ. συμβολοσειρές, αριθμοί, πλειάδες) και όχι λίστες ή λεξικά."
   ]
  },
  {
   "cell_type": "markdown",
   "id": "c2aa6283",
   "metadata": {},
   "source": [
    "### 4.4.1 Δημιουργία, περιεχόμενα και προσπέλαση λεξικού"
   ]
  },
  {
   "cell_type": "code",
   "execution_count": null,
   "id": "d8937dcd",
   "metadata": {},
   "outputs": [],
   "source": [
    "# Keys must be unique and immutable, values can be anything\n",
    "people = {\n",
    "    \"name\": [\"John\", \"Mary\", \"Nick\"],\n",
    "    \"age\": [23, 25, 32],\n",
    "    \"height\": [185, 190, 200],\n",
    "    \"studies\": 'Physics'\n",
    "}\n",
    "\n",
    "print(type(people))\n",
    "\n",
    "# Length of a dictionary is the number of keys\n",
    "print(len(people))"
   ]
  },
  {
   "cell_type": "markdown",
   "id": "29f93d39",
   "metadata": {},
   "source": [
    "- Αν προσπαθήσουμε να πάρουμε την τιμή που αντιστοιχεί σε ένα κλειδί που **δεν** υπάρχει στο λεξικό, τότε παίρνουμε την εξαίρεση ``KeyError``.\n",
    "\n",
    "\n",
    "- Πολλές φορές είναι προτιμότερο να χρησιμοποιούμε συγκεκριμένες μεθόδους της κλάσης ``<dict>`` για την προσπέλαση των στοιχείων (π.χ. ``get()``, δες παρακάτω)."
   ]
  },
  {
   "cell_type": "code",
   "execution_count": null,
   "id": "f44fd46d",
   "metadata": {},
   "outputs": [],
   "source": [
    "print(people[\"name\"])\n",
    "print(people[\"age\"])"
   ]
  },
  {
   "cell_type": "code",
   "execution_count": null,
   "id": "d24450bb",
   "metadata": {},
   "outputs": [],
   "source": [
    "# if we want to get an item from the values (consider it as a list) \n",
    "print(type(people[\"age\"]))\n",
    "print(people[\"age\"][1])"
   ]
  },
  {
   "cell_type": "code",
   "execution_count": null,
   "id": "892e9eb9",
   "metadata": {},
   "outputs": [],
   "source": [
    "# What if you try to get a key that doesn't exist\n",
    "print(people[\"phone\"])\n",
    "\n",
    "print(people[\"age\"][1])"
   ]
  },
  {
   "cell_type": "code",
   "execution_count": null,
   "id": "8d0ba868",
   "metadata": {},
   "outputs": [],
   "source": [
    "# looping over the elements of a dictionary might not \n",
    "# be so intuitive\n",
    "\n",
    "# This will print out only the keys\n",
    "for k in people:\n",
    "    print(k)"
   ]
  },
  {
   "cell_type": "markdown",
   "id": "2a561575",
   "metadata": {},
   "source": [
    "### 4.4.2 Μέθοδοι της κλάσης \\< dict\\>"
   ]
  },
  {
   "cell_type": "code",
   "execution_count": null,
   "id": "174f38f7",
   "metadata": {},
   "outputs": [],
   "source": [
    "print(dir(dict))\n",
    "\n",
    "print(help(dict.get))"
   ]
  },
  {
   "cell_type": "markdown",
   "id": "971c6e61",
   "metadata": {},
   "source": [
    "Η μέθοδος `get` επιστρέφει ένα `None` αντικείμενο και όχι σφάλμα (όπως θα γινόταν αν γράφαμε `people['phone']`. Αυτό είναι βολικό και πιο ευέλικτο να το διαχειριστούμε."
   ]
  },
  {
   "cell_type": "code",
   "execution_count": null,
   "id": "6e7a6923",
   "metadata": {},
   "outputs": [],
   "source": [
    "# Access a value using the get method\n",
    "print(people.get('name'))"
   ]
  },
  {
   "cell_type": "code",
   "execution_count": null,
   "id": "a64df506",
   "metadata": {},
   "outputs": [],
   "source": [
    "# Try to access the value of a non-existing key\n",
    "print(people.get('phone'))"
   ]
  },
  {
   "cell_type": "code",
   "execution_count": null,
   "id": "17639632",
   "metadata": {},
   "outputs": [],
   "source": [
    "# you can even customize it\n",
    "print(people.get('phone', 'not found'))\n",
    "\n",
    "print(people[\"age\"][1])"
   ]
  },
  {
   "cell_type": "code",
   "execution_count": null,
   "id": "4fb0c928",
   "metadata": {},
   "outputs": [],
   "source": [
    "# 3 very useful methods\n",
    "print(people.items())\n",
    "print(type(people.items()))\n",
    "print()\n",
    "\n",
    "print(people.keys())\n",
    "print()\n",
    "\n",
    "print(people.values())"
   ]
  },
  {
   "cell_type": "code",
   "execution_count": null,
   "id": "c44468ce",
   "metadata": {},
   "outputs": [],
   "source": [
    "# looping over the elements of a dictionary\n",
    "for key, val in people.items():\n",
    "    print(key, val)"
   ]
  },
  {
   "cell_type": "code",
   "execution_count": null,
   "id": "c45eeaae",
   "metadata": {},
   "outputs": [],
   "source": [
    "# or \n",
    "for key in people.keys():\n",
    "    print(key)   #, people[key])"
   ]
  },
  {
   "cell_type": "code",
   "execution_count": null,
   "id": "e1f36f8d",
   "metadata": {},
   "outputs": [],
   "source": [
    "# Check out the functionality of zip() -- see also the enumerate() function\n",
    "for key, val in zip(people.keys(), people.values()):\n",
    "    print(key, val)"
   ]
  },
  {
   "cell_type": "markdown",
   "id": "dceea941",
   "metadata": {},
   "source": [
    "### 4.4.3 Προσθήκη και διαγραφή μιας καταχώρησης"
   ]
  },
  {
   "cell_type": "markdown",
   "id": "86fab5cb",
   "metadata": {},
   "source": [
    "- Προσθήκη μιας καταχώρησης."
   ]
  },
  {
   "cell_type": "code",
   "execution_count": null,
   "id": "032d5b16",
   "metadata": {},
   "outputs": [],
   "source": [
    "# Adding an entry\n",
    "people[\"phone\"] = \"2810-999999\"\n",
    "\n",
    "print(people.get('phone', 'not found'))"
   ]
  },
  {
   "cell_type": "markdown",
   "id": "9a92e5ec",
   "metadata": {},
   "source": [
    "- Αντικατάσταση μιας καταχώρησης."
   ]
  },
  {
   "cell_type": "code",
   "execution_count": null,
   "id": "53c257c1",
   "metadata": {},
   "outputs": [],
   "source": [
    "# Replacing an existing entry\n",
    "\n",
    "print(people.get(\"studies\"))\n",
    "\n",
    "people[\"studies\"] = 'Astrophysics' \n",
    "\n",
    "print(people.get(\"studies\"))"
   ]
  },
  {
   "cell_type": "markdown",
   "id": "5dc3627b",
   "metadata": {},
   "source": [
    "- Διαγραφή μιας καταχώρησης."
   ]
  },
  {
   "cell_type": "code",
   "execution_count": null,
   "id": "686d37ff",
   "metadata": {},
   "outputs": [],
   "source": [
    "# Deleting an entry\n",
    "del people['phone']\n",
    "\n",
    "print(people.get('phone', 'not found'))"
   ]
  },
  {
   "cell_type": "markdown",
   "id": "64fbe414",
   "metadata": {},
   "source": [
    "- Αντικατάσταση μέρους λεξικού και προσθήκη."
   ]
  },
  {
   "cell_type": "code",
   "execution_count": null,
   "id": "78dc4220",
   "metadata": {},
   "outputs": [],
   "source": [
    "# Update parts of a dictionary\n",
    "people.update({\"office\":[230, 232], \"phone\":123456})\n",
    "\n",
    "print(people)"
   ]
  },
  {
   "cell_type": "markdown",
   "id": "fda183a0",
   "metadata": {},
   "source": [
    "**Σημείωση**: τα περιεχόμετα του λεξικού δεν είναι απαραίτητα ομοιογενή, πχ στο προηγούμενο παράδειγμα για το γραφείο υπάρχουν μόνο δύο τιμές και για το τηλέφωνο μία."
   ]
  },
  {
   "cell_type": "markdown",
   "id": "2e09599b",
   "metadata": {},
   "source": [
    "<div class=\"alert alert-block alert-warning\" style=\"margin-top: 20px\">\n",
    "    <b>Άσκηση 4.5</b>\n",
    "    \n",
    "Στο προηγούμενο λεξικό αντί να αντικαταστήσετε το πεδίο people[\"studies\"] = 'Astrophysics' κάντε προσθήκη και των δύο πεδίων (Astrophysics, Physics).\n",
    "    \n",
    "> TIP: Έχοντας τρέξει τον παραπάνω κώδικα η τιμή του people[\"studies\"] είναι ήδη 'Astrophysics'. Οπότε προσθέστε το 'Physics'.  "
   ]
  },
  {
   "cell_type": "code",
   "execution_count": null,
   "id": "2a3f0a75",
   "metadata": {},
   "outputs": [],
   "source": [
    "# You can try it here\n",
    "# If you are struggling you can click on details below for the solution"
   ]
  },
  {
   "cell_type": "markdown",
   "id": "14c7b5a7",
   "metadata": {},
   "source": [
    "<div class=\"alert alert-danger alertdanger\" style=\"margin-top: 20px\">\n",
    "<details>\n",
    "\n",
    "<b><summary>Λύση</summary></b>\n",
    "    \n",
    "```python \n",
    "\n",
    "print(people.get(\"studies\"))\n",
    "\n",
    "field1 = people.get(\"studies\")\n",
    "field2 = 'Physics'\n",
    "\n",
    "people[\"studies\"] = [field1, field2]\n",
    "\n",
    "print(people.get(\"studies\"))\n",
    "\n",
    "```\n",
    "    \n",
    "</details>"
   ]
  },
  {
   "cell_type": "markdown",
   "id": "5352038f",
   "metadata": {},
   "source": [
    "<div class=\"alert alert-block alert-warning\" style=\"margin-top: 20px\">\n",
    "    <b>Άσκηση 4.6</b>\n",
    "    \n",
    "Δημιουργήστε ένα λεξικό ταινιών που στην αρχή θα έχει τα εξής κλειδιά: τίτλος ταινίας, έτος παραγωγής, βαθμολογία (σημ: δεν είναι απαραίτητο να είναι πραγματικές ταινίες!). Στη συνέχεια κάντε τα ακόλουθα:\n",
    "    \n",
    "1. Τυπώστε την λίστα των ταινιών. \n",
    "\n",
    "2. Ζητήστε από τον χρήση να επιλέξει μια ταινία από την λίστα (διαλέγοντας τον αντίστοιχο δείκτη).\n",
    "    \n",
    "3. Ζητήστε από τον χρήση να εισάγει μια βαθμολογία για την επιλεγμένη ταινία (στην κλίματα 1-10). \n",
    "    \n",
    "4. Συγκρίνετε την βαθμολογία του χρήση με αυτή του λεξικού, και τυπώστε ένα σχετικό μήνυμα (πχ μεγαλύτερη από την βαθμολογία του λεξικού).\n",
    "    \n",
    "> **Hint:** Σκεφτείτε ότι μπορείτε να αξιοποιήσετε και την μέθοδο `index()` (αν χρειάζεται).    "
   ]
  },
  {
   "cell_type": "code",
   "execution_count": null,
   "id": "5e31c77d",
   "metadata": {},
   "outputs": [],
   "source": [
    "# You can try it here\n",
    "# If you are struggling you can click on details below for the solution"
   ]
  },
  {
   "cell_type": "markdown",
   "id": "03d60522",
   "metadata": {},
   "source": [
    "<div class=\"alert alert-danger alertdanger\" style=\"margin-top: 20px\">\n",
    "<details>\n",
    "\n",
    "<b><summary>(Μια) Λύση</summary></b>\n",
    "    \n",
    "```python \n",
    "\n",
    "movies = {\n",
    "    'title' : ['Minority Report', 'Matrix', 'La vita e bella'],\n",
    "    'year':   [2002, 1999, 1997],\n",
    "    'rating': [7.6, 8.7, 8.6]\n",
    "    \n",
    "}\n",
    "\n",
    "print('The list of movies to choose from:')\n",
    "print('-'*15)\n",
    "\n",
    "for m, tit in enumerate(movies['title']):\n",
    "    print(m, '<--', tit)\n",
    "    \n",
    "sel_movie = int(input('Select movie: '))\n",
    "\n",
    "sel_rating = float(input('Choose rating (1-10): '))\n",
    "\n",
    "movie_rating = movies['rating'][sel_movie]\n",
    "\n",
    "print()\n",
    "if movie_rating == sel_rating:\n",
    "    print(f\"Amazing! Your rating ({sel_rating}) matches exactly our database!\")\n",
    "\n",
    "elif movie_rating < sel_rating:\n",
    "    print(f\"You gave a rating of {sel_rating}, higher than {movie_rating} of our database.\")\n",
    "    print(\"You consider the movie too good!\")\n",
    "\n",
    "elif movie_rating > sel_rating:\n",
    "    print(f\"You gave a rating of {sel_rating}, lower than {movie_rating} of our database.\")\n",
    "    print(\"You are very critical of the movie!\")\n",
    "\n",
    "\n",
    "else:\n",
    "    print('There is an issue...')\n",
    "\n",
    "\n",
    "```\n",
    "    \n",
    "</details>"
   ]
  },
  {
   "cell_type": "markdown",
   "id": "d0b19846",
   "metadata": {},
   "source": [
    "## 4.5 Έξτρα ασκήσεις"
   ]
  },
  {
   "cell_type": "markdown",
   "id": "6b8bd76d",
   "metadata": {},
   "source": [
    "### 4.5.1 Άντληση από εμφωλιασμένα λεξικά\n",
    "\n",
    "Χρησιμοποιώντας κλειδιά και δεικτοδότηση ή/και την μέθοδο ``get()``, επιστρέψτε την λέξη \"hello\" από τα παρακάτω λεξικά:\n",
    "\n",
    "1. ``d1 = {'simple_key':'hello'}``\n",
    "    \n",
    "    \n",
    "2. ``d2 = {'k1':{'k2':'hello'}}``\n",
    "    \n",
    "    \n",
    "3. ``d3 = {'k1':[{'nest_key':['this is deep',['hello']]}]}``\n",
    "    \n",
    "  \n",
    "4. ``d4 = {'k1':[1,2,{'k2':['this is tricky',{'tough':[1,2,['hello']]}]}]}``\n",
    "\n",
    "   \n",
    "> **Hint:** Προχωρήστε βήμα βήμα τυπώνοντας το αποτέλεσμα σε κάθε περίπτωση και χρησιμοποιήστε και το `type()` για να ελέγχετε με τι έχετε να κάνετε κάθε φορά.\n"
   ]
  },
  {
   "cell_type": "code",
   "execution_count": null,
   "id": "9a822d3d",
   "metadata": {},
   "outputs": [],
   "source": [
    "# You can try it here\n",
    "# If you are struggling you can click on details below for the solution"
   ]
  },
  {
   "cell_type": "markdown",
   "id": "1d77e2b8",
   "metadata": {},
   "source": [
    "<div class=\"alert alert-danger alertdanger\" style=\"margin-top: 20px\">\n",
    "<details>\n",
    "\n",
    "<b><summary>Λύση</summary></b>\n",
    "    \n",
    "```python \n",
    "# Method 1\n",
    "d1.get(\"simple_key\")\n",
    "    \n",
    "# Method 2\n",
    "d1[\"simple_key\"]\n",
    "```\n",
    "    \n",
    "```python\n",
    "# Method 1\n",
    "d2[\"k1\"][\"k2\"]\n",
    "    \n",
    "# Method 2\n",
    "d2.get(\"k1\").get(\"k2\")\n",
    "\n",
    "# Method 3\n",
    "d2.get(\"k1\")[\"k2\"]\n",
    "    \n",
    "# Method 4\n",
    "d2[\"k1\"].get(\"k2\")\n",
    "```\n",
    "    \n",
    "```python\n",
    "# Method 1\n",
    "d3[\"k1\"][0][\"nest_key\"][1][0]\n",
    "\n",
    "# Method 2\n",
    "d3.get(\"k1\")[0].get(\"nest_key\")[1][0]\n",
    "```\n",
    "    \n",
    "```python\n",
    "# Method 1\n",
    "d4[\"k1\"][2][\"k2\"][1][\"tough\"][2][0]\n",
    "    \n",
    "# Method 2\n",
    "d4.get(\"k1\")[2].get(\"k2\")[1].get(\"tough\")[2][0]\n",
    "```\n",
    "    \n",
    "    \n",
    "</details>"
   ]
  },
  {
   "cell_type": "markdown",
   "id": "425557e1",
   "metadata": {},
   "source": [
    "### 4.5.2 Εφαρμογή συνοπτικών λιστών\n",
    "    \n",
    "Γράψτε κώδικα ώστε να κατασκευάσετε τις παρακάτω *συνοπτικές λίστες*:\n",
    "    \n",
    "- Μία λίστα που περιέχει το τετράγωνο όλων των αριθμών από το 0 εώς το 10\n",
    "\n",
    ">**Hint**: Μπορείτε να πάρετε ένα σύνολο τιμών στο διάστημα $[i,j-1]$ χρησιμοποιώντας τον γεννήτορα ``range(i,j)``\n",
    "    \n",
    "- Μία λίστα που θα περιέχει κάθε κεφαλαίο γράμμα της πρότασης \"Welcome to Python Course for Physicists!\"\n",
    "\n",
    ">**Hint**: Δείτε τις μεθόδους ``islower()``, ``isupper()`` και ``isalpha()`` της κλάσης ``<string>`` \n",
    "    \n",
    "- Μία λίστα με τις αντίστοιχες θερμοκρασίες στην κλίμακα Fahrenheit για τις θερμοκρασίες στην κλίμακα Κελσίου: ``celsius = [0, 10, 20.4, 34.5]``\n",
    "\n",
    ">**Hint**: Η σχέση που συνδέει την κλίμακα Fahrenheit με αυτή του Κελσίου είναι: \n",
    "    \\begin{equation}\n",
    "        F = \\frac{9C}{5} + 32\n",
    "    \\end{equation}\n",
    "    όπου $F$ η θερμοκρασία σε βαθμούς Fahrenheit και $C$ η θερμοκρασία σε βαθμούς Κελσίου."
   ]
  },
  {
   "cell_type": "code",
   "execution_count": null,
   "id": "8fa3c07b",
   "metadata": {},
   "outputs": [],
   "source": [
    "# You can try it here\n",
    "# If you are struggling you can click on details below for the solution"
   ]
  },
  {
   "cell_type": "markdown",
   "id": "3fad58b4",
   "metadata": {},
   "source": [
    "<div class=\"alert alert-danger alertdanger\" style=\"margin-top: 20px\">\n",
    "<details>\n",
    "\n",
    "<b><summary>Λύση</summary></b>\n",
    "```python\n",
    "l1 = [i**2 for i in range(0,11)]\n",
    "print(l1)\n",
    "```\n",
    "    \n",
    "    \n",
    "```python\n",
    "msg = \"Welcome to Python Course for Physicists!\"\n",
    "# Method 1:\n",
    "l2 = [letter for letter in msg if letter.isupper()]\n",
    "print(l2)\n",
    "    \n",
    "# Method 2:\n",
    "l2 = [letter for letter in msg if (not letter.islower()) and (letter.isalpha())]\n",
    "print(l2)\n",
    "```\n",
    "    \n",
    "```python\n",
    "celsius = [0, 10, 20.4, 34.5]\n",
    "l3 = [((9/5)*temp + 32) for temp in celsius]\n",
    "print(l3)\n",
    "```\n",
    "    \n",
    "</details>"
   ]
  },
  {
   "cell_type": "markdown",
   "id": "6d448b3d",
   "metadata": {},
   "source": [
    "### 4.5.3 Λογικό αποτέλεσμα σύγκρισης \n",
    "\n",
    "Ποιό είναι το λογικό (boolean) αποτέλεσμα του παρακάτω κώδικα; Επιβεβαιώστε το αποτέλεσμά σας τρέχοντας τον κώδικα στο παρακάτω κελί.\n",
    "    \n",
    "```python\n",
    "# two nested lists\n",
    "l_one = [1,2,[3,4]]\n",
    "l_two = [1,2,{'k1':4}]\n",
    "\n",
    "# True or False?\n",
    "l_one[2][0] >= l_two[2]['k1']\n",
    "```"
   ]
  },
  {
   "cell_type": "code",
   "execution_count": null,
   "id": "94a4aa3f",
   "metadata": {},
   "outputs": [],
   "source": [
    "# You can try it here"
   ]
  },
  {
   "cell_type": "code",
   "execution_count": null,
   "id": "f70de363",
   "metadata": {},
   "outputs": [],
   "source": [
    "# EOF"
   ]
  }
 ],
 "metadata": {
  "kernelspec": {
   "display_name": "Python 3",
   "language": "python",
   "name": "python3"
  },
  "language_info": {
   "codemirror_mode": {
    "name": "ipython",
    "version": 3
   },
   "file_extension": ".py",
   "mimetype": "text/x-python",
   "name": "python",
   "nbconvert_exporter": "python",
   "pygments_lexer": "ipython3",
   "version": "3.11.2"
  },
  "toc": {
   "base_numbering": 1,
   "nav_menu": {},
   "number_sections": true,
   "sideBar": true,
   "skip_h1_title": false,
   "title_cell": "Table of Contents",
   "title_sidebar": "Contents",
   "toc_cell": false,
   "toc_position": {},
   "toc_section_display": true,
   "toc_window_display": true
  }
 },
 "nbformat": 4,
 "nbformat_minor": 5
}
