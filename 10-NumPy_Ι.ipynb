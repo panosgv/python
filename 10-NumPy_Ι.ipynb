{
 "cells": [
  {
   "cell_type": "markdown",
   "id": "590d152b",
   "metadata": {},
   "source": [
    "# 10 Αριθμητική Python - NumPy Ι"
   ]
  },
  {
   "cell_type": "markdown",
   "id": "91b62bec",
   "metadata": {},
   "source": [
    "<div class=\"alert alert-block alert-info\" style=\"margin-top: 20px\">\n",
    "\n",
    "\n",
    "<b>ΣΥΝΟΠΤΙΚΑ</b>\n",
    "\n",
    "Σε αυτό το μάθημα θα εισαχθείτε στην βιβλιοθήκη `NumPy` με κύρια κλάση την `ndarray` (πίνακες). θα μάθετε:\n",
    "\n",
    "- τι είναι η βιβλιοθήκη `NumPy`\n",
    "    \n",
    "- πως δημιουργούμε πίνακες \n",
    "    \n",
    "- πράξεις μεταξύ πινάκων    \n",
    "    \n",
    "- προσπέλαση και τεμαχισμό πινάκων\n",
    "    \n",
    "- μερικές μεθόδους των πινάκων.    \n",
    "    \n",
    "</div>"
   ]
  },
  {
   "cell_type": "markdown",
   "id": "a30d8331",
   "metadata": {},
   "source": [
    "---"
   ]
  },
  {
   "cell_type": "markdown",
   "id": "4fdc2cad",
   "metadata": {},
   "source": [
    "## 10.1 Η βιβλιοθήκη NumPy"
   ]
  },
  {
   "cell_type": "markdown",
   "id": "388241f1",
   "metadata": {},
   "source": [
    "Η βιβλοθήκη ``NumPy`` αποτελεί το κύριο πακέτο για γενικό επιστημονικό προγραμματισμό στην Python, καθώς εμπεριέχει πολλές απαραίτητες αριθμητικές μεθόδους και μαθηματικούς υπολογισμούς. Μπορεί να επεξεργαστεί πίνακες Ν-διαστάσεων, σύνθετους μετασχηματισμούς πινάκων, γραμμική άλγεβρα, μετασχηματισμούς Fourier και πολλά ακόμη.\n",
    "\n",
    "\n",
    "Η βασική δομή/κλάση αντικειμένων της numpy είναι η ``ndarray`` η οποία δίνει τη δυνατότητα να ορισθούν διανύσματα και πίνακες Ν-διαστάσεων, ενώ ταυτόχρονα παρέχει προχωρημένες δυνατότητες χειρισμού των τελευταίων. Μπορεί να αναδιαμορφωθεί, να εφαρμοστούν μαθηματικές πραξεις και στατιστική ανάλυση σε αυτή, καθώς να εγγραφεί και να διαβαστεί από αρχεία. \n",
    "\n",
    "\n",
    "Η δομή ``ndarray`` είναι μια κλάση που μοιάζει πολύ με τη δομή ``list`` της Python. Σε αντίθεση, όμως, με τις λίστες η διάσταση ενός array είναι ορισμένη από την αρχή και αποθηκεύει αντικείμενα που είναι **μόνο του ίδιου τύπου** (δηλ. ``int``, ``float``, ``boolean``, ``str`` κτλ).\n",
    "\n",
    "\n",
    "Ένας πίνακας array της ``NumPy`` είναι μια **πολυδιάστατη**, **ομοιόμορφη** και **διατεταγμένη** ακολουθία **συγκεκριμένου τύπου** δεδομένων που δεικτοδοτούνται μέσω θετικών ακεραίων (όπως οι λίστες).\n",
    "\n",
    "Έχει δύο σημαντικά πλεονεκτήματα:\n",
    "\n",
    "1. είναι πολύ **αποδοτική και γρήγορη**, καθώς στηρίζεται σε precompiled κώδικα σε C\n",
    "\n",
    "2. υποστηρίζει **διανυσματικοποίηση (vectorization)** που σημαίνει ότι μια απλή πράξη μπορεί να γίνει αυτόματα πάνω σε όλη το array - οπότε δεν χρειάζεται ο βρόχος επανάληψης σε όλα της τα στοιχεία. \n",
    "\n",
    "Το τελευταίο επιτρέπει όλο τον κώδικα να είναι πιο καθαρός και ευανάγνωστος, λιγότερο επιρρεπής στα σφάλματα και πιο κοντά στην μαθηματική διατύπωση που αντιπροσωπεύει. \n",
    "\n",
    "Για να έχουμε πρόσβαση σε όλη την λειτουργικότητα της NumPy θα πρέπει να εισάγουμε την αντίστοιχη βιβλιοθήκη:\n",
    "\n",
    "```python\n",
    "import numpy as np\n",
    "```\n",
    "\n",
    "Μετά μπορούμε να αναφερθούμε σε όλες τις ιδιότητες (attributes) με το πρόθεμα `np` (πχ np.array).\n",
    "\n"
   ]
  },
  {
   "cell_type": "markdown",
   "id": "f5819da8",
   "metadata": {},
   "source": [
    "##  10.2 Δημιουργία πινάκων"
   ]
  },
  {
   "cell_type": "markdown",
   "id": "8df17f06",
   "metadata": {},
   "source": [
    "### 10.2.1 Βασικός τρόπος\n",
    "\n",
    "Ο πιο βασικός τρόπος δημιουργίας ενός πίνακα NumPy είναι με τη χρήση της μεθόδου ``numpy.array(seq)`` η οποία μετατρέπει μια ακολουθία (seq, δηλ. μια λίστα ή μια πλειάδα) σε ένα μονοδιάστατο αντικείμενο τύπου ``ndarray``.\n",
    "\n",
    "\n",
    "Στο παρακάτω παράδειγμα φαίνεται η εφαρμόγη της εν λόγω μεθόδου. Το αντικείμενο που προκύπτει είναι ουσιαστικά ένας μονοδιάστατος πίνακας - δηλαδή το **διάνυσμα** με συντεταγμένες [1,2,3]."
   ]
  },
  {
   "cell_type": "code",
   "execution_count": null,
   "id": "367f977f",
   "metadata": {},
   "outputs": [],
   "source": [
    "import numpy as np\n",
    "\n",
    "example_array = np.array([1,2,3])\n",
    "print(example_array)\n",
    "print(type(example_array))\n",
    "\n",
    "print()\n",
    "print(example_array.ndim)\n",
    "print(example_array.shape)\n",
    "print(example_array.dtype)\n",
    "print(example_array.size)"
   ]
  },
  {
   "cell_type": "markdown",
   "id": "381ee3d5",
   "metadata": {},
   "source": [
    "Υπάρχουν διάφορες εντολές οι οποίες μας δίνουν πληροφορίες για ένα αντικείμενο ``ndarray``. Οι βασικότερες ιδιότητες ενός τέτοιου αντικειμένου είναι :\n",
    "\n",
    "1. ``ndim``: ο αριθμός των διαστάσεων του πίνακα. Aναφέρεται συνολικά σαν **βαθμός (rank)**. \n",
    "\n",
    "2. ``shape``: Μια πλειάδα που καθορίζει το μέγεθος του πίνακα ως προς κάθε διάσταση (σχήμα). Πίνακας nxm έχει ως σχήμα την τιμή (n,m). Οι διαστάσεις αναφέρονται σαν **\"άξονες\" (axes)**.\n",
    "\n",
    "3. ``dtype``: Ο τύπος των στοιχείων του πίνακα. \n",
    "\n",
    "    - Όλα τα στοιχεία σε έναν πίνακα NumPy απαιτείται να είναι του ίδιου τύπου δεδομένων. \n",
    "\n",
    "    - Ο τύπος των δεδομένων καθορίζεται αυτόματα, αλλά μπορεί να αλλάξει μέσω του `dtype`.\n",
    "    \n",
    "    - Εκτός των βασικών τύπων της Python η βιβιοθήκη ``NumPy`` παρέχει επιπλέον τύπους όπως τα ``numpy.int32`` και ``numpy.float64``.\n",
    "    \n",
    "4. ``size``: Ο συνολικός αριθμός των στοιχείων.    \n",
    "\n",
    "\n",
    "Οι πίνακες NumPy έχουν **σταθερό μέγεθος** κατά τη δημιουργία τους, σε αντίθεση με τις λίστες της Python (το μέγεθος των οποίων μπορεί να αλλάξει δυναμικά). Η αλλαγή του μεγέθους ενός ``ndarray`` θα δημιουργήσει έναν νέο πίνακα και θα διαγράψει τον πρωτότυπο.\n",
    "\n",
    "Το μέγεθός τους μπορεί να είναι αυθαίρετα μεγάλο."
   ]
  },
  {
   "cell_type": "markdown",
   "id": "eb892a22",
   "metadata": {},
   "source": [
    "Για να δημιουργήσουμε πολυδιάστατους πίνακες μπορούμε να χρησιμοποιήσουμε εμφωλευμένες λίστες, όπως στο ακόλουθο παράδειγμα για ένα 2D πίνακα, στον οποίο καθορίζουμε και τον τύπο των δεδομένων να είναι `np.float64`, δηλαδή πραγματικοί αριθμοί με 64 bits."
   ]
  },
  {
   "cell_type": "code",
   "execution_count": null,
   "id": "6fb10118",
   "metadata": {},
   "outputs": [],
   "source": [
    "# Create a 2D array of data type float64\n",
    "two_dim_array = np.array([[1, 2, 3], [4,5,6]], dtype=np.float64)\n",
    "print(two_dim_array)\n",
    "print(type(two_dim_array))\n",
    "\n",
    "print()\n",
    "print(two_dim_array.ndim)\n",
    "print(two_dim_array.shape)\n",
    "print(two_dim_array.dtype)\n",
    "print(two_dim_array.size)"
   ]
  },
  {
   "cell_type": "markdown",
   "id": "01c777e7",
   "metadata": {},
   "source": [
    "### 10.2.2 Γενικές μέθοδοι "
   ]
  },
  {
   "cell_type": "markdown",
   "id": "47a5184b",
   "metadata": {},
   "source": [
    "Η μέθοδος ``numpy.array(seq)`` βασίζεται, όπως είδαμε, στην μετατροπή μίας υπάρχουσας ακολουθίας της Python σε έναν πίνακα.\n",
    "\n",
    "Εκτός αυτής της μεθόδου, υπάρχουν δεκάδες ακόμα συναρτήσεις της ``NumPy`` με τις οποίες μπορεί κανείς να δημιουργήσει έναν πίνακα. Παρακάτω θα παρουσιάσουμε συνοπτικά τους πιο συνηθισμένες. Αναζητείστε το εγχειρίδιο των μεθόδων αυτών για περισσότερες λεπτομέρειες.\n",
    "\n",
    "Οι πιο γενικές μέθοδοι για την δημιουργία πινάκων βασίζονται στον ορισμό των πινάκων μέσω των επιθυμητών διαστάσεων. Με άλλα λόγια, οι συναρτήσεις αυτές μπορούν να δημιουργήσουν έναν πίνακα με οποιεσδήποτε διαστάσεις, αρκεί να καθορίσουμε τον αριθμό των διαστάσεων καθώς και το μήκος σε κάθε διάσταση μέσω μίας λίστας ή πλειάδας."
   ]
  },
  {
   "cell_type": "markdown",
   "id": "49113ecc",
   "metadata": {},
   "source": [
    "#### `numpy.zeros` και  `numpy.ones`\n",
    "\n",
    "Οι μέθοδοι ``numpy.zeros(shape)`` και ``numpy.ones(shape)`` δημιουργούν έναν πίνακα καθορισμένου σχήματος (shape) που αποτελείται από μηδενικά ή μονάδες αντίστοιχα."
   ]
  },
  {
   "cell_type": "code",
   "execution_count": null,
   "id": "2b77a362",
   "metadata": {},
   "outputs": [],
   "source": [
    "# Passing the shape of the array using a list\n",
    "arr = np.zeros([2,3])\n",
    "print(arr)\n",
    "\n",
    "# Passing the shape of the array using a tuple\n",
    "arr = np.ones((2,3))\n",
    "print(arr)"
   ]
  },
  {
   "cell_type": "markdown",
   "id": "06e4b6cb",
   "metadata": {},
   "source": [
    "#### `numpy.empty` και  `numpy.full`\n",
    "\n",
    "Οι μέθοδοι ``numpy.empty(shape)`` και ``numpy.full(shape, fill_value)``: Η πρώτη μέθοδος δημιουργεί έναν πίνακα καθορισμένου σχήματος που αποτελείται από αυθαίρετες (μη-αρχικοποιημένες) τιμές. Η χρήση της πρέπει να γίνεται με προσοχή. Η δεύτερη μέθοδος δημιουργεί έναν πίνακα καθορισμένου σχήματος που αποτελείται από την τιμή που έχουμε καθορίσει.\n"
   ]
  },
  {
   "cell_type": "code",
   "execution_count": null,
   "id": "86115fc2",
   "metadata": {},
   "outputs": [],
   "source": [
    "# Example: Create an array using the empty method\n",
    "arr = np.empty((2,2))\n",
    "print(arr)\n",
    "\n",
    "# Example: Create an array using the full method\n",
    "arr = np.full((2,2), 8.5)\n",
    "print(arr)"
   ]
  },
  {
   "cell_type": "markdown",
   "id": "212d8df6",
   "metadata": {},
   "source": [
    "#### \\_like(array) μέθοδοι\n",
    "\n",
    "Οι προηγούμενες μέθοδοι δούλευαν με ένα συγκεκριμένο σχήμα που δινόταν σαν όρισμα. Μπορούμε όμως να χρησιμοποιήσουμε τις αντίστοιχες με την προσθήκη `_like(array)` στις οποίες το όρισμα τώρα είναι ένας άλλος πίνακας από τον οποίο παίρνει κατευθείαν τις διαστάσεις."
   ]
  },
  {
   "cell_type": "code",
   "execution_count": null,
   "id": "14614127",
   "metadata": {},
   "outputs": [],
   "source": [
    "x = np.array([[1.3, 2.4], [3.23, 43.2]])\n",
    "\n",
    "# Example: Create an array using the empty_like method\n",
    "arrlk = np.empty_like(arr, dtype=float)\n",
    "print(arrlk)\n",
    "\n",
    "# Example: Create an array using the full_like method\n",
    "arr = np.full_like(x, 8.5, dtype=float)\n",
    "print(arr)\n",
    "\n",
    "# Example: Create an array using the zeros_like method\n",
    "arr = np.zeros_like(x)\n",
    "print(arr)\n",
    "\n",
    "# Example: Create an array using the ones_like method\n",
    "arr = np.ones_like(x)\n",
    "print(arr)\n",
    "\n"
   ]
  },
  {
   "cell_type": "markdown",
   "id": "f4b8b9f6",
   "metadata": {},
   "source": [
    "#### `numpy.arange`\n",
    "\n",
    "Η μέθοδος ``numpy.arange(start, stop, pace)``: Δημιουργεί πίνακες με συνεχώς αυξανόμενες τιμές.\n",
    "\n",
    "*Σημείωση*: Σε αντίθεση όμως με την ``range`` της Python, με τη μέθοδο ``arange`` της Numpy μπορούμε να χρησιμοποιήσουμε και πραγματικούς αριθμούς (όχι μόνο ακέραιους)."
   ]
  },
  {
   "cell_type": "code",
   "execution_count": null,
   "id": "e8263688",
   "metadata": {},
   "outputs": [],
   "source": [
    "# Create an array from 0.2 to 10.2 (exclusive)\n",
    "arr = np.arange(0.2, 10.4)\n",
    "print(arr)\n",
    "\n",
    "# Recreate the same array specifying the data type\n",
    "arr = np.arange(0, 10, dtype=float)\n",
    "print(arr)\n",
    "\n",
    "#Create array from 0 to 10 (exclusive) with a pace of 0.5\n",
    "arr = np.arange(0, 10, 0.5)\n",
    "print(arr)"
   ]
  },
  {
   "cell_type": "markdown",
   "id": "179c4980",
   "metadata": {},
   "source": [
    "#### `numpy.linspace`\n",
    "\n",
    "H μέθοδος ``numpy.linspace(start, stop, num)``: Δημιουργεί πίνακες με καθορισμένο αριθμό στοιχείων και με **ίσες** αποστάσεις μεταξύ των καθορισμένων τιμών αρχής και τέλους. Αν δεν δοθεί αριθμός στοιχείων (`num`) τότε η default τιμή είναι 50. "
   ]
  },
  {
   "cell_type": "code",
   "execution_count": null,
   "id": "3298f8ab",
   "metadata": {},
   "outputs": [],
   "source": [
    "arr = np.linspace(0, 15)\n",
    "print(arr)\n",
    "print(len(arr))\n",
    "\n",
    "print()\n",
    "arr = np.linspace(0, 15, num=20)\n",
    "print(arr)\n",
    "print(len(arr))"
   ]
  },
  {
   "cell_type": "markdown",
   "id": "baedbbfd",
   "metadata": {},
   "source": [
    "#### `numpy.logspace`\n",
    "\n",
    "Παρόμοια είναι και η μέθοδος ``numpy.logspace(start, stop, num)`` με τη διαφορά ότι η απόσταση μεταξύ των τιμών μεταβάλλεται λογαριθμικά. Εκ κατασκευής η βάση είναι το 10 διαφορετικά μπορεί να οριστεί με `base`."
   ]
  },
  {
   "cell_type": "code",
   "execution_count": null,
   "id": "7dc10fe3",
   "metadata": {},
   "outputs": [],
   "source": [
    "arr = np.logspace(0, 10)\n",
    "print(arr)\n",
    "print(len(arr))\n",
    "\n",
    "print()\n",
    "arr = np.logspace(0, 10, num=20)\n",
    "print(arr)\n",
    "print(len(arr))\n",
    "\n",
    "print()\n",
    "arr = np.logspace(1, 3, num=4, base=2)\n",
    "print(arr)"
   ]
  },
  {
   "cell_type": "markdown",
   "id": "e5048beb",
   "metadata": {},
   "source": [
    "#### `numpy.eye`\n",
    "\n",
    "Η μέθοδος ``numpy.eye(n, m)`` ορίζει τον 2D ταυτοτικό πίνακα. Τα διαγώνια στοιχεία (i=j) είναι ίσα με τη μονάδα ενώ τα μη-διαγώνια ίσα με μηδεν. Είναι ένας ειδκός πίνακας ιδιαίτερα χρήσιμος στην γραμμική άλγεβρα.\n"
   ]
  },
  {
   "cell_type": "code",
   "execution_count": null,
   "id": "c71aa08f",
   "metadata": {},
   "outputs": [],
   "source": [
    "arr = np.eye(3, 3)\n",
    "arr"
   ]
  },
  {
   "cell_type": "markdown",
   "id": "15eb0faa",
   "metadata": {},
   "source": [
    "#### `numpy.diag`\n",
    "\n",
    "Η μέθοδος ``numpy.diag(array)`` ορίζει ένα ειδικό πίνακα, τον τετραγωνικό 2D πίνακα με δοθέντες τιμές κατά μήκος της διαγωνίου. Στην περίπτωση που δίνεται ως όρισμα ένας 2D πίνακας επιστρέφει έναν 1D πίνακα που περιέχει μόνο τα διαγώνια στοιχεία. \n"
   ]
  },
  {
   "cell_type": "code",
   "execution_count": null,
   "id": "28a4a15c",
   "metadata": {},
   "outputs": [],
   "source": [
    "arr = np.diag([1, 2, 3])\n",
    "arr"
   ]
  },
  {
   "cell_type": "code",
   "execution_count": null,
   "id": "348b413b",
   "metadata": {},
   "outputs": [],
   "source": [
    "# A 2D array\n",
    "a = np.array([[1, 2], [3, 4]])\n",
    "\n",
    "arr = np.diag(a)\n",
    "arr"
   ]
  },
  {
   "cell_type": "markdown",
   "id": "ea5786eb",
   "metadata": {},
   "source": [
    "## 10.3 Πράξεις μεταξύ πινάκων"
   ]
  },
  {
   "cell_type": "markdown",
   "id": "9506038b",
   "metadata": {},
   "source": [
    "Οι πίνακες ``NumPy`` μπορούν να χρησιμοποιηθούν σε μαθηματικές πράξεις και συμπεριφέρονται όπως θα περίμενε κανείς με στοιχειώδεις γνώσεις γραμμικής άλγεβρας.\n",
    "\n",
    "Οι μαθηματικές πράξεις μεταξύ πινάκων ``Numpy`` πραγματοποιούνται **πάντα** στοιχείο-στοιχείο (elementwise). Αυτή η έννοια της \"διανυσματικοποίησης\", που δεν υπάρχει εγγενώς στην Python, επιτρέπει ταχύτατους υπολογισμούς.\n",
    "\n",
    "Σχεδόν *ποτέ* δεν είναι καλή επιλογή να δουλεύετε με πίνακες χρησιμοποιώντας βρόγχους επανάληψης-for για να επιτελέσετε κάποια μαθηματική πράξη καθώς με αυτόν τον τρόπο χάνετε την ταχύτητα που σας προσφέρει η διανυσματικοποίηση.\n",
    "\n",
    "\n",
    "Το παρακάτω παράδειγμα του πολλαπλασιασμού ενός βαθμωτού μεγέθους με έναν πίνακα και μια λίστα επιδεικνύει τις δυνατότητες της διανυσματικοποίησης."
   ]
  },
  {
   "cell_type": "code",
   "execution_count": null,
   "id": "97f6e451",
   "metadata": {},
   "outputs": [],
   "source": [
    "# A common list\n",
    "L = [1,2,3]\n",
    "\n",
    "# The array version of L\n",
    "A = np.array(L)\n",
    "\n",
    "# Multiplication of a scalar with an array\n",
    "print(2*A)\n",
    "\n",
    "# Multiplication of a scalar with a list\n",
    "print(2*L)\n",
    "\n",
    "# In order to do the same with the list\n",
    "# we need to use a for-loop. This is very\n",
    "# inneficient compared to vectorization\n",
    "# provided by numpy arrays\n",
    "for idx, val in enumerate(L):\n",
    "    L[idx] = 2*val\n",
    "print(L)"
   ]
  },
  {
   "cell_type": "code",
   "execution_count": null,
   "id": "9ae40c49",
   "metadata": {},
   "outputs": [],
   "source": [
    "x = np.array([1, 2, 3])\n",
    "y = np.array([4, 5, 6])\n",
    "\n",
    "print(x + y)   # element-wise addition\n",
    "print(x * y)   # element-wise multiplication\n",
    "print(x + 2 * y)  # more complex manipulation\n",
    "print(x**y)"
   ]
  },
  {
   "cell_type": "markdown",
   "id": "e235be5b",
   "metadata": {},
   "source": [
    "Η διανυσματικοποίηση προσφέρει την χρήση συναρτήσεων υψηλών επιδόσεων."
   ]
  },
  {
   "cell_type": "code",
   "execution_count": null,
   "id": "10bf21f9",
   "metadata": {},
   "outputs": [],
   "source": [
    "# Create the x-space\n",
    "x = np.linspace(0.0, 2.0 * np.pi, 50)\n",
    "\n",
    "# Find the y-value for each point in the x-space\n",
    "y = np.sin(x)\n",
    "\n",
    "# Find the sum of x-space\n",
    "z = np.sum(x)\n",
    "\n",
    "print(y)\n",
    "print(z)"
   ]
  },
  {
   "cell_type": "markdown",
   "id": "afa01b9f",
   "metadata": {},
   "source": [
    "Το ίδιο ισχύει και για πίνακες μεγαλύτερων διαστάσεων όπου και πάλι οι πράξεις γίνονται στοιχείο-στοιχείο. \n",
    "\n",
    "_Σημείωση: Για τις συνηθισμένες πράξεις πινάκων που ισχύουν στην γραμμική άλγεβρα υπάρχουν άλλες εντολές (δείτε για περισσότερα το πακέτο συναρτήσεων '[numpy.linalg](https://numpy.org/doc/stable/reference/routines.linalg.html)', αλλά εμείς δεν θα ασχοληθούμε περαιτέρω με αυτές εδώ)._ "
   ]
  },
  {
   "cell_type": "code",
   "execution_count": null,
   "id": "233a215b",
   "metadata": {},
   "outputs": [],
   "source": [
    "# Add two matrices\n",
    "A = np.array([[1, 2], [3, 4]])  # 2x2 matrix\n",
    "B = np.array([[5, 6], [7, 8]])  # 2x2 matrix\n",
    "print(A)\n",
    "print(B)\n",
    "\n",
    "# Perform matrix addition\n",
    "print(\"Result of matrix addition (A + B):\")\n",
    "print(A+B)"
   ]
  },
  {
   "cell_type": "code",
   "execution_count": null,
   "id": "60613d3d",
   "metadata": {},
   "outputs": [],
   "source": [
    "# Multiply two matrices\n",
    "A = np.array([[1, 2, 3], [4, 5, 6]])  # 2x3 matrix\n",
    "B = np.array([[7, 8], [9, 10], [11, 12]])  # 3x2 matrix\n",
    "print(A)\n",
    "print(B)\n",
    "\n",
    "# Perform matrix multiplication\n",
    "print(\"Result of matrix multiplication (A.dot(B)):\")\n",
    "print(np.dot(A, B))"
   ]
  },
  {
   "cell_type": "markdown",
   "id": "d8de57d5",
   "metadata": {},
   "source": [
    "## 10.4 Δείκτες πινάκων - τεμαχισμός πινάκων (indexing - slicing)"
   ]
  },
  {
   "cell_type": "markdown",
   "id": "bf1157f6",
   "metadata": {},
   "source": [
    "Ιδιαίτερα για τους μονοδιάστατους πίνακες η προσπέλαση καθώς και ο τεμαχισμός είναι παρόμοιος με αυτόν που συναντήσαμε στις λίστες της Python."
   ]
  },
  {
   "cell_type": "code",
   "execution_count": null,
   "id": "8fc6fedd",
   "metadata": {},
   "outputs": [],
   "source": [
    "# Slicing a 1D array\n",
    "a = np.arange(0, 11, 1)\n",
    "print(a)\n",
    "\n",
    "print()\n",
    "print(a[5])    # access element with index 5\n",
    "print(a[2:6])  # access index 2 (inclusive) up index six (exclusive)\n",
    "print(a[2:6:2]) # access every other element starting from the second\n",
    "print(a[2:])   # access all elements starting from index 2\n",
    "print(a[:-1])  # access all elements except the last\n",
    "print(a[-1])   # access the last element "
   ]
  },
  {
   "cell_type": "markdown",
   "id": "9e2ab026",
   "metadata": {},
   "source": [
    "Για τους πολυδιάστατους πίνακες ισχύουν οι ίδιοι κανόνες όπως και στη μια διάσταση, αλλά με την πολυπλοκότητα ότι πάντα θα αναφέρονται και οι γραμμές και οι στήλες. Οι δύο διαστάσεις διαχειρίζονται *ανεξάρτητα η μια από την άλλη* και διαχωρίζονται με ένα κόμμα. Ο πρώτος δείκτης αναφέρεται στις γραμμές ενώ ο δεύτερος στις στήλες: ``array[row, col]``"
   ]
  },
  {
   "cell_type": "code",
   "execution_count": null,
   "id": "d15d522f",
   "metadata": {},
   "outputs": [],
   "source": [
    "# Slicing a 2D array\n",
    "a = np.array([[23,14,5], [12, 6, 52], [9, 4, 15]])\n",
    "print(a)\n",
    "\n",
    "print()\n",
    "print(a[1,2])                    # access element of second row, third column\n",
    "                                 # first index = row, second index = column"
   ]
  },
  {
   "cell_type": "code",
   "execution_count": null,
   "id": "d185d784",
   "metadata": {},
   "outputs": [],
   "source": [
    "print(a[1:3,2])                  # access elements in the second and third row and\n",
    "                                 # the third column  "
   ]
  },
  {
   "cell_type": "code",
   "execution_count": null,
   "id": "deb4aef0",
   "metadata": {},
   "outputs": [],
   "source": [
    "print(a[:,2])                    # access elements of third column  "
   ]
  },
  {
   "cell_type": "code",
   "execution_count": null,
   "id": "5feae817",
   "metadata": {},
   "outputs": [],
   "source": [
    "print(a[2,:])                    # access elements of third row"
   ]
  },
  {
   "cell_type": "code",
   "execution_count": null,
   "id": "06211d51",
   "metadata": {},
   "outputs": [],
   "source": [
    "print(a[0:-1, 1:-1])              # access 2D-subarray"
   ]
  },
  {
   "cell_type": "code",
   "execution_count": null,
   "id": "c4a04e2e",
   "metadata": {},
   "outputs": [],
   "source": [
    "a[1,:] = 100                     # slicing on the left-side of an assignment                \n",
    "                                 # substitute subarray\n",
    "\n",
    "print(a)"
   ]
  },
  {
   "cell_type": "markdown",
   "id": "19b7b476",
   "metadata": {},
   "source": [
    " <div class=\"alert alert-block alert-info\" style=\"margin-top: 20px\">\n",
    "    \n",
    "&#9755; **Σημείωση:** Οι τεμαχισμοί δημιουργούν \"εικόνες\" των πινάκων και όχι αντίγραφα του αρχικού πίνακα. Χρειάζεται λοιπόν προσοχή για το τι θέλετε να κάνετε με τους πίνακες και τους υπο-πίνακες που δημιουργείτε. \n",
    "    \n",
    "Για παράδειγμα, αν αλλάζετε κάποιες τιμές σε ένα τεμαχισμένο πίνακα τότε αλλάζετε τις τιμές στον αρχικό πίνακα (προηγούμενο παράδειγμα). Αν αυτό δεν είναι κάτι που θέλετε να κάνετε τότε θα πρέπει να ακολουθήσετε άλλη προσέγγιση (π.χ. να δημιουργήσετε ένα αντίγραφο του αρχικού πίνακα πρώτα).    \n",
    "    \n",
    "</div>"
   ]
  },
  {
   "cell_type": "markdown",
   "id": "f5f44651",
   "metadata": {},
   "source": [
    "##  10.5 Μέθοδοι πινάκων"
   ]
  },
  {
   "cell_type": "markdown",
   "id": "18f6bc9d",
   "metadata": {},
   "source": [
    "Η ``NumPy`` υποστηρίζει πληθώρα μεθόδων και μαθηματικών συναρτήσεων που μπορούν να αξιοποιηθούν και να επιτελέσουν διάφορες χρήσιμες λειτουργίες. Παρακάτω θα αναφέρουμε συνοπτικά κάποιες που εμφανίζονται συχνά στα πλαίσια της επεξεργασίας δεδομένων. Μπορείτε να ανατρέξετε στο [εγχειρίδιο](https://numpy.org/doc/stable/reference/) της ``NumPy`` ώστε να έχετε μια αντίληψη της πλούσιας γκάμας εργαλείων που προσφέρει."
   ]
  },
  {
   "cell_type": "code",
   "execution_count": null,
   "id": "30636668",
   "metadata": {},
   "outputs": [],
   "source": [
    "a = np.array([1,2])\n",
    "\n",
    "# attributes and methods of object np.array\n",
    "dir(a)"
   ]
  },
  {
   "cell_type": "markdown",
   "id": "fed7dfed",
   "metadata": {},
   "source": [
    "#### `numpy.copy`\n",
    "\n",
    "Η μέθοδος ``numpy.copy(array)`` χρησιμοποιείται όταν έχουν δημιουργηθεί οι πίνακες και  μπορείτε να τους αντιγράψετε, να τους ενώσετε ή εν γένει να τους τροποποιήσετε ώστε να δημιουργήσετε νέους πίνακες. Όταν εκχωρείτε έναν πίνακα ή τα στοιχεία του σε κάποια νέα μεταβλητή, πρέπει να χρησιμοποιήσετε τη μέθοδο ``numpy.copy`` αλλιώς η μεταβλητή απλά **θα δείχνει στον αρχικό πίνακα**. Αυτό σημαίνει ότι οποιαδήποτε μεταβολή στον αρχικό πίνακα θα επηρεάσει τη μεταβλητή και το αντίστροφο, κάτι που πιθανόν δεν θέλετε να συμβαίνει."
   ]
  },
  {
   "cell_type": "code",
   "execution_count": null,
   "id": "f05f3b12",
   "metadata": {},
   "outputs": [],
   "source": [
    "# Example: The importance of numpy.copy\n",
    "a = np.array([1, 2, 3, 4, 5, 6])\n",
    "print(a)\n",
    "\n",
    "# Slice the array and store it a new variable\n",
    "b = a[:2]\n",
    "print(b)\n",
    "\n",
    "b += 1\n",
    "print(b)\n",
    "\n",
    "# The initial array has changed!\n",
    "print(a)"
   ]
  },
  {
   "cell_type": "markdown",
   "id": "d9579894",
   "metadata": {},
   "source": [
    "Προσέξτε στο παραπάνω παράδειγμα πως **δεν** δημιουργήσαμε κάποιον νέο πίνακα. Το μόνο που κάναμε ήταν να δημιουργήσουμε μια μεταβλητή ``b`` που \"έβλεπε\" (ή πρόβαλλε) τα πρώτα δύο στοιχεία του πίνακα ``a``.\n",
    "\n",
    "Όταν προσαυξήσαμε την μεταβλητή ``b`` κατά 1, επηρεάστηκε επίσης ο αρχικός πίνακας με τα 2 πρώτα στοιχεία του (αυτά που έβλεπε η μεταβλητή b) να έχουν επίσης προσαυξηθεί κατά 1. Πήραμε δηλαδή το ίδιο αποτέλεσμα σαν να προσθέταμε 1 στο ``a[:2]``.\n",
    "\n",
    "Αν θέλαμε να δημιουργήσουμε έναν **νέο** πίνακα και όχι απλά μια μεταβλητή που δείχνει στον αρχικό πίνακα, θα έπρεπε να δουλέψουμε όπως φαίνεται στο παρακάτω κελί."
   ]
  },
  {
   "cell_type": "code",
   "execution_count": null,
   "id": "3f196057",
   "metadata": {},
   "outputs": [],
   "source": [
    "a = np.array([1, 2, 3, 4])\n",
    "print(a)\n",
    "\n",
    "# Slice the array and store A COPY in a new variable\n",
    "b = a[:2].copy()\n",
    "print(b)\n",
    "\n",
    "b += 1\n",
    "print(b)\n",
    "\n",
    "# The initial array did not change!\n",
    "print(a)"
   ]
  },
  {
   "cell_type": "markdown",
   "id": "887b10ea",
   "metadata": {},
   "source": [
    "#### `numpy.reshape`\n",
    "\n",
    "Με την μέθοδο ``numpy.reshape(newshape)`` μπορούμε να αλλάξουμε τη μορφή ενός πίνακα, δηλαδή ένα 1D array μπορεί να γίνει 2D. Αυτό μπορεί να επιτευχθεί με την μέθοδο ``reshape``. Ο μόνος περιορισμός είναι ότι το νέο ``array`` πρεπει να έχει το ίδιο πλήθος στοιχείων με το παλιό."
   ]
  },
  {
   "cell_type": "code",
   "execution_count": null,
   "id": "f78053bb",
   "metadata": {},
   "outputs": [],
   "source": [
    "# Example: The reshape() method\n",
    "\n",
    "# Create an array of length 9\n",
    "a = np.arange(1, 10)\n",
    "print(a)\n",
    "\n",
    "# Reshape the array\n",
    "# By default the operation is\n",
    "# done on a copy of the original array\n",
    "b = a.reshape(3,3)\n",
    "print(b)\n",
    "\n",
    "print(a)"
   ]
  },
  {
   "cell_type": "markdown",
   "id": "309ba3c3",
   "metadata": {},
   "source": [
    "#### `numpy.astype`\n",
    "\n",
    "Η μέθοδος ``numpy.astype(dtype)`` επιστρέφει ένα αντίγραφο του πίνακα στο οποίο έχει αλλάξει ο τύπος των στοιχείων του."
   ]
  },
  {
   "cell_type": "code",
   "execution_count": null,
   "id": "59f351c5",
   "metadata": {},
   "outputs": [],
   "source": [
    "# Initial array with integers\n",
    "print(b)\n",
    "\n",
    "# Cast array b into float dtype\n",
    "b = b.astype(np.float64)\n",
    "print(b)"
   ]
  },
  {
   "cell_type": "markdown",
   "id": "ff16ab9b",
   "metadata": {},
   "source": [
    "#### `numpy.resize`\n",
    "\n",
    "Η μέθοδος ``numpy.resize(array, new_shape))`` επιστρέφει ένα νέο πίνακα με το συγκεκριμένο σχήμα. Αν ο καινούργιος πίνακας είναι μεγαλύτερος από τον αρχικό τότε αυτός συμπληρώνεται με επαναλήψεις από τον πίνακα array. \n",
    "\n",
    "_Σημείωση: αυτό είναι διαφορετικό από την μέθοδο `array.resize(new_shape)` που συμπληρώνει με 0 αντί για επαναλήψεις των στοιχείων του πίνακα array._"
   ]
  },
  {
   "cell_type": "code",
   "execution_count": null,
   "id": "5e2701a8",
   "metadata": {},
   "outputs": [],
   "source": [
    "import numpy as np\n",
    "\n",
    "# Create a 1D array\n",
    "arr = np.array([1, 2, 3, 4, 5])\n",
    "\n",
    "# Resize the array to have a length of 8\n",
    "resized_arr = np.resize(arr, (8,))\n",
    "\n",
    "print(\"Original array:\")\n",
    "print(arr)\n",
    "print(\"\\nResized array:\")\n",
    "print(resized_arr)"
   ]
  },
  {
   "cell_type": "code",
   "execution_count": null,
   "id": "8392241c",
   "metadata": {},
   "outputs": [],
   "source": [
    "# Create a 2D array\n",
    "arr_2d = np.array([[1, 2], [3, 4]])\n",
    "\n",
    "# Resize the array to have shape (3, 3)\n",
    "resized_arr_2d = np.resize(arr_2d, (3, 3))\n",
    "\n",
    "print(\"Original 2D array:\")\n",
    "print(arr_2d)\n",
    "print(\"\\nResized 2D array:\")\n",
    "print(resized_arr_2d)"
   ]
  },
  {
   "cell_type": "markdown",
   "id": "cbb7b9f4",
   "metadata": {},
   "source": [
    "#### `numpy.concatenate`\n",
    "\n",
    "Η μέθοδος `np.concatenate((arr1, arr2, ...), axis=0)` ενώνει τους πίνακες (που εμπεριέχονται σαν μια πλειάδα `(arr1, arr2, ...)`) ως προς ένα άξονα. Αν είναι axis=0 τότε οι πίνακες ενώνονται στις γραμμές (δηλαδή προκύπτει ένας πίνακας που περιέχει το σύνολο όλων των γραμμών όλων των πινάκων). Αν είναι axis=1 τότε ενώνονται στις στήλες τους.   "
   ]
  },
  {
   "cell_type": "code",
   "execution_count": null,
   "id": "a77e764b",
   "metadata": {},
   "outputs": [],
   "source": [
    "arr1 = np.array([[1, 2], [3, 4]])\n",
    "arr2 = np.array([[5, 6], [7, 8]])\n",
    "print(arr1)\n",
    "print(arr2)\n",
    "print()\n",
    "\n",
    "merged_rows = np.concatenate((arr1, arr2), axis=0)\n",
    "print(\"Merged along rows:\")\n",
    "print(merged_rows)\n",
    "\n",
    "merged_columns = np.concatenate((arr1, arr2), axis=1)\n",
    "print(\"Merged along columns:\")\n",
    "print(merged_columns)\n"
   ]
  },
  {
   "cell_type": "markdown",
   "id": "e53bf4f5",
   "metadata": {},
   "source": [
    "#### `numpy.split`\n",
    "\n",
    "Η μέθοδος `np.split(arr, ind, axis)` χωρίζει ένα πίνακα (arr) με βάση τον ακέραιο ή ένα 1D πίνακα, που μεταφράζεται σε αντίστοιχο αριθμό υποπινάκων ή στον χωρισμό του πίνακα με βάση τους δείκτες όπως καθορίζονται από τον 1D πίνακα. Το axis=0 σημαίνει ότι ο πίνακας χωρίζεται με βάση τις γραμμές και το axis=1 με βάση τις στήλες. "
   ]
  },
  {
   "cell_type": "code",
   "execution_count": null,
   "id": "828999e2",
   "metadata": {},
   "outputs": [],
   "source": [
    "x = np.arange(9.0)\n",
    "print(x)\n",
    "print()\n",
    "\n",
    "# Split x in 3 sub-arrays \n",
    "split_x3 = np.split(x, 3)\n",
    "print(split_x3)\n",
    "for a in split_x3:\n",
    "    print(a)\n",
    "    \n",
    "print()    \n",
    "# Split x based on indexes as provided by the 1D array\n",
    "split_ind = np.split(x, [3, 5, 6, 10])\n",
    "print(split_ind)\n",
    "for a in split_ind:\n",
    "    print(a)\n"
   ]
  },
  {
   "cell_type": "markdown",
   "id": "0ed0ce48",
   "metadata": {},
   "source": [
    "Όταν ο δείκτης είναι μεγαλύτερος της διάστασης του πίνακα x (π.χ. 10 στο παραπάνω παράδειγμα), τότε επιστρέφεται ένας άδειος υποπίνακας."
   ]
  },
  {
   "cell_type": "code",
   "execution_count": null,
   "id": "537b5eb9",
   "metadata": {},
   "outputs": [],
   "source": [
    "arr = np.array([[1, 2, 3, 4], [5, 6, 7, 8], [9, 10, 11, 12]])\n",
    "print(arr)\n",
    "print()\n",
    "\n",
    "print(\"Split along columns\")\n",
    "print('into two sub-arrays:')\n",
    "split_columns = np.split(arr, 2, axis=1)\n",
    "for a in split_columns:\n",
    "    print(a)\n",
    "    \n",
    "print()    \n",
    "print('based on indexes:')    \n",
    "split_columns = np.split(arr, [1,3,5], axis=1)\n",
    "for a in split_columns:\n",
    "    print(a)"
   ]
  },
  {
   "cell_type": "markdown",
   "id": "839fdc25",
   "metadata": {},
   "source": [
    "#### `numpy.sort`\n",
    "\n",
    "Η μέθοδος `np.sort(array, axis)` επιστρέφει ένα ταξινομημένο αντίγραφο του πίνακα array. By default το `axis=-1`που σημαίνει ότι η ταξινόμηση γίνεται με βάση την τελευταία διάσταση του πίνακα. \n",
    "\n",
    "Σε ν-διάστατους πίνακες:\n",
    "\n",
    "- Αν axis=0 τότε η ταξινόμηση γίνεται _διαμέσου των γραμμών_, που σημαίνει ότι κάθε στήλη αντιμετωπίζεται ξεχωριστά επιστρέφοντας την ταξινόμηση κατά στήλη, ενώ οι γραμμές κρατούνται άθικτες. Εν τέλει επιστρέφεται ένας πίνακας με ίδιο αριθμό γραμμών και ταξινομημένες στήλες. \n",
    "\n",
    "- Αν axis=1 τότε η ταξινόμηση γίνεται _διαμέσου των στηλών_, που σημαίνει ότι η κάθε γραμμή αντιμετωπίζεται ξεχωριστά επιστρέφοντας την καταξινόμηση κατά γραμμή, ενώ οι στήλες κρατούνται άθικτες. Εν τέλει επιστρέφεται ένας πίνακας με ίδιο αριθμό στηλών και ταξινομημένες γραμμές."
   ]
  },
  {
   "cell_type": "code",
   "execution_count": null,
   "id": "ebebd38c",
   "metadata": {},
   "outputs": [],
   "source": [
    "arr = np.array([3, 1, 5, 2, 4])\n",
    "print(arr)\n",
    "sorted_arr = np.sort(arr)\n",
    "print(sorted_arr)"
   ]
  },
  {
   "cell_type": "code",
   "execution_count": null,
   "id": "4fedb9f9",
   "metadata": {},
   "outputs": [],
   "source": [
    "arr = np.array([[3, 1, 5], [2, 4, 6]])\n",
    "print(arr)\n",
    "print(arr.ndim)\n",
    "print(arr.shape)\n",
    "print()\n",
    "\n",
    "sorted_default = np.sort(arr)\n",
    "print(\"Sorted along last axis (default):\")\n",
    "print(sorted_default)\n",
    "\n",
    "sorted_rows = np.sort(arr, axis=1)\n",
    "print(\"Sorted along rows:\")\n",
    "print(sorted_rows)\n",
    "\n",
    "sorted_columns = np.sort(arr, axis=0)\n",
    "print(\"Sorted along columns:\")\n",
    "print(sorted_columns)"
   ]
  },
  {
   "cell_type": "markdown",
   "id": "b281bcb5",
   "metadata": {},
   "source": [
    "_Σημείωση_: υπάρχει και η μέθοδος `array.sort()` που εφαρμόζεται στον ίδιο τον πίνακα. Η διαφορά με την `np.sort(array)` είναι ότι η τελευταία επιστρέφει ένα ταξινομημένο **αντίγραφο** που σημαίνει ότι **δεν αλλάζει** τον αρχικό πίνακα, ενώ η πρώτη **τον αλλάζει** ταξινομώντας τον αρχικό πίνακα. "
   ]
  },
  {
   "cell_type": "markdown",
   "id": "3569d822",
   "metadata": {},
   "source": [
    "#### `numpy.min` και `numpy.max`\n",
    "\n",
    "Οι μέθοδοι `np.min(array)` και `numpy.max(array)` επιστρέφουν το ελάχιστο και το μέγιστο ενός πίνακα (ή κατά μια διάσταση)\n"
   ]
  },
  {
   "cell_type": "code",
   "execution_count": null,
   "id": "20bc41df",
   "metadata": {},
   "outputs": [],
   "source": [
    "arr = np.array([3, 1, 5, 2, 4])\n",
    "\n",
    "# Minimum and maximum values\n",
    "min_value = np.min(arr)\n",
    "max_value = np.max(arr)\n",
    "\n",
    "print(\"Array:\", arr)\n",
    "print(\"Minimum value:\", min_value)\n",
    "print(\"Maximum value:\", max_value)"
   ]
  },
  {
   "cell_type": "code",
   "execution_count": null,
   "id": "6a851629",
   "metadata": {},
   "outputs": [],
   "source": [
    "arr_2d = np.array([[3, 1, 5],\n",
    "                   [2, 4, 6]])\n",
    "print(arr_2d)\n",
    "print()\n",
    "\n",
    "# Minimum and maximum values\n",
    "min_value = np.min(arr_2d)\n",
    "max_value = np.max(arr_2d)\n",
    "\n",
    "print(\"Minimum value:\", min_value)\n",
    "print(\"Maximum value:\", max_value)"
   ]
  },
  {
   "cell_type": "markdown",
   "id": "c2afed09",
   "metadata": {},
   "source": [
    "Παρόμοια με το `np.sort()` η χρήση του `axis`θα επιστρέψει το ελάχιστο/μέγιστο ανά στήλη και ανά γραμμή για axis = 0 και 1 αντίστοιχα. "
   ]
  },
  {
   "cell_type": "code",
   "execution_count": null,
   "id": "cc8f34b2",
   "metadata": {},
   "outputs": [],
   "source": [
    "# Minimum and maximum values across different axis\n",
    "min_value_ax0 = np.min(arr_2d, axis=0)\n",
    "max_value_ax1 = np.max(arr_2d, axis=1)\n",
    "\n",
    "print(\"2D Array:\")\n",
    "print(arr_2d)\n",
    "print(\"\\nMinimum value along columns:\", min_value_ax0)\n",
    "print(\"Maximum value along rows:\", max_value_ax1)"
   ]
  },
  {
   "cell_type": "markdown",
   "id": "aa44d08a",
   "metadata": {},
   "source": [
    "#### `numpy.argmin` και `numpy.argmax`\n",
    "\n",
    "Οι μέθοδοι `np.argmin(array)` και `numpy.argmax(array)` επιστρέφουν τους δείκτες (θέσεις) του ελαχίστου και του μεγίστου ενός πίνακα. Αν δίνεται η διάσταση (π.χ. `axis=0`) τότε επιστρέφονται οι τιμές όλων των ελαχίστων/μεγίστων στην διάσταση αυτή."
   ]
  },
  {
   "cell_type": "code",
   "execution_count": null,
   "id": "7a82daaf",
   "metadata": {},
   "outputs": [],
   "source": [
    "# 1D example\n",
    "arr = np.array([3, 1, 5, 2, 4])\n",
    "print(arr)\n",
    "print()\n",
    "\n",
    "# Indices of minimum and maximum values\n",
    "argmin_index = np.argmin(arr)\n",
    "argmax_index = np.argmax(arr)\n",
    "\n",
    "print(\"Index of minimum value:\", argmin_index)\n",
    "print(\"Index of maximum value:\", argmax_index)"
   ]
  },
  {
   "cell_type": "code",
   "execution_count": null,
   "id": "927ddc28",
   "metadata": {},
   "outputs": [],
   "source": [
    "# 2D example\n",
    "arr_2d = np.array([[3, 1, 5],\n",
    "                   [2, 4, 6]])\n",
    "print(arr_2d)\n",
    "print()\n",
    "\n",
    "# Indices of minimum and maximum values\n",
    "argmin_index = np.argmin(arr_2d)\n",
    "argmax_index = np.argmax(arr_2d)\n",
    "\n",
    "print(\"Index of minimum value:\", argmin_index)\n",
    "print(\"Index of maximum value:\", argmax_index)"
   ]
  },
  {
   "cell_type": "markdown",
   "id": "55bed023",
   "metadata": {},
   "source": [
    "Αν δίνεται το `axis` τότε σε 2D (ή γενικότερα ΝD) πίνακες το min/max που επιστρέφεται είναι αυτά που βρίσκονται σε όλο τον πίνακα."
   ]
  },
  {
   "cell_type": "code",
   "execution_count": null,
   "id": "17ee0d69",
   "metadata": {},
   "outputs": [],
   "source": [
    "# 2D example with axis\n",
    "print(arr_2d)\n",
    "\n",
    "# Indices of minimum and maximum values\n",
    "argmin_index_ax0 = np.argmin(arr_2d, axis=0)\n",
    "argmax_index_ax1 = np.argmax(arr_2d, axis=1)\n",
    "\n",
    "print(\"Index of minimum value along columns:\", argmin_index_ax0)\n",
    "print(\"Index of maximum value along rows:\", argmax_index_ax1)"
   ]
  },
  {
   "cell_type": "markdown",
   "id": "e492527a",
   "metadata": {},
   "source": [
    "## 10.6 Ασκήσεις"
   ]
  },
  {
   "cell_type": "markdown",
   "id": "9d46d3cf",
   "metadata": {},
   "source": [
    "<div class=\"alert alert-block alert-warning\" style=\"margin-top: 20px\">\n",
    "\n",
    "<b>Άσκηση 10.1</b>\n",
    "    \n",
    "1. Δημιουργήστε μια λίστα με τυχαίους αριθμούς (όπως θέλετε) και στην συνέχεια μετατρέψτε την σε πίνακα ``NumPy``.\n",
    "\n",
    "\n",
    "2. Δημιουργήστε έναν 4x3 πίνακα ``NumPy`` με τυχαία νούμερα μεταξύ 22 και 88.\n",
    "\n",
    "> TIP: Ψάξτε στο εγχειρίδιο της NumPy για το πως μπορείτε να το κάνετε αυτό με μια εντολή! (Δείτε σχετικά στο np.random)\n",
    "\n",
    "\n",
    "3. Δημιουργήστε έναν 1D πίνακα ``NumPy`` με 10 στοιχεία μεταξύ 1 και 100, τα οποία απέχουν μεταξύ τους με λογαριθμικό τρόπο."
   ]
  },
  {
   "cell_type": "code",
   "execution_count": null,
   "id": "ac8e87a5",
   "metadata": {},
   "outputs": [],
   "source": [
    "# You can try it here\n",
    "# If you are struggling you can click on details below for the solution"
   ]
  },
  {
   "cell_type": "markdown",
   "id": "61e50258",
   "metadata": {},
   "source": [
    "<div class=\"alert alert-danger alertdanger\" style=\"margin-top: 20px\">\n",
    "<details>\n",
    "\n",
    "<b><summary>Λύσεις</summary></b>\n",
    "    \n",
    "```python \n",
    "randoms = [ random.uniform(0,100) for i in range(10) ]\n",
    "arr = np.array(randoms)\n",
    "print(arr)\n",
    "print(type(arr))\n",
    "\n",
    "b = np.random.randint(22, 89, size=(4, 3))\n",
    "print(b)\n",
    "\n",
    "c = np.logspace(0, 2, num=10)\n",
    "print(c)\n",
    "```\n",
    "    \n",
    "</details>"
   ]
  },
  {
   "cell_type": "markdown",
   "id": "2161ad9e",
   "metadata": {},
   "source": [
    "<div class=\"alert alert-block alert-warning\" style=\"margin-top: 20px\">\n",
    "<b>Άσκηση 10.2</b>\n",
    "\n",
    "* Δημιουργήστε έναν 1D πίνακα ``a`` με στοιχεία από το 1 εώς το 100 με βήμα 1 (ο τύπος στοιχείων να είναι ακέραιος).\n",
    "\n",
    "\n",
    "* Δημιουργήστε έναν πίνακα ``b`` που περιέχει τις τετραγωνικές τιμές του πίνακα ``a``.\n",
    "\n",
    "\n",
    "* Δημιουργήστε έναν πίνακα ``c`` που περιέχει τις τιμές του ημιτόνου του πίνακα ``a``.\n",
    "\n",
    "\n",
    "* Υπολογίστε το άθροισμα των στοιχείων του πίνακα ``a``."
   ]
  },
  {
   "cell_type": "code",
   "execution_count": null,
   "id": "f8896c6d",
   "metadata": {},
   "outputs": [],
   "source": [
    "# You can try it here\n",
    "# If you are struggling you can click on details below for the solution"
   ]
  },
  {
   "cell_type": "markdown",
   "id": "c03161ab",
   "metadata": {},
   "source": [
    "<div class=\"alert alert-danger alertdanger\" style=\"margin-top: 20px\">\n",
    "<details>\n",
    "\n",
    "<b><summary>Λύση</summary></b>\n",
    "    \n",
    "```python \n",
    "\n",
    "a = np.arange(1, 101, dtype=np.int64)\n",
    "b = a ** 2\n",
    "c = np.sin(a)\n",
    "\n",
    "# Calculate the sum of array\n",
    "# Both ways are valid\n",
    "print(a.sum())\n",
    "print(np.sum(a))                                           \n",
    "```\n",
    "    \n",
    "</details>"
   ]
  },
  {
   "cell_type": "markdown",
   "id": "6f7de863",
   "metadata": {},
   "source": [
    "<div class=\"alert alert-block alert-warning\" style=\"margin-top: 20px\">\n",
    "\n",
    "<b>Άσκηση 10.3</b>\n",
    "    \n",
    "Δημιουργήστε τον πίνακα\n",
    "$$\n",
    "A = \\begin{pmatrix}\n",
    "        1 & 2 & 3 & 4\\\\\n",
    "        5 & 6 & 7 & 8\\\\\n",
    "        9 & 10 & 11 & 12\n",
    "      \\end{pmatrix}\n",
    "$$\n",
    " \n",
    "Στη συνέχεια από τον A με τεμαχισμό τυπώστε την πρώτη γραμμή, την πρώτη στήλη και τους υποπίνακες:\n",
    "\n",
    "$$\n",
    "\\begin{pmatrix}\n",
    "    1 & 2 \\\\\n",
    "    5 & 6\n",
    "\\end{pmatrix}, \\hspace{0.5cm}\n",
    "\\begin{pmatrix}\n",
    "    6 & 7 \\\\\n",
    "    10 & 11\n",
    "\\end{pmatrix}, \\hspace{0.5cm}\n",
    "\\begin{pmatrix}\n",
    "    3 & 4 \\\\\n",
    "    7 & 8\n",
    "\\end{pmatrix}\n",
    "$$\n",
    "\n",
    "Υπενθυμίζεται ότι δίνοντας ``A[i,j]`` παίρνουμε το στοιχείο του πίνακα στην i-γραμμή και j-στήλη."
   ]
  },
  {
   "cell_type": "code",
   "execution_count": null,
   "id": "71a4bb54",
   "metadata": {},
   "outputs": [],
   "source": [
    "# You can try it here\n",
    "# If you are struggling you can click on details below for the solution"
   ]
  },
  {
   "cell_type": "markdown",
   "id": "d9f879c0",
   "metadata": {},
   "source": [
    "<div class=\"alert alert-danger alertdanger\" style=\"margin-top: 20px\">\n",
    "<details>\n",
    "\n",
    "<b><summary>Λύση</summary></b>\n",
    "    \n",
    "```python \n",
    "\n",
    "A = np.arange(1, 13).reshape(3,4)\n",
    "\n",
    "# First row\n",
    "print(A[0, :])\n",
    "\n",
    "# First column\n",
    "print(A[:, 0])\n",
    "\n",
    "\n",
    "# Subarrays\n",
    "print(A[:2, :2])\n",
    "\n",
    "print(A[1:, 1:3])\n",
    "# The above is the same as:\n",
    "# print(A[1:, 1:-1])\n",
    "\n",
    "print(A[:2, 2:])                                          \n",
    "```\n",
    "    \n",
    "</details>"
   ]
  },
  {
   "cell_type": "markdown",
   "id": "a980e998",
   "metadata": {},
   "source": [
    "<div class=\"alert alert-block alert-warning\" style=\"margin-top: 20px\">\n",
    "\n",
    "<b>Άσκηση 10.4</b>\n",
    "    \n",
    "Βρείτε στο εγχειρίδιο ποια συνάρτηση μπορεί να σας επιστρέψει ένα δείγμα από την κανονική κατανομή, και δημιουργήστε ένα δείγμα από 1000 τιμές. Υπολογίστε τον μέσο όρο και την τυπική απόκλιση του δείγματος αυτού. (Βρείτε ποιες μέθοδοι της `NumPy` σας βοηθάνε σε αυτό!). <br>\n",
    "    \n",
    "_Τι έχετε να σχολιάσετε για τιμές που παίρνετε;_\n",
    "    \n",
    "</div>    "
   ]
  },
  {
   "cell_type": "code",
   "execution_count": null,
   "id": "fc92b1d2",
   "metadata": {},
   "outputs": [],
   "source": [
    "# You can try it here\n",
    "# If you are struggling you can click on details below for the solution"
   ]
  },
  {
   "cell_type": "markdown",
   "id": "eada4218",
   "metadata": {},
   "source": [
    "<div class=\"alert alert-danger alertdanger\" style=\"margin-top: 20px\">\n",
    "<details>\n",
    "\n",
    "<b><summary>Λύση</summary></b>\n",
    "    \n",
    "```python \n",
    "# Generate random data\n",
    "data = np.random.randn(1000)\n",
    "#print(data)\n",
    "\n",
    "# Calculate mean and standard deviation\n",
    "mean = np.mean(data)\n",
    "std_dev = np.std(data)\n",
    "\n",
    "print(\"Data mean:\", mean)\n",
    "print(\"Data standard deviation:\", std_dev)\n",
    "                            \n",
    "```\n",
    "    \n",
    "</details>"
   ]
  },
  {
   "cell_type": "markdown",
   "id": "8835bad9",
   "metadata": {},
   "source": [
    "<div class=\"alert alert-block alert-warning\" style=\"margin-top: 20px\">\n",
    "\n",
    "<b>Άσκηση 10.5</b>\n",
    "    \n",
    "Δημιουργήστε ένα 1D πίνακα με τυχαίους ακεραίους και τιμές απο το 0 έως το 10, που αντιστοιχούν στην βαθμολογία 41 φοιτητών/φοιτητριών που παρακολουθούν το μάθημα \"Εισαγωγή στη Python για Φυσικούς\". Βρείτε την μέση και την ενδιάμεση τιμή των βαθμών, καθώς και την τυπική απόκλιση. \n",
    "    \n",
    "Ταξινομήστε την λίστα με τις βαθμολογίες και τυπώστε τους 5 μεγαλύτερους και μικρότερους βαθμούς. Για τους 5 μεγαλύτερους τυπώστε ανεξάρτητα την μέση και ενδιάμεση τιμή, και την τυπική απόκλιση. \n",
    "\n",
    "</div>"
   ]
  },
  {
   "cell_type": "code",
   "execution_count": null,
   "id": "db96bc24",
   "metadata": {},
   "outputs": [],
   "source": [
    "# You can try it here\n",
    "# If you are struggling you can click on details below for the solution"
   ]
  },
  {
   "cell_type": "markdown",
   "id": "abfd5b44",
   "metadata": {},
   "source": [
    "<div class=\"alert alert-danger alertdanger\" style=\"margin-top: 20px\">\n",
    "<details>\n",
    "\n",
    "<b><summary>Λύση</summary></b>\n",
    "    \n",
    "```python \n",
    "\n",
    "# Create array of student grades\n",
    "np.random.seed(0)  # For reproducibility\n",
    "grades = np.random.randint(0, 10, size=41)\n",
    "\n",
    "# Calculate mean, median, and standard deviation\n",
    "mean_grade = np.mean(grades)\n",
    "median_grade = np.median(grades)\n",
    "std_dev = np.std(grades)\n",
    "\n",
    "print(\"Number of grades:\", grades.size)\n",
    "print(f\"Mean grade: {mean_grade:0.2f}\")\n",
    "print(f\"Median grade: {median_grade:0.2f}\")\n",
    "print(f\"Standard deviation: {std_dev:0.2f}\")\n",
    "\n",
    "# Sort grades in ascending order\n",
    "print()\n",
    "sorted_grades = np.sort(grades)\n",
    "print(\"Sorted grades:\", sorted_grades)\n",
    "\n",
    "# Calculate top 3 highest and bottom 3 lowest grades\n",
    "top_3_highest_grades = sorted_grades[-5:]\n",
    "bottom_3_lowest_grades = sorted_grades[:5]\n",
    "\n",
    "print(\"Top 3 highest grades:\", top_3_highest_grades)\n",
    "print(\"Bottom 3 lowest grades:\", bottom_3_lowest_grades)\n",
    "\n",
    "# Calculate statistics for the high-tier \n",
    "print()\n",
    "print(\"Statistics for the high-tier:\")\n",
    "print(f\"Mean grade: {np.mean(top_3_highest_grades):0.2f}\")\n",
    "print(f\"Median grade: {np.median(top_3_highest_grades):0.2f}\")\n",
    "print(f\"Standard deviation: {np.std(top_3_highest_grades):0.2f}\")\n",
    "    \n",
    "```\n",
    "    \n",
    "</details>"
   ]
  },
  {
   "cell_type": "code",
   "execution_count": null,
   "id": "9b5df651",
   "metadata": {},
   "outputs": [],
   "source": [
    "### EOF ###"
   ]
  }
 ],
 "metadata": {
  "kernelspec": {
   "display_name": "Python 3.7",
   "language": "python",
   "name": "python3.7"
  },
  "language_info": {
   "codemirror_mode": {
    "name": "ipython",
    "version": 3
   },
   "file_extension": ".py",
   "mimetype": "text/x-python",
   "name": "python",
   "nbconvert_exporter": "python",
   "pygments_lexer": "ipython3",
   "version": "3.7.17"
  },
  "toc": {
   "base_numbering": 1,
   "nav_menu": {},
   "number_sections": true,
   "sideBar": true,
   "skip_h1_title": false,
   "title_cell": "Table of Contents",
   "title_sidebar": "Contents",
   "toc_cell": false,
   "toc_position": {},
   "toc_section_display": true,
   "toc_window_display": false
  }
 },
 "nbformat": 4,
 "nbformat_minor": 5
}
