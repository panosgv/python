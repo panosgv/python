{
 "cells": [
  {
   "cell_type": "markdown",
   "id": "d47fdde3",
   "metadata": {},
   "source": [
    "# 6 Βιβλιοθήκες (modules)"
   ]
  },
  {
   "cell_type": "markdown",
   "id": "ac05cd5f",
   "metadata": {},
   "source": [
    "<div class=\"alert alert-block alert-info\" style=\"margin-top: 20px\">\n",
    "    \n",
    "<b>ΣΥΝΟΠΤΙΚΑ</b>\n",
    "    \n",
    "Σε αυτό το σημειωματάριο θα εξοικειωθείτε με την χρήση βιβλιοθηκών, τι είναι και πως χρησιμοποιούνται. \n",
    "   \n",
    "</div>"
   ]
  },
  {
   "cell_type": "markdown",
   "id": "a1e64815",
   "metadata": {},
   "source": [
    "## 6.1 Εισαγωγή βιβλιοθηκών"
   ]
  },
  {
   "cell_type": "markdown",
   "id": "b9c8348b",
   "metadata": {},
   "source": [
    "Υπάρχουν διάφοροι τρόποι για να εισάγουμε μία βιβλιοθήκη, είτε ολόκληρη είτε μέρος αυτής. Μερικοί από αυτούς συνοψίζονται παρακάτω:\n",
    "\n",
    "```python\n",
    "# Import the entire module (with an alias)\n",
    "import module\n",
    "import module as m\n",
    "\n",
    "```\n",
    "\n",
    "- Όταν εισάγουμε μία βιβλιοθήκη ολόκληρη τότε όλες οι συναρτήσεις τις μπορούν να ενεργοποιηθούν αφού καλέσουμε πρώτα την βιβλιοθήκη, πχ `x = module.function(2)`. Για να είναι πιο ευανάγνωστο το πρόγραμμα έχουμε την επιλογή να χρησιμοποιήσουμε ένα \"ψευδώνυμο\" (πχ `m`) ώστε να κάνουμε τη κλήση τους σε διάφορα σημεία του προγράμματος λιγότερο χρονοβόρα (το προηγούμενο παράδειγμα γίνεται: `x = m.function(2)`.\n",
    "\n",
    "- Όταν δουλεούμε με πολύ δημοφιλείς βιβλιοθήκες, είναι καλό να μένουμε στα ψευδώνυμα που χρησιμοποιούνται ευρέως από τη κοινότητα (π.χ. numpy as np, pandas as pd, tensorflow as tf). Αυτό διασφαλίζει ότι ο κώδικάς μας θα είναι εύκολα αναγνώσιμος από κάποιον άλλον.\n",
    "\n",
    "\n",
    "```python\n",
    "# Import only a specific function from a module\n",
    "# Is readily available with no info from where it came\n",
    "from module import some_function \n",
    "from module import some_function as fn\n",
    "\n",
    "```\n",
    "\n",
    "- Πολλές φορές μας ενδιαφέρει να εισάγουμε μόνο μία συγκεκριμένη συνάρτηση που περιέχεται σε μία βιβλιοθήκη και όχι ολόκληρη τη βιβλιοθήκη. Σε αυτή την περίπτωση, η συνάρτηση γίνεται άμεσα διαθέσιμη για κλήση μέσα στο πρόγραμμά μας απλά με το όνομά της. Αυτό σημαίνει ότι δεν φαίνεται από που προήλθε. Υπάρχουν περιπτώσεις που αυτό μπορεί να προκαλέσει σύγχηση (π.χ. όταν το πρόγραμμά μας περιέχει άλλη συνάρτηση με το ίδιο όνομα).\n",
    "\n",
    "- Γι' αυτό το λόγο, όταν εισάγουμε μία συνάρτηση από μία βιβλιοθήκη με αυτό τον τρόπο, είναι πολλές φορές προτιμότερο να δίνουμε ένα άλλο πιο περιγραφικό όνομα στη συνάρτηση.\n",
    "\n",
    "\n",
    "```python\n",
    "# Import everything from a module\n",
    "# All functions of that module are available to us\n",
    "# but we have no clue where they came from\n",
    "# It is considered bad practice\n",
    "from module import *\n",
    "```\n",
    "\n",
    "- Μπορούμε να εισάγουμε όλες τις συναρτήσεις από μια βιβλιοθήκη χρησιμοποιώντας τον τελεστή `*`. Αυτό όμως θεωρείται **κακή πρακτική** για διάφορους λόγους: εισάγονται όλες οι συναρτήσεις και δεν είναι ξεκάθαρο ποιες χρησιμοποιούνται στο πρόγραμμα και μπορεί να οδηγήσει σε συγκρούσεις ονομάτων και επανεγγραφές (overwriting), δεν είναι ξεκάθαρο από που προέρχονται οι συναρτήσεις που χρησιμοποιούνται στο πρόγραμμα, αλλαγές σε συναρτήσεις (στην ίδια την βιβλιοθήκη) μπορεί να οδηγήσει σε μη αναμενόμενη συμπεριφορά του προγράμματος."
   ]
  },
  {
   "cell_type": "markdown",
   "id": "86c7fb30",
   "metadata": {},
   "source": [
    "## 6.2 Μερικά παραδείγματα βιβλιοθηκών\n",
    "\n",
    "_Τα παρακάτω παραδείγματα είναι όλες build-in βιβλιοθήκες που σημαίνει ότι εγκαθίστανται με την γλώσσα αλλά πρέπει να εισαχθούν στο πρόγραμμά (με το import) για να έχουμε πρόσβαση στις συναρτήσεις τους._ "
   ]
  },
  {
   "cell_type": "markdown",
   "id": "1b3fd0ae",
   "metadata": {},
   "source": [
    "### 6.2.1 `random` \n",
    "\n",
    "Βιβλιοθήκη σχετικά με τυχαίους αριθμούς.\n",
    "\n",
    "Ακολουθούν μερικά παραδείγματα (περισσότερα στην [εγχειρίδιο](https://docs.python.org/3/library/random.html) της) ."
   ]
  },
  {
   "cell_type": "code",
   "execution_count": null,
   "id": "8c1c1520",
   "metadata": {},
   "outputs": [],
   "source": [
    "import random\n",
    "\n",
    "# Generate a random integer between 1 and 10\n",
    "random_number = random.randint(1, 10)\n",
    "print(\"Random Number:\", random_number)"
   ]
  },
  {
   "cell_type": "code",
   "execution_count": null,
   "id": "1cd983f5",
   "metadata": {},
   "outputs": [],
   "source": [
    "# Generate a random float between 0 and 1\n",
    "random_float = random.random()\n",
    "print(\"Random Float:\", random_float)"
   ]
  },
  {
   "cell_type": "code",
   "execution_count": null,
   "id": "4c618ead",
   "metadata": {},
   "outputs": [],
   "source": [
    "# Choose a random element from a list\n",
    "my_list = [1, 2, 3, 4, 5]\n",
    "random_element = random.choice(my_list)\n",
    "print(\"Random Element:\", random_element)"
   ]
  },
  {
   "cell_type": "code",
   "execution_count": null,
   "id": "9ce06c71",
   "metadata": {},
   "outputs": [],
   "source": [
    "# Shuffle the elements of a list in-place\n",
    "my_list = [1, 2, 3, 4, 5]\n",
    "random.shuffle(my_list)\n",
    "print(\"Shuffled List:\", my_list)"
   ]
  },
  {
   "cell_type": "code",
   "execution_count": null,
   "id": "6e92301f",
   "metadata": {},
   "outputs": [],
   "source": [
    "# Choose a random sample from a population\n",
    "population = range(1, 11)\n",
    "random_sample = random.sample(population, 3)  # Choose 3 random elements\n",
    "print(\"Random Sample:\", random_sample)"
   ]
  },
  {
   "cell_type": "markdown",
   "id": "f8fed21d",
   "metadata": {},
   "source": [
    "### 6.2.2 `math`\n",
    "\n",
    "H βιβλιοθήκη math περιλαμβάνει μια σειρά από χρήσιμες μαθηματικές συναρτήσεις και σταθερές. \n",
    "\n",
    "Ακολουθούν μερικά παραδείγματα (περισσότερα στην [εγχειρίδιο](https://docs.python.org/3/library/math.html) της):"
   ]
  },
  {
   "cell_type": "code",
   "execution_count": null,
   "id": "0bdef10e",
   "metadata": {},
   "outputs": [],
   "source": [
    "import math \n",
    "\n",
    "# the pi constant\n",
    "print(math.pi)"
   ]
  },
  {
   "cell_type": "code",
   "execution_count": null,
   "id": "375d272d",
   "metadata": {},
   "outputs": [],
   "source": [
    "# calculate the area of a circle and a volume of a sphere. \n",
    "\n",
    "# radius\n",
    "r = 2\n",
    "circ = 2*math.pi*r \n",
    "area = math.pi*pow(r,2)     # pow is equivalent of power \n",
    "                            # of base (r) to power 2\n",
    "vol = 4/3*math.pi*pow(r,3)\n",
    "\n",
    "print('Area:', area)\n",
    "print('Volume:', vol)"
   ]
  },
  {
   "cell_type": "markdown",
   "id": "f61a6421",
   "metadata": {},
   "source": [
    "### 6.2.3 `os`\n",
    "\n",
    "Βιβλιοθήκη σχετικά με διεπαφές με το λειτουργικό σύστημα. \n",
    "\n",
    "Ακολουθούν μερικά παραδείγματα (περισσότερα στην [εγχειρίδιο](https://docs.python.org/3/library/os.html) της):"
   ]
  },
  {
   "cell_type": "code",
   "execution_count": null,
   "id": "c2afa4be",
   "metadata": {},
   "outputs": [],
   "source": [
    "import os\n",
    "\n",
    "# Get the current working directory\n",
    "current_directory = os.getcwd()\n",
    "print(\"Current Directory:\", current_directory)"
   ]
  },
  {
   "cell_type": "code",
   "execution_count": null,
   "id": "a62dce6e",
   "metadata": {},
   "outputs": [],
   "source": [
    "# List all files in the current directory\n",
    "files = os.listdir('.')\n",
    "print(\"Files in Current Directory:\", files)"
   ]
  },
  {
   "cell_type": "code",
   "execution_count": null,
   "id": "5813f971",
   "metadata": {},
   "outputs": [],
   "source": [
    "# Create a new directory\n",
    "new_directory = 'my_folder'\n",
    "os.mkdir(new_directory)\n",
    "print(f\"Directory '{new_directory}' created.\")"
   ]
  },
  {
   "cell_type": "code",
   "execution_count": null,
   "id": "8dcf1b44",
   "metadata": {},
   "outputs": [],
   "source": [
    "# Remove a directory\n",
    "remove_directory = 'my_folder'\n",
    "os.rmdir(remove_directory)\n",
    "print(f\"Directory '{remove_directory}' deleted.\")"
   ]
  },
  {
   "cell_type": "markdown",
   "id": "a17ea6e0",
   "metadata": {},
   "source": [
    "### 6.2.4 `datetime`\n",
    "\n",
    "Βιβλιοθήκη σχετική με διαχείριση ημερομηνιών και χρόνων. \n",
    "\n",
    "Ακολουθούν μερικά παραδείγματα (περισσότερα στην [εγχειρίδιο](https://docs.python.org/3/library/datetime.html) της):"
   ]
  },
  {
   "cell_type": "code",
   "execution_count": null,
   "id": "04ff54b9",
   "metadata": {},
   "outputs": [],
   "source": [
    "from datetime import date\n",
    "\n",
    "# Example of a date use\n",
    "birthday = date(2004, 11, 5)\n",
    "print('The birthday is on: ', birthday)"
   ]
  },
  {
   "cell_type": "code",
   "execution_count": null,
   "id": "636303e7",
   "metadata": {},
   "outputs": [],
   "source": [
    "today = date.today()\n",
    "print('So today is:', today)"
   ]
  },
  {
   "cell_type": "code",
   "execution_count": null,
   "id": "3c9b2f4a",
   "metadata": {},
   "outputs": [],
   "source": [
    "from datetime import time\n",
    "\n",
    "# Example of using time\n",
    "lunchtime = time(hour=13, minute=30)\n",
    "print('Organized lunch at:', lunchtime)"
   ]
  },
  {
   "cell_type": "code",
   "execution_count": null,
   "id": "e2ef55ef",
   "metadata": {},
   "outputs": [],
   "source": [
    "from datetime import datetime  # a very unfortunate import...\n",
    "\n",
    "# Get the current date and time\n",
    "current_datetime = datetime.now()\n",
    "print(\"Current Date and Time:\", current_datetime)"
   ]
  },
  {
   "cell_type": "markdown",
   "id": "9ec6b99c",
   "metadata": {},
   "source": [
    "### 6.2.5 fun fact\n",
    "\n",
    "Καθυστερήσεις ...\n"
   ]
  },
  {
   "cell_type": "code",
   "execution_count": null,
   "id": "c408e999",
   "metadata": {},
   "outputs": [],
   "source": [
    "import time\n",
    "\n",
    "print(\"loading ...\")\n",
    "time.sleep(5)\n",
    "print(\"still ...?\")\n",
    "time.sleep(5)\n",
    "print(\"i give up! \")\n"
   ]
  },
  {
   "cell_type": "markdown",
   "id": "f570317f",
   "metadata": {},
   "source": [
    "<div class=\"alert alert-block alert-warning\" style=\"margin-top: 20px\">\n",
    "    <b>Άσκηση 6.1</b>\n",
    "    \n",
    "Χρησιμοποιώντας την βιβλιοθήκη `random`.\n",
    "\n",
    "Ζητήστε από τον χρήση δύο ακέραιους (θετικούς) αριθμούς και δημιουργήστε μια τυχαία λίστα καθώς και μια τυχαία αναδιάταξη αυτής. \n",
    "    \n",
    "> **TIPS:** \n",
    "> - Να διαχειριστείτε την εξαίρεση που έχει να κάνει σχετικά με τις τιμές των αριθμών που δίνονται από τον χρήστη (δεν θέλουμε αρνητικές τιμές όπως και ίδιες τιμές.\n",
    "> - Ελέγξτε ποια είναι η μικρότερη και μεγαλύτερη τιμή (για το εύρος που θα χρησιμοποιηθεί για τους τυχαίους αριθμούς) - διαφορετικά θα έχετε σφάλμα. \n",
    "> - Χρησιμοποιήστε συνοπτική λίστα για την δημιουργία της τυχαίας λίστας.    \n",
    "    \n",
    "</div>"
   ]
  },
  {
   "cell_type": "code",
   "execution_count": null,
   "id": "995ef577",
   "metadata": {},
   "outputs": [],
   "source": [
    "# You can try it here\n",
    "# If you are struggling you can click on details below for the solution"
   ]
  },
  {
   "cell_type": "markdown",
   "id": "6971276f",
   "metadata": {},
   "source": [
    "<div class=\"alert alert-danger alertdanger\" style=\"margin-top: 20px\">\n",
    "<details>\n",
    "\n",
    "<b><summary>(Μια) Λύση</summary></b>\n",
    "\n",
    "\n",
    "```python\n",
    "import random\n",
    "\n",
    "try:\n",
    "    a = int(input(\"Enter first positive integer: \")) \n",
    "    b = int(input(\"Enter second positive integer: \"))\n",
    "    \n",
    "    if a <= 0 or b <= 0 or a == b:\n",
    "        raise ValueError        \n",
    "    \n",
    "    if a > b:\n",
    "        start_range = b\n",
    "        end_range = a\n",
    "    elif a < b:\n",
    "        start_range = a\n",
    "        end_range = b\n",
    "\n",
    "    length = end_range-start_range\n",
    "    random_list = [ random.randint(start_range, end_range - 1) for _ in range(length)]\n",
    "    \n",
    "    print(random_list)\n",
    "    random.shuffle(random_list)\n",
    "    print(random_list)\n",
    "\n",
    "except ValueError as e:\n",
    "    print('Both numbers must be positive integers and not equal!')\n",
    "    print(e)\n",
    "```               \n",
    "    \n",
    "</details>"
   ]
  },
  {
   "cell_type": "markdown",
   "id": "6d8cdb5c",
   "metadata": {},
   "source": [
    "<div class=\"alert alert-block alert-warning\" style=\"margin-top: 20px\">\n",
    "    <b>Άσκηση 6.2</b>\n",
    "    \n",
    "Χρησιμοποιώντας την βιβλιοθήκη `random` και `math`.\n",
    "    \n",
    "Δημιουργήστε μια τυχαία λίστα και βρείτε τις λίστες με:\n",
    "    \n",
    "- τα τετράγωνά τους\n",
    "- τους κύβους τους\n",
    "- τις τετραγωνικές ρίζες τους\n",
    "- τα ημίτονά τους\n",
    "- τα συνημίτονά τους  \n",
    "    \n",
    "> **TIPS:** \n",
    "> - Δεν χρειάζεται να κάνετε πλήρη διαχείριση εξαιρέσεων (αν και μπορείτε να χρησιμοποιήσετε τον προηγούμενο κώδικα).\n",
    "> - Δημιουργήστε μια τυχαία λίστα με αριθμούς και μήκος που θα ορίσετε εσείς,  \n",
    "> - Για τις συναρτήσεις που θα χρησιμοποιήσετε αναζητήστε τις στο εγχειρίδιο της βιβλιοθήκης.   \n",
    "> - Χρησιμοποιήστε συνοπτικές λίστες.\n",
    "    \n",
    "</div>"
   ]
  },
  {
   "cell_type": "code",
   "execution_count": null,
   "id": "c21d511d",
   "metadata": {},
   "outputs": [],
   "source": [
    "# You can try it here\n",
    "# If you are struggling you can click on details below for the solution"
   ]
  },
  {
   "cell_type": "markdown",
   "id": "f5f34d88",
   "metadata": {},
   "source": [
    "<div class=\"alert alert-danger alertdanger\" style=\"margin-top: 20px\">\n",
    "<details>\n",
    "\n",
    "<b><summary>(Μια) Λύση</summary></b>\n",
    "\n",
    "\n",
    "```python\n",
    "\n",
    "import random, math\n",
    "\n",
    "randlist = [ random.randint( 2, 88) for _ in range( 10)]\n",
    "print('The random list:', randlist)\n",
    "print()\n",
    "\n",
    "pow2 = [math.pow(i,2) for i in randlist]\n",
    "print('Powers of 2:', pow2)\n",
    "print()\n",
    "\n",
    "pow3 = [math.pow(i,3) for i in randlist]\n",
    "print('Powers of 3:', pow3)\n",
    "print()\n",
    "\n",
    "sqr = [math.sqrt(i) for i in randlist]\n",
    "print('Square roots:', sqr)\n",
    "print()\n",
    "\n",
    "# the inputs are consideted radinas and not angle in this case\n",
    "sines = [math.sin(i) for i in randlist]\n",
    "print('Sines:', sines)\n",
    "print()\n",
    "\n",
    "cosines = [math.cos(i) for i in randlist]\n",
    "print('Cosines:', cosines)\n",
    "print()    \n",
    "    \n",
    "```               \n",
    "    \n",
    "</details>"
   ]
  },
  {
   "cell_type": "markdown",
   "id": "553f3452",
   "metadata": {},
   "source": [
    "<div class=\"alert alert-block alert-warning\" style=\"margin-top: 20px\">\n",
    "    <b>Άσκηση 6.3</b>\n",
    "    \n",
    "Δοκιμάστε την εκτύπωση μιας αντίστροφης μέτρησης για την εκτόξευση ενός πυραύλου, που για κάποιο άγνωστο λόγο τελικά καθυστερεί και ... εγκαταλείπεται. \n",
    "    \n",
    "> TIP: Χρησιμοποιήστε την βιβλιοθήκη `time` και την μέθοδο `sleep` για την δημιουργία της αίσθησης του χρόνου\n",
    "\n",
    "</div>"
   ]
  },
  {
   "cell_type": "code",
   "execution_count": null,
   "id": "e69c5bb8",
   "metadata": {},
   "outputs": [],
   "source": [
    "# You can try it here\n",
    "# If you are struggling you can click on details below for the solution"
   ]
  },
  {
   "cell_type": "markdown",
   "id": "3d0880cb",
   "metadata": {},
   "source": [
    "<div class=\"alert alert-danger alertdanger\" style=\"margin-top: 20px\">\n",
    "<details>\n",
    "\n",
    "<b><summary>(Μια) Λύση</summary></b>\n",
    "\n",
    "\n",
    "```python\n",
    "print(\"Ready for launching 🚀!\")\n",
    "for i in reversed(range(4)):\n",
    "    print(i)\n",
    "    time.sleep(1)\n",
    "\n",
    "time.sleep(3)\n",
    "print(\"\\nwtf?\")\n",
    "time.sleep(3)\n",
    "print(\"\\nAbort...\")    \n",
    "```               \n",
    "    \n",
    "</details>"
   ]
  },
  {
   "cell_type": "markdown",
   "id": "11463805",
   "metadata": {},
   "source": [
    "<div class=\"alert alert-block alert-warning\" style=\"margin-top: 20px\">\n",
    "    <b>Άσκηση 6.4</b>\n",
    "    \n",
    "Δοκιμάστε να εισάγετε (μια μια) τις παρακάτω βιβλιοθήκες. Τι παρατηρείτε;\n",
    "\n",
    "- antigravity\n",
    "- this    \n",
    "</div>"
   ]
  },
  {
   "cell_type": "code",
   "execution_count": null,
   "id": "4c4a8ca3",
   "metadata": {},
   "outputs": [],
   "source": [
    "# You can try it here"
   ]
  },
  {
   "cell_type": "markdown",
   "id": "9be8e513",
   "metadata": {},
   "source": [
    "<div class=\"alert alert-danger alertdanger\" style=\"margin-top: 20px\">\n",
    "<details>\n",
    "\n",
    "<b><summary>Λύση</summary></b>\n",
    "\n",
    "Αν το `this` δεν τυπώνεται αυτόματα δοκιμάστε το ακόλουθο:\n",
    "\n",
    "```python\n",
    "import this\n",
    "import codecs\n",
    "    \n",
    "print(\"Message in ROT13!\")\n",
    "print(this.s)\n",
    "    \n",
    "print(\"Decryptied message\")\n",
    "print(codecs.decode(this.s, \"rot_13\"))    \n",
    "```               \n",
    "    \n",
    "</details>"
   ]
  },
  {
   "cell_type": "code",
   "execution_count": null,
   "id": "8b69c0df",
   "metadata": {},
   "outputs": [],
   "source": [
    "# EOF"
   ]
  }
 ],
 "metadata": {
  "kernelspec": {
   "display_name": "Python 3",
   "language": "python",
   "name": "python3"
  },
  "language_info": {
   "codemirror_mode": {
    "name": "ipython",
    "version": 3
   },
   "file_extension": ".py",
   "mimetype": "text/x-python",
   "name": "python",
   "nbconvert_exporter": "python",
   "pygments_lexer": "ipython3",
   "version": "3.11.2"
  },
  "toc": {
   "base_numbering": 1,
   "nav_menu": {},
   "number_sections": true,
   "sideBar": true,
   "skip_h1_title": false,
   "title_cell": "Table of Contents",
   "title_sidebar": "Contents",
   "toc_cell": false,
   "toc_position": {},
   "toc_section_display": true,
   "toc_window_display": false
  }
 },
 "nbformat": 4,
 "nbformat_minor": 5
}
