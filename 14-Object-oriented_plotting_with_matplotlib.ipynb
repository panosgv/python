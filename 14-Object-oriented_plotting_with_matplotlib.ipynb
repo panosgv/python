{
 "cells": [
  {
   "cell_type": "markdown",
   "id": "590d152b",
   "metadata": {},
   "source": [
    "# 14 Διαγράμματα με αντικειμενοστρεφή προσέγγιση"
   ]
  },
  {
   "cell_type": "markdown",
   "id": "91b62bec",
   "metadata": {},
   "source": [
    "<div class=\"alert alert-block alert-info\" style=\"margin-top: 20px\">\n",
    "\n",
    "\n",
    "<b>ΣΥΝΟΠΤΙΚΑ</b>\n",
    "\n",
    "Σε αυτό το μάθημα θα εξοικειωθείτε με τον αστικειμενοστρεφή τρόπο δημιουργίας διαγραμμάτων, που επιτρέπει τον πιο άμεσο έλεγχο όλης της διαδικασίας καθώς και όλων των επιμέρους λεπτομερειεών ενός διαγράμματος. Επίσης επιτρέπει την δημιουργία πολλαπλών υποδιαγραμμάτων.     \n",
    "    \n",
    "</div>"
   ]
  },
  {
   "cell_type": "markdown",
   "id": "a30d8331",
   "metadata": {},
   "source": [
    "---"
   ]
  },
  {
   "cell_type": "markdown",
   "id": "4fdc2cad",
   "metadata": {},
   "source": [
    "## 14.1 Εισαγωγή "
   ]
  },
  {
   "cell_type": "markdown",
   "id": "7d254156",
   "metadata": {},
   "source": [
    "Σε προηγούμενο μάθημα είδαμε πως μπορούμε να κάνουμε γρήγορα κάποια διαγράμματα. Καθώς η Python είναι αντικειμενοστρεφής γλώσσα ότι χρησιμοποιούμε είναι ήδη ένα αντικείμενο, ακόμα και τα διαγράμματα! Μπορούμε λοιπόν να εκμεταλλευτούμε αυτή την ιδιότητα και να αρχίσουμε να δημιουργούμε και να διαμορφώνουμε τα διαγράμματα ανάλογα με τις παραμέτρους και τις μεθόδους που έχουν.   \n"
   ]
  },
  {
   "cell_type": "markdown",
   "id": "4c983440",
   "metadata": {},
   "source": [
    "#### Βασικές κλάσεις \n",
    "\n",
    "Η Matplotlib λειτουργεί με βάση τα αντικείμενα των σχημάτων (`Figure`) και των αξόνων (`Axes`):\n",
    "\n",
    "**Figure**:\n",
    "\n",
    "* Ένα αντικείμενο τύπου ``Figure`` είναι το ανώτερο στην ιεραρχία και αποτελεί το γενικό \"δοχείο\" (container) ή καμβά που θα περιέχει όλα τα στοιχεία ενός γραφήματος ή ενός συνόλου από επι μέρους γραφήματα (subplots), κείμενο, λεζάντες κτλ.\n",
    "\n",
    "\n",
    "* Μπορούμε να δημιουργήσουμε ένα νέο αντικείμενο τύπου ``Figure`` χρησιμοποιώντας την εντολή ``plt.figure()``.\n",
    "\n",
    "\n",
    "* Ένα αντικείμενο τύπου ``Figure`` παρέχει παραμέτρους όπως το μέγεθος, το χρώμα του υποβάθρου, τίτλο κτλ που μας επιτρέπουν να προσαρμόσουμε κάθε πτυχή στα δικά μας κριτήρια. Αυτοί οι παράμετροι μπορούν να τροποποιηθούν χρησιμοποιώντας εντολές όπως οι ``figsize`` και ``suptitle`` όπως θα δούμε στη συνέχεια.\n",
    "    \n",
    "    \n",
    "**Axes**:\n",
    "\n",
    "* Μέσα σε ένα αντικείμενο τύπου ``Figure``, μπορούμε να έχουμε ένα ή περισσοτέρα αντικείμενα τύπου ``Axes``. Ένα τέτοιο αντικείμενο είναι το δεύτερο στην ιεραρχία και αποτελεί την περιοχή στην οποία απεικονίζονται τα δεδομένα. \n",
    "    \n",
    "    \n",
    "* Μπορείτε να σκεφτείτε ένα αντικείνενο τύπου ``Axes`` ως ένα μεμονωμένο γράφημα μέσα σε ένα αντικείμενο τύπου ``Figure`` που όπως είπαμε αποτελεί τον καμβά.\n",
    "\n",
    "\n",
    "* Μπορούμε να δημιουργήσουμε ένα νέο αντικείμενο τύπου ``Axes`` χρησιμοποιώντας εντολές όπως η ``plt.subplots()`` όπου δημιουργούμε πρώτα το αντικείμενο τύπου ``Figure`` και ένα ή περισσότερα αντικείμενα τύπου ``Axes`` με μία μόνο κλήση.\n",
    "\n",
    "* Κάθε αντικείμενο ``Axes`` έχει δύο άλλα αντικείμενα τύπου ``Axis`` - ένα για τον άξονα-x και ένα για τον άξονα-y. Μέσω αυτών των στιγμιότυπων της κλάσης ``Axis`` μπορούμε να διαχειριστούμε τα ονόματα σε κάθε άξονα, τις υποδιαιρέσεις κτλ.\n"
   ]
  },
  {
   "cell_type": "markdown",
   "id": "b6dc2556",
   "metadata": {},
   "source": [
    "## 14.2 Ένα παράδειγμα\n",
    "\n",
    "Ξεκινώντας από το ίδιο παράδειγμα διαγράμματος, χρησιμοποιοώντας την απλή εκδοχή (\"διευκόλυνσης\"), προχωράμε στο να δημιουργήσουμε τα αντικείμενα. "
   ]
  },
  {
   "cell_type": "code",
   "execution_count": null,
   "id": "63b40799",
   "metadata": {},
   "outputs": [],
   "source": [
    "import matplotlib.pyplot as plt\n",
    "import numpy as np\n",
    "\n",
    "x = np.linspace(0, 10, 100)\n",
    "y = x**2\n",
    "\n",
    "# make an object of the class figure\n",
    "fig = plt.figure()\n",
    "\n",
    "# create a single axes object\n",
    "ax1 = plt.subplot()\n",
    "\n",
    "ax1.plot(x,y)"
   ]
  },
  {
   "cell_type": "markdown",
   "id": "b58f1f7b",
   "metadata": {},
   "source": [
    "Με την μέθοδο `plt.subplot` καλούμε την κλάση `Axes` και δημιουργεί ένα αντικείμενο στο παρόν σχήμα (fig)."
   ]
  },
  {
   "cell_type": "markdown",
   "id": "19c654e6",
   "metadata": {},
   "source": [
    "#### Προσαρμόζοντας το διάγραμμα\n",
    "\n",
    "Για την προσαρμογή του διαγράμματος στις δικές μας ανάγκες και αισθητική ισχύει ότι έχουμε ήδη πει σε προηγούμενο μάθημα. Ωστόσο, μια προσοχή χρειάζεται σε ορισμένες περιπτώσεις σχετικά με το πως καλούνται κάποιες παράμετροι. Π.χ. \n",
    "\n",
    "- `plt.xlabel()` --> `set_xlabel()`\n",
    "\n",
    "- `plt.ylim()` --> `set_ylim()`\n",
    "\n",
    "- `plt.title()` --> `set_title()`"
   ]
  },
  {
   "cell_type": "code",
   "execution_count": null,
   "id": "2d1049d5",
   "metadata": {},
   "outputs": [],
   "source": [
    "# create a single axes object\n",
    "ax1 = plt.subplot()\n",
    "\n",
    "ax1.plot(x,y)\n",
    "ax1.set_xlabel('x values')\n",
    "ax1.set_ylabel('y values')\n",
    "ax1.set_title('A simple plot')"
   ]
  },
  {
   "cell_type": "markdown",
   "id": "d20636dc",
   "metadata": {},
   "source": [
    "Υπάρχει και η δυνατότητα να οριστούν όλα μαζί ταυτόχρονα! (Και να γλυτώσουμε γράψιμο...)"
   ]
  },
  {
   "cell_type": "code",
   "execution_count": null,
   "id": "2477a6ce",
   "metadata": {},
   "outputs": [],
   "source": [
    "# create a single axes object\n",
    "ax1 = plt.subplot()\n",
    "\n",
    "ax1.plot(x,y)\n",
    "\n",
    "ax1.set(xlim=(0, 12), ylim=(-5, 110),\n",
    "       xlabel='xs', ylabel='ys',\n",
    "       title='Another title of a Simple Plot');"
   ]
  },
  {
   "cell_type": "markdown",
   "id": "2d35eb7c",
   "metadata": {},
   "source": [
    "Έχοντας δημιουργήσει το αντικείμενο του σχήματος για την δημιουργία των διαγραμμάτων χρησιμοποιούμε όποια μορφή διαγράμματος έχουμε δει μέχρι στιγμής. Η διαφορά είναι ότι αυτά ορίζονται ρητά σε σχέση με τα αντικείμενα των αξόνων (`Axes`). Π.χ. το παράδειγμα από την 12.3.3:"
   ]
  },
  {
   "cell_type": "code",
   "execution_count": null,
   "id": "7dfa524c",
   "metadata": {},
   "outputs": [],
   "source": [
    "# The distributions of temperatures from a 'weather' station.\n",
    "n_obs = 100         # number of measurements \n",
    "temp_mean = 22.3       # the mean of the temperature distribution \n",
    "temp_std = 4.5       # the standard deviation of the temperature distribution\n",
    "\n",
    "# Constructing mock temperature data\n",
    "temp = temp_std * np.random.randn(n_obs) + temp_mean\n",
    "\n",
    "fig = plt.figure()\n",
    "\n",
    "# create a single axes object\n",
    "hist1 = plt.subplot()\n",
    "hist1.hist(temp, color='tab:blue', alpha=0.5,\n",
    "                            histtype='step', lw=5)\n",
    "\n",
    "hist1.set_xlabel('Temparature', fontsize=16)\n",
    "hist1.set_ylabel('Number of measurements', fontsize=16)"
   ]
  },
  {
   "attachments": {},
   "cell_type": "markdown",
   "id": "8e68cac9",
   "metadata": {},
   "source": [
    "<div class=\"alert alert-block alert-warning\" style=\"margin-top: 20px\">\n",
    "    <b>Άσκηση 14.1</b>\n",
    "\n",
    "Από την προηγούμενη άσκηση 13.1, στην οποία χρησιμοποιήσαμε το αρχείο \"data_files/superconductivity/train.csv\"\\* , κάντε ξανά ένα ιστόγραμμα των κρίσιμων θερμοκρασιών τους (τελευταία στήλη), χρησιμοποιώντας όμως την αντικειμενοστρεφή προσέγγιση. \n",
    "    \n",
    "_\\*Τα δεδομένα αυτά προέρχονται από [UC Irvine Machine Learning Repository](https://archive.ics.uci.edu/dataset/464/superconductivty+data)_."
   ]
  },
  {
   "cell_type": "code",
   "execution_count": null,
   "id": "5ddb4560",
   "metadata": {},
   "outputs": [],
   "source": [
    "# You can try it here\n",
    "# If you are struggling you can click on details below for the solution"
   ]
  },
  {
   "cell_type": "markdown",
   "id": "9f329b50",
   "metadata": {},
   "source": [
    "<div class=\"alert alert-danger alertdanger\" style=\"margin-top: 20px\">\n",
    "<details>\n",
    "\n",
    "<b><summary>Λύση</summary></b>\n",
    "    \n",
    "```python \n",
    "\n",
    "import numpy as np\n",
    "import matplotlib.pyplot as plt\n",
    "plt.rc('font', size=14) # changing the default font size globally\n",
    "\n",
    "data = np.loadtxt(\"data_files/superconductivty/train.csv\", delimiter=',', skiprows=1)\n",
    "\n",
    "print(data)\n",
    "\n",
    "ax = plt.subplot()\n",
    "\n",
    "\n",
    "# histogram of the 'critical temperature' which is the last column\n",
    "ax.hist(data[:,-1], histtype='step')\n",
    "\n",
    "ax.set_xlabel('Critical temperature')\n",
    "ax.set_ylabel('Number')\n",
    "ax.set_title('Temperature distribution')\n",
    "ax.grid()\n",
    "plt.show()\n",
    "```\n",
    "    \n",
    "</details>"
   ]
  },
  {
   "attachments": {
    "exercise-14.1-_reproduce_plot-2.png": {
     "image/png": "[encoded data removed]"
    }
   },
   "cell_type": "markdown",
   "id": "14ddae24",
   "metadata": {},
   "source": [
    "<div class=\"alert alert-block alert-warning\" style=\"margin-top: 20px\">\n",
    "    <b>Άσκηση 14.2</b>\n",
    "\n",
    "Διαβάστε το αρχείο δεδομένων \"data_files/q_u_data.csv\"\\* που αφορά πολαριμετρικές μετρήσεις για κάποιο ουράνιο αντικείμενο. Οι μετρήσεις αφορούν τις παραμέτρους [Stokes](https://en.wikipedia.org/wiki/Stokes_parameters) 'Q/I' και 'U/I' καθώς και τα αντίστοιχα σφάλματά τους. Χρησιμοποιείστε όποια μέθοδο θέλετε για να διαβάσετε το αρχείο και πρσοσπαθήστε να αναπαράγετε το ακόλουθο διάγραμμα. Θα πρέπει να χρησιμοποιήσετε την αντικειμενοστρεφή προσέγγιση.\n",
    "   \n",
    "![exercise-14.1-_reproduce_plot-2.png](attachment:exercise-14.1-_reproduce_plot-2.png)    \n",
    "    \n",
    "> **TIPS:**\n",
    "> - Αν δεν θέλετε να εμφανίζεται μια γραμμή που ενώνει τα σημεία σε ένα διάγραμμα τότε μπορείτε να χρησιμοποιήσετε την επιλογή ``linestyle='None'`.\n",
    ">\n",
    "> - Για τις συνεχόμενες γραμμές χρησιμοποιήστε τα `axvline` και `axhline`. \n",
    ">\n",
    "> - Για τον υπολογισμό των σφαλμάτων των mean των median τιμών, θα πρέπει να χρησιμοποιήσετε τον τυπικό σφάλμα της μέσης τιμής ($ \\textrm{mean}_{err} = \\sigma / \\sqrt(N)$, όπου $\\sigma$ η τυπική απόκλιση και $N$ ο αριθμός των σημείων), ενώ για την διάμεση τιμή το αντίστοιχο σφάλμα (για Γκαουσιανές κατανομές) είναι η ίδια σχέση πολλαπλασιασμένη επί 1.253 (δηλαδή $ \\textrm{median}_{err} = 1.253 \\times (\\sigma / \\sqrt(N))$. \n",
    "(Ακόμα καλύτερα, μπορούμε να πάρουμε το σφάλμα αυτό μέσω από τυχαίες δειγματοληψίες από το αρχικό δείγμα και να βρούμε την τυπική τους απόκλιση (bootstap)).     \n",
    "    \n",
    "_\\*Δεδομένα από τον Νίκο Μανδαράκα._"
   ]
  },
  {
   "cell_type": "code",
   "execution_count": null,
   "id": "19a1f889",
   "metadata": {},
   "outputs": [],
   "source": [
    "# You can try it here\n",
    "# If you are struggling you can click on details below for the solution"
   ]
  },
  {
   "cell_type": "markdown",
   "id": "007aa4ae",
   "metadata": {},
   "source": [
    "<div class=\"alert alert-danger alertdanger\" style=\"margin-top: 20px\">\n",
    "<details>\n",
    "\n",
    "<b><summary>Λύση</summary></b>\n",
    "    \n",
    "```python \n",
    "import numpy as np\n",
    "import matplotlib.pyplot as plt\n",
    "\n",
    "q_val, u_val, q_err, u_err = np.loadtxt(\"data_files/q_u_data.csv\", delimiter=',', skiprows=1, unpack=True)\n",
    "\n",
    "# Find mean and median values\n",
    "q_mean = np.mean(q_val)\n",
    "q_mean_err = np.std(q_val) / np.sqrt(np.size(q_val))\n",
    "\n",
    "u_mean = np.mean(u_val)\n",
    "u_mean_err = np.std(u_val) / np.sqrt(np.size(u_val))\n",
    "\n",
    "q_median = np.median(q_val)\n",
    "q_median_err = 1.253 * np.std(q_val) / np.sqrt(np.size(q_val))\n",
    "\n",
    "u_median = np.median(u_val)\n",
    "u_median_err = 1.253 * np.std(u_val) / np.sqrt(np.size(u_val))\n",
    "    \n",
    "# The basic canvas\n",
    "ax = plt.subplot()\n",
    "\n",
    "# Plot the data\n",
    "ax.errorbar(q_val, u_val, xerr=q_err, yerr=u_err, linestyle='None',\n",
    "            marker=\"o\", color='red', ecolor='gray', label='data')\n",
    "\n",
    "# Axes labels and title\n",
    "ax.set_xlabel('Q/I %', fontsize=16)\n",
    "ax.set_ylabel('u/I %', fontsize=16)\n",
    "ax.set_title(\"Polarimetric measurements for a source\", fontsize=16)\n",
    "    \n",
    "# Plot the mean and median values\n",
    "ax.errorbar(q_mean, u_mean, xerr=q_mean_err, yerr=u_mean_err, \n",
    "             color='blue', marker='*', ecolor='blue', markersize=16, label=\"MEAN\")\n",
    "\n",
    "ax.errorbar(q_median, u_median, xerr=q_median_err, yerr=u_median_err, \n",
    "             color='green', marker='*', ecolor='green', markersize=16, label=\"MEDIAN\")\n",
    "\n",
    "# Add vertical and horizontal lines\n",
    "ax.axvline(0, linestyle='--', color='grey')\n",
    "ax.axhline(0, linestyle='--', color='grey')\n",
    "\n",
    "    \n",
    "# Axes limits\n",
    "ax.set_xlim(-2, 3)\n",
    "ax.set_ylim(-1,5)\n",
    "\n",
    "ax.legend(loc='upper left', fontsize=12)\n",
    "\n",
    "# Add text\n",
    "ax.text(1.0, 4.5, f\"Mean q: {q_mean:0.2f}$\\pm${q_mean_err:0.2}\", weight='bold')\n",
    "ax.text(1.0, 4.25, f\"Mean u: {u_mean:0.2f}$\\pm${u_mean_err:0.2f}\", weight='bold')\n",
    "ax.text(1.0, 4.0, f\"Median q: {q_median:0.2f}$\\pm${q_median_err:0.2f}\", weight='bold')\n",
    "ax.text(1.0, 3.75, f\"Median u: {u_median:0.3}$\\pm${u_median_err:0.2f}\", weight='bold')\n",
    "\n",
    "plt.show()\n",
    "```\n",
    "    \n",
    "</details>"
   ]
  },
  {
   "cell_type": "markdown",
   "id": "bbddcf7d",
   "metadata": {},
   "source": [
    "## 14.3 Γιατί;\n",
    "\n",
    "### 14.3.1 Βασικές διαφορές \n",
    "\n",
    "1. Έμμεση αντί Άμεσης δημιουργίας αντικειμένων `Figure` (σχήμα) και `Axes` (άξονες):\n",
    "\n",
    " - ``plt.plot`` έμμεση διαχείριση της δημιουργίας τους.\n",
    "\n",
    " - ``ax.plot`` απαιτεί την άμεση δημιουργία του σχήματος και των αξόνων πριν γίνει το διάγραμμα. \n",
    "\n",
    "\n",
    "2. Τρέχων άξονας αντί Καθορισμένου άξονα:\n",
    "\n",
    " - ``plt.plot`` χρησιμοποιεί των τρέχων άξονα (``plt.gca()``) εξαρχής, αλλά δημιουργεί ένα αν δεν υφίσταται. \n",
    " \n",
    " - ``ax.plot`` προσδιορίζει ρητά τον άξονα στον οποίο θα γίνει το διάγραμμα, το οποίο είναι εξαιρετικά χρήσιμο με πολλαπλά υποδιαγράμματα.\n",
    " \n",
    " \n",
    "3. Αντικειμενοστρεφής αντί της προσέγγισης Βασισμένης σε μια Κατάσταση:\n",
    "\n",
    " - ``plt.plot`` βασίζεται σε μια κατάσταση και εξαρτάται από την τρέχουσα κατάσταση για να καθορίσει που θα σχεδιαστεί το διάγραμμα.\n",
    "\n",
    " - ``ax.plot`` είναι αντικειμενοστρεφής, που επιτρέπει καλύτερο  και πιο λεπτομερή έλεγχο πάνω στους άξονες.\n",
    "\n",
    "\n",
    "### 14.3.2 Πότε χρησιμοποιείται ποιο;\n",
    "\n",
    "1. Απλά διαγράμματα:\n",
    "Για απλά, μοναδικά διαγράμματα, η ``plt.plot`` είναι συνήθως πιο πρακτική.\n",
    "\n",
    "\n",
    "2. Προχωρημένα διαγράμματα:\n",
    "Για πιο πολύπλοκες οπτικοποιήσεις, ιδιαίτερα όταν χρειάζονται πολλαπλά υποδιαγράμματα, συνιστάται η χρήση του ``ax.plot`` για άμεσο έλεγχο.\n",
    "\n",
    "\n",
    "3. Συνοχή:\n",
    "Αν δουλεύετε σε κώδικα ή πρότζεκτ με πολλαπλούς προγραμματιστές, η συνεπής χρήση ``ax.plot`` θα οδηγήσει σε καθαρότερο και πιο εύκολα συντηρήσιμο κώδικα. \n",
    "\n",
    "### 14.3.3 The Zen of Python\n",
    "\n",
    "Από την στιγμή που το `ax.plot` αποτελεί τον πιο άμεσο τρόπο δημιουργίας ενός διαγράμματος είναι και ο προτιμητέος σύμφωνα με το Ζεν της Python:\n",
    "\n",
    "> Explicit is better than implicit.\n",
    "> (το Άμεσο είναι καλύτερο από το Έμμεσο)\n",
    "\n",
    "Δείτε και όλους τους αφορισμούς του [Ζεν συνολικά!](https://peps.python.org/pep-0020/)"
   ]
  },
  {
   "cell_type": "markdown",
   "id": "bfc94feb",
   "metadata": {},
   "source": [
    "## 14.4 Πολλαπλά υποδιαγράμματα"
   ]
  },
  {
   "cell_type": "markdown",
   "id": "ea7df04e",
   "metadata": {},
   "source": [
    "### 14.4.1 `plt.subplot()`"
   ]
  },
  {
   "cell_type": "markdown",
   "id": "bb670e4f",
   "metadata": {},
   "source": [
    "Είδαμε προηγουμένως ότι για την δημιουργία του διαγράμματος φτιάξαμε έναν άξονα μέσω της `plt.subplot()`. Εκ κατασκευής, ένα μοναδικό διάγραμμα δημιουργείται αυτόματα. Αυτό καταλμβάνει την θέση '111' που σημαίνει, 1 γραμμή και 1 στήλη με δείκτη διαγραμμάτων 1. Αν αλλάξουμε τον αριθμό γραμμών ή/και στηλών τότε θα αλλάξουν αυτόματα οι διαστάσεις του διαγράμματος αντιπροσωπεύοντας την νέα του θέση. \n",
    "\n",
    "_Σημείωση:_ Η γραφή αυτή με τους ακέραιους δεν μπορεί να δουλέψει για μεγάλο αριθμό διαγραμμάτων. Εκεί καλύτερα να χρησιμοποιηθεί η (ισοδύναμη για μικρά νούμερα) σύνταξη `subplot(10, 2, 5)`, που αφορά και πάλι τις γραμμές, στήλες, και δείκτη του διαγράμματος."
   ]
  },
  {
   "cell_type": "code",
   "execution_count": null,
   "id": "acb6a70d",
   "metadata": {},
   "outputs": [],
   "source": [
    "# replotting for comparison\n",
    "ax1 = plt.subplot(111)\n",
    "\n",
    "ax1.plot(x,y)"
   ]
  },
  {
   "cell_type": "code",
   "execution_count": null,
   "id": "33d70a4d",
   "metadata": {},
   "outputs": [],
   "source": [
    "# create an axes object in a 2-row, 1-column grid\n",
    "ax1 = plt.subplot(211)\n",
    "\n",
    "ax1.plot(x,y)"
   ]
  },
  {
   "cell_type": "code",
   "execution_count": null,
   "id": "39f1a550",
   "metadata": {},
   "outputs": [],
   "source": [
    "# create an axes object in a 2-row, 2-column grid\n",
    "ax1 = plt.subplot(221)\n",
    "\n",
    "ax1.plot(x,y)"
   ]
  },
  {
   "cell_type": "markdown",
   "id": "c5c559d5",
   "metadata": {},
   "source": [
    "Κάθε φορά που καλείτε η `subplot` γράφει το νέο αντικείμενο αξόνων πάνω από το προηγούμενο. Αν αυτό είναι κάτι που δεν θέλουμε τότε ο καλύτερος τρόπος είναι να προσθέσουμε ένα διάγραμμα μέσα από την `fig.add_subplot()`."
   ]
  },
  {
   "cell_type": "code",
   "execution_count": null,
   "id": "17dde51d",
   "metadata": {},
   "outputs": [],
   "source": [
    "# make an object of the class figure\n",
    "fig = plt.figure(figsize=(12,4))\n",
    "\n",
    "# create an axes object ay position 1, of an 1-row, 2-column grid\n",
    "ax1 = fig.add_subplot(121)\n",
    "ax1.plot(x,y)\n",
    "\n",
    "# create an axes object ay position 2, of an 1-row, 2-column grid\n",
    "ax2 = fig.add_subplot(122)\n",
    "ax2.plot(x*10,y*10, '--r')\n"
   ]
  },
  {
   "cell_type": "markdown",
   "id": "4720658c",
   "metadata": {},
   "source": [
    "Το πρόβλημα εδω όμως είναι ότι αν θέλουμε για κάποιο λόγο να προσθέσουμε ένα ακόμη διάγραμμα, τότε θα πρέπει να αλλάξουμε την θέση καθενός από την αρχή."
   ]
  },
  {
   "cell_type": "code",
   "execution_count": null,
   "id": "6bc88b6e",
   "metadata": {},
   "outputs": [],
   "source": [
    "# make an object of the class figure\n",
    "fig = plt.figure(figsize=(12,4))\n",
    "\n",
    "# create an axes object ay position 1, of an 1-row, 3-column grid\n",
    "ax1 = fig.add_subplot(131)\n",
    "ax1.plot(x,y)\n",
    "\n",
    "# create an axes object ay position 2, of an 1-row, 3-column grid\n",
    "ax2 = fig.add_subplot(132)\n",
    "ax2.plot(x*10,y*10, '--r')\n",
    "\n",
    "# create an axes object ay position 3, of an 1-row, 3-column grid\n",
    "ax3 = fig.add_subplot(133)\n",
    "ax3.plot(x/10,y/10, ':g')\n"
   ]
  },
  {
   "cell_type": "markdown",
   "id": "84e96624",
   "metadata": {},
   "source": [
    "### 14.4.2 `plt.subplots()`"
   ]
  },
  {
   "cell_type": "markdown",
   "id": "53bfe5b0",
   "metadata": {},
   "source": [
    "Με την προηγούμενη μέθοδο μπορούμε να δημιουργήσουμε **ένα** υποδιάγραμμα την φορά (και να προσθέτουμε φυσικά ένα-ένα καθορίζοντας κάθε φορά που θα πάνε). Αυτό είναι εντάξει για τις πιο απλές περιπτώσεις αλλά όχι για πιο σύνθετες. Έτσι, για να μπορέσουμε να έχουμε την μέγιστη ευελιξία μπορούμε να αξιοποιήσουμε την `plt.subplots()`,που δημιουργεί όλα τα υποδιαγράμματα (με το κάλεσμά της), ενώ επιστρέφει τα αντικείμενα `Figure` και `Axes`, δίνοντάς μας δηλαδή όλη την πρόσβαση στις αντίστοιχες μεθόδους και ιδιότητές τους. "
   ]
  },
  {
   "cell_type": "code",
   "execution_count": null,
   "id": "4a9d7077",
   "metadata": {},
   "outputs": [],
   "source": [
    "# we first show the figure \n",
    "fig, ax = plt.subplots(2, 3, figsize=(12,6))"
   ]
  },
  {
   "cell_type": "code",
   "execution_count": null,
   "id": "3b9b78e4",
   "metadata": {},
   "outputs": [],
   "source": [
    "# fig is a figure, what is ax ?\n",
    "\n",
    "print(ax)\n",
    "\n",
    "print(type(ax))\n",
    "\n",
    "print(ax.shape)"
   ]
  },
  {
   "cell_type": "markdown",
   "id": "94a8e55f",
   "metadata": {},
   "source": [
    "Με την `plt.subplots(2, 3)` δημιουργήσαμε ένα `NumPy` πίνακα από αντικείμενα αξόνων. Η πρόσβαση σε αυτά γίνεται όπως ακριβώς θα κάναμε και στην περίπτωση ενός πίνακα (2,3). Απλά σε αυτή την περίπτωση θα ορίζουμε και ένα διάγραμμα. "
   ]
  },
  {
   "cell_type": "code",
   "execution_count": null,
   "id": "c842afa7",
   "metadata": {},
   "outputs": [],
   "source": [
    "# now we can start adding content to each panel\n",
    "ax[0,0].plot(x,y, label='´xy')\n",
    "ax[0,1].plot(x/10,y/10, label='´xy/10')\n",
    "ax[0,2].plot(x/100,y/100, label='´xy/100')\n",
    "ax[1,0].plot(x*10,y*10, label='´xy*10')\n",
    "ax[1,1].plot(x*100,y*100, label='´xy*100')\n",
    "ax[1,2].plot(x**2,y**2, label='´xy^2')\n",
    "\n",
    "fig"
   ]
  },
  {
   "cell_type": "markdown",
   "id": "8e720f4c",
   "metadata": {},
   "source": [
    "Ένας εναλλακτικός τρόπος για τον ορισμό των υποδιαγραμμάτων είναι να τους δώσουμε ρητά ονόματα και την θέση τους. Για παράδειγμα:"
   ]
  },
  {
   "cell_type": "code",
   "execution_count": null,
   "id": "06f223fb",
   "metadata": {},
   "outputs": [],
   "source": [
    "fig, ((ax1, ax2, ax3) , (ax4, ax5, ax6)) = plt.subplots(2, 3, figsize=(12,4))\n",
    "\n",
    "ax1.plot(x,y, label='´xy')\n",
    "ax1.set_title('a small example')\n",
    "\n",
    "ax2.plot(x/10,y/10, label='´xy/10')\n",
    "\n",
    "ax3.plot(x/100,y/100, label='´xy/100')\n",
    "\n",
    "ax4.plot(x*10,y*10, label='´xy*10')\n",
    "ax4.set_xlabel('x values')\n",
    "ax4.set_ylabel('y values')\n",
    "\n",
    "ax5.plot(x*100,y*100, label='´xy*100')\n",
    "\n",
    "ax6.plot(x**2,y**2, label='´xy^2')\n",
    "ax6.legend(frameon=True)\n",
    "\n",
    "# information provided for all figure/subplots\n",
    "fig.suptitle('Title of All Plots', y=0.95, fontsize=15)\n",
    "\n",
    "fig.legend(loc='upper right', fontsize='medium')\n",
    "\n",
    "fig.text(0.5, -0.1, 'X axis global', ha='center', fontsize=15)\n",
    "fig.text(-0.01, 0.5, 'Y axis global', va='center', rotation=90, fontsize=15)\n",
    "\n",
    "# set the spacing between subplots\n",
    "plt.subplots_adjust(left=0.1,\n",
    "                    bottom=0.1, \n",
    "                    right=0.9, \n",
    "                    top=0.9, \n",
    "                    wspace=0.4, \n",
    "                    hspace=0.4)\n"
   ]
  },
  {
   "cell_type": "markdown",
   "id": "7d2fb80a",
   "metadata": {},
   "source": [
    "Στο παραπάνω παράδειγμα προσθέσαμε επίσης διάφορες επιλογές σχετικά με την παρουσίαση επιπλέον στοιχείων ανά διάγραμμα (άξονα) αλλά και στο σχήμα συνολικά. Η επιλογή κάθε παραμέτρου γίνεται πάνω σε κάποιο καθορισμένο αντικείμενο. Επίσης ρυθμίσαμε τις παραμέτρους για το πως θα φαίνονται τα υποδιαγράμματα (σχετικές θέσεις μεταξύ τους) μέσα από την μέθοδο `plt.subplots_adjust`.   "
   ]
  },
  {
   "cell_type": "markdown",
   "id": "ddedbc65",
   "metadata": {},
   "source": [
    "<div class=\"alert alert-block alert-info\" style=\"margin-top: 20px\">\n",
    "    \n",
    "&#9755; **Σημείωση:** Αν και δεν το κάναμε τόσο συστηματικά πριν για λόγους επίδειξης και κατανόησης, είναι προτιμότερο όλος ο κώδικας που σχετίζεται με την παραγωγή ενός διαγράμματος να είναι πάντα σε ένα κελί.\n",
    "     \n",
    "</div>"
   ]
  },
  {
   "cell_type": "markdown",
   "id": "f889778d",
   "metadata": {},
   "source": [
    "<div class=\"alert alert-block alert-warning\" style=\"margin-top: 20px\">\n",
    "    <b>Άσκηση 14.3</b>\n",
    "\n",
    "Πατώντας στην Άσκηση 13.1, χρησιμοποιήστε το αρχείο \"data_files/transmittance.csv\"\\* σχετικά με την διαπερατότητα των τεσσάρων υλικών (ITO - Indium Tin Oxygen,, CdS - Cadmium Sulfide, Si, GaAs - Gallium Arsenide) και φτιάξτε μια εικόνα με 2x2 υποδιαγράμματα.\n",
    "    \n",
    "    \n",
    "_\\*Τα δεδομένα αυτά προέρχονται από το εισαγωγικό μάθημα της [Lucy Whalley - Python Novice](https://lucydot.github.io/python_novice/)_.\n",
    "    \n",
    "> **TIP:** ΟΙ άξονες είναι κοινοί μεταξύ όλων αυτών των στοιχείων. Δοκιμάστε λοιπόν να το συμπεριλάβετε προσθέτοντας `subplots(..., sharex=True, sharey=True)` και ρυθμίζοντας τον χώρο μεταηύ των υποδιαγραμμάτων."
   ]
  },
  {
   "cell_type": "code",
   "execution_count": null,
   "id": "6b8ab4c4",
   "metadata": {},
   "outputs": [],
   "source": [
    "# You can try it here\n",
    "# If you are struggling you can click on details below for the solution"
   ]
  },
  {
   "cell_type": "markdown",
   "id": "79076451",
   "metadata": {},
   "source": [
    "<div class=\"alert alert-danger alertdanger\" style=\"margin-top: 20px\">\n",
    "<details>\n",
    "\n",
    "<b><summary>Λύση</summary></b>\n",
    "    \n",
    "```python \n",
    "\n",
    "data = np.loadtxt(\"data_files/transmittance.csv\", delimiter=',', skiprows=1)\n",
    "#print(data)\n",
    "\n",
    "# a way to automate how to get column names\n",
    "with open(\"13-data_files/transmittance.csv\") as inf:\n",
    "    header = inf.readline().split(',')\n",
    "#print(header)\n",
    "\n",
    "# cycle of colors (adding one to have consistent lenght with data)\n",
    "colors = ['blue', 'tab:blue', 'tab:orange', 'tab:red', 'tab:green']\n",
    "\n",
    "fig, axs = plt.subplots(2,2, sharex=True, sharey=True, figsize=(14,8))\n",
    "\n",
    "axs[0,0].plot(data[:, 0], data[:, 1], '-', c=colors[1], label=header[1].split(' ')[1])\n",
    "axs[0,1].plot(data[:, 0], data[:, 2], '-', c=colors[2], label=header[2].split(' ')[1])\n",
    "axs[1,0].plot(data[:, 0], data[:, 3], '-', c=colors[3], label=header[3].split(' ')[1])\n",
    "axs[1,1].plot(data[:, 0], data[:, 4], '-', c=colors[4], label=header[4].split(' ')[1])\n",
    "\n",
    "fig.suptitle('Transmittance of various materials', y=0.95, fontsize=15)\n",
    "\n",
    "fig.legend(loc='upper right', fontsize='medium')\n",
    "\n",
    "fig.text(0.5, 0.04, header[0], ha='center', fontsize=15)\n",
    "fig.text(0.06, 0.5, 'Transmittance (%)', va='center', rotation=90, fontsize=15)\n",
    "\n",
    "plt.subplots_adjust(wspace=0, hspace=0)    \n",
    "    \n",
    "plt.show()\n",
    "```\n",
    "    \n",
    "</details>"
   ]
  },
  {
   "cell_type": "markdown",
   "id": "acc3ddd8",
   "metadata": {},
   "source": [
    "<div class=\"alert alert-block alert-warning\" style=\"margin-top: 20px\">\n",
    "    <b>Άσκηση 14.4</b>\n",
    "\n",
    "Όπως στην Άσκηση 14.2 αλλά αλλάξτε την διάταξη σε (1,4).  "
   ]
  },
  {
   "cell_type": "code",
   "execution_count": null,
   "id": "a439a430",
   "metadata": {},
   "outputs": [],
   "source": [
    "# You can try it here\n",
    "# If you are struggling you can click on details below for the solution"
   ]
  },
  {
   "cell_type": "markdown",
   "id": "2dc6518f",
   "metadata": {},
   "source": [
    "<div class=\"alert alert-danger alertdanger\" style=\"margin-top: 20px\">\n",
    "<details>\n",
    "\n",
    "<b><summary>Λύση</summary></b>\n",
    "    \n",
    "```python \n",
    "\n",
    "data = np.loadtxt(\"data_files/transmittance.csv\", delimiter=',', skiprows=1)\n",
    "#print(data)\n",
    "\n",
    "# a way to automate how to get column names\n",
    "with open(\"13-data_files/transmittance.csv\") as inf:\n",
    "    header = inf.readline().split(',')\n",
    "#print(header)\n",
    "\n",
    "# cycle of colors (adding one to have consistent lenght with data)\n",
    "colors = ['blue', 'tab:blue', 'tab:orange', 'tab:red', 'tab:green']\n",
    "\n",
    "fig, axs = plt.subplots(1,4, sharey=True, figsize=(16,6))\n",
    "\n",
    "axs[0].plot(data[:, 0], data[:, 1], '-', c=colors[1], label=header[1].split(' ')[1])\n",
    "axs[1].plot(data[:, 0], data[:, 2], '-', c=colors[2], label=header[2].split(' ')[1])\n",
    "axs[2].plot(data[:, 0], data[:, 3], '-', c=colors[3], label=header[3].split(' ')[1])\n",
    "axs[3].plot(data[:, 0], data[:, 4], '-', c=colors[4], label=header[4].split(' ')[1])\n",
    "\n",
    "fig.suptitle('Transmittance of various materials', y=0.95, fontsize=15)\n",
    "\n",
    "fig.legend(loc='upper right', fontsize='medium')\n",
    "\n",
    "fig.text(0.5, 0.04, header[0], ha='center', fontsize=15)\n",
    "fig.text(0.09, 0.5, 'Transmittance (%)', va='center', rotation=90, fontsize=15)\n",
    "\n",
    "plt.subplots_adjust(wspace=0)\n",
    "\n",
    "plt.show()\n",
    "```\n",
    "    \n",
    "</details>"
   ]
  },
  {
   "cell_type": "markdown",
   "id": "abdfab7a",
   "metadata": {},
   "source": [
    "## 14.5 Έξτρα άσκηση"
   ]
  },
  {
   "cell_type": "markdown",
   "id": "ecdd307e",
   "metadata": {},
   "source": [
    "<div class=\"alert alert-block alert-warning\" style=\"margin-top: 20px\">\n",
    "    <b>Άσκηση 14.5</b>\n",
    "\n",
    "Οι Stampoulis et al. (2019), MNRAS, 485, 1085, παρέχουν μετρήσεις για τέσσερις λόγους γραμμών που είναι χαρακτηριστικές για την ταξινόμηση των γαλαξιών σε κάποιες κατηγορίες ανάλογα με το πόσο έντονες είναι αυτές οι γραμμές (για περισσότερα δείτε τα [\"Baldwin, Phillips & Terlevich\" - BPT - διαγράμματα](https://ned.ipac.caltech.edu/level5/Glossary/Essay_bpt.html)). Τα δεδομένα έχουν μετρήσεις για περίπου 130000 γαλαξίες και οι λόγοι γραμμών που μετρούνται συγκεκριμένα είναι: $\\log{ [N_{II}] / H_{\\alpha}}$, $\\log{ [Si_{II}] / H_{\\alpha}}$, $\\log{ [O_{I}] / H_{\\alpha}}$, και $\\log{ [O_{III}] / H_{\\alpha}}$. Οι κατηγορίες γαλαξιών που υπάρχουν στο δείγμα αυτό είναι Star-Forming Galaxies (SFG), Seyfert (SEY), LINERS (LIN), και Composites (COM). Καλείστε λοιπόν να κάνετε τα παρακάτω:\n",
    "    \n",
    "Α. Διαβάστε το αρχείο (\"data_files/Stampoulis+19_Table_2.csv\") και δημιουργήστε ένα σχήμα 2x2 που θα παρουσιάζετε τις κατανομές αυτών των λόγων γραμμών. Θα πρέπει να βρείτε επίσης την μέση τιμή και το σφάλμα της για κάθε ένα από αυτά και να το τυπώσετε σε ένα ευκρινές σημείο του κάθε υποδιαγράμματος.\n",
    "       \n",
    "Β. Από το τελευταίο βήμα γράψτε σε ένα αρχείο τις τιμές των λόγων που προκύποτουν μαζί με τα IDs και την κατηγορία (classification) των 10 πρώτων πηγών μόνο (και όχι όλο το αρχείο για εξοικονοόμηση χρόνου). \n",
    "\n",
    "Γ. Κάνετε ένα αντίστοιχο 2x2 διάγραμμα για ένα (από τους 4) λόγο γραμμών της επιλογής σας και παρουσιάστε την κατανομή αυτού του λόγου για κάθε μία από την παραπάνω κατηγορίες γαλαξιών ξεχωριστά.\n",
    "    \n",
    "> **TIPS:**\n",
    "> - Καθώς πρόκειται για μεγάλο αρχείο, διαβάστε μια φορά το αρχείο σε ένα κελί και μετά ασχοληθείτε με τα διαγράμματα (για να μην διαβάζετε συνέχεια το αρχέιο και χάνετε χρόνο).\n",
    ">\n",
    "> - Πληροφορίες σχετικά με την κατηγοριοποίηση των γαλαξιών δίνονται στην τελευταία στήλη ('classification') με την εξής αντιστοίχιση: 'SFG' > 0, 'SEY' > 1, 'LIN' > 2, 'COM' > 3.\n",
    "> \n",
    "> - Σχετικά με την εγγραφή στο αρχείο θυμηθείτε το `np.savetxt` και το γεγονός ότι πρέπει να μετατρέψεται τους 1d πίνακες σε 2d για να σωθούν.  \n",
    ">\n",
    "> Όταν η `genfromtxt` χρησιμοποιείται με το `names=True` τότε επιστρέφει τα ονόματα των στηλών από τα οποία όμως αυτόματα αφαιρεί όλους τους χαρακτήρες που είναι σημαντικοί για την Python, όπως στη συγκεκριμένη περίπτωση οι παρενθέσεις και το '/'. Έτσι όλοι οι λογάριθμοι θα εμφανιστούν χωρίς αυτούς τους χαρακτήρες (π.χ. 'LOG(NII/H_ALPHA)' > 'LOGNIIH_ALPHA' ). "
   ]
  },
  {
   "cell_type": "code",
   "execution_count": null,
   "id": "380277d2",
   "metadata": {},
   "outputs": [],
   "source": [
    "# You can try it here\n",
    "# If you are struggling you can click on details below for the solution"
   ]
  },
  {
   "cell_type": "markdown",
   "id": "8bc9f650",
   "metadata": {},
   "source": [
    "<div class=\"alert alert-danger alertdanger\" style=\"margin-top: 20px\">\n",
    "<details>\n",
    "\n",
    "<b><summary>Μια κάποια λύση...</summary></b>\n",
    "    \n",
    "```python \n",
    "##################    \n",
    "##    TASK 1    ##\n",
    "##################\n",
    "\n",
    "# Load and unpack data\n",
    "stdata = np.genfromtxt(\"data_files/Stampoulis+19_Table_2.csv\", delimiter=',', names=True)\n",
    "\n",
    "print(stdata.dtype.names)  # the check the data\n",
    "\n",
    "# NOTE: better to keep the data read lines in one cell to be executed once \n",
    "# and not all the time - to save on execution time\n",
    "    \n",
    "# The basic canvas\n",
    "fig, ((ax1, ax2),(ax3, ax4)) = plt.subplots(2,2, sharey='row', figsize=(14,7))\n",
    "\n",
    "# addding a hist per line ratio\n",
    "ax1.hist(stdata['LOGNIIH_ALPHA'], bins=20, color='tab:blue', density=True )\n",
    "ax1.set_xlabel(r'$\\log{ [N_{II}] / H_{\\alpha}}$', fontsize=16)\n",
    "mean1 = np.mean(stdata['LOGNIIH_ALPHA'])\n",
    "std1 = np.std(stdata['LOGNIIH_ALPHA'])\n",
    "ax1.text(-2,3.0, f'Mean={mean1:0.2f}±{std1:0.2f}', fontsize=16)\n",
    "\n",
    "ax2.hist(stdata['LOGSIIH_ALPHA'], bins=20, color='tab:red', density=True )\n",
    "ax2.set_xlabel(r'$\\log{ [Si_{II}] / H_{\\alpha}}$', fontsize=16)\n",
    "mean2 = np.mean(stdata['LOGSIIH_ALPHA'])\n",
    "std2 = np.std(stdata['LOGSIIH_ALPHA'])\n",
    "ax2.text(-1.5,3.0, f'Mean={mean2:0.2f}±{std1:0.2f}', fontsize=16)\n",
    "\n",
    "ax3.hist(stdata['LOGOIH_ALPHA'], bins=30, color='tab:green', density=True)\n",
    "ax3.set_xlabel(r'$\\log{ [O_{I}] / H_{\\alpha}}$', fontsize=16)\n",
    "mean3 = np.mean(stdata['LOGOIH_ALPHA'])\n",
    "std3 = np.std(stdata['LOGOIH_ALPHA'])\n",
    "ax3.text(2,1.5, f'Mean={mean3:0.2f}±{std1:0.2f}', fontsize=16)\n",
    "\n",
    "ax4.hist(stdata['LOGOIIIH_BETA'], bins=20, color='tab:orange', density=True)\n",
    "ax4.set_xlabel(r'$\\log{ [O_{III}] / H_{\\alpha}}$', fontsize=16)\n",
    "mean4 = np.mean(stdata['LOGOIIIH_BETA'])\n",
    "std4 = np.std(stdata['LOGOIIIH_BETA'])\n",
    "ax4.text(-0.025,1.5, f'Mean={mean4:0.2f}±{std1:0.2f}', fontsize=16)\n",
    "\n",
    "\n",
    "fig.suptitle('Distributions of line ratios', fontsize=18)\n",
    "\n",
    "fig.text(0.07, 0.5, 'Frequency', va='center', rotation=90, fontsize=15)\n",
    "fig.text(0.5, 0.07, 'Ratios', va='center', fontsize=15)\n",
    "\n",
    "\n",
    "plt.subplots_adjust(wspace=0, hspace=0.3)\n",
    "plt.show()  \n",
    "\n",
    "##################    \n",
    "##    TASK 2    ##\n",
    "##################\n",
    "\n",
    "# converting all 1d arrays (reshaping) \n",
    "ids = stdata['ID'][:10].reshape(-1,1)\n",
    "ratio1 = stdata['LOGNIIH_ALPHA'][:10].reshape(-1,1)\n",
    "ratio2 = stdata['LOGSIIH_ALPHA'][:10].reshape(-1,1)\n",
    "ratio3 = stdata['LOGOIH_ALPHA'][:10].reshape(-1,1)\n",
    "ratio4 = stdata['LOGOIIIH_BETA'][:10].reshape(-1,1)\n",
    "clsn = stdata['classification'][:10].reshape(-1,1)\n",
    "\n",
    "# form a 2d array to parse to savetxt\n",
    "table_2d = np.hstack( (ids, ratio1, ratio2, ratio3, ratio4, clsn) )\n",
    "print(table_2d)\n",
    "\n",
    "np.savetxt('data_files/galaxy_lines.csv', \n",
    "           table_2d, \n",
    "           delimiter=',', \n",
    "           header='ID,LOGNIIH_ALPHA,LOGSIIH_ALPHA,LOGOIH_ALPHA,LOGOIIIH_BETA,classification')\n",
    "    \n",
    "##################    \n",
    "##    TASK 3    ##\n",
    "##################  \n",
    "    \n",
    "stdata['classification']\n",
    "\n",
    "# classes[\"SFG\"] = 0\n",
    "# classes[\"SEY\"] = 1\n",
    "# classes[\"LIN\"] = 2\n",
    "# classes[\"COM\"] = 3\n",
    "\n",
    "clasSFG = np.where( stdata['classification']==0 )[0]\n",
    "clasSEY = np.where( stdata['classification']==1 )[0]\n",
    "clasLIN = np.where( stdata['classification']==2 )[0]\n",
    "clasCOM = np.where( stdata['classification']==3 )[0]\n",
    "\n",
    "print('SFG:', clasSFG.size)\n",
    "print('SEY:', clasSEY.size)\n",
    "print('LIN:', clasLIN.size)\n",
    "print('COM:', clasCOM.size)\n",
    "\n",
    "# The basic canvas\n",
    "fig2, ((axx1, axx2),(axx3, axx4)) = plt.subplots(2,2, sharey='row', figsize=(14,7))\n",
    "\n",
    "# addding a hist per galaxy type for a line ratio\n",
    "axx1.hist(stdata['LOGNIIH_ALPHA'][clasSFG], bins=20, color='tab:blue', density=True )\n",
    "axx1.set_title(f'SFG ({clasSFG.size} sources)', fontsize=16)\n",
    "mean1 = np.mean(stdata['LOGNIIH_ALPHA'][clasSFG])\n",
    "std1 = np.std(stdata['LOGNIIH_ALPHA'][clasSFG])\n",
    "axx1.text(-1.7,3.0, f'Mean={mean1:0.2f}±{std1:0.2f}', fontsize=16)\n",
    "\n",
    "axx2.hist(stdata['LOGNIIH_ALPHA'][clasSEY], bins=20, color='tab:red', density=True )\n",
    "axx2.set_title(f'SEY ({clasSEY.size} sources)', fontsize=16)\n",
    "mean2 = np.mean(stdata['LOGNIIH_ALPHA'][clasSEY])\n",
    "std2 = np.std(stdata['LOGNIIH_ALPHA'][clasSEY])\n",
    "axx2.text(-0.6,3.0, f'Mean={mean2:0.2f}±{std1:0.2f}', fontsize=16)\n",
    "\n",
    "axx3.hist(stdata['LOGNIIH_ALPHA'][clasLIN], bins=30, color='tab:green', density=True)\n",
    "axx3.set_title(f'LIN ({clasLIN.size} sources)', fontsize=16)\n",
    "mean3 = np.mean(stdata['LOGNIIH_ALPHA'][clasLIN])\n",
    "std3 = np.std(stdata['LOGNIIH_ALPHA'][clasLIN])\n",
    "axx3.text(-0.4,3.7, f'Mean={mean3:0.2f}±{std1:0.2f}', fontsize=16)\n",
    "\n",
    "axx4.hist(stdata['LOGNIIH_ALPHA'][clasCOM], bins=20, color='tab:orange', density=True)\n",
    "axx4.set_title(f'COM ({clasCOM.size} sources)', fontsize=16)\n",
    "mean4 = np.mean(stdata['LOGNIIH_ALPHA'][clasCOM])\n",
    "std4 = np.std(stdata['LOGNIIH_ALPHA'][clasCOM])\n",
    "axx4.text(-0.7,3.7, f'Mean={mean4:0.2f}±{std1:0.2f}', fontsize=16)\n",
    "\n",
    "\n",
    "fig2.suptitle(r'Distributions per galaxy type for $\\log{ [N_{II}] / H_{\\alpha}}$' , fontsize=18)\n",
    "\n",
    "fig2.text(0.07, 0.5, 'Frequency', va='center', rotation=90, fontsize=15)\n",
    "fig2.text(0.5, 0.07, 'Ratios', va='center', fontsize=15)\n",
    "\n",
    "plt.subplots_adjust(wspace=0, hspace=0.3)\n",
    "plt.show()        \n",
    "    \n",
    "```\n",
    "    \n",
    "</details>"
   ]
  },
  {
   "cell_type": "code",
   "execution_count": null,
   "id": "0e7ac685",
   "metadata": {},
   "outputs": [],
   "source": [
    "# EOF"
   ]
  }
 ],
 "metadata": {
  "kernelspec": {
   "display_name": "Python 3.7",
   "language": "python",
   "name": "python3.7"
  },
  "language_info": {
   "codemirror_mode": {
    "name": "ipython",
    "version": 3
   },
   "file_extension": ".py",
   "mimetype": "text/x-python",
   "name": "python",
   "nbconvert_exporter": "python",
   "pygments_lexer": "ipython3",
   "version": "3.7.17"
  },
  "toc": {
   "base_numbering": 1,
   "nav_menu": {},
   "number_sections": true,
   "sideBar": true,
   "skip_h1_title": false,
   "title_cell": "Table of Contents",
   "title_sidebar": "Contents",
   "toc_cell": false,
   "toc_position": {},
   "toc_section_display": true,
   "toc_window_display": false
  }
 },
 "nbformat": 4,
 "nbformat_minor": 5
}
